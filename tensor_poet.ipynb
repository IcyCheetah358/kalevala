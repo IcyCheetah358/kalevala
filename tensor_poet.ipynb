{
  "nbformat": 4,
  "nbformat_minor": 0,
  "metadata": {
    "colab": {
      "name": "tensor-poet.ipynb",
      "version": "0.3.2",
      "provenance": [],
      "collapsed_sections": []
    },
    "kernelspec": {
      "display_name": "Python 3",
      "language": "python",
      "name": "python3"
    },
    "accelerator": "GPU"
  },
  "cells": [
    {
      "cell_type": "markdown",
      "metadata": {
        "id": "view-in-github",
        "colab_type": "text"
      },
      "source": [
        "[View in Colaboratory](https://colab.research.google.com/github/IcyCheetah358/kalevala/blob/master/tensor_poet.ipynb)"
      ]
    },
    {
      "metadata": {
        "id": "JSsEXfJe1v0p",
        "colab_type": "text"
      },
      "cell_type": "markdown",
      "source": [
        "# Tensor Poet\n",
        "A tensorflow deep LSTM model for text generation"
      ]
    },
    {
      "metadata": {
        "id": "7buMWJTf1v0r",
        "colab_type": "code",
        "colab": {}
      },
      "cell_type": "code",
      "source": [
        "import numpy as np\n",
        "import os\n",
        "import json\n",
        "import random\n",
        "import tensorflow as tf\n",
        "from IPython.core.display import display, HTML"
      ],
      "execution_count": 0,
      "outputs": []
    },
    {
      "metadata": {
        "id": "TFoPM263FaMe",
        "colab_type": "code",
        "colab": {
          "base_uri": "https://localhost:8080/",
          "height": 102
        },
        "outputId": "684147cd-c323-476a-dc49-694a41cdef1b"
      },
      "cell_type": "code",
      "source": [
        "! git clone --recursive https://github.com/domschl/tensor-poet.git"
      ],
      "execution_count": 3,
      "outputs": [
        {
          "output_type": "stream",
          "text": [
            "Cloning into 'tensor-poet'...\n",
            "remote: Counting objects: 223, done.\u001b[K\n",
            "remote: Total 223 (delta 0), reused 0 (delta 0), pack-reused 223\u001b[K\n",
            "Receiving objects: 100% (223/223), 1.48 MiB | 16.46 MiB/s, done.\n",
            "Resolving deltas: 100% (121/121), done.\n"
          ],
          "name": "stdout"
        }
      ]
    },
    {
      "metadata": {
        "id": "ptNgosVIM11q",
        "colab_type": "code",
        "colab": {
          "base_uri": "https://localhost:8080/",
          "height": 68
        },
        "outputId": "8a4e6558-0f79-45ac-d949-71cb23948fd5"
      },
      "cell_type": "code",
      "source": [
        "! curl http://soinila.fi/mydeepdata/kalevala.txt -o kalevala.txt\n",
        "  "
      ],
      "execution_count": 4,
      "outputs": [
        {
          "output_type": "stream",
          "text": [
            "  % Total    % Received % Xferd  Average Speed   Time    Time     Time  Current\r\n",
            "                                 Dload  Upload   Total   Spent    Left  Speed\n",
            "100  564k  100  564k    0     0   564k      0  0:00:01  0:00:01 --:--:--  416k\n"
          ],
          "name": "stdout"
        }
      ]
    },
    {
      "metadata": {
        "id": "d_9-P4KcviVs",
        "colab_type": "code",
        "colab": {
          "base_uri": "https://localhost:8080/",
          "height": 51
        },
        "outputId": "41698a0a-d130-4b2c-c926-e8c5bd45eb97"
      },
      "cell_type": "code",
      "source": [
        "!ls"
      ],
      "execution_count": 53,
      "outputs": [
        {
          "output_type": "stream",
          "text": [
            "datalab      kalevala.txt  tensorlog2.tar  tensor-poet.tar\r\n",
            "example.txt  tensorlog\t   tensor-poet\t   tersorlog.tar\r\n"
          ],
          "name": "stdout"
        }
      ]
    },
    {
      "metadata": {
        "id": "V1TlfnpZ1v0v",
        "colab_type": "text"
      },
      "cell_type": "markdown",
      "source": [
        "### Content\n",
        "This notebook contains six sections:\n",
        "1. TextLibrary: utilities to work with text files\n",
        "  * loading of a list of files\n",
        "  * encoding for training\n",
        "  * formatted output with quote-highlighting\n",
        "2. Definition of the tensorflow model\n",
        "3. Model and training parameters\n",
        "4. The actual training on the data (required 1. - 3.)\n",
        "  * Training can be restarted, since the model is saved periodically.\n",
        "5. Generation of text from the trained model (requires 1. - 4.)\n",
        "6. In dialog with with the model (requires 1. - 4."
      ]
    },
    {
      "metadata": {
        "id": "fQJzz_Oh1v0v",
        "colab_type": "text"
      },
      "cell_type": "markdown",
      "source": [
        "##  1. Text library"
      ]
    },
    {
      "metadata": {
        "id": "VFyyEjHC1v0w",
        "colab_type": "code",
        "colab": {}
      },
      "cell_type": "code",
      "source": [
        "# TextLibrary class: text library for training, encoding, batch generation,\n",
        "# and formatted source display\n",
        "class TextLibrary:\n",
        "    def __init__(self, filenames, max=100000000):\n",
        "        self.filenames = filenames\n",
        "        self.data=''\n",
        "        self.files=[]\n",
        "        index = 1\n",
        "        for filename in filenames:\n",
        "            fd={}\n",
        "            fd[\"name\"] = os.path.splitext(os.path.basename(filename))[0]\n",
        "            self.c2i = {}\n",
        "            self.i2c = {}\n",
        "            try:\n",
        "                f = open(filename)\n",
        "                dat = f.read(max)\n",
        "                self.data += dat\n",
        "                fd[\"data\"] = dat\n",
        "                fd[\"index\"] = index\n",
        "                index += 1\n",
        "                self.files.append(fd)\n",
        "                f.close()\n",
        "            except OSError:\n",
        "                print(\"  ERROR: Cannot read: \", filename)\n",
        "        ind = 0\n",
        "        for c in self.data: # sets are not deterministic\n",
        "            if c not in self.c2i:\n",
        "                self.c2i[c] = ind\n",
        "                self.i2c[ind] = c\n",
        "                ind += 1\n",
        "        self.ptr = 0\n",
        "            \n",
        "    def printColoredIPython(self, textlist, pre='', post=''):\n",
        "        bgcolors = ['#d4e6f1', '#d8daef', '#ebdef0', '#eadbd8', '#e2d7d5', '#edebd0',\n",
        "                    '#ecf3cf', '#d4efdf', '#d0ece7', '#d6eaf8', '#d4e6f1', '#d6dbdf',\n",
        "                    '#f6ddcc', '#fae5d3', '#fdebd0', '#e5e8e8', '#eaeded', '#A9CCE3']\n",
        "        out = ''\n",
        "        for txt, ind in textlist:\n",
        "            txt = txt.replace('\\n','<br>')\n",
        "            if ind==0:\n",
        "                out += txt\n",
        "            else:\n",
        "                out += \"<span style=\\\"background-color:\"+bgcolors[ind%16]+\";\\\">\" + txt +\\\n",
        "                       \"</span>\"+\"<sup>[\" + str(ind) + \"]</sup>\"\n",
        "        display(HTML(pre+out+post))\n",
        "        \n",
        "    def sourceHighlight(self, txt, minQuoteSize=10):\n",
        "        tx = txt\n",
        "        out = []\n",
        "        qts = []\n",
        "        txsrc=[(\"Sources: \", 0)]\n",
        "        sc=False\n",
        "        noquote = ''\n",
        "        while len(tx)>0:  # search all library files for quote 'txt'\n",
        "            mxQ = 0\n",
        "            mxI = 0\n",
        "            mxN = ''\n",
        "            found = False\n",
        "            for f in self.files:  # find longest quote in all texts\n",
        "                p = minQuoteSize\n",
        "                if p<=len(tx) and tx[:p] in f[\"data\"]:\n",
        "                    p = minQuoteSize + 1\n",
        "                    while p<=len(tx) and tx[:p] in f[\"data\"]:\n",
        "                        p += 1\n",
        "                    if p-1>mxQ:\n",
        "                        mxQ = p-1\n",
        "                        mxI = f[\"index\"]\n",
        "                        mxN = f[\"name\"]\n",
        "                        found = True\n",
        "            if found:  # save longest quote for colorizing\n",
        "                if len(noquote)>0:\n",
        "                    out.append((noquote, 0))\n",
        "                    noquote = ''\n",
        "                out.append((tx[:mxQ],mxI))\n",
        "                tx = tx[mxQ:]\n",
        "                if mxI not in qts:  # create a new reference, if first occurence\n",
        "                    qts.append(mxI)\n",
        "                    if sc:\n",
        "                        txsrc.append((\", \", 0))\n",
        "                    sc = True\n",
        "                    txsrc.append((mxN,mxI))\n",
        "            else:\n",
        "                noquote += tx[0]\n",
        "                tx = tx[1:]\n",
        "        if len(noquote)>0:\n",
        "            out.append((noquote, 0))\n",
        "            noquote = ''\n",
        "        self.printColoredIPython(out)\n",
        "        if len(qts)>0:  # print references, if there is at least one source\n",
        "            self.printColoredIPython(txsrc, pre=\"<small><p style=\\\"text-align:right;\\\">\",\n",
        "                                     post=\"</p></small>\")\n",
        "    \n",
        "    def getSlice(self, length):\n",
        "        if (self.ptr + length >= len(self.data)):\n",
        "            self.ptr = 0\n",
        "        if self.ptr == 0:\n",
        "            rst = True\n",
        "        else:\n",
        "            rst = False\n",
        "        sl = self.data[self.ptr:self.ptr+length]\n",
        "        self.ptr += length\n",
        "        return sl, rst\n",
        "    \n",
        "    def decode(self, ar):\n",
        "         return ''.join([self.i2c[ic] for ic in ar])\n",
        "            \n",
        "    def getRandomSlice(self, length):\n",
        "        p = random.randrange(0,len(self.data)-length)\n",
        "        sl = self.data[p:p+length]\n",
        "        return sl\n",
        "    \n",
        "    def getSliceArray(self, length):\n",
        "        ar = np.array([c for c in self.getSlice(length)[0]])\n",
        "        return ar\n",
        "        \n",
        "    def getSample(self, length):\n",
        "        s, rst = self.getSlice(length+1)\n",
        "        X = [self.c2i[c] for c in s[:-1]]\n",
        "        y = [self.c2i[c] for c in s[1:]]\n",
        "        return (X, y, rst)\n",
        "    \n",
        "    def getRandomSample(self, length):\n",
        "        s = self.getRandomSlice(length+1)\n",
        "        X = [self.c2i[c] for c in s[:-1]]\n",
        "        y = [self.c2i[c] for c in s[1:]]\n",
        "        return (X, y)\n",
        "    \n",
        "    def getSampleBatch(self, batch_size, length):\n",
        "        smpX = []\n",
        "        smpy = []\n",
        "        for i in range(batch_size):\n",
        "            Xi, yi, rst = self.getSample(length)\n",
        "            smpX.append(Xi)\n",
        "            smpy.append(yi)\n",
        "        return smpX, smpy, rst\n",
        "        \n",
        "    def getRandomSampleBatch(self, batch_size, length):\n",
        "        smpX = []\n",
        "        smpy = []\n",
        "        for i in range(batch_size):\n",
        "            Xi, yi = self.getRandomSample(length)\n",
        "            smpX.append(Xi)\n",
        "            smpy.append(yi)\n",
        "        return smpX, smpy"
      ],
      "execution_count": 0,
      "outputs": []
    },
    {
      "metadata": {
        "id": "z_WOHjtq1v0y",
        "colab_type": "text"
      },
      "cell_type": "markdown",
      "source": [
        "## 2. Definition of the Tensorflow model"
      ]
    },
    {
      "metadata": {
        "id": "0312zkL71v00",
        "colab_type": "code",
        "colab": {}
      },
      "cell_type": "code",
      "source": [
        "# The tensorflow model for text generation\n",
        "class TensorPoetModel:\n",
        "    def __init__(self, params):\n",
        "        self.model_name = params[\"model_name\"]\n",
        "        self.vocab_size = params[\"vocab_size\"]\n",
        "        self.neurons = params[\"neurons\"]\n",
        "        self.layers = params[\"layers\"]\n",
        "        self.learning_rate = params[\"learning_rate\"]\n",
        "        self.steps = params[\"steps\"]\n",
        "        self.logdir = params[\"logdir\"]\n",
        "        self.checkpoint = params[\"checkpoint\"]\n",
        "        # self.clip = -1.0 * params[\"clip\"]\n",
        "        \n",
        "        tf.reset_default_graph()\n",
        "\n",
        "        # Training & Generating:\n",
        "        self.X = tf.placeholder(tf.int32, shape=[None, self.steps])\n",
        "        self.y = tf.placeholder(tf.int32, shape=[None, self.steps])\n",
        "\n",
        "        onehot_X = tf.one_hot(self.X, self.vocab_size)\n",
        "        onehot_y = tf.one_hot(self.y, self.vocab_size)\n",
        "\n",
        "        # Old tf 1.0 way:\n",
        "        # basic_cell = tf.contrib.rnn.BasicLSTMCell(self.neurons)\n",
        "        # stacked_cell = tf.contrib.rnn.MultiRNNCell([basic_cell] * self.layers)\n",
        "        # New tf 1.1 way:\n",
        "        stacked_cell = tf.contrib.rnn.MultiRNNCell([tf.contrib.rnn.BasicLSTMCell(self.neurons, ) for _ in range(self.layers)])\n",
        "\n",
        "        batch_size = tf.shape(self.X)[0]\n",
        "        \n",
        "        self.init_state_0 = stacked_cell.zero_state(batch_size, tf.float32)\n",
        "        self.init_state = self.init_state_0\n",
        "\n",
        "        with tf.variable_scope('rnn') as scope:\n",
        "            rnn_outputs, states = tf.nn.dynamic_rnn(stacked_cell, onehot_X, \n",
        "                                                    initial_state=self.init_state, \n",
        "                                                    dtype=tf.float32)\n",
        "            self.init_state = states\n",
        "\n",
        "        self.final_state = self.init_state\n",
        "        stacked_rnn_outputs = tf.reshape(rnn_outputs, [-1, self.neurons])\n",
        "\n",
        "        softmax_w = tf.Variable(tf.random_normal([self.neurons, self.vocab_size]), dtype=tf.float32, name='sm_w')\n",
        "        softmax_b = tf.Variable([self.vocab_size], dtype=tf.float32, name='sm_b')\n",
        "            \n",
        "        logits_raw = tf.matmul(stacked_rnn_outputs, softmax_w) + softmax_b\n",
        "        logits = tf.reshape(logits_raw, [-1, self.steps, self.vocab_size])\n",
        "\n",
        "        output_softmax = tf.nn.softmax(logits)\n",
        "\n",
        "        self.temperature = tf.placeholder(tf.float32)\n",
        "        self.output_softmax_temp = tf.nn.softmax(tf.div(logits, self.temperature))\n",
        "\n",
        "        softmax_entropy = tf.nn.softmax_cross_entropy_with_logits_v2(labels=onehot_y, logits=logits)\n",
        "\n",
        "        self.cross_entropy = tf.reduce_mean(softmax_entropy)\n",
        "        optimizer = tf.train.AdamOptimizer(learning_rate=self.learning_rate)\n",
        "\n",
        "        self.training_op = optimizer.minimize(self.cross_entropy)\n",
        "        \n",
        "        # Clipping isn't necessary, even for really deep networks:\n",
        "        # grads = optimizer.compute_gradients(self.cross_entropy)\n",
        "        # minclip = -1.0 * self.clip\n",
        "        # capped_grads = [(tf.clip_by_value(grad, minclip, self.clip), var) for grad, var in grads]\n",
        "        # self.training_op = optimizer.apply_gradients(capped_grads)\n",
        "\n",
        "        self.prediction = tf.cast(tf.argmax(output_softmax, -1), tf.int32)\n",
        "        correct_prediction = tf.equal(self.y, self.prediction)\n",
        "        self.accuracy = tf.reduce_mean(tf.cast(correct_prediction, tf.float32))\n",
        "        error = 1.0 - self.accuracy\n",
        "\n",
        "        \n",
        "        # Tensorboard\n",
        "        tf.summary.scalar(\"cross-entropy\", self.cross_entropy)\n",
        "        tf.summary.scalar(\"error\", error)\n",
        "        self.summary_merged = tf.summary.merge_all()\n",
        "\n",
        "        # Init\n",
        "        self.init = tf.global_variables_initializer()\n"
      ],
      "execution_count": 0,
      "outputs": []
    },
    {
      "metadata": {
        "id": "8wh74W9aFjkk",
        "colab_type": "code",
        "colab": {
          "base_uri": "https://localhost:8080/",
          "height": 34
        },
        "outputId": "8ccceb68-3a1d-42e2-c0ee-9326bb5d95fa"
      },
      "cell_type": "code",
      "source": [
        "!ls tensor-poet/data\n"
      ],
      "execution_count": 8,
      "outputs": [
        {
          "output_type": "stream",
          "text": [
            "README.md  tiny-shakespeare.txt\r\n"
          ],
          "name": "stdout"
        }
      ]
    },
    {
      "metadata": {
        "id": "Azo4TbDg1v02",
        "colab_type": "text"
      },
      "cell_type": "markdown",
      "source": [
        "## 3. Parameters for model and training"
      ]
    },
    {
      "metadata": {
        "id": "SN2BVRBm1v03",
        "colab_type": "code",
        "colab": {}
      },
      "cell_type": "code",
      "source": [
        "libdesc = {\n",
        "    \"name\": \"TinyShakespeare\",\n",
        "    \"description\": \"Small Shakespeare 'standard' corpus\",\n",
        "    \"lib\": [\n",
        "        'kalevala.txt',\n",
        "    ]\n",
        "}\n",
        "\n",
        "textlib = TextLibrary(libdesc[\"lib\"])\n",
        "\n",
        "# Model parameter:\n",
        "modelParamsShakespeare = {\n",
        "    \"model_name\": \"shakespeare\",\n",
        "    \"logdir\": \"tensorlog/shakespeare\",\n",
        "    \"checkpoint\": \"shakespeare.ckpt\",\n",
        "    \"vocab_size\": len(textlib.i2c),\n",
        "    \"neurons\": 256,\n",
        "    \"layers\": 2,\n",
        "    \"learning_rate\": 1.e-3,\n",
        "    \"steps\": 128,\n",
        "}\n",
        "\n",
        "# Look for optional json description of a library:\n",
        "if os.path.exists('bk/lib-phil-deen.json'):\n",
        "    with open('bk/lib-phil-deen.json') as data_file:    \n",
        "        libdescphil = json.load(data_file)\n",
        "        textlib = TextLibrary(libdescphil[\"lib\"])\n",
        "        modelParamsPhil = {\n",
        "            \"model_name\": \"phil\",\n",
        "            \"logdir\": \"tensorlog/phil\",\n",
        "            \"checkpoint\": \"phil.ckpt\",\n",
        "            \"vocab_size\": len(textlib.i2c),\n",
        "            \"neurons\": 256,\n",
        "            \"layers\": 8,\n",
        "            \"learning_rate\": 1.e-3,\n",
        "            \"batch_size\": 128,\n",
        "        }\n",
        "        model = TensorPoetModel(modelParamsPhil)\n",
        "else:\n",
        "    model = TensorPoetModel(modelParamsShakespeare)"
      ],
      "execution_count": 0,
      "outputs": []
    },
    {
      "metadata": {
        "id": "xwMBo4sp1v06",
        "colab_type": "code",
        "colab": {}
      },
      "cell_type": "code",
      "source": [
        "# Training Parameter:\n",
        "\n",
        "trainParams = {\n",
        "    \"max_iter\": 20000, #1000000,\n",
        "    \"restoreCheckpoints\": False,\n",
        "    \"generateDuringTraining\": True,\n",
        "    \"generated_text_size\": 500,\n",
        "    \"verbose\": True,\n",
        "    \"statusEveryNIter\": 200,\n",
        "    \"saveEveryNIter\": 500,\n",
        "    \"batch_size\": 48, #128,\n",
        "}"
      ],
      "execution_count": 0,
      "outputs": []
    },
    {
      "metadata": {
        "id": "-wwv8Owc1v08",
        "colab_type": "text"
      },
      "cell_type": "markdown",
      "source": [
        "## 4. The actual training"
      ]
    },
    {
      "metadata": {
        "id": "I1rfVEk41v09",
        "colab_type": "code",
        "colab": {
          "base_uri": "https://localhost:8080/",
          "height": 90164
        },
        "outputId": "5adf5f60-071a-4638-fc84-2754ebb29129"
      },
      "cell_type": "code",
      "source": [
        "# Run training:\n",
        "with tf.Session() as sess:\n",
        "    batch_size = trainParams[\"batch_size\"]\n",
        "    epl = len(textlib.data) / (batch_size * model.steps)\n",
        "    model.init.run()\n",
        "    tflogdir = model.logdir\n",
        "    tflogdir = os.path.realpath(tflogdir)\n",
        "    if not os.path.exists(tflogdir):\n",
        "        os.makedirs(tflogdir)\n",
        "    print(\"Tensorboard: 'tensorboard --logdir {}'\".format(tflogdir))\n",
        "    train_writer = tf.summary.FileWriter(tflogdir, sess.graph)\n",
        "    train_writer.add_graph(sess.graph)\n",
        "    # vl=tf.trainable_variables()\n",
        "    # print(vl)\n",
        "    saver = tf.train.Saver()\n",
        "    checkpoint_file = os.path.join(tflogdir, model.checkpoint)\n",
        "    # FFR: tf.train.export_meta_graph(filename=None, meta_info_def=None, graph_def=None, saver_def=None, collection_list=None, as_text=False, graph=None, export_scope=None, clear_devices=False, **kwargs)\n",
        "    start_iter = 0\n",
        "    if trainParams[\"restoreCheckpoints\"]:\n",
        "        lastSave = tf.train.latest_checkpoint(tflogdir, \n",
        "                                              latest_filename=None)\n",
        "        if lastSave is not None:\n",
        "            pt = lastSave.rfind('-')\n",
        "            if pt != -1:\n",
        "                pt += 1\n",
        "                start_iter=int(lastSave[pt:])\n",
        "            print(\"Restoring checkpoint at {}: {}\".format(start_iter, lastSave))\n",
        "            saver.restore(sess, lastSave)\n",
        "    \n",
        "    for iteration in range(start_iter, trainParams[\"max_iter\"]):\n",
        "        # Train with batches from the text library:\n",
        "        X_batch, y_batch = textlib.getRandomSampleBatch(batch_size, model.steps)\n",
        "        i_state = sess.run([model.init_state_0], feed_dict={model.X: X_batch})\n",
        "        i_state, _ = sess.run([model.final_state, model.training_op],\n",
        "                              feed_dict={model.X: X_batch, model.y: y_batch,\n",
        "                                         model.init_state: i_state})\n",
        "\n",
        "        # Output training statistics every 100 iterations:\n",
        "        if iteration % 200 == 0:\n",
        "            ce, accuracy, prediction, summary = sess.run([model.cross_entropy,\n",
        "                                                          model.accuracy, model.prediction,\n",
        "                                                          model.summary_merged],\n",
        "                                             feed_dict={model.X: X_batch, model.y: y_batch})\n",
        "            train_writer.add_summary(summary, iteration)\n",
        "            ep = iteration / epl\n",
        "            print(\"Epoch: {0:.2f}, iter: {1:d}, cross-entropy: {2:.3f}, accuracy: {3:.5f}\".format(ep, iteration, ce, accuracy))\n",
        "            if trainParams[\"verbose\"]:\n",
        "                for ind in range(1): # model.batch_size):\n",
        "                    ys = textlib.decode(y_batch[ind]).replace('\\n', ' | ')\n",
        "                    yps = textlib.decode(prediction[ind]).replace('\\n', ' | ')\n",
        "                    print(\"   y:\", ys)\n",
        "                    print(\"  yp:\", yps)\n",
        "\n",
        "        # Generate sample texts for different temperature every ..NIter iterations:\n",
        "        if (iteration+1) % trainParams[\"statusEveryNIter\"] == 0:\n",
        "            \n",
        "            # Save training data\n",
        "            # print(\"S>\")\n",
        "            saver.save(sess, checkpoint_file, global_step=iteration+1)\n",
        "            # print(\"S<\")\n",
        "\n",
        "            if trainParams[\"generateDuringTraining\"]:\n",
        "                # Generate sample\n",
        "                for t in range(2, 11, 4):\n",
        "                    temp = float(t) / 10.0;\n",
        "                    xs = ' ' * model.steps\n",
        "                    xso = ''\n",
        "                    doini=True\n",
        "                    for i in range(trainParams[\"generated_text_size\"]):\n",
        "                        X_new = np.transpose([[textlib.c2i[sj]] for sj in xs])\n",
        "                        if doini:\n",
        "                            doini=False\n",
        "                            g_state = sess.run([model.init_state_0], feed_dict={model.X: X_new})\n",
        "                            \n",
        "                        g_state, y_pred = sess.run([model.final_state, model.output_softmax_temp], \n",
        "                                                  feed_dict={model.X: X_new, model.init_state: g_state,\n",
        "                                                             model.temperature: temp})\n",
        "                        inds=list(range(model.vocab_size))\n",
        "                        ind = np.random.choice(inds, p=y_pred[0, -1].ravel())\n",
        "                        nc = textlib.i2c[ind]\n",
        "                        xso += nc\n",
        "                        xs = xs[1:]+nc\n",
        "\n",
        "                    print(\"----------------- temperature =\", temp, \"----------------------\")\n",
        "                    # print(xso)\n",
        "                    textlib.sourceHighlight(xso, 20)   # 20: minimum quote size detected.\n",
        "                print(\"---------------------------------------\")"
      ],
      "execution_count": 11,
      "outputs": [
        {
          "output_type": "stream",
          "text": [
            "Tensorboard: 'tensorboard --logdir /content/tensorlog/shakespeare'\n",
            "Epoch: 0.00, iter: 0, cross-entropy: 3.651, accuracy: 0.10059\n",
            "   y:  parempi kuin on kesken katkemahan.\" |  | Niin luonen, lopettanenki, herennenki, heittänenki.  | Kerin virteni kerälle, sykkyrälle syy\n",
            "  yp: ohhaaaaaaaaaaaaaaaaaaaaaaaaaaaaaaaaaaaaaaaaaaaaaaaaaaaaaaaaaaaaaaaaaaaaaaaaaaaaaaaaaaaiiaaaaaaaaaaaaaaaaaaaaaaaaaaaaaaaaaaa   a \n",
            "----------------- temperature = 0.2 ----------------------\n"
          ],
          "name": "stdout"
        },
        {
          "output_type": "display_data",
          "data": {
            "text/html": [
              "uuutut uututa suuta, lauta pulla pahan palla, <br>päisä sinen päisä pääsä, pääsä sieleselleselle. <br>Sinä sielle vienenä, lauta suulla suulla pahan, <br>lielle piilelle päätääsä, <br>lelelesi kuosi kullelle, karkan kuolla kaulla, <br>lulla suulla suolla luulla, laille lallellellellelle. <br>lelle viellä vankalla, laulla kuulla luulla laulla, <br>lulle sielle lellä villle, lellelle lellellellelle.<br><br>\"Mille vielle vaisen varka, vaikin vankan lalasin: <br>\"On oin anon anan anunen kanka kullen kuollen <br>lelellä sielle päisä"
            ],
            "text/plain": [
              "<IPython.core.display.HTML object>"
            ]
          },
          "metadata": {
            "tags": []
          }
        },
        {
          "output_type": "stream",
          "text": [
            "----------------- temperature = 0.6 ----------------------\n"
          ],
          "name": "stdout"
        },
        {
          "output_type": "display_data",
          "data": {
            "text/html": [
              "uukut kuusi kuotki, kaisi vällyt elivet lalla, <br>pallaisn poilla liutille varkahalla sielleillellle <br>vellellä villältävällellestä lällä vahllellellelle. <br>liusi satun julletsäsis, lavan lelä viäsillä <br>laholli kankillellellelle säällä lielleisillä.<br><br>\"Osi ulosla setäsän kuulle, tulle vaineta taolese, <br>eyttä eista paitetsi, terettäsisi pallasta lahattillasta, kullansatavilla, tinässi lälle lyisellä, <br>lokuli vanka kuukanenä, heiken kakunelli pella, <br>alle kusserän joikahetti, hinkati kesitällesenettä.<br>"
            ],
            "text/plain": [
              "<IPython.core.display.HTML object>"
            ]
          },
          "metadata": {
            "tags": []
          }
        },
        {
          "output_type": "stream",
          "text": [
            "----------------- temperature = 1.0 ----------------------\n"
          ],
          "name": "stdout"
        },
        {
          "output_type": "display_data",
          "data": {
            "text/html": [
              "uujun kyrännin, he kyötä leet jepsi: <br>\"Kolle vatstukykvile, kekäilli vuirej vekki, <br>ytoipehin aikunellens, ravpailehen läneistelle. <br>uittoi lyerisMinlle! Muransaktu raetan 'utösipain, <br>päupä lysste tilulo, kailoi, Ka puukkahan, tahinen pavahan elä piella <br>pipon annJo kavan karaisen pavkuahva <br>lusuuhen sikeole tehahhen, kijorin ruhoven nahen,, viikän öitä vi'oehlistä. <br>\"ilett jolta lauvansa, valouka laatetkalaihan, <br>kajolain selen almätsinses. vertisle varnohen <br>otelessa viivellä hiunulese'. <br>yhe"
            ],
            "text/plain": [
              "<IPython.core.display.HTML object>"
            ]
          },
          "metadata": {
            "tags": []
          }
        },
        {
          "output_type": "stream",
          "text": [
            "---------------------------------------\n",
            "Epoch: 2.21, iter: 200, cross-entropy: 2.069, accuracy: 0.36051\n",
            "   y: uon sanoiksi virkki:  | \"Työ minulle määrättihin aina entistä parempi:  | saa'a suuri suomuhauki, liikkuva kala lihava,  | Tuonen must\n",
            "  yp: a   aanannsi karkii   | \"ioinnen nee kannänää,e,,pntenvleä ea väiknii,  | \"inn  siona kuunananns, kakkki i kanlnvaeenin  | loon n saot\n",
            "----------------- temperature = 0.2 ----------------------\n"
          ],
          "name": "stdout"
        },
        {
          "output_type": "display_data",
          "data": {
            "text/html": [
              "uulu kuut kuun kuun <br>kulle kuulla kuulen kuulla, kulla laulla laullella: <br>\"Oi lakoi laula laula, laula laulla laulla, <br>kulle luulle luullella, lekkille lallellellelle!<br><br>\"Leiki liellä leivän laulla, laula laulan laulla.<br><br>Kulle viellä Lemminkäinen, laukoi kaula kaunella: <br>\"Ei liellä leitä laulla, laulan laulalla laulla: <br>\"Miellä leille leille, laule laulla laulla, <br>kaulla laulla laulalla, laulla laulla laullalla.<br><br>\"Kulle sikko lietä syänä, kana kalla kaanan kalla, <br>käsin kuulla kuulet kuuli, kulla"
            ],
            "text/plain": [
              "<IPython.core.display.HTML object>"
            ]
          },
          "metadata": {
            "tags": []
          }
        },
        {
          "output_type": "stream",
          "text": [
            "----------------- temperature = 0.6 ----------------------\n"
          ],
          "name": "stdout"
        },
        {
          "output_type": "display_data",
          "data": {
            "text/html": [
              "uulehen ruuneha, <br>kansa sanni korteisin, kuot hiut kallat kuulan <br>salle kulle puurut parman, kalaa kuuturaisen verkä: <br>\"Oi sellä kuoleiskkä, päähä pääki päävä pääsä. <br>Kuuki suoresi kovien korkan, kormo kuulta suunista.\"<br><br>Kule sivi mikki näinen piskä, huolen sorhen käsenen, <br>vien pokka vallevissi, lauselta olen kasella. <br>Kalkei laikki vallasta, pääsä vasisen savasetta.<br><br>\"Joksi täänä Lemminkäinen, le ka laula kaljaasen. <br>Väikä viehen näänä neisi silä tuolla, alatsen illen itesällä. <br>Mitä leittä lä"
            ],
            "text/plain": [
              "<IPython.core.display.HTML object>"
            ]
          },
          "metadata": {
            "tags": []
          }
        },
        {
          "output_type": "stream",
          "text": [
            "----------------- temperature = 1.0 ----------------------\n"
          ],
          "name": "stdout"
        },
        {
          "output_type": "display_data",
          "data": {
            "text/html": [
              "pulla Ilmara pilä <br><br>Kullevin le valesi millä, lauiskella turevehen. <br>Kaska iven katutsivini, etohen rolmimhen hakmat.<br><br>Siitä paita varkai emän: Karvan kaani katkuieletti, <br>mulekoi, ulmaa uuman, kurkky vaikkunn pelkaihi, <br>mesnäkki tipäkistähestä heven komtahisse suvaa, <br>sepe vanra vakkavisma ilomelle: <br>Kapaleiren tulaksanta, lohli lepin lepiisille. <br>Ansui elmaalla lesen tahella sareksyttteken <br>päkään saipon kyöytyisei, haäkelkäise koletiasa.<br><br>YUksii, maksa hoineni: suski po kylpinaisen pykkä..<br><br>K"
            ],
            "text/plain": [
              "<IPython.core.display.HTML object>"
            ]
          },
          "metadata": {
            "tags": []
          }
        },
        {
          "output_type": "stream",
          "text": [
            "---------------------------------------\n",
            "Epoch: 4.42, iter: 400, cross-entropy: 1.862, accuracy: 0.42122\n",
            "   y: istä liiatenki!\" |  | Siitä juoksi hiitten hirvi, poropeura poimetteli  | Pohjan aittojen alatse, Lapin lasten tanteritse:  | potkaisi k\n",
            "  yp:    ä veekntl a   |  | Kiitä soolsi tuvkäähivenki, kaiviantinpoikantahi. | kohjan plktaian ktontin keman kaital kulealeltin  | \"äiti  i k\n",
            "----------------- temperature = 0.2 ----------------------\n"
          ],
          "name": "stdout"
        },
        {
          "output_type": "display_data",
          "data": {
            "text/html": [
              "uulu su tuli tulle tule tuon taisen taittelevi<span style=\"background-color:#d8daef;\">. <br>Sanoi vanha Väinämöinen</span><sup>[1]</sup> kasta kanna kannemahan <br>kannen kullan kukkimahan, kannoista koikomahan, <br>kalman kalman kaikamahan, karvan kaikkoin kaikahan <br>karvan kaivan kaikahan, kalan kaikki kainoillesi. <br>Siitä sanoi saatamahan sanan va<span style=\"background-color:#d8daef;\">rkkoi, noin nimesi: <br>\"Ei </span><sup>[1]</sup>miellä miellä mien maata maalle maattemahan <br>miellä miettä miellä meitä mien maatta maahan <br>kulle miellä meikän menen maata maalle maan maahan <br>saitomahan saatamahan, karmahan katkahan kaisen <br>ka"
            ],
            "text/plain": [
              "<IPython.core.display.HTML object>"
            ]
          },
          "metadata": {
            "tags": []
          }
        },
        {
          "output_type": "display_data",
          "data": {
            "text/html": [
              "<small><p style=\"text-align:right;\">Sources: <span style=\"background-color:#d8daef;\">kalevala</span><sup>[1]</sup></p></small>"
            ],
            "text/plain": [
              "<IPython.core.display.HTML object>"
            ]
          },
          "metadata": {
            "tags": []
          }
        },
        {
          "output_type": "stream",
          "text": [
            "----------------- temperature = 0.6 ----------------------\n"
          ],
          "name": "stdout"
        },
        {
          "output_type": "display_data",
          "data": {
            "text/html": [
              "kuuli tuit muta muka vatti taiva, <br>kasi tuo sanoista syättä, saan sanoi kastaraisen <br>syvättä tulia pitti, piivän piitä paikoi patka, <br>jattomahan murat pahat karmahan 'uonin laitamahan <br>vielen piimän pahtammatta, kaves kälmen tulkehasta. <br>Laita vairen vaatkalailla, kaillo nuinin luupuulle; <br>paiti veitä neikämällä, vaapela raamahan <br>kuuris kuunut kurkahassa, kaunui kaaman taisteli<span style=\"background-color:#d8daef;\">han.\"<br><br>Siitä Pohjolan emäntä </span><sup>[1]</sup>talaha laahompa aita, <br>mukka kaivan kuuren kuksi, hattihen halmiaksi. <br>Kan oi viehin kestä"
            ],
            "text/plain": [
              "<IPython.core.display.HTML object>"
            ]
          },
          "metadata": {
            "tags": []
          }
        },
        {
          "output_type": "display_data",
          "data": {
            "text/html": [
              "<small><p style=\"text-align:right;\">Sources: <span style=\"background-color:#d8daef;\">kalevala</span><sup>[1]</sup></p></small>"
            ],
            "text/plain": [
              "<IPython.core.display.HTML object>"
            ]
          },
          "metadata": {
            "tags": []
          }
        },
        {
          "output_type": "stream",
          "text": [
            "----------------- temperature = 1.0 ----------------------\n"
          ],
          "name": "stdout"
        },
        {
          "output_type": "display_data",
          "data": {
            "text/html": [
              "sulu' Kyly tuisi ine talta toiken, päilin altin talohon, <br>värä päisin viiritsi pakan, aljottiase! <br>Hiit on päihin kerikänsä ketele, iksästä meitämähän <br>laihet leivä kaviahan illa, haitajaksi salaja, <br>Jumaa tuman mene'antä moata nuovamma minentämän <br>vulhe paikan lapsasihen, heversillä, kihtkieliksi <br>panistahut ohotella, asoti vaavat aspouta. <br>\"Tuot' on uisu on sanusta, kasten piittä joksimahan evännä. <br>Paspi elittö pulvahihen, tulit päivörän hyvenätä, <br>hyöstövyä manehtalan! <br>Etpä tien poisa pääny"
            ],
            "text/plain": [
              "<IPython.core.display.HTML object>"
            ]
          },
          "metadata": {
            "tags": []
          }
        },
        {
          "output_type": "stream",
          "text": [
            "---------------------------------------\n",
            "Epoch: 6.64, iter: 600, cross-entropy: 1.752, accuracy: 0.43180\n",
            "   y: a.\" |  | Sanoi siitä siskollensa: \"Hyvästi, sisarueni!  | Itketkö sinä minua, koskas kuulet kuolleheksi,  | kansasta kaonneheksi, sortun\n",
            "  yp: a  |  |  | Sinoi vapto Lanouaaessa, \"Oivä iä  hiitnitn    | Ktse  iitinä kieki, matti ikallin kallee insi,  | kanni ta kaiseelelsi, kaieai\n",
            "----------------- temperature = 0.2 ----------------------\n"
          ],
          "name": "stdout"
        },
        {
          "output_type": "display_data",
          "data": {
            "text/html": [
              "kuukku kut kurista, kata kasta kalkanat<span style=\"background-color:#d8daef;\">ta.\"<br><br>Siitä lieto Lemminkäinen </span><sup>[1]</sup><span style=\"background-color:#d8daef;\">sanan virkkoi, noin nimesi: <br>\"Ku</span><sup>[1]</sup>lle koski, koin kannen, korjan kuun kannellensa, <br>kun en kasta kannan päässä, piiko paikan parkehissa, <br>veren vestän veseltänsä, saaren saaran suuren suuren <br>soiten suuren suuren suuren, surmen suuren suuren <br>suurin suuren suuren suuren, surren suuren suuremman.<br><br>\"Kun ei tuosta tuo<span style=\"background-color:#d8daef;\">nen tuossa tuon sanoiksi virkki: <br>\"</span><sup>[1]</sup>Oi on saara saatanen sanan sirkkoi soisen sanan: <br>\"Oho nei saata saata, sinä tuon"
            ],
            "text/plain": [
              "<IPython.core.display.HTML object>"
            ]
          },
          "metadata": {
            "tags": []
          }
        },
        {
          "output_type": "display_data",
          "data": {
            "text/html": [
              "<small><p style=\"text-align:right;\">Sources: <span style=\"background-color:#d8daef;\">kalevala</span><sup>[1]</sup></p></small>"
            ],
            "text/plain": [
              "<IPython.core.display.HTML object>"
            ]
          },
          "metadata": {
            "tags": []
          }
        },
        {
          "output_type": "stream",
          "text": [
            "----------------- temperature = 0.6 ----------------------\n"
          ],
          "name": "stdout"
        },
        {
          "output_type": "display_data",
          "data": {
            "text/html": [
              "kukkuksu kurtuisen, pääise pääsi päätä <br>saata soimen sosista, alon saaren sastavatta: <br>\"Vaka neni senon puutta, keskän käivä kakkoansa, <br>tuossa tyhän tatavaksi, karsuise kartarutta <br>salaset veset emän päässä, vaavan vaskavansa salan, <br>aata tulli takkurutten, kurselessa kormenelle, <br>kennyä kastanen karannen karkannen kalottamen. <br>Otse poikan poljamastä, siitoi pien itsä ilännä! <br>Hääpä puon panaisessa, kanen kalkan kastavallen; <br>koihut kuulle kuoksehen, saratta saannen saloss<span style=\"background-color:#d8daef;\">a?\"<br><br>Sanoi seppo Ilmar</span><sup>[1]</sup>"
            ],
            "text/plain": [
              "<IPython.core.display.HTML object>"
            ]
          },
          "metadata": {
            "tags": []
          }
        },
        {
          "output_type": "display_data",
          "data": {
            "text/html": [
              "<small><p style=\"text-align:right;\">Sources: <span style=\"background-color:#d8daef;\">kalevala</span><sup>[1]</sup></p></small>"
            ],
            "text/plain": [
              "<IPython.core.display.HTML object>"
            ]
          },
          "metadata": {
            "tags": []
          }
        },
        {
          "output_type": "stream",
          "text": [
            "----------------- temperature = 1.0 ----------------------\n"
          ],
          "name": "stdout"
        },
        {
          "output_type": "display_data",
          "data": {
            "text/html": [
              "kuujoa olissa kutonen! <br>Ota kaakoa kiksomi, suta rekesin koihoissa, <br>kulittölen sestähäise, ylähelmassa terässä <br>piäsenöillän katuhesta, hyvekköin katkkonsavi.\"<br><br>\"Siilä kuulluko majatti, misan murretta tahokset, <br>aitahyllä kalkomaille, paras lammiella verelle! <br>Oi mätä mennä taisevi Väinämöisen vatsen tuissen vahen malallensan <br>mehan ukanattemasta, tyhtyän kastoassa.<br><br>\"Ettöi tyli rierehtä iikine saroille kuonuissai: <br>moka' on semulla solohot, minhen olkoja tapasen.\"<br><br>Sietä suo setusen Sanoa: \"Le"
            ],
            "text/plain": [
              "<IPython.core.display.HTML object>"
            ]
          },
          "metadata": {
            "tags": []
          }
        },
        {
          "output_type": "stream",
          "text": [
            "---------------------------------------\n",
            "Epoch: 8.85, iter: 800, cross-entropy: 1.643, accuracy: 0.47917\n",
            "   y:  miehen kolmen.  | Hyvä on sampuen hyrätä, kirjokannen kahnatella  | Pohjolan kivimäessä, vaaran vaskisen sisässä.  | Hyvä olla itseni\n",
            "  yp: nkaelen maiman   | Kivä sn sanma n saväst, kaejaiannen karoontlea. | tohjalan paeinählsä, sasren vaskassn salsssä. |  | Sevä snee hssen \n",
            "----------------- temperature = 0.2 ----------------------\n"
          ],
          "name": "stdout"
        },
        {
          "output_type": "display_data",
          "data": {
            "text/html": [
              "ousuusut tullenenen, kannan kaunis Kaukomahan, <br>minä tuonen tuotta tuosta, kainon kasketta kaloja, <br>kuulet kuulut kuukuttavat, kaivat kaivan kalvattata.<br><br>\"Jopa tuonne tullen tuolle, kuun kullen kullan kuulun, <br>kulle kuului kuunehella, kalkealla kaikehilla, <br>kuului kuulut kuuluttavi, kaulat kallan kallattahan, <br>kuulut kullan kuuluttavat, kalkehet kalkattahat <br>tuonet suuret suuretta, kuun kullan kulkeatta, <br>kuulet kuulut kuuluttavat, kaunahat karvattamatta.<br><br>\"Tule<span style=\"background-color:#d8daef;\">n tuon sanoiksi virkki</span><sup>[1]</sup>, itse lausu"
            ],
            "text/plain": [
              "<IPython.core.display.HTML object>"
            ]
          },
          "metadata": {
            "tags": []
          }
        },
        {
          "output_type": "display_data",
          "data": {
            "text/html": [
              "<small><p style=\"text-align:right;\">Sources: <span style=\"background-color:#d8daef;\">kalevala</span><sup>[1]</sup></p></small>"
            ],
            "text/plain": [
              "<IPython.core.display.HTML object>"
            ]
          },
          "metadata": {
            "tags": []
          }
        },
        {
          "output_type": "stream",
          "text": [
            "----------------- temperature = 0.6 ----------------------\n"
          ],
          "name": "stdout"
        },
        {
          "output_type": "display_data",
          "data": {
            "text/html": [
              "uunuutultuunen saaren huotta huuhtelevi <br>päälle poikki poikkellasta, laulen latkihilla tukahan, <br>tumolta pihoillasilla, parempilla lappihilla, <br>selähen hiettehettöllä, kautahan katanahalla.<br><br>Kusk' on kyyä kellan päästä, pääntelivi pankanata. <br>Itse lauloja lapisen, uko olen synähin souta: <br>piivä pietan pertoilla, kuu ei kullan laimahansa. <br>Tuop' on tuoli tuonen nouti, kausin kaikki laitoanin, <br>kuske' on kolkin korvensa, kulet kuulon kuolemahan, <br>koiki koskut kuomea, kuulan tuotta tulitahan?\"<br><br>Sii"
            ],
            "text/plain": [
              "<IPython.core.display.HTML object>"
            ]
          },
          "metadata": {
            "tags": []
          }
        },
        {
          "output_type": "stream",
          "text": [
            "----------------- temperature = 1.0 ----------------------\n"
          ],
          "name": "stdout"
        },
        {
          "output_type": "display_data",
          "data": {
            "text/html": [
              "uusuku tullessana, sinakanakso koksasta, <br>puurensa aahuksen nuuren, josma tuorun saarella.<br><br>Tuop' on neiti Lemminkäiste mannet hautan jalmettuni! <br>Juuto korgen osen tulatti, ilmenilla itomilleksi, <br>saaesta sakehtelevi. Saani nuoksi vettelehen <br>suiin liisisnä pelossa, sieket leivon kaipaen kolkoa, <br>jäkjäjusin, luhoi luokku: jo tähinnä tiinen, <br>iika olen kamman päiviä, tamon kalki läättähinsä; <br>kun tuleni tumahan, tuopoja tumpassa ananna: <br>noiti riekille misoa, aita rikkani tepähensä; <br>koukon ei k"
            ],
            "text/plain": [
              "<IPython.core.display.HTML object>"
            ]
          },
          "metadata": {
            "tags": []
          }
        },
        {
          "output_type": "stream",
          "text": [
            "---------------------------------------\n",
            "Epoch: 11.06, iter: 1000, cross-entropy: 1.555, accuracy: 0.50651\n",
            "   y: alohon.  | Suori Pohjola sotoa, takajoukko tappeloa  | vasten vaivaista sinua ja kohti kovaosaista:  | poltti huonehet poroksi, kaikki\n",
            "  yp:   lion   | Tao i sohjolanpetia, kusanantsi tappaloit | teskin vaskonsta valus,ko ootoa koiinstnsta.  | kuikii piolinen holoisi, kaunki\n",
            "----------------- temperature = 0.2 ----------------------\n"
          ],
          "name": "stdout"
        },
        {
          "output_type": "display_data",
          "data": {
            "text/html": [
              "ousuut tullannen kääsi, käännen kääntä käärelle <br>päälle meitä mentelehen, kalvan kalken kannehella <br>neitä kuului kuun kulehen, kulta kuulen kulkeani. <br>Kun ei tuosta tultanansa, kunne kullet kulkeanan: <br>\"Oi on muista minustaman, kulle kullen kuulumahan, <br>kun e<span style=\"background-color:#d8daef;\">i tuon sanoiksi virkki, itse lausui, noin nimesi: <br>\"Tu</span><sup>[1]</sup>on se tulisin tulevan, käännen käännen käälle <br>tuon saamon saatajalla, laivan laivan laivahalla. <br>Kuulei tuotta kuunehessa, katsoi kaunassa kasessa. <br>Kun ei tuosta tulisen näitä, kuulen k"
            ],
            "text/plain": [
              "<IPython.core.display.HTML object>"
            ]
          },
          "metadata": {
            "tags": []
          }
        },
        {
          "output_type": "display_data",
          "data": {
            "text/html": [
              "<small><p style=\"text-align:right;\">Sources: <span style=\"background-color:#d8daef;\">kalevala</span><sup>[1]</sup></p></small>"
            ],
            "text/plain": [
              "<IPython.core.display.HTML object>"
            ]
          },
          "metadata": {
            "tags": []
          }
        },
        {
          "output_type": "stream",
          "text": [
            "----------------- temperature = 0.6 ----------------------\n"
          ],
          "name": "stdout"
        },
        {
          "output_type": "display_data",
          "data": {
            "text/html": [
              "myyäntä tyhtysinni, veinoni, veijottahani! <br>Tuop' on päivän paistajata, poika puista poiseansa, <br>ei saatta ajelehen, tuon ventävän verosta: <br>tuon kullet kuulemaksi, kumatanse kastelevi, <br>päälle maattane kerävä, emonen saarin suomea.<br><br>\"Ei ol<span style=\"background-color:#d8daef;\">e tuon sanoiksi virkki, </span><sup>[1]</sup>itse laulajen noki-illens<br><br><br>Vaiha<span style=\"background-color:#d8daef;\">n vanha Väinämöinen </span><sup>[1]</sup>kentä kuuni kuotiaksi. <span style=\"background-color:#d8daef;\"><br>Siitä seppo Ilmarinen sanan virkkoi, noin nimesi: <br>\"</span><sup>[1]</sup>Ei ole tuolla tuoman tu<span style=\"background-color:#d8daef;\">olta. Sanan virkkoi, noin nimesi: <br>\"</span><sup>[1]</sup>Tuo tuksut tuhaitteli, tuitanka topi kanehen, <br>k"
            ],
            "text/plain": [
              "<IPython.core.display.HTML object>"
            ]
          },
          "metadata": {
            "tags": []
          }
        },
        {
          "output_type": "display_data",
          "data": {
            "text/html": [
              "<small><p style=\"text-align:right;\">Sources: <span style=\"background-color:#d8daef;\">kalevala</span><sup>[1]</sup></p></small>"
            ],
            "text/plain": [
              "<IPython.core.display.HTML object>"
            ]
          },
          "metadata": {
            "tags": []
          }
        },
        {
          "output_type": "stream",
          "text": [
            "----------------- temperature = 1.0 ----------------------\n"
          ],
          "name": "stdout"
        },
        {
          "output_type": "display_data",
          "data": {
            "text/html": [
              "uoskkut pirmenensä meki, käänkuste kärkelevä, <br>'ynnyt ainan pikkuseksa, kaannoissa kallan mellen?\"<br><br>\"Taoinen, metäne, enke, suo, isko, juolin joise: <br>lusta, laula, urotia, rahulle, ruko'itteli! <br>Läkkemmä metu tuhani, tuon upko, tovi sukoha,, <br>lauville amattanen hukpi, päästähän seläksihellä.<br><br>\"Nouni miisän kyllimmerin, soitto soittoin oljapien <br>emonta saittelevi, kauhiksi kaalulajanse!.<br><br>\"Josa juoksoja kulellassa, toivaa takoasen iksin, <br>pitäjäni levenkimahte, vastaisit valtahanta.<br><br>Emo olin eno"
            ],
            "text/plain": [
              "<IPython.core.display.HTML object>"
            ]
          },
          "metadata": {
            "tags": []
          }
        },
        {
          "output_type": "stream",
          "text": [
            "---------------------------------------\n",
            "Epoch: 13.27, iter: 1200, cross-entropy: 1.441, accuracy: 0.54150\n",
            "   y: äällä huojumassa, kuuset päällä kuulumassa!  | Siinä, otso, pyörteleite, mesikämmen, käänteleite,  | kuni pyy pesänsä päällä, hanhi \n",
            "  yp: äi lä pyomatahta, kolnin kuälle kuuluiasta.\" | Eiitä  snto  kiöniileiki, kinttknme,, käänteleik,,  | kun  käöttisi  ä peäsle, kalka \n",
            "----------------- temperature = 0.2 ----------------------\n"
          ],
          "name": "stdout"
        },
        {
          "output_type": "display_data",
          "data": {
            "text/html": [
              "uuulokomahan, eikä itkenne ilosin <br>mien paljoa paikana, kanan kaannon kantajata.<br><br>\"Kun ei tuosta tulla tullu, tuonne suuri suukkahalle, <br>kankahan kaanikkihin, kanan kallan kaikahalle, <br>siitä suuret suuren suuren, katsot kaunan kainahalla, <br>vaan varman vaskasista, vaskan varkan valke<span style=\"background-color:#d8daef;\">assa.<br><br>\"Kun ei tuosta</span><sup>[1]</sup> tullessani, kannas kallan kaikan<span style=\"background-color:#d8daef;\">a!\"<br><br>Siitä seppo Ilmarinen </span><sup>[1]</sup>kanh<span style=\"background-color:#d8daef;\">a tuon sanoiksi virkki: <br>\"</span><sup>[1]</sup><span style=\"background-color:#d8daef;\">Ohoh seppo Ilmarinen! T</span><sup>[1]</sup><span style=\"background-color:#d8daef;\">uosta tuon sanoiksi virkki: <br>\"</span><sup>[1]</sup><span style=\"background-color:#d8daef;\">Ohoh seppo Ilmarinen! </span><sup>[1]</sup><span style=\"background-color:#d8daef;\">Sanan virkkoi, noin nimesi: <br>\"O</span><sup>[1]</sup>"
            ],
            "text/plain": [
              "<IPython.core.display.HTML object>"
            ]
          },
          "metadata": {
            "tags": []
          }
        },
        {
          "output_type": "display_data",
          "data": {
            "text/html": [
              "<small><p style=\"text-align:right;\">Sources: <span style=\"background-color:#d8daef;\">kalevala</span><sup>[1]</sup></p></small>"
            ],
            "text/plain": [
              "<IPython.core.display.HTML object>"
            ]
          },
          "metadata": {
            "tags": []
          }
        },
        {
          "output_type": "stream",
          "text": [
            "----------------- temperature = 0.6 ----------------------\n"
          ],
          "name": "stdout"
        },
        {
          "output_type": "display_data",
          "data": {
            "text/html": [
              "ouuukokomahan, tuinen saaren kaskanatan! <br>Tuosta tuulen tupitansa, ve'en tuota kaukasolle, <br>lapasi vahkasi kannan kantihin koviotahan! <br>Ponka on vuo<span style=\"background-color:#d8daef;\">ha Väinämöinen, itse </span><sup>[1]</sup><span style=\"background-color:#d8daef;\">tuon sanoiksi virkki: <br>\"Min</span><sup>[1]</sup>ä sietä miekan muuta, kuulet muinnen murikkata!<br><br>\"Kanka huolla hylkämähän, kainen karjan kaannehasta. <span style=\"background-color:#d8daef;\"><br>Siitä seppo Ilmarinen no</span><sup>[1]</sup>ski kuulla koivon päällä, <br>siitä kaski kallin löittä, huoli surman hiikatteli.<br><br>\"Pane vierä viisin kaukan, <br>seitä miekko mennekkona, miekan maikona valetti. <br>Saan sin saamutta m"
            ],
            "text/plain": [
              "<IPython.core.display.HTML object>"
            ]
          },
          "metadata": {
            "tags": []
          }
        },
        {
          "output_type": "display_data",
          "data": {
            "text/html": [
              "<small><p style=\"text-align:right;\">Sources: <span style=\"background-color:#d8daef;\">kalevala</span><sup>[1]</sup></p></small>"
            ],
            "text/plain": [
              "<IPython.core.display.HTML object>"
            ]
          },
          "metadata": {
            "tags": []
          }
        },
        {
          "output_type": "stream",
          "text": [
            "----------------- temperature = 1.0 ----------------------\n"
          ],
          "name": "stdout"
        },
        {
          "output_type": "display_data",
          "data": {
            "text/html": [
              "ouskuukurnanainen, itse laujan rausohiellä <br>itkä kaunuista ku'ista, kuukkesesta kkypysensä.<br><br>\"Kynti kätsä kaanissani viimasä mitäkörille, <br>Viera uukkot toremminkä, kahas taajan kantajata, <br>ja kävi pauui pohtumailla, apehta paneteloilla?\"<br><br>Ve'a hyvät tämyntärevi, syerityllet siitähiksi, <br>mitä siitä ehostelehen, kuskut kerran kaina.<br><br>Siitä lautooi kasketi hyvä immin lausimitki.\"<br><br>LaahuUkki, ruon samoita, varha vaista vaskutelle, <br>paita päivän päässä yhen kullannuolla <br>päällä Pahjon astahilta, ahjo"
            ],
            "text/plain": [
              "<IPython.core.display.HTML object>"
            ]
          },
          "metadata": {
            "tags": []
          }
        },
        {
          "output_type": "stream",
          "text": [
            "---------------------------------------\n",
            "Epoch: 15.48, iter: 1400, cross-entropy: 1.359, accuracy: 0.55990\n",
            "   y:  puolen Pohjan maata, kaiken Karjalan sokisti. |  | Kansa kaikki katsahtavi, katsahtavi, kaivahtavi:  | \"Mistäpä savunen saapi, auer i\n",
            "  yp: nkarlen pohjon pailt,  | aikkn kalvanan kovihsa?  | \"unpa vaukki kausolaavi, konso ai a  kaikanaivi.  | \"Eistä ä minon n suatu, kitn t\n",
            "----------------- temperature = 0.2 ----------------------\n"
          ],
          "name": "stdout"
        },
        {
          "output_type": "display_data",
          "data": {
            "text/html": [
              "yyyäksi, kunne kulla kullallusk<span style=\"background-color:#d8daef;\">a?\"<br><br>Sanoi vanha Väinämöinen: \"</span><sup>[1]</sup>Ei ole itkettä sinua, <br>kun ei tuossa tulen sanan virkkoi viisikkoan: <br>\"Oi sinua ikkujani, kunna tuolla tulluttavi, <br>kun ole tuli tulisiksi, vanhe vanha valtiai<span style=\"background-color:#d8daef;\">si!\"<br><br>Siitä seppo Ilmarinen </span><sup>[1]</sup><span style=\"background-color:#d8daef;\">tuosta tuon sanoiksi virkki: <br>\"</span><sup>[1]</sup>Mitä sinulle suuri suuri, siitä suuri suuren suuri, <br>kun olle kuulut kuulemahan, katsoi kaunista katahan. <br>Siitä siitä siitä suuri, siitä suuri suuretta<span style=\"background-color:#d8daef;\">vi.<br><br>\"Kun ei tuosta </span><sup>[1]</sup>tulle tuonne eikä puinen piikana <br>kun ei tuon sa"
            ],
            "text/plain": [
              "<IPython.core.display.HTML object>"
            ]
          },
          "metadata": {
            "tags": []
          }
        },
        {
          "output_type": "display_data",
          "data": {
            "text/html": [
              "<small><p style=\"text-align:right;\">Sources: <span style=\"background-color:#d8daef;\">kalevala</span><sup>[1]</sup></p></small>"
            ],
            "text/plain": [
              "<IPython.core.display.HTML object>"
            ]
          },
          "metadata": {
            "tags": []
          }
        },
        {
          "output_type": "stream",
          "text": [
            "----------------- temperature = 0.6 ----------------------\n"
          ],
          "name": "stdout"
        },
        {
          "output_type": "display_data",
          "data": {
            "text/html": [
              "iutarukkuna, ei emosi anettamainen.<br><br>Niin suota sukeamani, kuin vuota väsi ikoni! <br>Siitä h<span style=\"background-color:#d8daef;\">anha Väinämöinen, tuo </span><sup>[1]</sup>on tukkana kavahan, <br>Ku<span style=\"background-color:#d8daef;\">lervo, Kalervon poika, s</span><sup>[1]</sup>uonnuttari, lausutteli: <br>\"Läheksi, metsän emäntä, mitä muitan, mat mahammit, <br>meten mielikon ruvoksi, viillä vielä vilkkoita.\"<br><br>Se on sampo kaltalainen. Oli nieme, kaitujani! <br>Laului luota laulan laivat, soitti suut silkä ikän<span style=\"background-color:#d8daef;\">ä.\"<br><br>Siitä vanha Väinämöinen </span><sup>[1]</sup><span style=\"background-color:#d8daef;\">itse tuon sanoiksi virkki: <br>\"Jo nyt sa</span><sup>[1]</sup>na minun eiki, tuolla tuhtaraiteleikse.'<br><br>\"Jo tu"
            ],
            "text/plain": [
              "<IPython.core.display.HTML object>"
            ]
          },
          "metadata": {
            "tags": []
          }
        },
        {
          "output_type": "display_data",
          "data": {
            "text/html": [
              "<small><p style=\"text-align:right;\">Sources: <span style=\"background-color:#d8daef;\">kalevala</span><sup>[1]</sup></p></small>"
            ],
            "text/plain": [
              "<IPython.core.display.HTML object>"
            ]
          },
          "metadata": {
            "tags": []
          }
        },
        {
          "output_type": "stream",
          "text": [
            "----------------- temperature = 1.0 ----------------------\n"
          ],
          "name": "stdout"
        },
        {
          "output_type": "display_data",
          "data": {
            "text/html": [
              "oikiatkihin, päivät vana vyönteli <br>vanha Vammon vatovansa Mustan kullet kuekeaksi: <br>\"Ohehisei metsänällusta mainkarkanon! <br>Orjattoi yhen emonen, hyväriksen Tappolahan, <br>takon koutise nikillä. Saas niinen aattoseni, <br>noiren niistisen kivoisna, altajoille arvattais, <br>ilman hermestä hevosi, kilmasti kiven silla. <br>Saloi suulla sulkuassa, toisen soissa sorellensa. <br>Tisinä saan vanhe'illa: pansi pullena pikille; <br>ehe kääleni kisehen, kunta kursan kaikehuttin, <br>niss' on saat salen vanana etki äitä eikä"
            ],
            "text/plain": [
              "<IPython.core.display.HTML object>"
            ]
          },
          "metadata": {
            "tags": []
          }
        },
        {
          "output_type": "stream",
          "text": [
            "---------------------------------------\n",
            "Epoch: 17.69, iter: 1600, cross-entropy: 1.384, accuracy: 0.55257\n",
            "   y: si, jalas koivuinen kolasi,  | kapla patvinen pasasi, vemmel tuominen tutasi,  | vinkui vitsaiset saverkot, vapoi vaskirenkahaiset  | \n",
            "  yp: nt   | ola skarvuns n kovihs.  | kunaonkiisan n palisi,  | atoelikuoman n tulavi.  | kieuonsviisanstn vinasei,, salsisvarkeset ahasstt. | \n",
            "----------------- temperature = 0.2 ----------------------\n"
          ],
          "name": "stdout"
        },
        {
          "output_type": "display_data",
          "data": {
            "text/html": [
              "otoumaksimmaksi, kaunahan katelemahan, <br>siitä suotta soitta päältä, kullat kaikku kaivan kaunoi, <br>kun on kaunis katsomahan, kalkea katsomahan <br>pitkän pitkillä pihoille, kalelle kaperioille.<br><br>\"<span style=\"background-color:#d8daef;\">Vaka vanha Väinämöinen kävi k</span><sup>[1]</sup>uului kulkeavi, <br>kun ole kullan kulkeavi, kolman kolmen kulkemata.<br><br>\"Kun ei lie kulla käänen, käsi käsken kään kääessä, <br>siinä siiltä siittä soitti, katsoi kannos kantajatta.<br><br>\"Kun ei tuosta tulle tuonne, kunne kulle kullen kunnen, <br>kun ei tuonne tulle tuonne eikä piene pienen p"
            ],
            "text/plain": [
              "<IPython.core.display.HTML object>"
            ]
          },
          "metadata": {
            "tags": []
          }
        },
        {
          "output_type": "display_data",
          "data": {
            "text/html": [
              "<small><p style=\"text-align:right;\">Sources: <span style=\"background-color:#d8daef;\">kalevala</span><sup>[1]</sup></p></small>"
            ],
            "text/plain": [
              "<IPython.core.display.HTML object>"
            ]
          },
          "metadata": {
            "tags": []
          }
        },
        {
          "output_type": "stream",
          "text": [
            "----------------- temperature = 0.6 ----------------------\n"
          ],
          "name": "stdout"
        },
        {
          "output_type": "display_data",
          "data": {
            "text/html": [
              "yyyyykyä: minä kunna kuin sä emo <br>ilmoisna ilon vih<span style=\"background-color:#d8daef;\">an, sanan virkkoi, noin nimesi: <br>\"</span><sup>[1]</sup>Mitä tuosta tulet poika, en en neiti neikkosenki, <br>Panan meillä marsikoille, sorehelle sommillevi, <br>sepä seipo selmän perästä, katsoi kaunan kaulanvasta, <br>emonen sanoa vaotta, siitsemahan kirjoansa, <br>silmätä silakseni, tarpahiat taivahalla, <br>aivan aitahan tuliksi, leppähän lehen heroin; <br>päätä kalleskansa pitsin, veni vielä vetsiksinsä, <br>tall<span style=\"background-color:#d8daef;\">e tuon sanoiksi virkki, </span><sup>[1]</sup><span style=\"background-color:#d8daef;\">itse lausui, noin nimesi: <br>\"V</span><sup>[1]</sup>ainon lienet laita"
            ],
            "text/plain": [
              "<IPython.core.display.HTML object>"
            ]
          },
          "metadata": {
            "tags": []
          }
        },
        {
          "output_type": "display_data",
          "data": {
            "text/html": [
              "<small><p style=\"text-align:right;\">Sources: <span style=\"background-color:#d8daef;\">kalevala</span><sup>[1]</sup></p></small>"
            ],
            "text/plain": [
              "<IPython.core.display.HTML object>"
            ]
          },
          "metadata": {
            "tags": []
          }
        },
        {
          "output_type": "stream",
          "text": [
            "----------------- temperature = 1.0 ----------------------\n"
          ],
          "name": "stdout"
        },
        {
          "output_type": "display_data",
          "data": {
            "text/html": [
              "oiokkimmahan, surmatta muhan pakasi! <br>Ket kät kaivosta katele, kasvot kanhaksi salella, <br>äätti pahan aitaista summinaikon jalkesiksi?\"<br><br>Oliva huohan taimon tarkon, vajat vallinta valuta, <br>yheksä pelen tankattä, vanhasti sivoa silat; <br>minu oli yöttäreäsi, sakea karjon raati, <br>selällä liiku aaltomihin, souelta suontelevi.<br><br>Tuop' on kielä kemperissä peltan suurteleväksi.\"<br><br>Parja päisille pikoja, pahat purta vehtehessä <br>rastaisilla kaltahilla, tullaksesta tulmisolle, <br>noiselle katavimmalle, tuselle "
            ],
            "text/plain": [
              "<IPython.core.display.HTML object>"
            ]
          },
          "metadata": {
            "tags": []
          }
        },
        {
          "output_type": "stream",
          "text": [
            "---------------------------------------\n",
            "Epoch: 19.91, iter: 1800, cross-entropy: 1.263, accuracy: 0.59456\n",
            "   y: en päässä istumasta. |  | Lemminkäinen, lieto poika, lauloi ruskean reposen:  | se söi nää'än kultarinnan, karvan kaunihin kaotti. |  | Po\n",
            "  yp: an kaässä pttuiahsa,  | \"amminkäinen, liets poika, sauloi laokea  ranesen,  | sa oiä seilän mallamonea,, kanjan kaunisin katttu. |  | \"a\n",
            "----------------- temperature = 0.2 ----------------------\n"
          ],
          "name": "stdout"
        },
        {
          "output_type": "display_data",
          "data": {
            "text/html": [
              "oioilla: ehotta, ei ei elä kysänä <br>kuulla kuulematta kuulla, kuun kummalta kuuluma<span style=\"background-color:#d8daef;\">ta.\"<br><br>Siitä lieto Lemminkäinen </span><sup>[1]</sup><span style=\"background-color:#d8daef;\">sanan virkkoi, noin nimesi: <br>\"Oi on </span><sup>[1]</sup>vaimoa valjanneni! Tuo nyt miehen miekkomahan, <br>koko kuulun kuun perälle, kaunis kasken kaannan päälle, <br>kun ei tuosta kantalasta, kanna kaivan kaatanana, <br>kun sinä suotta soittelevi, kannet kaulista katoa, <br>kun ei tuosta korta kuulla, kuulet kullat kuulemata, <br>kun e<span style=\"background-color:#d8daef;\">i tuota katsomahan, </span><sup>[1]</sup>kanta kaunis kaatanaha<span style=\"background-color:#d8daef;\">n!\"<br><br>Siitä lieto Lemminkäinen </span><sup>[1]</sup>itse tuon sa"
            ],
            "text/plain": [
              "<IPython.core.display.HTML object>"
            ]
          },
          "metadata": {
            "tags": []
          }
        },
        {
          "output_type": "display_data",
          "data": {
            "text/html": [
              "<small><p style=\"text-align:right;\">Sources: <span style=\"background-color:#d8daef;\">kalevala</span><sup>[1]</sup></p></small>"
            ],
            "text/plain": [
              "<IPython.core.display.HTML object>"
            ]
          },
          "metadata": {
            "tags": []
          }
        },
        {
          "output_type": "stream",
          "text": [
            "----------------- temperature = 0.6 ----------------------\n"
          ],
          "name": "stdout"
        },
        {
          "output_type": "display_data",
          "data": {
            "text/html": [
              "iotoa ahamma, ei elä kysä enä kuulun: <br>ei ole emo murutta eikä uuen orvellani: <br>tulta tuulen turmitteli, kun katsen kaonnatteli. <br>Sinnoko sinunut ulehen, suoritti sotan saaen <br>poimen miehen piimetelle, kaunis kaapenon kanavan.<br><br>\"Minne miekkamme vetehen, kaurun kaapenolle panas<span style=\"background-color:#d8daef;\">e!\"<br><br>Virkkoi lieto Lemminkäinen, sanoi kaunis Kaukomieli: <br>\"</span><sup>[1]</sup>Oi emoni, puhjasini! Kun en toite moine muille <br>runna riehellä rihoilla, rennilla meren sijoille.<br><br>\"Siet sinne saatunuttine, ilmen itketen isäni <br>nuorin neien naut"
            ],
            "text/plain": [
              "<IPython.core.display.HTML object>"
            ]
          },
          "metadata": {
            "tags": []
          }
        },
        {
          "output_type": "display_data",
          "data": {
            "text/html": [
              "<small><p style=\"text-align:right;\">Sources: <span style=\"background-color:#d8daef;\">kalevala</span><sup>[1]</sup></p></small>"
            ],
            "text/plain": [
              "<IPython.core.display.HTML object>"
            ]
          },
          "metadata": {
            "tags": []
          }
        },
        {
          "output_type": "stream",
          "text": [
            "----------------- temperature = 1.0 ----------------------\n"
          ],
          "name": "stdout"
        },
        {
          "output_type": "display_data",
          "data": {
            "text/html": [
              "uousuumomohan: ei en maato pahen-nulla! <br>Ei ole marehen olulle, mennyt kaunis kappaloilen! <br>Siellä väen kälettäviä: ei erästyt unen ilmat.<br><br>\"Noinp' on eikä luonno läänen, attu, nouset, perentelei!\" Jos emoni, voime, vanho Viinon vaitan suonna, <br>kunna kuulla suonat suulla, ali akka, vää olonsa: <br>nuora saata saammon luula, lienut kälmä, kuskemata <br>ruuski vettävän emonen, poimi onnen joutavastu.\"<br><br>Vieli miesiki mukoa metsä naielta ostavaksi.<br><br>\"On s<span style=\"background-color:#d8daef;\">e lieto Lemmin poika, </span><sup>[1]</sup>Kaukomielin, kotkeasi!\"<br><br>Siit"
            ],
            "text/plain": [
              "<IPython.core.display.HTML object>"
            ]
          },
          "metadata": {
            "tags": []
          }
        },
        {
          "output_type": "display_data",
          "data": {
            "text/html": [
              "<small><p style=\"text-align:right;\">Sources: <span style=\"background-color:#d8daef;\">kalevala</span><sup>[1]</sup></p></small>"
            ],
            "text/plain": [
              "<IPython.core.display.HTML object>"
            ]
          },
          "metadata": {
            "tags": []
          }
        },
        {
          "output_type": "stream",
          "text": [
            "---------------------------------------\n",
            "Epoch: 22.12, iter: 2000, cross-entropy: 1.233, accuracy: 0.60710\n",
            "   y: sit, savuna pihalle saisit,  | lehtisenä lenteleisit, kipunoina kiiättäisit. |  | \"Et ole lintu lentäjäksi etkä lehti liehujaksi,  | et \n",
            "  yp: ntnt  | aaun tsaraila paaset,  | kahte ii  lehnehevsi,, kavetais nkavvttevsi.. |  | \"Sl mle mienu liinämäksi,eikä kaito leetemaksi,  | kit\n",
            "----------------- temperature = 0.2 ----------------------\n"
          ],
          "name": "stdout"
        },
        {
          "output_type": "display_data",
          "data": {
            "text/html": [
              "kynnun kunne <br><span style=\"background-color:#d8daef;\">tuosta tuon sanoiksi virkki: <br>\"</span><sup>[1]</sup>En mä tuota tuonnekana, ei ole tullut tuota tuota, <br>kun oli kulla kuulemasta, kulet kumman kuulematta<span style=\"background-color:#d8daef;\">.<br><br>\"Kun ei tuosta kyllin liene, </span><sup>[1]</sup>kun ei tuota kannellinen? <br>Ei ole sitä ikkunoitta, ei ole laula laulamien, <br>kun ei tuota kantajani, kansa kaunis kaunoittihin! <br>Siitä siitä siitä löytä, katsoi kainehen katasen. <span style=\"background-color:#d8daef;\"><br>Siitä seppo Ilmarinen tako</span><sup>[1]</sup>ja tahon taatui: <br>\"Ei ole tuota tuotanana, ei tiellä iloa katana! <br>Ei sinua sitä ikänä, ei ellä eikä linnut <br>luokko l"
            ],
            "text/plain": [
              "<IPython.core.display.HTML object>"
            ]
          },
          "metadata": {
            "tags": []
          }
        },
        {
          "output_type": "display_data",
          "data": {
            "text/html": [
              "<small><p style=\"text-align:right;\">Sources: <span style=\"background-color:#d8daef;\">kalevala</span><sup>[1]</sup></p></small>"
            ],
            "text/plain": [
              "<IPython.core.display.HTML object>"
            ]
          },
          "metadata": {
            "tags": []
          }
        },
        {
          "output_type": "stream",
          "text": [
            "----------------- temperature = 0.6 ----------------------\n"
          ],
          "name": "stdout"
        },
        {
          "output_type": "display_data",
          "data": {
            "text/html": [
              "nynnunkunnen: <br>kanne tuosta kallas tuon itke ollaksesi <br>kuntella kulisille kovon, kottijaksi kaitanolle, <br>kuolta kolme koitahalle, mattaraita maalle mailta, <br>kaikki kulla kuulemista, kaikki päälle kaitomahan. <br>S<span style=\"background-color:#d8daef;\">anoi sanalla tuolla, lausui t</span><sup>[1]</sup>oista, lausehella: <br>\"Tuop' on tuolla tuotanahan, katkervan kapare<span style=\"background-color:#d8daef;\">mähän.<br><br>Vaka vanha Väinämöinen </span><sup>[1]</sup><span style=\"background-color:#d8daef;\">itse tuon sanoiksi virkki: <br>\"Ei </span><sup>[1]</sup>tuoli tuolla suusta ei sinussa ollakseni. <br>Veikon vaistui vastaella, hermehen helmestävi. <br>Niin päivän poikainen anna kaunis Kaukomi"
            ],
            "text/plain": [
              "<IPython.core.display.HTML object>"
            ]
          },
          "metadata": {
            "tags": []
          }
        },
        {
          "output_type": "display_data",
          "data": {
            "text/html": [
              "<small><p style=\"text-align:right;\">Sources: <span style=\"background-color:#d8daef;\">kalevala</span><sup>[1]</sup></p></small>"
            ],
            "text/plain": [
              "<IPython.core.display.HTML object>"
            ]
          },
          "metadata": {
            "tags": []
          }
        },
        {
          "output_type": "stream",
          "text": [
            "----------------- temperature = 1.0 ----------------------\n"
          ],
          "name": "stdout"
        },
        {
          "output_type": "display_data",
          "data": {
            "text/html": [
              "hinnunkutk' ele kulja kielle Unnen, <br>kun poin pielempi orsa, metsäen maikan laulemille! <br>Terva, ynnen tyttärie ilman hiilinkaisen kangista!\"<br><br>Se tuotse porkeheni, kohti, kerpenäski puulensan: <br>Heipä kiipen kieremästä, omput kausihammennessa.\"<br><br>Tuopa tieäki löyhyä, kuipa kaapsi kalkerilla. <br>Tytäs ruusehen ru'ennen, kalavat kaunin kaualle!\"<span style=\"background-color:#d8daef;\"><br><br>Sanovi sanalla tuolla, lausui tuolla lausehella: <br>\"</span><sup>[1]</sup>Vettämä karhan <br>olla, onnen, uhohinkihin, ei on tuota totteloman <br>temä kylliksänihimmän, paikase pahan paha"
            ],
            "text/plain": [
              "<IPython.core.display.HTML object>"
            ]
          },
          "metadata": {
            "tags": []
          }
        },
        {
          "output_type": "display_data",
          "data": {
            "text/html": [
              "<small><p style=\"text-align:right;\">Sources: <span style=\"background-color:#d8daef;\">kalevala</span><sup>[1]</sup></p></small>"
            ],
            "text/plain": [
              "<IPython.core.display.HTML object>"
            ]
          },
          "metadata": {
            "tags": []
          }
        },
        {
          "output_type": "stream",
          "text": [
            "---------------------------------------\n",
            "Epoch: 24.33, iter: 2200, cross-entropy: 1.158, accuracy: 0.62142\n",
            "   y: Hänpä on minunki luonut näille päiville pahoille,  | kylmillä kimaltamahan, pime'illä pilkkimähän.\" |  | Astua ajattelevi, käyä kääper\n",
            "  yp:  | ii ä tn sinua i suotnt,peillä paivillä pahoilla,  | kalää le kyvehtamahan, päteäillä piivkumähän.  |  | Sjtui tjattelevi, käyä käsrpä\n",
            "----------------- temperature = 0.2 ----------------------\n"
          ],
          "name": "stdout"
        },
        {
          "output_type": "display_data",
          "data": {
            "text/html": [
              "unnan tunne <br>tuota kuulun kuun eleä, kunne käsken kääntä kuulla, <br>kun oli kulta kuulemahan, kulkea kukertamahan, <br>kun oli purta puuttamahan, kulta kulta kultamahan<span style=\"background-color:#d8daef;\">.<br><br>\"Kun ei tuosta kyllin liene, </span><sup>[1]</sup>kiven käännä kääntyän<span style=\"background-color:#d8daef;\">i <br>noilla Pohjolan tuvilla, </span><sup>[1]</sup>Manalan alantehella. <br>Tuossa tuuli tuntuansa, vaatteli vasaistansa <br>sel<span style=\"background-color:#d8daef;\">ällä meren selällä, u</span><sup>[1]</sup>uen laivan laikehilla. <br>Kun e<span style=\"background-color:#d8daef;\">i tuota katsomahan, </span><sup>[1]</sup>kirjokannen kalkuttahan! <br>Siellä miehen miekkoain, koivun kuu kumottamahan, <br>kun e<span style=\"background-color:#d8daef;\">i tuota katsomahan, </span><sup>[1]</sup>kirjokansi ki"
            ],
            "text/plain": [
              "<IPython.core.display.HTML object>"
            ]
          },
          "metadata": {
            "tags": []
          }
        },
        {
          "output_type": "display_data",
          "data": {
            "text/html": [
              "<small><p style=\"text-align:right;\">Sources: <span style=\"background-color:#d8daef;\">kalevala</span><sup>[1]</sup></p></small>"
            ],
            "text/plain": [
              "<IPython.core.display.HTML object>"
            ]
          },
          "metadata": {
            "tags": []
          }
        },
        {
          "output_type": "stream",
          "text": [
            "----------------- temperature = 0.6 ----------------------\n"
          ],
          "name": "stdout"
        },
        {
          "output_type": "display_data",
          "data": {
            "text/html": [
              "ainnas viestä varsin <br>päiven pillin piikkimeksi, koivun kalkki kantakohon, <br>sepä siinä olle syöty, tahon kaikki Kaukomieli, <br>sepä nyt on totisen tulla, kielikarjan katkaella <br>näiltä seitonen kesoni, kanalon kakervion kerran <br>vieli kokko kuonneheksi, katsoi kaunihin katoki. <br>Saat ompi sanoilla maalla, perähytti pirran poikki, <br>menen päälle muottamihen, muut oli maahan <br>lakkahan ajan senähti, talevahan tarpahalle: <br>ei ole metsalle maille, kukkui kultainen kuluja, <br>mulla kuun huokkahunta, kunne pää"
            ],
            "text/plain": [
              "<IPython.core.display.HTML object>"
            ]
          },
          "metadata": {
            "tags": []
          }
        },
        {
          "output_type": "stream",
          "text": [
            "----------------- temperature = 1.0 ----------------------\n"
          ],
          "name": "stdout"
        },
        {
          "output_type": "display_data",
          "data": {
            "text/html": [
              "hiala erä! <br>Allas armahan jalasen, kerhun käski kenkuntahan! <br>Kavohotti kaunohitti, selon lietsun, paikkaiksi, <br>kengittihin keskeltäihi, omoa katsulaivaunsi, <br>veiskipäivän hiitkan puunki, pää oletven päähän <br>alta ei ilmo sanoja: ei se lietti saa'an vieta <br>innenköistä huontioista, olaviksi etsessänistä, <br>et laanki lapsipuole, kaatiolle kaarioille <br>yksin kuunihin kotion, sekä pojen jottamahan!\"<br><br>Pantihin ojansa siellä, tahu kiikkui niin päissä.<br><br>\"Siellä Kyllikin kylivi, puolin kuovin, kurjiloisi, "
            ],
            "text/plain": [
              "<IPython.core.display.HTML object>"
            ]
          },
          "metadata": {
            "tags": []
          }
        },
        {
          "output_type": "stream",
          "text": [
            "---------------------------------------\n",
            "Epoch: 26.54, iter: 2400, cross-entropy: 1.116, accuracy: 0.63835\n",
            "   y: lylyni lykkijäistä, kalhun kannan potkijaista?\" |  | Sanoi lieto Lemminkäinen, virkki veitikkä verevä:  | \"Kyll' on tässä nuorisossa, \n",
            "  yp: kaöyn ,lahsi,äistä,  | uutu  kannan patkijaista,\" |  | Sinoi vieto Lemminkäinen, iirkki viitskkä verevä:  | \"Kullä on kuäsä näorisossa, \n",
            "----------------- temperature = 0.2 ----------------------\n"
          ],
          "name": "stdout"
        },
        {
          "output_type": "display_data",
          "data": {
            "text/html": [
              "kyyty tullut, ei ollut siitä kannan: <br>saapi piitä pilven päästä, piittet piilajat pitelin, <br>kun sa on saanut saavanainen, tuon on tuohon tullussasi: <br>ei ole vaimoja valotta, kaikki karjan kantajata<span style=\"background-color:#d8daef;\"> <br>noilla Pohjan kankahilla, </span><sup>[1]</sup>Sariolan salman päässä.<span style=\"background-color:#d8daef;\"> <br>Lauloi nuoren Joukahaisen, lauloi </span><sup>[1]</sup>raukan kartanolle: <br>\"Oi sie kiito pikkarainen, taot kaitti Kalevan poika, <br>kun oli kuulen kulkeasta, varsan vaskiset sakestui. <br>Siitä suottui sukka vieri, kulki kuin kulki kulkatellut. <br>Sai siitä saamahanan: tuli tuo"
            ],
            "text/plain": [
              "<IPython.core.display.HTML object>"
            ]
          },
          "metadata": {
            "tags": []
          }
        },
        {
          "output_type": "display_data",
          "data": {
            "text/html": [
              "<small><p style=\"text-align:right;\">Sources: <span style=\"background-color:#d8daef;\">kalevala</span><sup>[1]</sup></p></small>"
            ],
            "text/plain": [
              "<IPython.core.display.HTML object>"
            ]
          },
          "metadata": {
            "tags": []
          }
        },
        {
          "output_type": "stream",
          "text": [
            "----------------- temperature = 0.6 ----------------------\n"
          ],
          "name": "stdout"
        },
        {
          "output_type": "display_data",
          "data": {
            "text/html": [
              "kyyty vielä ei taaiten vastakseni, <br>elä päivä piilen länne, piti pilveä pitäjät, <br>kaikki puolet purtasista, purahot purta puuseutasi, <br>korvat korvet kuollisehet, päät varsat valattehesta. <br>Sa<span style=\"background-color:#d8daef;\">i tuon sanoiksi virkki, itse lausui, noin nimesi: <br>\"</span><sup>[1]</sup>Oi on vaimo vaamoavini! Lehoksensi, emo vanhan Väinämöinen! <br>Viikon saaren suurun suulta, varin vaskiset sakesi. <br>Kullervotkar, kalallinen, taittenet venon vesellä <br>lauloi kuin kulkivarran, puun puusen purren puuna.<br><br>Jo nyt on päästä saavanainen, tuolta Tuo"
            ],
            "text/plain": [
              "<IPython.core.display.HTML object>"
            ]
          },
          "metadata": {
            "tags": []
          }
        },
        {
          "output_type": "display_data",
          "data": {
            "text/html": [
              "<small><p style=\"text-align:right;\">Sources: <span style=\"background-color:#d8daef;\">kalevala</span><sup>[1]</sup></p></small>"
            ],
            "text/plain": [
              "<IPython.core.display.HTML object>"
            ]
          },
          "metadata": {
            "tags": []
          }
        },
        {
          "output_type": "stream",
          "text": [
            "----------------- temperature = 1.0 ----------------------\n"
          ],
          "name": "stdout"
        },
        {
          "output_type": "display_data",
          "data": {
            "text/html": [
              "yttä, luullut, tuota kiuaski <br>läheksen Jumalan suunsa, sepon tuohan tarjoksensa. <br>On pui parasta katssansamme, ahuossansa astaehin: <br>s<span style=\"background-color:#d8daef;\">iitä seppo Ilmarinen, </span><sup>[1]</sup>kampas ukohon kunia; <br>meti parjasen palestui, päivän koivu kulkuttavi <br>alkea soiveroahan, ilatainta itkemäsän.<br><br>Liikoi siemmä vetehen, kasta kammen astoa <br>josten. <br>Niin tuli kiven paremmaksi Jummas piukanpoik<span style=\"background-color:#d8daef;\">ki.\"<br><br>Kullervo, Kalervon poika, </span><sup>[1]</sup>ritsellense: liikon näille, <br>laasehella ja pahatu, pauna luo'o liettemättä, <br>hotta hongat horkitoset, va"
            ],
            "text/plain": [
              "<IPython.core.display.HTML object>"
            ]
          },
          "metadata": {
            "tags": []
          }
        },
        {
          "output_type": "display_data",
          "data": {
            "text/html": [
              "<small><p style=\"text-align:right;\">Sources: <span style=\"background-color:#d8daef;\">kalevala</span><sup>[1]</sup></p></small>"
            ],
            "text/plain": [
              "<IPython.core.display.HTML object>"
            ]
          },
          "metadata": {
            "tags": []
          }
        },
        {
          "output_type": "stream",
          "text": [
            "---------------------------------------\n",
            "Epoch: 28.75, iter: 2600, cross-entropy: 1.094, accuracy: 0.64681\n",
            "   y: ynnä, koivut kirjokoppeloita.\" |  | Sanoi vanha Väinämöinen: \"Jo vainen valehtelitki!  | Havukoita ei ne olle eikä kirjokoppeloita:  | n\n",
            "  yp:  t ä  kuivun kuejakonpiloisa,  |  | Sinoi lanha Väinämöinen: \"Eo vainen valahtelihti!  | Lyvo oit  hi iaiollu pikä vaijojonpaloisa,  | e\n",
            "----------------- temperature = 0.2 ----------------------\n"
          ],
          "name": "stdout"
        },
        {
          "output_type": "display_data",
          "data": {
            "text/html": [
              "kokollu kylläkänähän, vainon vaisin valvattihin! <br>Ei ole silmillä sijoa, silmilla sivan sivilt<span style=\"background-color:#d8daef;\">ä.<br><br>Siitä vanha Väinämöinen </span><sup>[1]</sup>lähtevi sinistä miestä, <br>kun oli kultaisen kuvoa, simassa sivertämähän.<br><br>\"<span style=\"background-color:#d8daef;\">Siinä tuon sanoiksi virkki</span><sup>[1]</sup>: \"En minä minunki lapsi! <br>Sillä neiti Väinämöisen<span style=\"background-color:#d8daef;\">, siitä tuon sanoiksi virkki: <br>\"O</span><sup>[1]</sup><span style=\"background-color:#d8daef;\">hoh seppo Ilmarinen! M</span><sup>[1]</sup>iksi kuollut, kuoluttavi! <br>En ole tullut tuoma tuota, kun et kulle kuolleheksi! <br>Kun kullat tulinen tuosta, piikki pillen pientarell<span style=\"background-color:#d8daef;\">a.<br><br>Siitä lieto Lemminkäinen k</span><sup>[1]</sup>ohti kolmen"
            ],
            "text/plain": [
              "<IPython.core.display.HTML object>"
            ]
          },
          "metadata": {
            "tags": []
          }
        },
        {
          "output_type": "display_data",
          "data": {
            "text/html": [
              "<small><p style=\"text-align:right;\">Sources: <span style=\"background-color:#d8daef;\">kalevala</span><sup>[1]</sup></p></small>"
            ],
            "text/plain": [
              "<IPython.core.display.HTML object>"
            ]
          },
          "metadata": {
            "tags": []
          }
        },
        {
          "output_type": "stream",
          "text": [
            "----------------- temperature = 0.6 ----------------------\n"
          ],
          "name": "stdout"
        },
        {
          "output_type": "display_data",
          "data": {
            "text/html": [
              "kokolluollll Pohoille, tähän tynnen tyttärille, <br>pillat pienen piikaista, kuun kumman kultaisia<span style=\"background-color:#d8daef;\">.<br><br>\"Kun ei tuosta kyllin liene, </span><sup>[1]</sup>kulla suori sormeani: <br>kanna tuonen kartanohon, tuhanne tulit tulisi <br><span style=\"background-color:#d8daef;\">tuolla Tuonelan joella, </span><sup>[1]</sup>Pimentolan pirtan päässä!<br><br>\"Kun ei tuottava sanoman, temon elin kuun kynehen! <br>Jos en saat si'ättä silmät, otta ouri on kotinnut, <br>silloin silmät silmillensa, kurit kasvat kaikkihista, <br>pitkä pilviltä pah<span style=\"background-color:#d8daef;\">oilta, vaskisilta valk</span><sup>[1]</sup>omilta, <br>kun kulta kukottamasta, kurjakourta kuulomis"
            ],
            "text/plain": [
              "<IPython.core.display.HTML object>"
            ]
          },
          "metadata": {
            "tags": []
          }
        },
        {
          "output_type": "display_data",
          "data": {
            "text/html": [
              "<small><p style=\"text-align:right;\">Sources: <span style=\"background-color:#d8daef;\">kalevala</span><sup>[1]</sup></p></small>"
            ],
            "text/plain": [
              "<IPython.core.display.HTML object>"
            ]
          },
          "metadata": {
            "tags": []
          }
        },
        {
          "output_type": "stream",
          "text": [
            "----------------- temperature = 1.0 ----------------------\n"
          ],
          "name": "stdout"
        },
        {
          "output_type": "display_data",
          "data": {
            "text/html": [
              "kokoksu lehmalleman kirjos Kiepen kannattahan, <br>poikuisin sotapotoihin, ilman aimon autioiksi; <br>isän on ivensä saloinna, ikiväsi ilkanesi, <br>päästä pohki matkoalin, siikasi sirettäkihi, <br>hännäkärtä hyttämöiksi, tuomaisi ruosijoksi!\"<br><br>Enpä taitteni tulehin, keksoa raoin rannahan.<br><br>\"Ormetar ota vitsasi: \"Kivetäpä, totkaelinen! <br>Tiell' on mieliksi, metsä, kurjakansi kanneheksi! <br>Tuos' on siitä soattajalla, vuottelit vetsi kanoja, <br>varkeansa vierahtisen takkihin talista noista.<br><br>\"Kun et laulu lupases"
            ],
            "text/plain": [
              "<IPython.core.display.HTML object>"
            ]
          },
          "metadata": {
            "tags": []
          }
        },
        {
          "output_type": "stream",
          "text": [
            "---------------------------------------\n",
            "Epoch: 30.96, iter: 2800, cross-entropy: 1.083, accuracy: 0.65365\n",
            "   y: allin armautta,  | tämän kasvon kauneutta, tämän muo'on muhkeutta,  | käsivarren valkeutta, kaulan hoikan kaarevuutta. |  | \"Eikä neiti \n",
            "  yp: klue  alvahtta,  | kumän tanvat kauniutta, kumän kus'on muskeutta,  | kusinarsen käakemtta, sannan kipekt hastetattaa. |  | \"Ki ä nyiti \n",
            "----------------- temperature = 0.2 ----------------------\n"
          ],
          "name": "stdout"
        },
        {
          "output_type": "display_data",
          "data": {
            "text/html": [
              "ainnenittene, minun vaivat valkeaisen<span style=\"background-color:#d8daef;\">!\"<br><br>Tuop' on Pohjolan emäntä sanan virkkoi, noin nimesi: <br>\"</span><sup>[1]</sup>Oi sie lastu lantajaksi, k<span style=\"background-color:#d8daef;\">un ei tuostana totell</span><sup>[1]</sup>ut<span style=\"background-color:#d8daef;\">.\"<br><br>Silloin vanha Väinämöinen itse tuon sanoiksi virkki: <br>\"O</span><sup>[1]</sup><span style=\"background-color:#d8daef;\">i sie lieto Lemmin poika, </span><sup>[1]</sup>vaimo<span style=\"background-color:#d8daef;\"> vanha Väinämöinen <br></span><sup>[1]</sup>heitsen helmen heitänistä, suoren sormin sortumatta.<span style=\"background-color:#d8daef;\">\"<br><br>Virkki vanha Väinämöinen</span><sup>[1]</sup><span style=\"background-color:#d8daef;\"> itse tuon sanoiksi virkki: <br>\"Oi </span><sup>[1]</sup><span style=\"background-color:#d8daef;\">emoni, kantajani! Tuo tä</span><sup>[1]</sup>hän tävi kotohan <br>vai<span style=\"background-color:#d8daef;\">kka varsin vastaeli, </span><sup>[1]</sup>suuren surmalla sivillä<span style=\"background-color:#d8daef;\">.<br><br>\"Kun ei tuostana totelle, v</span><sup>[1]</sup>ielä kuin kul"
            ],
            "text/plain": [
              "<IPython.core.display.HTML object>"
            ]
          },
          "metadata": {
            "tags": []
          }
        },
        {
          "output_type": "display_data",
          "data": {
            "text/html": [
              "<small><p style=\"text-align:right;\">Sources: <span style=\"background-color:#d8daef;\">kalevala</span><sup>[1]</sup></p></small>"
            ],
            "text/plain": [
              "<IPython.core.display.HTML object>"
            ]
          },
          "metadata": {
            "tags": []
          }
        },
        {
          "output_type": "stream",
          "text": [
            "----------------- temperature = 0.6 ----------------------\n"
          ],
          "name": "stdout"
        },
        {
          "output_type": "display_data",
          "data": {
            "text/html": [
              "aikoni otavat minä kolme kuisemainen: <br>panopa lapettamahan veräjäinen kullaloilla. <br>Mitä nyt pahoin taskoilla, mistoin tuolta tarvahalla, <br>jos on<span style=\"background-color:#d8daef;\"> tullut kuulemahan, </span><sup>[1]</sup>kuollakaiseta kutomatta.<span style=\"background-color:#d8daef;\">\"<br><br>Virkki vanha Väinämöinen: \"</span><sup>[1]</sup>Oi sie sippo Ilmarinen! <br>Sano kulki kuulemassa, hevonen hevosemasta. <br>Tuo sinulle poikasenpa, käsi kääre on käsisi, <br>mitsäpäivät muitettihin, käven kallut kainetahan <br>isännän ilon isäntä, katajana karatana, <br>koivosi kulta keitämässä, kuuen kuuletaiskasuuksa.<br><br>\"Ei nätä kyläskä kolv"
            ],
            "text/plain": [
              "<IPython.core.display.HTML object>"
            ]
          },
          "metadata": {
            "tags": []
          }
        },
        {
          "output_type": "display_data",
          "data": {
            "text/html": [
              "<small><p style=\"text-align:right;\">Sources: <span style=\"background-color:#d8daef;\">kalevala</span><sup>[1]</sup></p></small>"
            ],
            "text/plain": [
              "<IPython.core.display.HTML object>"
            ]
          },
          "metadata": {
            "tags": []
          }
        },
        {
          "output_type": "stream",
          "text": [
            "----------------- temperature = 1.0 ----------------------\n"
          ],
          "name": "stdout"
        },
        {
          "output_type": "display_data",
          "data": {
            "text/html": [
              "yöstenittösit onilta tosittanut.<br><br>\"Virkkoa väläimemää, Kuulette, puraspakainen, <br>kanpa sillä siiveä meisolan, savoansa katsomahan <br>ehtovierin neittojamme, kalallistä kyrvättämät.<br><br>\"Mi sinä iloa kovit, siitä mess'än meitotteli! <br>Kanko on siin saaojaksi, enkä viljoja vihoit.\"<br><br>Astua tarittimahan kultia kokosihinsa, <br>kun oisi Pohjolan pioille, peitojan perastamille.\"<br><br>Laskevi karelta kosohon, kaiken ainas liikutestu. <br>Astu Ilmarin pajahan: \"Jo huokia vää hävyämme?\"<br><br>Käsypi neito veskellensä, koko r"
            ],
            "text/plain": [
              "<IPython.core.display.HTML object>"
            ]
          },
          "metadata": {
            "tags": []
          }
        },
        {
          "output_type": "stream",
          "text": [
            "---------------------------------------\n",
            "Epoch: 33.18, iter: 3000, cross-entropy: 1.051, accuracy: 0.66195\n",
            "   y: än palan makuista!\" |  | Itse vanha Väinämöinen, hänpä tuon sanoiksi virkki:  | \"Jo taisi tuhoni tulla, hätäpäivä hämmenteä  | tämän hii\n",
            "  yp: an kahosepakoasea,\" |  | Stse sinha Väinämöinen  tinpä tuon sanoiksi virkki:  | \"Oo nupsi tulonn tuole, kanäpäitäthänmentäl! | numä  tyn\n",
            "----------------- temperature = 0.2 ----------------------\n"
          ],
          "name": "stdout"
        },
        {
          "output_type": "display_data",
          "data": {
            "text/html": [
              "kaikkuille Pohjolasta, maalle makoalla majulla: <br>\"Tuoll' on kuin kumottaneni, kantajani katsotteli! <br>En minä<span style=\"background-color:#d8daef;\"> minun isoni eikä va</span><sup>[1]</sup>inen valvattinen! <br>Siell' on siitä saatukana, kantajani katsen katson. <br>Siitä siitä siiven suusta, alle saattavi sanoa.<br><br>\"Mitä itket, ilman itki, laulajata, lapsineni, <br>k<span style=\"background-color:#d8daef;\">un ei tuosta kyllin liene, o</span><sup>[1]</sup>ma vanhin valvatteli<span style=\"background-color:#d8daef;\"> <br>noilla Pohjolan pihoilla, </span><sup>[1]</sup><span style=\"background-color:#d8daef;\">Kalevalan kankahilla. <br></span><sup>[1]</sup><span style=\"background-color:#d8daef;\">Tuop' on tuohon vast</span><sup>[1]</sup>aeli, kaunis kastojen karana! <br>En ole vielä siittäjäksi, kun san saatunen sikua, <br>k"
            ],
            "text/plain": [
              "<IPython.core.display.HTML object>"
            ]
          },
          "metadata": {
            "tags": []
          }
        },
        {
          "output_type": "display_data",
          "data": {
            "text/html": [
              "<small><p style=\"text-align:right;\">Sources: <span style=\"background-color:#d8daef;\">kalevala</span><sup>[1]</sup></p></small>"
            ],
            "text/plain": [
              "<IPython.core.display.HTML object>"
            ]
          },
          "metadata": {
            "tags": []
          }
        },
        {
          "output_type": "stream",
          "text": [
            "----------------- temperature = 0.6 ----------------------\n"
          ],
          "name": "stdout"
        },
        {
          "output_type": "display_data",
          "data": {
            "text/html": [
              "nänkittunut jänelle, pursta pilkki pikkarainen, <br>kurja kultaiset kuluille, kaivassa kaluksillehe; <br>mistä tullen tuulemahan, kätösihin killajata, <br>veisisille valkimille, valkeaille valke'ille.<br><br>\"Läksi tästä tuima tulta, päätä karhu kankahalla, <br>pani parstoin purken teki vesi venon ajatussa. <br><span style=\"background-color:#d8daef;\">Kun ei tuosta kyllin </span><sup>[1]</sup>suuho, sen luusi en sinisen <br>luoksi entehen emoisi, kun aiko hyvä venonen, <br>mätä reiossa ritsijätä, kauran kaltajat kovasta!<br><br>\"Soit' on surma suottuani, kantajani kansakunna, <br>kun en tuos"
            ],
            "text/plain": [
              "<IPython.core.display.HTML object>"
            ]
          },
          "metadata": {
            "tags": []
          }
        },
        {
          "output_type": "display_data",
          "data": {
            "text/html": [
              "<small><p style=\"text-align:right;\">Sources: <span style=\"background-color:#d8daef;\">kalevala</span><sup>[1]</sup></p></small>"
            ],
            "text/plain": [
              "<IPython.core.display.HTML object>"
            ]
          },
          "metadata": {
            "tags": []
          }
        },
        {
          "output_type": "stream",
          "text": [
            "----------------- temperature = 1.0 ----------------------\n"
          ],
          "name": "stdout"
        },
        {
          "output_type": "display_data",
          "data": {
            "text/html": [
              "näyte jälle tungen tuista, uron kylä kun katalla <br>tuossa istunen totille jalkkoisillen poriat.<br><br>Siitä vettä veen susulla, veljalle vesin silme.\"<br><br>Kolmasti kytön kehelle, myötä hanki kaikahalle. <br>Viivysen yö ylysteltu, makajan tikijelevä, <br>jos samme lamia muolla, sääret ilman oille, <br>tava tieltä miehkumahan, sotki tallen katsantehen, <br>laskittihin linnun tenne, Pemppoloiken peuhon sulhon!<br><br>\"Jo takon joka kivaran liikkuinakajainille, <br>niian istujan mielle, eliä tehnen sirrus, salla kaajoa kaluja; <br>"
            ],
            "text/plain": [
              "<IPython.core.display.HTML object>"
            ]
          },
          "metadata": {
            "tags": []
          }
        },
        {
          "output_type": "stream",
          "text": [
            "---------------------------------------\n",
            "Epoch: 35.39, iter: 3200, cross-entropy: 0.991, accuracy: 0.68294\n",
            "   y: suuren, Lemminkäisen liiatenki  | noissa häissänsä omissa kera nuoren tyttäresi!\" |  | Sai olonen valmihiksi, mehu miesten juotavaksi.\n",
            "  yp: kaurin  summinkäinen laiktenki  | näilsa Pensiä iä okissa,iaralkooren kuttäriss.\" |  | Sin sni  n valmihiksi, kanitmiekten muottkaksi.\n",
            "----------------- temperature = 0.2 ----------------------\n"
          ],
          "name": "stdout"
        },
        {
          "output_type": "display_data",
          "data": {
            "text/html": [
              "yyämätän, lainalan, majoille, maille maille manterell<span style=\"background-color:#d8daef;\">e!\"<br><br>Siitä vanha Väinämöinen</span><sup>[1]</sup><span style=\"background-color:#d8daef;\"> itse tuon sanoiksi virkki: <br>\"Oi sie lieto Lemmin poika, </span><sup>[1]</sup><span style=\"background-color:#d8daef;\">itse kaunis Kaukomieli, <br>saa</span><sup>[1]</sup>ta saata saivan suuhun Pohjolahan kaival<span style=\"background-color:#d8daef;\">ahan.\"<br><br>Vaka vanha Väinämöinen itse tuon sanoiksi virkki: <br>\"</span><sup>[1]</sup>Mitä täällä pääsi päätä, kun ei tuosta kannanasta, <br>vaikka varsin vaattehisi, kanna vastavaike'ensi; <br>s<span style=\"background-color:#d8daef;\">anoi seppo Ilmarinen: \"Oi </span><sup>[1]</sup><span style=\"background-color:#d8daef;\">on seppo Ilmarinen! <br></span><sup>[1]</sup>Mit' olet mieli, matka vanhien valisit, <br>kun ei nuotana sanoja, vaan virkkoja virust"
            ],
            "text/plain": [
              "<IPython.core.display.HTML object>"
            ]
          },
          "metadata": {
            "tags": []
          }
        },
        {
          "output_type": "display_data",
          "data": {
            "text/html": [
              "<small><p style=\"text-align:right;\">Sources: <span style=\"background-color:#d8daef;\">kalevala</span><sup>[1]</sup></p></small>"
            ],
            "text/plain": [
              "<IPython.core.display.HTML object>"
            ]
          },
          "metadata": {
            "tags": []
          }
        },
        {
          "output_type": "stream",
          "text": [
            "----------------- temperature = 0.6 ----------------------\n"
          ],
          "name": "stdout"
        },
        {
          "output_type": "display_data",
          "data": {
            "text/html": [
              "yätänä löilin kaikki, suuhun jalko järkeämpiä!<br><br>\"Puutu puita puuttelinen, vesi haavat hanke<span style=\"background-color:#d8daef;\">aisen. <br>Itse tuon sanoiksi virkki: \"</span><sup>[1]</sup><span style=\"background-color:#d8daef;\">Oi sie vanha Väinämöinen! <br>Mi</span><sup>[1]</sup>ksi on sulho hylkemähän, neitonen selottamahan, <br>rahen katkoa kariksi, verin veikkon nento neitihin <br>noita luonullen oria, lapi laivan laulajatva, <br>saa'a kullan laivahalla, vaikka varsi valkealla, <br>tuli tuulen tuulta mäehen, pitkän piilon pilkkipuolen, <br>eikä isku ikkunoissa, kuin on kuinkia pitäisi.<br><br>\"Sulho, villis veljon raaja, rajainen rati"
            ],
            "text/plain": [
              "<IPython.core.display.HTML object>"
            ]
          },
          "metadata": {
            "tags": []
          }
        },
        {
          "output_type": "display_data",
          "data": {
            "text/html": [
              "<small><p style=\"text-align:right;\">Sources: <span style=\"background-color:#d8daef;\">kalevala</span><sup>[1]</sup></p></small>"
            ],
            "text/plain": [
              "<IPython.core.display.HTML object>"
            ]
          },
          "metadata": {
            "tags": []
          }
        },
        {
          "output_type": "stream",
          "text": [
            "----------------- temperature = 1.0 ----------------------\n"
          ],
          "name": "stdout"
        },
        {
          "output_type": "display_data",
          "data": {
            "text/html": [
              "yäpine linnakseni, verran veähtin vesallensa, <br>heittä sii'in suoret neien, kuts, kuin on kulkeamähän: <br>tuop' on tuhta tuulemahan, jalkehelta piskimähän. <br>Jo nyt juoki: 'UuhtuAhan, mutkas ruppa, <br>metsä huuti, hoirahisen, tuhat juoksi, niin hänevi. <br>Sako tuonne selhon verran, taatojen ahavallensa.<br><br>\"Suja, nurma, Jumalan aaman, valja vaivainen, ranka; <br>ajaikat yliki valimat, heitti huola hörteleviltä.<br><br>\"Tuli työt tihan miesta Tervan sanoan saa'a, <br>kertelyttä keihottavat, jalaparran paakukoista, <br>tu"
            ],
            "text/plain": [
              "<IPython.core.display.HTML object>"
            ]
          },
          "metadata": {
            "tags": []
          }
        },
        {
          "output_type": "stream",
          "text": [
            "---------------------------------------\n",
            "Epoch: 37.60, iter: 3400, cross-entropy: 0.981, accuracy: 0.68066\n",
            "   y:  | tuon tupahan vakkaseni, rasian rahin nenähän,  | alle kuulun kurkihirren, alle kaunihin katoksen,  | aukaisen sanaisen arkun, virsi\n",
            "  yp: ksuos sulahan tasaasens, vaut n rahentvenähän   | tlla kuulun kuukihiaren, klle kaunihin katoksen,  | jiraisen aanansen arkon, kiisi\n",
            "----------------- temperature = 0.2 ----------------------\n"
          ],
          "name": "stdout"
        },
        {
          "output_type": "display_data",
          "data": {
            "text/html": [
              "ymmätän tivimät, päivä kaiket kaiketti <br>päälle päät pahoille selvät seisomalle selälle, <br>läksi läksi läivyttele, paanut patkalla paj<span style=\"background-color:#d8daef;\">alle, <br>jottei päästä </span><sup>[1]</sup>päivinäsi, kanna kaunista katoja! <br>Pane kaa'an kaatamatta, puu pihalta pitkä<span style=\"background-color:#d8daef;\">mähän.<br><br>Siinä vanha Väinämöinen </span><sup>[1]</sup><span style=\"background-color:#d8daef;\">itse tuon sanoiksi virkki: <br>\"Minne </span><sup>[1]</sup>siinä siinen sulhot, sormet suoriksi sulosta, <br>kantelet karaksi kaikki, kantoi kaunis kantajaksi, <br>jos san<span style=\"background-color:#d8daef;\">on sanoiksi virkki: \"En mä tä</span><sup>[1]</sup>snä poikueni, <br>kun et kosken kaatakanna, ei sinua emonsa <br>ilman pitkä"
            ],
            "text/plain": [
              "<IPython.core.display.HTML object>"
            ]
          },
          "metadata": {
            "tags": []
          }
        },
        {
          "output_type": "display_data",
          "data": {
            "text/html": [
              "<small><p style=\"text-align:right;\">Sources: <span style=\"background-color:#d8daef;\">kalevala</span><sup>[1]</sup></p></small>"
            ],
            "text/plain": [
              "<IPython.core.display.HTML object>"
            ]
          },
          "metadata": {
            "tags": []
          }
        },
        {
          "output_type": "stream",
          "text": [
            "----------------- temperature = 0.6 ----------------------\n"
          ],
          "name": "stdout"
        },
        {
          "output_type": "display_data",
          "data": {
            "text/html": [
              "yämmät tärähän, tuon ajoiten jokuhut<span style=\"background-color:#d8daef;\">!\"<br><br>Sanoi vanha Väinämöinen: \"</span><sup>[1]</sup>Miksin alloinen jomas! <br>Kun kohet ulosta kaaten, kuusi ei kohotella koko<span style=\"background-color:#d8daef;\">si: <br>\"Oi sie lieto Lemmin poika! Ka</span><sup>[1]</sup>n otti ahalle sanoa: <br>'On sinä olut ollakseni, urohonsa orkaelle, <br>eikä syöllä syllällänsä, vasta kielen kallalla <br>alla kuin kerran allos, oluen osanlakse<span style=\"background-color:#d8daef;\">na.<br><br>Vaka vanha Väinämöinen </span><sup>[1]</sup>koh<span style=\"background-color:#d8daef;\">ti lieto Lemminkäinen, <br></span><sup>[1]</sup>loihen pursi kuivannella, <br>tule tunti tuivon apua, viikon halki halkittuna, <br>isännältä ilman astu, ikävän ajattelevi, "
            ],
            "text/plain": [
              "<IPython.core.display.HTML object>"
            ]
          },
          "metadata": {
            "tags": []
          }
        },
        {
          "output_type": "display_data",
          "data": {
            "text/html": [
              "<small><p style=\"text-align:right;\">Sources: <span style=\"background-color:#d8daef;\">kalevala</span><sup>[1]</sup></p></small>"
            ],
            "text/plain": [
              "<IPython.core.display.HTML object>"
            ]
          },
          "metadata": {
            "tags": []
          }
        },
        {
          "output_type": "stream",
          "text": [
            "----------------- temperature = 1.0 ----------------------\n"
          ],
          "name": "stdout"
        },
        {
          "output_type": "display_data",
          "data": {
            "text/html": [
              "kymmämähin ääni, kupea kyyä sanon?\"<br><br>Huop' on äikeä jyttä juoja, kivuni kivala pisuun?\"<br><br>Tako<span style=\"background-color:#d8daef;\">i taiten vastoavi: \"</span><sup>[1]</sup>En en mä tinessä potalta; <br>maanki kymmenen iloihin, laoilla, hyvän heläinen. <br>Loihe silkäisi säheinän, kiirona kirehemähän: <br>ellös miestäni sotoma, korjaksi kokon yöyksi: <br>\"Tuoll' en mene laulamatta, talehetki oppamahan <br>tuomasta tukkujasta, suuren hopeastajatta.\"<br><br>Ikäväinen, istuvakka, itse loihui, Väinämöinen, itse kuuti kontahata. <br>Niinpa tuo sinun sanoaista, menty miehekkisessäni "
            ],
            "text/plain": [
              "<IPython.core.display.HTML object>"
            ]
          },
          "metadata": {
            "tags": []
          }
        },
        {
          "output_type": "display_data",
          "data": {
            "text/html": [
              "<small><p style=\"text-align:right;\">Sources: <span style=\"background-color:#d8daef;\">kalevala</span><sup>[1]</sup></p></small>"
            ],
            "text/plain": [
              "<IPython.core.display.HTML object>"
            ]
          },
          "metadata": {
            "tags": []
          }
        },
        {
          "output_type": "stream",
          "text": [
            "---------------------------------------\n",
            "Epoch: 39.81, iter: 3600, cross-entropy: 1.012, accuracy: 0.67969\n",
            "   y: ia mielin määrin. Oli aikoa vähäinen:  | jo tulla tuhuttelevi, saa'a käärähyttelevi  | sata sarvea sylissä, tuhat muuta muhkurata;  | \n",
            "  yp: i   | eeltn,mielen, |  | ni aikoa vähäisen:  | \"o nulee tulottelevi, kyn'a saytähtttelevi; | vana maaven salissä, vuhat musta muokemoia;  | \n",
            "----------------- temperature = 0.2 ----------------------\n"
          ],
          "name": "stdout"
        },
        {
          "output_type": "display_data",
          "data": {
            "text/html": [
              "aikanat Manalan maalle, kylmänkä kylän valkeni; <br>sen on suuri suisin pieni, <span style=\"background-color:#d8daef;\">kolmannenki koikutteli </span><sup>[1]</sup><span style=\"background-color:#d8daef;\"><br>noilla Väinön kankahilla, </span><sup>[1]</sup><span style=\"background-color:#d8daef;\">Kalevalan kankahilla.<br><br></span><sup>[1]</sup>Kasv<span style=\"background-color:#d8daef;\">oi tuota katsomahan, </span><sup>[1]</sup>kulta, kulta kuumomahan<span style=\"background-color:#d8daef;\">, <br>sinä ilmoisna ikänä, kuuna kullan valkeana <br>n</span><sup>[1]</sup><span style=\"background-color:#d8daef;\">äillä paikoilla pahoilla, </span><sup>[1]</sup>kaikkivallan valkimill<span style=\"background-color:#d8daef;\">a.\"<br><br>Silloin vanha Väinämöinen itse tuon sanoiksi virkki: <br>\"</span><sup>[1]</sup>On on surma suorikoitta, eipä leukasi leveä. <br>Ei ole iso Jumalan eikä toinen surma <br>tämän<span style=\"background-color:#d8daef;\"> ilman istumahan, <br>s</span><sup>[1]</sup>iniset siniltämähän, päätä päivät pääs"
            ],
            "text/plain": [
              "<IPython.core.display.HTML object>"
            ]
          },
          "metadata": {
            "tags": []
          }
        },
        {
          "output_type": "display_data",
          "data": {
            "text/html": [
              "<small><p style=\"text-align:right;\">Sources: <span style=\"background-color:#d8daef;\">kalevala</span><sup>[1]</sup></p></small>"
            ],
            "text/plain": [
              "<IPython.core.display.HTML object>"
            ]
          },
          "metadata": {
            "tags": []
          }
        },
        {
          "output_type": "stream",
          "text": [
            "----------------- temperature = 0.6 ----------------------\n"
          ],
          "name": "stdout"
        },
        {
          "output_type": "display_data",
          "data": {
            "text/html": [
              "aikanojat juomattomilta, välkimäistä häätyynyttä.<br><br>\"Jos ei noin satoi sanoa, korohissa kouloaksi: <br>tuosta tunneitti tulesta, koko kuumissa kyperi.<br><br>\"Ei mä tuo hyvinen pieni, veikkä vierillä veneli <br>tule pieni paistakana, kun solmut jota saloa <br>alan pienipellerista, tuon on tuomia totanna<span style=\"background-color:#d8daef;\">.<br><br>\"Oi Ukko, ylijumala, taatto vanha ta</span><sup>[1]</sup>ajoilta <br>jalan paltohon puruhista, vimustehen virsikölt<span style=\"background-color:#d8daef;\">ä.<br><br>Silloin vanha Väinämöinen itse tuo</span><sup>[1]</sup><span style=\"background-color:#d8daef;\">n sanoiksi virkki: <br>\"Jo</span><sup>[1]</sup>u nyt tuota palkkanainen, tuosta tuvansa tupparin.<br><br>Siitä"
            ],
            "text/plain": [
              "<IPython.core.display.HTML object>"
            ]
          },
          "metadata": {
            "tags": []
          }
        },
        {
          "output_type": "display_data",
          "data": {
            "text/html": [
              "<small><p style=\"text-align:right;\">Sources: <span style=\"background-color:#d8daef;\">kalevala</span><sup>[1]</sup></p></small>"
            ],
            "text/plain": [
              "<IPython.core.display.HTML object>"
            ]
          },
          "metadata": {
            "tags": []
          }
        },
        {
          "output_type": "stream",
          "text": [
            "----------------- temperature = 1.0 ----------------------\n"
          ],
          "name": "stdout"
        },
        {
          "output_type": "display_data",
          "data": {
            "text/html": [
              "<br>ainana osa'in ja aseta, sitä sirkiä sijoa, <br>koikkea kohoastasi, karpu juuhet hukkahessa: <br>tapoit tyyttä tyhjytteli varin viittoa vihois<span style=\"background-color:#d8daef;\">en.<br><br>Silloin vanha Väinämöinen </span><sup>[1]</sup><span style=\"background-color:#d8daef;\">sanan virkkoi, noin nimesi: <br>\"Sa</span><sup>[1]</sup>no armasi, kolo, luomi Luoja vanhan, <br>kymmene, koskuisi koko Pohjolan jokahan<span style=\"background-color:#d8daef;\">.\"<br><br>Laski vanha Väinämöinen </span><sup>[1]</sup>lähteväksehen lyvät<span style=\"background-color:#d8daef;\">ti. <br>Itse tuon sanoiksi virkki: \"Jo</span><sup>[1]</sup>u vihan veti Jumalan, <br>sen hirkkoi hitsillehen, noittelihen taitavihin; <br>selä kylällä kärten, kohon käykevyi ketellä.<br><br>Virkki hietä vielä taiv"
            ],
            "text/plain": [
              "<IPython.core.display.HTML object>"
            ]
          },
          "metadata": {
            "tags": []
          }
        },
        {
          "output_type": "display_data",
          "data": {
            "text/html": [
              "<small><p style=\"text-align:right;\">Sources: <span style=\"background-color:#d8daef;\">kalevala</span><sup>[1]</sup></p></small>"
            ],
            "text/plain": [
              "<IPython.core.display.HTML object>"
            ]
          },
          "metadata": {
            "tags": []
          }
        },
        {
          "output_type": "stream",
          "text": [
            "---------------------------------------\n",
            "Epoch: 42.02, iter: 3800, cross-entropy: 0.918, accuracy: 0.70850\n",
            "   y: . |  | \"Seiso seinänä e'essä, pysy pihtipuolisena:  | elä anna anopin lyöä eläkä apen torua,  | elä vierahan vihata, talon toisen soimae\n",
            "  yp: n |  | SOi tttseptät  slemsä, taöytpitiihuolisen ,  | kiä hitataropin luöä eiäkä phat aatpn:  | kiä kaenahan vihaia, kulkn tuisen toutit\n",
            "----------------- temperature = 0.2 ----------------------\n"
          ],
          "name": "stdout"
        },
        {
          "output_type": "display_data",
          "data": {
            "text/html": [
              "kajualle on kylähän, taattos taaiten tappur<span style=\"background-color:#d8daef;\">at.\"<br><br>Sanoi vanha Väinämöinen: \"</span><sup>[1]</sup>Jos ma otso kohtoasi! <br>En minä minun poloinen enkä ilman luppaluuna <br>no<span style=\"background-color:#d8daef;\">ien kuuluhun kotihin, kauno</span><sup>[1]</sup>han katonteloho<span style=\"background-color:#d8daef;\">n. <br>Siitä tuon sanoiksi virkki, itse lausui</span><sup>[1]</sup> ja pakisi: <br>\"Kuule koitta kullallensa, vanhu päivä valkeain<span style=\"background-color:#d8daef;\">en. <br>Sanan virkkoi, noin nimesi</span><sup>[1]</sup>: \"Ellös mie emoll<span style=\"background-color:#d8daef;\">a <br>syöä miehen nälkähis</span><sup>[1]</sup>tä, karhun kannan kaule<span style=\"background-color:#d8daef;\">mahan.\"<br><br>Sanoi vanha Väinämöinen: \"</span><sup>[1]</sup><span style=\"background-color:#d8daef;\">Veli, seppo Ilmarinen! <br>M</span><sup>[1]</sup>etisitko miekkanaisen, kanta karjonen kataka! <br>Pane pä"
            ],
            "text/plain": [
              "<IPython.core.display.HTML object>"
            ]
          },
          "metadata": {
            "tags": []
          }
        },
        {
          "output_type": "display_data",
          "data": {
            "text/html": [
              "<small><p style=\"text-align:right;\">Sources: <span style=\"background-color:#d8daef;\">kalevala</span><sup>[1]</sup></p></small>"
            ],
            "text/plain": [
              "<IPython.core.display.HTML object>"
            ]
          },
          "metadata": {
            "tags": []
          }
        },
        {
          "output_type": "stream",
          "text": [
            "----------------- temperature = 0.6 ----------------------\n"
          ],
          "name": "stdout"
        },
        {
          "output_type": "display_data",
          "data": {
            "text/html": [
              "kakukohon jalasen Tämien tuoma tunkim<span style=\"background-color:#d8daef;\">assa!\"<br><br>Kullervo, Kalervon poika, </span><sup>[1]</sup><span style=\"background-color:#d8daef;\">sinisukka äijön lapsi, <br>k</span><sup>[1]</sup>un oli viisa viian olla, kun ei kuollut kuolleheksi: <br>olipa kovin laski, koskea kolme kostata <br>ei sepo Ilmarinen ei ilo illan pihloillensa. <br>Kuuli kuulia tupahan, aina kaivon kaikettavan, <br>mitä kasvava kahaksi, kuolleheksi kutsomahan.<span style=\"background-color:#d8daef;\"> <br>Sitte sinne saatua</span><sup>[1]</sup>nsa saatuttihin tulleheksi, <br>piteähän pitsähänsä, heinän helkehen hevuille <br>Toinen kantehen kasohon, poloisehen poikumahan.<br><br>Kasvoi puuta karjallansa,"
            ],
            "text/plain": [
              "<IPython.core.display.HTML object>"
            ]
          },
          "metadata": {
            "tags": []
          }
        },
        {
          "output_type": "display_data",
          "data": {
            "text/html": [
              "<small><p style=\"text-align:right;\">Sources: <span style=\"background-color:#d8daef;\">kalevala</span><sup>[1]</sup></p></small>"
            ],
            "text/plain": [
              "<IPython.core.display.HTML object>"
            ]
          },
          "metadata": {
            "tags": []
          }
        },
        {
          "output_type": "stream",
          "text": [
            "----------------- temperature = 1.0 ----------------------\n"
          ],
          "name": "stdout"
        },
        {
          "output_type": "display_data",
          "data": {
            "text/html": [
              "kukkuilla jyvältä, hanhet haivosta hajalta.<br><br>Tyttö tuohan tullessansa, kuta kyllässä kyvässä.<br><br>Liinapanolki pikkaroiset pilveähän Pohjolassa, <br>jop' on tyttö syrjelläisi, läpsi leivonla laveli.<br><br>\"Mitäpä olut nelälle: neiti, kasken uumi kaikin <br>tuoren tyttäjän kohosta, harnn husta heiskattävi. <br>Nyt on laitta rankahalla, hirven laukahillapuuli; <br>portti heinät lentsimäksi, kolmet poikuet, vakehutti: vaahun olle osat jänet: <br>kaokki veittoin venonenkana, kuusi kumman kulkahutti: <br>pani oikoa havoja, pi"
            ],
            "text/plain": [
              "<IPython.core.display.HTML object>"
            ]
          },
          "metadata": {
            "tags": []
          }
        },
        {
          "output_type": "stream",
          "text": [
            "---------------------------------------\n",
            "Epoch: 44.23, iter: 4000, cross-entropy: 0.802, accuracy: 0.74333\n",
            "   y: vi; sanan virkkoi, noin nimesi:  | \"Onko miekka miestä myöten, kalpa kantajan mukahan?\" |  | Olipa miekka miestä myöten, kalpa kantaja\n",
            "  yp: nä,  | inon virkkoi, noin nimesi:  | \"Ei o tie aa miestä myöten, kalea kaltajan kakahan!\" |  | Slipa liekka viestä myöten, kalpa kaltaja\n",
            "----------------- temperature = 0.2 ----------------------\n"
          ],
          "name": "stdout"
        },
        {
          "output_type": "display_data",
          "data": {
            "text/html": [
              "kanonuine on maksan karjan kalloita kantakana! <br>Onp' on suori suoren suonnut, kantajata kannettava? <br>Tuop' on kuutia näkysi, heittä vertehen vesiä; <br>kun tuli kumotti nuori, kaikki lieto kangasnulta, <br>saata saataja sanoa, tuhat tullen kumppalina <br>veri vettä vehnälissä, laulaiset makaelista, <br>toisin maalta mannikkaista, tuon on vierevän veristä<span style=\"background-color:#d8daef;\">. <br>Sanoi tuonne tultuansa: \"</span><sup>[1]</sup>Jo tulen tähänkä talvan: <br>e<span style=\"background-color:#d8daef;\">i ollut sitä metsässä</span><sup>[1]</sup>, kannat karjassa kaheksi, <br>tuo on sukkuna sukea, kaohona kaottajani! <br>Kun ei tu"
            ],
            "text/plain": [
              "<IPython.core.display.HTML object>"
            ]
          },
          "metadata": {
            "tags": []
          }
        },
        {
          "output_type": "display_data",
          "data": {
            "text/html": [
              "<small><p style=\"text-align:right;\">Sources: <span style=\"background-color:#d8daef;\">kalevala</span><sup>[1]</sup></p></small>"
            ],
            "text/plain": [
              "<IPython.core.display.HTML object>"
            ]
          },
          "metadata": {
            "tags": []
          }
        },
        {
          "output_type": "stream",
          "text": [
            "----------------- temperature = 0.6 ----------------------\n"
          ],
          "name": "stdout"
        },
        {
          "output_type": "display_data",
          "data": {
            "text/html": [
              "kanoa ma maksi! Sano, aitoa yheltäisin: <br>siin' oli hauin hampahinen, hyvän lapsi lahjomahan. <span style=\"background-color:#d8daef;\"><br>Laski virkkua vitsalla, helähytti helmisvyöllä; <br></span><sup>[1]</sup>näki haukkunharvasilla, pilvistä pihalla pirkki; <br>'V<span style=\"background-color:#d8daef;\">era tuon sanoiksi virkki</span><sup>[1]</sup><span style=\"background-color:#d8daef;\">: \"Annikki sisarueni! <br></span><sup>[1]</sup>Mist' on tarkoja tarosta, tunne tänne tuota tuiski, <br>tuo on varsi, valmihini! Kousi kuulen kuoltavaksi: <br>\"Mitä itket, itkeytti, sata<span style=\"background-color:#d8daef;\"> virkki, noin nimesi: <br>\"Tuo</span><sup>[1]</sup><span style=\"background-color:#d8daef;\"> nyt tuota tunnekana, m</span><sup>[1]</sup>esikäinen maanteletan; <br>siin' on parta parkkumatta, ouottulut onneavat, <br>tah"
            ],
            "text/plain": [
              "<IPython.core.display.HTML object>"
            ]
          },
          "metadata": {
            "tags": []
          }
        },
        {
          "output_type": "display_data",
          "data": {
            "text/html": [
              "<small><p style=\"text-align:right;\">Sources: <span style=\"background-color:#d8daef;\">kalevala</span><sup>[1]</sup></p></small>"
            ],
            "text/plain": [
              "<IPython.core.display.HTML object>"
            ]
          },
          "metadata": {
            "tags": []
          }
        },
        {
          "output_type": "stream",
          "text": [
            "----------------- temperature = 1.0 ----------------------\n"
          ],
          "name": "stdout"
        },
        {
          "output_type": "display_data",
          "data": {
            "text/html": [
              "kanoattu oija, marjoja omia etsä, <br>apan unnen näkiännä, kaukojen karantajani! <br>Josa anna katolavi, onpi vanhat orjahtia, <br>oia sukua ouri; purtu purtti rukkaeli: <br>enkäpä mität olisi, kuin ottie ikison tuohon! <br>Ennen laikahat lähtisi, eikä paima entasella! <br>Isännäksi, aivasini, mesileinä, muiste turja, <br>niin kun punaisen putkin nieltä, pitsuttin juorit näillä! <br>Parempi onille opina, souan ruosen raatajosta! <br>Jo suo äätä Väinämöisen, itse tulsoa tuvillevi: <br>\"Tuonne saaltu taiteneile seppo Ilmarin s"
            ],
            "text/plain": [
              "<IPython.core.display.HTML object>"
            ]
          },
          "metadata": {
            "tags": []
          }
        },
        {
          "output_type": "stream",
          "text": [
            "---------------------------------------\n",
            "Epoch: 46.45, iter: 4200, cross-entropy: 0.863, accuracy: 0.72282\n",
            "   y: uvattu.  | Kupit kaikki kukkusilla, va'it varpelaitasilla  | metsän mieliantehia, salon kullan saalihia. |  | Siinä vanha Väinämöinen it\n",
            "  yp: anan ei  | Suna  kakkki kuukumilla, vaiit vasselaitasilla, | sersän tielinnsahis, kanon kalvan saapihia. |  | \"iitä vanha Väinämöinen lt\n",
            "----------------- temperature = 0.2 ----------------------\n"
          ],
          "name": "stdout"
        },
        {
          "output_type": "display_data",
          "data": {
            "text/html": [
              "aittoassa jäässäsi, rikkisissä tehkaisisi, <br>tukat tuhmassa pitävi, pitkän pitkänsä pitävi, <br>kun sa kultaisin käkeni, hope'issa kyyhkyläisnä. <br>Viel' oli kirvestä kivestä, kasvoi kaunoa kaheksi; <br>ei ole kullansa tulevi, ku olle kukun eloisin; <br>tuossa tulma tunke'issa, kaikeri kapulan päit<span style=\"background-color:#d8daef;\">ä.<br><br>Sanoi lieto Lemminkäinen: \"</span><sup>[1]</sup><span style=\"background-color:#d8daef;\">Ohoh vanha Väinämöinen! <br>Mi</span><sup>[1]</sup>tä hauki haljakainen, tuo sieltä seikkä leuto Lemminkäinen <br>läksi purtta poikoansa, kalahutti kalpaleissa: <br>\"Oi on surma tuon parempi, tuli aikoja tupahan,"
            ],
            "text/plain": [
              "<IPython.core.display.HTML object>"
            ]
          },
          "metadata": {
            "tags": []
          }
        },
        {
          "output_type": "display_data",
          "data": {
            "text/html": [
              "<small><p style=\"text-align:right;\">Sources: <span style=\"background-color:#d8daef;\">kalevala</span><sup>[1]</sup></p></small>"
            ],
            "text/plain": [
              "<IPython.core.display.HTML object>"
            ]
          },
          "metadata": {
            "tags": []
          }
        },
        {
          "output_type": "stream",
          "text": [
            "----------------- temperature = 0.6 ----------------------\n"
          ],
          "name": "stdout"
        },
        {
          "output_type": "display_data",
          "data": {
            "text/html": [
              "aitoovorju'uta ohrasta, jalvosta tapasta <br>kultaisehen kultaista, hukkahtisen huuhtiossa.<br><br>\"<span style=\"background-color:#d8daef;\">Siitä tuon sanoiksi virkki, itse lausui, noin nimesi: <br>\"Ku</span><sup>[1]</sup><span style=\"background-color:#d8daef;\">n ei tuosta kyllin tulle, </span><sup>[1]</sup>kyyä syntä syytämässä, <br>kun olet kuulun kuuminensi, vielä meitoa vehosen<span style=\"background-color:#d8daef;\">: <br>nenässä utuisen niemen, päässä saaren terhenisen</span><sup>[1]</sup>. <br>Pani kuuluvi kulotti, lauloi poika laulalamme.\"<br><br>Sanoi äiti, nien sinäs pajas metsä, paha parta painoksesi, <br>k<span style=\"background-color:#d8daef;\">un ei tuosta kyllin tulle, </span><sup>[1]</sup>yli kummalle kuja<span style=\"background-color:#d8daef;\">si.<br><br>Siitä lieto Lemminkäinen </span><sup>[1]</sup>ajovi kohin koh"
            ],
            "text/plain": [
              "<IPython.core.display.HTML object>"
            ]
          },
          "metadata": {
            "tags": []
          }
        },
        {
          "output_type": "display_data",
          "data": {
            "text/html": [
              "<small><p style=\"text-align:right;\">Sources: <span style=\"background-color:#d8daef;\">kalevala</span><sup>[1]</sup></p></small>"
            ],
            "text/plain": [
              "<IPython.core.display.HTML object>"
            ]
          },
          "metadata": {
            "tags": []
          }
        },
        {
          "output_type": "stream",
          "text": [
            "----------------- temperature = 1.0 ----------------------\n"
          ],
          "name": "stdout"
        },
        {
          "output_type": "display_data",
          "data": {
            "text/html": [
              "aatkoat omunusteltene, maakansa paristukahan, <br>monn' oha anettomahan, väkipuoles, veten sänäkse <br>vaimolle vesille myöten, tullehelle tungiterkotoksi?<br><br>\"Otto miehet, min kasosti, kangaspa kasunen juosta.\"<br><br>Tuop' o<span style=\"background-color:#d8daef;\">n tuon sanoiksi virkki: </span><sup>[1]</sup>\"Jo nyt sitä joemikkana <br>metsän tiessä siirtymähän, rautahasti katkumahan!\"<br><br>Kuuluvi Ukkopunnellen uihinuinen, main menia, <br>vaik<span style=\"background-color:#d8daef;\">ka vanha Väinämöinen, ku</span><sup>[1]</sup>rja ruota kankopieret, <br>vetelämmö vettä etemmä, havu huolta tarvamahan. <br>Toisinpa<span style=\"background-color:#d8daef;\"> sanalla tuolla, lausui tuolla </span><sup>[1]</sup>"
            ],
            "text/plain": [
              "<IPython.core.display.HTML object>"
            ]
          },
          "metadata": {
            "tags": []
          }
        },
        {
          "output_type": "display_data",
          "data": {
            "text/html": [
              "<small><p style=\"text-align:right;\">Sources: <span style=\"background-color:#d8daef;\">kalevala</span><sup>[1]</sup></p></small>"
            ],
            "text/plain": [
              "<IPython.core.display.HTML object>"
            ]
          },
          "metadata": {
            "tags": []
          }
        },
        {
          "output_type": "stream",
          "text": [
            "---------------------------------------\n",
            "Epoch: 48.66, iter: 4400, cross-entropy: 0.838, accuracy: 0.72445\n",
            "   y: uinaelin, kauan, malkio, makasin!  | Makasin unen makean, sikeäisen siuvattelin.\" |  | Sanoi äiti Lemminkäisen, itse lausui ja pakisi:\n",
            "  yp: krki lin   | utnn  kelkoon maka in!  | Einasin mnen pakuam, kineäisen siuvattelen. |  |  | Sanoi äiti Lemminkäisen: itse lausui,ja pakisi:\n",
            "----------------- temperature = 0.2 ----------------------\n"
          ],
          "name": "stdout"
        },
        {
          "output_type": "display_data",
          "data": {
            "text/html": [
              "kainnot kahallakse, tullat, voinen purja, <br>vähän vanhan vääntämättä, kaunahan katoamatta <br>neiti nuoren nukkuroita, kaunis vaskinen varoa<span style=\"background-color:#d8daef;\">. <br>Siinä vanha Väinämöinen </span><sup>[1]</sup><span style=\"background-color:#d8daef;\">laskea karehtelevi. <br>La</span><sup>[1]</sup><span style=\"background-color:#d8daef;\">uloi nuoren Joukahaisen, lauloi </span><sup>[1]</sup>koiven koikkihini, <br>pahkasi paleleisin, tuolla tuomin turmelta<span style=\"background-color:#d8daef;\">isin.\"<br><br>Siitä vanha Väinämöinen </span><sup>[1]</sup><span style=\"background-color:#d8daef;\">laskea karehtelevi. <br></span><sup>[1]</sup><span style=\"background-color:#d8daef;\">Sanan virkkoi, noin nimesi: \"Ei t</span><sup>[1]</sup>ieä, kanervikko, <br>kuni kuollehen kojasi, halja halkilla hoj<span style=\"background-color:#d8daef;\">oa.\"<br><br>Siitä seppo Ilmarinen </span><sup>[1]</sup>heitäi meren lentämihin. <br>Siinä kokko kourahass"
            ],
            "text/plain": [
              "<IPython.core.display.HTML object>"
            ]
          },
          "metadata": {
            "tags": []
          }
        },
        {
          "output_type": "display_data",
          "data": {
            "text/html": [
              "<small><p style=\"text-align:right;\">Sources: <span style=\"background-color:#d8daef;\">kalevala</span><sup>[1]</sup></p></small>"
            ],
            "text/plain": [
              "<IPython.core.display.HTML object>"
            ]
          },
          "metadata": {
            "tags": []
          }
        },
        {
          "output_type": "stream",
          "text": [
            "----------------- temperature = 0.6 ----------------------\n"
          ],
          "name": "stdout"
        },
        {
          "output_type": "display_data",
          "data": {
            "text/html": [
              "kaijat kaallassasi maan pitin pitkelemä<span style=\"background-color:#d8daef;\">n. <br>Sanan virkkoi, noin nimesi: \"Jo</span><sup>[1]</sup> nyt ainalta ajavi <br>jos meressä muutalomme, ylimmenen yötä perästä.<br><br>Loihe<span style=\"background-color:#d8daef;\">, Pohjolan emäntä, Pohjan akka harvahammas, <br>s</span><sup>[1]</sup>aasi pilvin pahohan. Siinä kirjoittelevi <br>kirjavanat kirvahampat, taivahatta maarahista, <br>viikon hienot hettä-aloista, keihä'iltä keskeliltä <br>suurilta sotaMältä, varpeleit kankalilt<span style=\"background-color:#d8daef;\">a!<br><br>\"Sulho, viljon veljyeni! </span><sup>[1]</sup>Vuotti päivän, väänti näinen, <br>veti vettä laskehella, lohista lohia myöten, <br>siitä suuren suoruh"
            ],
            "text/plain": [
              "<IPython.core.display.HTML object>"
            ]
          },
          "metadata": {
            "tags": []
          }
        },
        {
          "output_type": "display_data",
          "data": {
            "text/html": [
              "<small><p style=\"text-align:right;\">Sources: <span style=\"background-color:#d8daef;\">kalevala</span><sup>[1]</sup></p></small>"
            ],
            "text/plain": [
              "<IPython.core.display.HTML object>"
            ]
          },
          "metadata": {
            "tags": []
          }
        },
        {
          "output_type": "stream",
          "text": [
            "----------------- temperature = 1.0 ----------------------\n"
          ],
          "name": "stdout"
        },
        {
          "output_type": "display_data",
          "data": {
            "text/html": [
              "ijaot kaonn kahaste, vaipaimen vaeltamahan! <br>Eipä saattaisa alana sisar ennen tyttäreni, <br>kun oli valkoja vavulla, herevettese lempäsi. <br>Meni lietohon lehosen, meren aallon laskehensa.<br><br>Lokka, koima uuti kulkea joen verrellä vesiä, <br>kulle tungeinen meniä, maan palala alallessa; <br>noki nyt kullansa karea, kurjasta koven koletta, <br>ave'ista tarvetoinen, suo oletto, vääntineni! <br>Luututestu notahansa kylähän, kaluvallen kasvahaksi.<br><br>Oli piila pikkarainen, tapahut talisen purren, <br>elävähän taphoamahan,"
            ],
            "text/plain": [
              "<IPython.core.display.HTML object>"
            ]
          },
          "metadata": {
            "tags": []
          }
        },
        {
          "output_type": "stream",
          "text": [
            "---------------------------------------\n",
            "Epoch: 50.87, iter: 4600, cross-entropy: 0.816, accuracy: 0.73926\n",
            "   y: trakoski Karjalassa;  | ei ole Vuoksen voittanutta, yli käynyttä Imatran.\" |  | Sanoi vanha Väinämöinen: \"Lapsen tieto, naisen muisti,\n",
            "  yp: ntansite,kaljalansa!  | ki oll käotsen voittanutsa, kke kyynettä klatkan.\" |  | Sanoi äanha Väinämöinen: \"Eessin eietä, voisen muista,\n",
            "----------------- temperature = 0.2 ----------------------\n"
          ],
          "name": "stdout"
        },
        {
          "output_type": "display_data",
          "data": {
            "text/html": [
              "aarraana ososi valitta, veen pistä piilevältä.<br><br><span style=\"background-color:#d8daef;\">\"Ei ole tässä ennen </span><sup>[1]</sup><span style=\"background-color:#d8daef;\">ollut eikä varsin vasta</span><sup>[1]</sup>ella: <br>vai on pilla piekkarella, kapea karottanella!<br><br>\"Katso on karja kannettana, viljoa vihoanana, <br>kuss' oli puoli poikoansa, katsoi karpea kanansa, <br>kun sa on saaren kainassasi vanhan varjan varjasi<span style=\"background-color:#d8daef;\">sta!\"<br><br>Se on seppo Ilmarinen</span><sup>[1]</sup><span style=\"background-color:#d8daef;\"> ei ihastu tuotakana: <br></span><sup>[1]</sup><span style=\"background-color:#d8daef;\">\"Ohoh seppo Ilmarinen, takoja iän-ikuinen! <br></span><sup>[1]</sup>Katsoit kullat tuon isäntä, harki hankia halinan; <br>siit' on saata saa<span style=\"background-color:#d8daef;\">tamahan, kirjokansi k</span><sup>[1]</sup>attaminen, <br>suojahan sa"
            ],
            "text/plain": [
              "<IPython.core.display.HTML object>"
            ]
          },
          "metadata": {
            "tags": []
          }
        },
        {
          "output_type": "display_data",
          "data": {
            "text/html": [
              "<small><p style=\"text-align:right;\">Sources: <span style=\"background-color:#d8daef;\">kalevala</span><sup>[1]</sup></p></small>"
            ],
            "text/plain": [
              "<IPython.core.display.HTML object>"
            ]
          },
          "metadata": {
            "tags": []
          }
        },
        {
          "output_type": "stream",
          "text": [
            "----------------- temperature = 0.6 ----------------------\n"
          ],
          "name": "stdout"
        },
        {
          "output_type": "display_data",
          "data": {
            "text/html": [
              "aarraatan ososillaisetta, maatasilta maanutoilta, <br>hiiloilta huon pihailla, vallan vaakeroilla.<br><br>Lauloi suonut soutajalla, katajalle kaarittele, <br>viljalte ve'iselleite soutamalle suojallensa, <br>toisen liinaluusiani, katseleikse, kirvestihe, <br>kulta tuopihe tulosen, ajavoiksi arottamahan, <br>jottei pääsi päättehessä, korvat korvaksi murella, <br>asetti alasimelle, vääntimet vilisevälle, <br>katajat karistelevi var<span style=\"background-color:#d8daef;\">ran vaskisen sisähän.<br><br></span><sup>[1]</sup><span style=\"background-color:#d8daef;\">Sanoi seppo Ilmarinen: \"Sinne </span><sup>[1]</sup>tiesit neitoselle <br>jalan partan parsan pä"
            ],
            "text/plain": [
              "<IPython.core.display.HTML object>"
            ]
          },
          "metadata": {
            "tags": []
          }
        },
        {
          "output_type": "display_data",
          "data": {
            "text/html": [
              "<small><p style=\"text-align:right;\">Sources: <span style=\"background-color:#d8daef;\">kalevala</span><sup>[1]</sup></p></small>"
            ],
            "text/plain": [
              "<IPython.core.display.HTML object>"
            ]
          },
          "metadata": {
            "tags": []
          }
        },
        {
          "output_type": "stream",
          "text": [
            "----------------- temperature = 1.0 ----------------------\n"
          ],
          "name": "stdout"
        },
        {
          "output_type": "display_data",
          "data": {
            "text/html": [
              "raanatanososossa, kissasta osoaverossa.\"<br><br>Minä säitä karvanpaimen, hengän Pohjolan pitolle. <br>Eikä tieä tieä poloinen: pihalle pihalle takka: <br>kaula poiss' Karkaele, poika hengille hevosen, Karpajaksi karjallensa.<br><br>Otti nousi katsomahan, päivyä Pakastamahan: <br>helmisis hevietäväksi, kannannallesen kasek<span style=\"background-color:#d8daef;\">si.<br><br>\"Ellös vainen, </span><sup>[1]</sup>poikueni, 'uolt' olen monian <br>syntymänsä ahjan terven, jopa sai ismuisen isännän, <br>en saanut sitä taloa, kepä kalmi, leppä mieli, <br>mian vilpa harki huoti, hiihän sarmesta sisissä"
            ],
            "text/plain": [
              "<IPython.core.display.HTML object>"
            ]
          },
          "metadata": {
            "tags": []
          }
        },
        {
          "output_type": "display_data",
          "data": {
            "text/html": [
              "<small><p style=\"text-align:right;\">Sources: <span style=\"background-color:#d8daef;\">kalevala</span><sup>[1]</sup></p></small>"
            ],
            "text/plain": [
              "<IPython.core.display.HTML object>"
            ]
          },
          "metadata": {
            "tags": []
          }
        },
        {
          "output_type": "stream",
          "text": [
            "---------------------------------------\n",
            "Epoch: 53.08, iter: 4800, cross-entropy: 0.711, accuracy: 0.77523\n",
            "   y: ni alentamahan!  | Ohrina oluet meillä, makujuomat maltahina,  | leipomatta vehnäleivät, lihakeitot keittämättä.  | Oisit yötä ennen t\n",
            "  yp: i  pilntakahan,  | Lirasa oluet piiltä, matujuoman maatahisa!  | kävpäiaatajhehnäliisät, laiaksnsäi leittämättä,  | Eisit eötä unnen t\n",
            "----------------- temperature = 0.2 ----------------------\n"
          ],
          "name": "stdout"
        },
        {
          "output_type": "display_data",
          "data": {
            "text/html": [
              "aaraataksen ostamatta, sormet airahat sivalta, <br>suurilta surakenalta, ve'en viimiltä vilaista.<br><br>\"<span style=\"background-color:#d8daef;\">Ei ole itkettäviä, suuresti surettavia: <br></span><sup>[1]</sup>\"<span style=\"background-color:#d8daef;\">Tule tänne tarvittaissa, käy tänne kutsuttaessa! <br>T</span><sup>[1]</sup>okko lieti Lemminkäisen aialla ajattelevi: <br>\"Tule nyt soitten, teinäkana, metsän kaiken kalliolta<span style=\"background-color:#d8daef;\">.<br><br>\"Kun ei tuosta kyllin liene, </span><sup>[1]</sup><span style=\"background-color:#d8daef;\">oi Ukko, ylijumala, <br>t</span><sup>[1]</sup>erve, toisi tuskasta tulevi vaipa vainon vastaeli: <br>\"Oi sie Ahti poikan päänny<span style=\"background-color:#d8daef;\">, itse kaunis Kaukomieli, <br>saa</span><sup>[1]</sup>ren immet ilman suusta, sorme taait taimosimme.<br><br>Kä"
            ],
            "text/plain": [
              "<IPython.core.display.HTML object>"
            ]
          },
          "metadata": {
            "tags": []
          }
        },
        {
          "output_type": "display_data",
          "data": {
            "text/html": [
              "<small><p style=\"text-align:right;\">Sources: <span style=\"background-color:#d8daef;\">kalevala</span><sup>[1]</sup></p></small>"
            ],
            "text/plain": [
              "<IPython.core.display.HTML object>"
            ]
          },
          "metadata": {
            "tags": []
          }
        },
        {
          "output_type": "stream",
          "text": [
            "----------------- temperature = 0.6 ----------------------\n"
          ],
          "name": "stdout"
        },
        {
          "output_type": "display_data",
          "data": {
            "text/html": [
              "aianata omenna<span style=\"background-color:#d8daef;\">t?\"<br><br>Sanoi nuori Joukahainen: \"</span><sup>[1]</sup><span style=\"background-color:#d8daef;\">Oi on maammo, kantajani! <br></span><sup>[1]</sup>Minnä mäe<span style=\"background-color:#d8daef;\">n sanoiksi virkki, itse lausui ja pakisi: <br>\"Tule</span><sup>[1]</sup>, kurja, kuin-ikkinen, kun elin taho tapanu<span style=\"background-color:#d8daef;\">t?\"<br><br>Sanoi seppo Ilmarinen</span><sup>[1]</sup>: \"Jo on iski sanoiksinenki, <br>susikatret kuntalehen, katehet alinomaiset <br>tänne tyttöjän tikehe, vaimojehe viilt' kaikki <br>valmis vaikoja varassa, kansa karssa vai kansa <br>alta selvien vetehen, lahokarjen lautsaha<span style=\"background-color:#d8daef;\">nsa.<br><br>Siitä lieto Lemminkäinen</span><sup>[1]</sup><span style=\"background-color:#d8daef;\">, tuo on kaunis Kaukomieli, <br>tu</span><sup>[1]</sup>ota rääpi kaikenlainen, punasuu"
            ],
            "text/plain": [
              "<IPython.core.display.HTML object>"
            ]
          },
          "metadata": {
            "tags": []
          }
        },
        {
          "output_type": "display_data",
          "data": {
            "text/html": [
              "<small><p style=\"text-align:right;\">Sources: <span style=\"background-color:#d8daef;\">kalevala</span><sup>[1]</sup></p></small>"
            ],
            "text/plain": [
              "<IPython.core.display.HTML object>"
            ]
          },
          "metadata": {
            "tags": []
          }
        },
        {
          "output_type": "stream",
          "text": [
            "----------------- temperature = 1.0 ----------------------\n"
          ],
          "name": "stdout"
        },
        {
          "output_type": "display_data",
          "data": {
            "text/html": [
              "arapaat sisonsi maata, vilja koirat vierähteli, <br>pihaisia sistoa kohottu eistijaksi ennän kinta; <br>istuiks vihaksi virskä, uros toisesta takan<span style=\"background-color:#d8daef;\">a.\"<br><br>Siitä Pohjolan emäntä, </span><sup>[1]</sup>liikkui kirvahan lih<span style=\"background-color:#d8daef;\">oa.<br><br>Sanoi lieto Lemminkäinen: \"</span><sup>[1]</sup>Ohoh sinua, ukko rukka! <br>Kuna muistan hien kalasit, jaurahunnat tappelosta.<br><br>\"Siitä kaksinen korahui, pikkuisi piukattava; <br>kusiella kynttärilla, hienollensa liikujata.\"<br><br>Tuli huullat huilutteli: eip' on muhta lietomahan?\"<br><br>Olipa lausui lattialta. Lausui miekko miestelensä, <br>vie"
            ],
            "text/plain": [
              "<IPython.core.display.HTML object>"
            ]
          },
          "metadata": {
            "tags": []
          }
        },
        {
          "output_type": "display_data",
          "data": {
            "text/html": [
              "<small><p style=\"text-align:right;\">Sources: <span style=\"background-color:#d8daef;\">kalevala</span><sup>[1]</sup></p></small>"
            ],
            "text/plain": [
              "<IPython.core.display.HTML object>"
            ]
          },
          "metadata": {
            "tags": []
          }
        },
        {
          "output_type": "stream",
          "text": [
            "---------------------------------------\n",
            "Epoch: 55.29, iter: 5000, cross-entropy: 0.770, accuracy: 0.75326\n",
            "   y: ,  | lihan syöjä, luun purija, tukan tuulelle jakaja,  | hapsien hajottelija, ahavalle anneksija. |  | \"Itke, itke, neiti nuori! Kun itk\n",
            "  yp:    | kaian suöjä, luun lurija, vuhan tunlenle takaia,  | jalsipn halottelija, viovanle auneksija. |  | JJtse, itke, neiti nuori! Kun otk\n",
            "----------------- temperature = 0.2 ----------------------\n"
          ],
          "name": "stdout"
        },
        {
          "output_type": "display_data",
          "data": {
            "text/html": [
              "pukottuottomaksemahan, vaimotoitti valkeasta. <br>Vaan ei lastu<span style=\"background-color:#d8daef;\"> laulamahan, sai itse sanelemahan: <br>ei ole laulut la</span><sup>[1]</sup>ppellatta, syäntä saape'ia takon: <br>vain<span style=\"background-color:#d8daef;\"> on piika pikkarainen, </span><sup>[1]</sup>tuoma kaatun, kauniolla. <br>Kunne nyt kukohin saajana emon alasta, <br>vaikoa vanha suura eikä päivä palven<span style=\"background-color:#d8daef;\">essa.<br><br>Vaka vanha Väinämöinen </span><sup>[1]</sup><span style=\"background-color:#d8daef;\">käänti päätä päivän all</span><sup>[1]</sup>a, <br>kaaren<span style=\"background-color:#d8daef;\"> kuulun kurkihirren, alle </span><sup>[1]</sup>aaltojen syvien.<br><br>\"Ei tuo ollut suurta eikä eikä päiveä pitän; <br>ei ole kuulen kuulematta, kaunis kaatet katso<span style=\"background-color:#d8daef;\">matta?\"<br><br>Sanoi lieto Lemmi</span><sup>[1]</sup>"
            ],
            "text/plain": [
              "<IPython.core.display.HTML object>"
            ]
          },
          "metadata": {
            "tags": []
          }
        },
        {
          "output_type": "display_data",
          "data": {
            "text/html": [
              "<small><p style=\"text-align:right;\">Sources: <span style=\"background-color:#d8daef;\">kalevala</span><sup>[1]</sup></p></small>"
            ],
            "text/plain": [
              "<IPython.core.display.HTML object>"
            ]
          },
          "metadata": {
            "tags": []
          }
        },
        {
          "output_type": "stream",
          "text": [
            "----------------- temperature = 0.6 ----------------------\n"
          ],
          "name": "stdout"
        },
        {
          "output_type": "display_data",
          "data": {
            "text/html": [
              "ypyättä katkemahan, puhumahan värstämätä, <br>kunnet hanki halkuavan merelle kulkievi <br>pahahille parven päälle, kuta kaiksille katomi.<br><br>\"Oleta<span style=\"background-color:#d8daef;\">n vanha Väinämöinen, kun</span><sup>[1]</sup> elet kyhen kylmän, <br>ennenkuin naneltamailta, tie'itäiltä männyisiä.<br><br>\"Sieltä sain saatanunna, tuhataisen turmenihin: <br>laulan poikki pohkoansa, huoksessansa korvi tuolla <br>toki sammon Saamuttani, kieltihen kehän vyväks<span style=\"background-color:#d8daef;\">i.<br><br>\"Parempi minun olisi, p</span><sup>[1]</sup>äivyt vartehen menisen, <br>kolmannen kovi<span style=\"background-color:#d8daef;\">n hevosen, Hiien lau</span><sup>[1]</sup>hun lainehissa. <br>Lieteleisi, lente"
            ],
            "text/plain": [
              "<IPython.core.display.HTML object>"
            ]
          },
          "metadata": {
            "tags": []
          }
        },
        {
          "output_type": "display_data",
          "data": {
            "text/html": [
              "<small><p style=\"text-align:right;\">Sources: <span style=\"background-color:#d8daef;\">kalevala</span><sup>[1]</sup></p></small>"
            ],
            "text/plain": [
              "<IPython.core.display.HTML object>"
            ]
          },
          "metadata": {
            "tags": []
          }
        },
        {
          "output_type": "stream",
          "text": [
            "----------------- temperature = 1.0 ----------------------\n"
          ],
          "name": "stdout"
        },
        {
          "output_type": "display_data",
          "data": {
            "text/html": [
              "puitoitta Manalmiselle, laskkisillä Päivän päässä. <br>Mitelikki, missä jallen anop' annaksensa kuulla, <br>orohilla ottamahan. Sirkki sillat vennotuilla <br>rennille meryntelehen, huperille huunikoille.<br><br>Tuop' on saattavi takoilleni yleni, kolman kuumoa rakenna.<br><br>\"Itse istui, ei ylene, yöhä toises tullisnasi, tuoksensa anopiseni, <br>jo huolapsihe satahan: Lemminkäinen pääskäläime <br>miekka mahtia Manalla. TuohUkseni, keilemiä <br>mintä kylpiänteäsi! Sanoit, hyvänin sorka, <br>kuni käynes Kaukomieli: \"Oi sie piika"
            ],
            "text/plain": [
              "<IPython.core.display.HTML object>"
            ]
          },
          "metadata": {
            "tags": []
          }
        },
        {
          "output_type": "stream",
          "text": [
            "---------------------------------------\n",
            "Epoch: 57.50, iter: 5200, cross-entropy: 0.778, accuracy: 0.75065\n",
            "   y: tujasi, ku ollet otuksiasi,  | kun nyt maistelit makua, viillit halki hauin vatsan,  | kanssa riivoit rintapäätä, pään on varsin poi\n",
            "  yp:  enati,  | ultlies oreksia i.  | mun oyt kiisieni ,makua, kaillät hamki hauin vatsan,  | kittsa tiivoin rintapäätä, kääs on varsin poi\n",
            "----------------- temperature = 0.2 ----------------------\n"
          ],
          "name": "stdout"
        },
        {
          "output_type": "display_data",
          "data": {
            "text/html": [
              "yyhy'ässässä, suoren sorkissa suvulla; <br>sen on syöjähän syvähä<span style=\"background-color:#d8daef;\">n, Väinämöisen väänte</span><sup>[1]</sup>hese<span style=\"background-color:#d8daef;\">n, <br>läksi Tuonelle sotahan, </span><sup>[1]</sup>Pakkasehen pallomahan<span style=\"background-color:#d8daef;\">!\"<br><br>Siitä seppo Ilmarinen </span><sup>[1]</sup>varsan veitseä venevi; <br>läksi pilven lattialle, saattolin saaren suuhun. <br>Toisin siellä sulhoissansa, kullaissa kulusijansa; <br>mies on mieli miehelähän, kupallin kujan katosin <br>suon suurihin sotiminehen, käänti kääntä kuin purille, <br>onko selvä sammat suuren maitsen, kutsunta kutosi <br>tämän poloisen polutta, tulikuunin kuin lyöehen.<br><br>Siinä"
            ],
            "text/plain": [
              "<IPython.core.display.HTML object>"
            ]
          },
          "metadata": {
            "tags": []
          }
        },
        {
          "output_type": "display_data",
          "data": {
            "text/html": [
              "<small><p style=\"text-align:right;\">Sources: <span style=\"background-color:#d8daef;\">kalevala</span><sup>[1]</sup></p></small>"
            ],
            "text/plain": [
              "<IPython.core.display.HTML object>"
            ]
          },
          "metadata": {
            "tags": []
          }
        },
        {
          "output_type": "stream",
          "text": [
            "----------------- temperature = 0.6 ----------------------\n"
          ],
          "name": "stdout"
        },
        {
          "output_type": "display_data",
          "data": {
            "text/html": [
              "yytähonseksesi, utariset urohia; <br>nosti toista tulluttaissa, palaloissa pakkuraisen.<br><br>\"Ellös piikoja pitäne, katsoi varta kaunistani: <br>sepä kaikki kangatkuutu, <br>kuuli alli, veijon kukkui, kasvoi maata matkalehen <br>tulen puolelle sumalla, ukan kantta kannoka<span style=\"background-color:#d8daef;\">lle.<br><br>Vaka vanha Väinämöinen </span><sup>[1]</sup>vielä tuossa virkkaelvi: <span style=\"background-color:#d8daef;\"><br>\"Mielikki, metsän emäntä, </span><sup>[1]</sup>seki nauroin neitosensi: <br>mikä kuta kutostasi, kunne päänne pääsemähän <br>katon kaikkien panoikse, läksi parta päätämähän<span style=\"background-color:#d8daef;\">.<br><br>Neiti päätänsä kohotti, näki jälkiä lumes</span><sup>[1]</sup>"
            ],
            "text/plain": [
              "<IPython.core.display.HTML object>"
            ]
          },
          "metadata": {
            "tags": []
          }
        },
        {
          "output_type": "display_data",
          "data": {
            "text/html": [
              "<small><p style=\"text-align:right;\">Sources: <span style=\"background-color:#d8daef;\">kalevala</span><sup>[1]</sup></p></small>"
            ],
            "text/plain": [
              "<IPython.core.display.HTML object>"
            ]
          },
          "metadata": {
            "tags": []
          }
        },
        {
          "output_type": "stream",
          "text": [
            "----------------- temperature = 1.0 ----------------------\n"
          ],
          "name": "stdout"
        },
        {
          "output_type": "display_data",
          "data": {
            "text/html": [
              "ykymättävirjoisen, lapseni lapiajaisit <br>tännyrisehen vielän, uuen aartelen asua.<br><br>Kaavo<span style=\"background-color:#d8daef;\">i tuota katsomahan: \"</span><sup>[1]</sup>Ruvi illoin itkumata, <br>kun sa orsta uuennan saanutkana vartilonna, <br>kylmi aiat kymmennistä, hapsit honkahat mäjätsi. <br>Soitti jalla päiväylynnä, luovat luovan luomelehen, <br>taop' on tapusta tapasnut, juuret teräksisillahansa.<br><br>Alkoi honkaella poloa tappeloita tuolle tuolle nenit nuotuin, <br>kaatua katehen kalto, vuotamatta valkeutti! <br>Täytyt Pohjolan tupihin, Päivän poikoien pihille, <br>puhkin p"
            ],
            "text/plain": [
              "<IPython.core.display.HTML object>"
            ]
          },
          "metadata": {
            "tags": []
          }
        },
        {
          "output_type": "display_data",
          "data": {
            "text/html": [
              "<small><p style=\"text-align:right;\">Sources: <span style=\"background-color:#d8daef;\">kalevala</span><sup>[1]</sup></p></small>"
            ],
            "text/plain": [
              "<IPython.core.display.HTML object>"
            ]
          },
          "metadata": {
            "tags": []
          }
        },
        {
          "output_type": "stream",
          "text": [
            "---------------------------------------\n",
            "Epoch: 59.72, iter: 5400, cross-entropy: 0.690, accuracy: 0.78353\n",
            "   y: ,  | honkia satahavuja, tiettäviä tervaksia  | yhen poian polttimeksi, Kullervon kaottimeksi. |  | Koottihin, keräeltihin koivuja, kovia\n",
            "  yp: n  | kapkaa oitaiavuja, taettäviä tervaksia: | rhen kolmn polttimeksi, Kallervon kaontimeksi. |  | Kukrtihin, koräkltihin,kelvuva, kokia\n",
            "----------------- temperature = 0.2 ----------------------\n"
          ],
          "name": "stdout"
        },
        {
          "output_type": "display_data",
          "data": {
            "text/html": [
              "pepäättä seisotellessa, <br>kuusi kullansärmeltansa, kourin kuulemon maolla, <br>saapi saatta, sivut suuttut, tavannut uutemmill<span style=\"background-color:#d8daef;\">en.\"<br><br>Silloin vanha Väinämöinen itse tuon sanoiksi virkki: <br>\"</span><sup>[1]</sup>Ei ole<span style=\"background-color:#d8daef;\"> tuota tunnekana, kunne sa</span><sup>[1]</sup>ato saata vartta, <br>katsoi kannan tähtä myöten, kalliot katalatehen, <br>joka luo'on luotehesen, karvot kaiken kaivalan kiveran <br>sinisen silliksillä, maitoille maserttoille, <br>kiiat kielelle hyvimmelle, päälle mälle tuivällehen!<br><br>\"Jos et miekin jäänteline, kaikki hirveksen aluksi; <br>itse is"
            ],
            "text/plain": [
              "<IPython.core.display.HTML object>"
            ]
          },
          "metadata": {
            "tags": []
          }
        },
        {
          "output_type": "display_data",
          "data": {
            "text/html": [
              "<small><p style=\"text-align:right;\">Sources: <span style=\"background-color:#d8daef;\">kalevala</span><sup>[1]</sup></p></small>"
            ],
            "text/plain": [
              "<IPython.core.display.HTML object>"
            ]
          },
          "metadata": {
            "tags": []
          }
        },
        {
          "output_type": "stream",
          "text": [
            "----------------- temperature = 0.6 ----------------------\n"
          ],
          "name": "stdout"
        },
        {
          "output_type": "display_data",
          "data": {
            "text/html": [
              "pepäättä selvät <br>miehen, <br>parat<span style=\"background-color:#d8daef;\"> paikoille pahoille, </span><sup>[1]</sup>ape'ille uuttomille.<br><br>\"Tuli työlle työnnätähän, rajoa rakkehenana!\"<br><br>Sai siit<span style=\"background-color:#d8daef;\">ä sanoiksi virkki: \"En m</span><sup>[1]</sup><span style=\"background-color:#d8daef;\">ä tuotana totellut, </span><sup>[1]</sup><br>kyllä maita, kylvi maita, kalkka vaimoja valoan, <br>millä mustaksi meressä muuttelomin luotehessa! <br>Kun tulet täkä tupahan, tule<span style=\"background-color:#d8daef;\"> tietä pikkuruisen; <br></span><sup>[1]</sup>mie on marjasen mäellä, makojann mahenakana!<br><br>\"En tieä teko tänyki enkä ilmoisna ikänä <br>ison ilman poukillani, läikkyvän lähteheniä, <br>kaikki kuivan kulkeriä, alla kaunihin katokse"
            ],
            "text/plain": [
              "<IPython.core.display.HTML object>"
            ]
          },
          "metadata": {
            "tags": []
          }
        },
        {
          "output_type": "display_data",
          "data": {
            "text/html": [
              "<small><p style=\"text-align:right;\">Sources: <span style=\"background-color:#d8daef;\">kalevala</span><sup>[1]</sup></p></small>"
            ],
            "text/plain": [
              "<IPython.core.display.HTML object>"
            ]
          },
          "metadata": {
            "tags": []
          }
        },
        {
          "output_type": "stream",
          "text": [
            "----------------- temperature = 1.0 ----------------------\n"
          ],
          "name": "stdout"
        },
        {
          "output_type": "display_data",
          "data": {
            "text/html": [
              "pää'änsä rekisivätä, <br>appi onkoa ovenutt, vieretet vesiraraua, <br>kolmallinen kolkeani, leeät leikasi eivän <br>tämän poikoan poloista, <br>miehen kaikki kasvavalle, pojalle alaksimehin voiterihin, <br>nhillasilta selmilmäisen, <span style=\"background-color:#d8daef;\">alla aaltojen syvien</span><sup>[1]</sup>. <br>Tuo armahan voitisoppi, aaltoassa armahaman: <br><span style=\"background-color:#d8daef;\">\"Ei ole tässä ennen </span><sup>[1]</sup>jouat juoa, ainon annetta alata!<br><br>\"En olen surho etke, ilmas neulat liehkuetta, <br>sirjoa samahan leuas, pienen pihtapaalenen <br>Jumalaisen tyisne työnti, arvelin anettajaksi; <br>ei veteä emärveä tärs"
            ],
            "text/plain": [
              "<IPython.core.display.HTML object>"
            ]
          },
          "metadata": {
            "tags": []
          }
        },
        {
          "output_type": "display_data",
          "data": {
            "text/html": [
              "<small><p style=\"text-align:right;\">Sources: <span style=\"background-color:#d8daef;\">kalevala</span><sup>[1]</sup></p></small>"
            ],
            "text/plain": [
              "<IPython.core.display.HTML object>"
            ]
          },
          "metadata": {
            "tags": []
          }
        },
        {
          "output_type": "stream",
          "text": [
            "---------------------------------------\n",
            "Epoch: 61.93, iter: 5600, cross-entropy: 0.689, accuracy: 0.78857\n",
            "   y: nostalti kaloa tuota,  | veti haukia ve'estä: hauki katkesi kaheksi;  | pursto pohjahan putosi, pää kavahti karpahasen. |  | Jo otti ven\n",
            "  yp: koitanluhsokoa kuota, lkiri varki  le'estä, \"arki tatkeri haheksi;  | eohsto puijahan putosi, pääloulahti kartahasen. |  | Ko olti ven\n",
            "----------------- temperature = 0.2 ----------------------\n"
          ],
          "name": "stdout"
        },
        {
          "output_type": "display_data",
          "data": {
            "text/html": [
              "pppäättyäst<span style=\"background-color:#d8daef;\">i!\"<br><br>Sanoi vanha Väinämöinen: \"En huoli h</span><sup>[1]</sup>ope'itasi, <br>k<span style=\"background-color:#d8daef;\">un ei tuosta kyllin liene, oi Ukko, ylijumala, <br>t</span><sup>[1]</sup>ieonet, vesi, vehnä, vanhempan, vallaelinen! <br>Eläkä sinus surusi, tuhotaito naisop<span style=\"background-color:#d8daef;\">esi: <br>\"Onko saarella tiloa, maata saaren manterella</span><sup>[1]</sup> <br>noissa tuulin pieltavaksi, pihlajan ivitsehiksi.\"<span style=\"background-color:#d8daef;\"> <br><br><br><br><br>Kolmastoista runo<br><br>Siitä lieto Lemminkäinen san</span><sup>[1]</sup><span style=\"background-color:#d8daef;\">an virkkoi, noin nimesi: <br>\"Oi sie vanha Väinämöinen</span><sup>[1]</sup>! \"Mitä itket, <br>kuin sanelen, sanan kairot, kerran miehen, <br>kutsu kultainen kunihen, hope'inen hän"
            ],
            "text/plain": [
              "<IPython.core.display.HTML object>"
            ]
          },
          "metadata": {
            "tags": []
          }
        },
        {
          "output_type": "display_data",
          "data": {
            "text/html": [
              "<small><p style=\"text-align:right;\">Sources: <span style=\"background-color:#d8daef;\">kalevala</span><sup>[1]</sup></p></small>"
            ],
            "text/plain": [
              "<IPython.core.display.HTML object>"
            ]
          },
          "metadata": {
            "tags": []
          }
        },
        {
          "output_type": "stream",
          "text": [
            "----------------- temperature = 0.6 ----------------------\n"
          ],
          "name": "stdout"
        },
        {
          "output_type": "display_data",
          "data": {
            "text/html": [
              "ppppäässtisestä.\"<br><br>Sanoi ennen muihen maion<span style=\"background-color:#d8daef;\">i, sanan virkkoi, noin nimesi: <br>\"</span><sup>[1]</sup>Varjelen<span style=\"background-color:#d8daef;\">, vakainen Luoja, kaitse, ka</span><sup>[1]</sup>tso rakkasena, <br>kullat raianki kumpulta, väkehen vitertimalla, <br>kun ei kuule kukkusia, ei ne kyivän peilitessa. <br>Silloi<span style=\"background-color:#d8daef;\">n vanhan Väinämöisen, </span><sup>[1]</sup>hanki tuon sanuneheksi: <span style=\"background-color:#d8daef;\"><br>\"Mehiläinen, lintu liuka</span><sup>[1]</sup>nnen, nuoret juomata, kukan annan kalvanenka. <br>Jäivät pääne mielen kirja, simallikut langettihi<span style=\"background-color:#d8daef;\">n.<br><br>Siitä lieto Lemminkäinen </span><sup>[1]</sup><span style=\"background-color:#d8daef;\">jo kohta kotihin saa</span><sup>[1]</sup>tt<span style=\"background-color:#d8daef;\">a.<br><br>\"Use'in hyvä emäntä, tuo ta</span><sup>[1]</sup>hotti talkuhuna: <br>\"Oi"
            ],
            "text/plain": [
              "<IPython.core.display.HTML object>"
            ]
          },
          "metadata": {
            "tags": []
          }
        },
        {
          "output_type": "display_data",
          "data": {
            "text/html": [
              "<small><p style=\"text-align:right;\">Sources: <span style=\"background-color:#d8daef;\">kalevala</span><sup>[1]</sup></p></small>"
            ],
            "text/plain": [
              "<IPython.core.display.HTML object>"
            ]
          },
          "metadata": {
            "tags": []
          }
        },
        {
          "output_type": "stream",
          "text": [
            "----------------- temperature = 1.0 ----------------------\n"
          ],
          "name": "stdout"
        },
        {
          "output_type": "display_data",
          "data": {
            "text/html": [
              "ppppäänstJensestensa, <br>Rut' on kollutt kattihinta, liitti liitti liittelihe<span style=\"background-color:#d8daef;\">.<br><br>Sanoi vanha Väinämöinen</span><sup>[1]</sup> arvelevi, itseä pioni Louja luoma, <br>kalma suolta kankapaita. Jumalalle ainopani, <br>matkalmisi maiverella välitsi, hiivillä hianoilla.<br><br>\"Jopa siihinen sinisen, vetehe, ve'etselehen. <br>Olit sillon itketäjä, kapahata kaattatta <br>noissa luona laulajaksi, toisin ahjahan ajaikse?<span style=\"background-color:#d8daef;\">\"<br><br>Tuop' on äiti Lemminkäisen </span><sup>[1]</sup>tavalla on ilmannempi, <br>kun en on minunki omana, oma vanhempi väkeä, <br>tuli tuuli tuntuissa, autto"
            ],
            "text/plain": [
              "<IPython.core.display.HTML object>"
            ]
          },
          "metadata": {
            "tags": []
          }
        },
        {
          "output_type": "display_data",
          "data": {
            "text/html": [
              "<small><p style=\"text-align:right;\">Sources: <span style=\"background-color:#d8daef;\">kalevala</span><sup>[1]</sup></p></small>"
            ],
            "text/plain": [
              "<IPython.core.display.HTML object>"
            ]
          },
          "metadata": {
            "tags": []
          }
        },
        {
          "output_type": "stream",
          "text": [
            "---------------------------------------\n",
            "Epoch: 64.14, iter: 5800, cross-entropy: 0.630, accuracy: 0.80046\n",
            "   y: n keikkelehtämättä. |  | Mitäs tuosta, jos ma laulan, jos ma paljoki pajahan,  | jos laulan jokaisen lakson, joka kuusikon kujerran!  | \n",
            "  yp: n kartkaliheo,ähtä: |  | \"ieä  ouohta  jo  ma laulat, tos ma parjoki pajahan,  | jot teula  lokahsen lapson, joka kuuhikon kujerran!  | \n",
            "----------------- temperature = 0.2 ----------------------\n"
          ],
          "name": "stdout"
        },
        {
          "output_type": "display_data",
          "data": {
            "text/html": [
              "käkäkiässä, saapi varsan valjastisin, <br>sinne pääsi pöyän pitäjät, siveli alente<span style=\"background-color:#d8daef;\">levi.<br><br>Siitä lieto Lemminkäinen </span><sup>[1]</sup>katsoi aita arvelev<span style=\"background-color:#d8daef;\">i: <br>\"Ei ole talossa tässä ra</span><sup>[1]</sup>nnalla messarasta joessa, <br>sinun liinnuossan sanovi, tinalinna liistuasi, <br>jok' oli maammon mansikoissa valkeatan valit<span style=\"background-color:#d8daef;\">an.\"<br><br>Siitä lieto Lemminkäinen </span><sup>[1]</sup><span style=\"background-color:#d8daef;\">kääntihe käsin vetehen, <br>l</span><sup>[1]</sup>asket silville sivalle, saattoi silmän palloikses<span style=\"background-color:#d8daef;\">i. <br><br><br><br><br>Viidesviidettä runo<br><br></span><sup>[1]</sup>Saisi virkki, sop'isi loitsi musta luoto, <br>rakentihe rautakohon kasvottihe, <br>ilman piuka"
            ],
            "text/plain": [
              "<IPython.core.display.HTML object>"
            ]
          },
          "metadata": {
            "tags": []
          }
        },
        {
          "output_type": "display_data",
          "data": {
            "text/html": [
              "<small><p style=\"text-align:right;\">Sources: <span style=\"background-color:#d8daef;\">kalevala</span><sup>[1]</sup></p></small>"
            ],
            "text/plain": [
              "<IPython.core.display.HTML object>"
            ]
          },
          "metadata": {
            "tags": []
          }
        },
        {
          "output_type": "stream",
          "text": [
            "----------------- temperature = 0.6 ----------------------\n"
          ],
          "name": "stdout"
        },
        {
          "output_type": "display_data",
          "data": {
            "text/html": [
              "se'äksessässä.<br><br>\"Hyvä olle synty tylliksi, et armotoa urosta.<span style=\"background-color:#d8daef;\"><br><br>Neiti tuon sanoiksi virkki, itse lausui</span><sup>[1]</sup><span style=\"background-color:#d8daef;\">, noin nimesi: <br>\"Oi on v</span><sup>[1]</sup>anha Väinämöinen! Täällä pieni, vienä kuusi! <br>Paista suohon soitantohen, kätösarhan käännytella <br>nousi on kylvä kyssällänsä, lempilintusen luvell<span style=\"background-color:#d8daef;\">a.<br><br>Siitä lieto Lemminkäinen k</span><sup>[1]</sup>ansa kaunis kantav<span style=\"background-color:#d8daef;\">in.\"<br><br>Siitä lieto Lemminkäinen </span><sup>[1]</sup><span style=\"background-color:#d8daef;\">itse tuon sanoiksi virkki: <br>\"En </span><sup>[1]</sup>ole mennyt liina, kuussa kullan miehen mättä, <br>miehet ahoa avehen, aletehen armoloinen, <br>surmata myötettähän, murkimaa"
            ],
            "text/plain": [
              "<IPython.core.display.HTML object>"
            ]
          },
          "metadata": {
            "tags": []
          }
        },
        {
          "output_type": "display_data",
          "data": {
            "text/html": [
              "<small><p style=\"text-align:right;\">Sources: <span style=\"background-color:#d8daef;\">kalevala</span><sup>[1]</sup></p></small>"
            ],
            "text/plain": [
              "<IPython.core.display.HTML object>"
            ]
          },
          "metadata": {
            "tags": []
          }
        },
        {
          "output_type": "stream",
          "text": [
            "----------------- temperature = 1.0 ----------------------\n"
          ],
          "name": "stdout"
        },
        {
          "output_type": "display_data",
          "data": {
            "text/html": [
              "kä'äksissässä, matkakarvä kailavilla, <br>ei ole kullut onnan<span style=\"background-color:#d8daef;\">alla. Sanan virkkoi, noin nimesi: <br>\"</span><sup>[1]</sup>En nyt työä, niinin mettäjäni miehelässä urosta arvean maassa <br>kieleltä Kelevivarat Sensavirsuisen sisäll<span style=\"background-color:#d8daef;\">e. <br>Vaka vanha Väinämöinen </span><sup>[1]</sup>tuota kaunis kantalassa, <br>senki veittyjä vesikin päässä meren sinisun <br>lässä meren pirta, niien neljäissä petäistä<span style=\"background-color:#d8daef;\">. <br>Sanoi Pohjolan isäntä: \"</span><sup>[1]</sup>Set mä Minnekki taloittelihe <br>suurilla soankeasilla, me'istä lipisteämällä.\" <span style=\"background-color:#d8daef;\"><br><br><br><br>Kolmaskymmenes runo<br><br></span><sup>[1]</sup>Minös vieran vierelehen, uuti k"
            ],
            "text/plain": [
              "<IPython.core.display.HTML object>"
            ]
          },
          "metadata": {
            "tags": []
          }
        },
        {
          "output_type": "display_data",
          "data": {
            "text/html": [
              "<small><p style=\"text-align:right;\">Sources: <span style=\"background-color:#d8daef;\">kalevala</span><sup>[1]</sup></p></small>"
            ],
            "text/plain": [
              "<IPython.core.display.HTML object>"
            ]
          },
          "metadata": {
            "tags": []
          }
        },
        {
          "output_type": "stream",
          "text": [
            "---------------------------------------\n",
            "Epoch: 66.35, iter: 6000, cross-entropy: 0.680, accuracy: 0.78939\n",
            "   y: ille.  | Tuli vanha impi rukka, itse noin sanoiksi virkki: |  | \"Kauko rukka, miesi kaunis! Kun et muistane minua,  | annan täältä menne\n",
            "  yp: nsle  |  | Suoi sanha Vspi tunki, stse toir sanoiksi virkki:  | \"Kaukonsakka, kiest kautis, Kun et luistane minua,  | klna  täältä manne\n",
            "----------------- temperature = 0.2 ----------------------\n"
          ],
          "name": "stdout"
        },
        {
          "output_type": "display_data",
          "data": {
            "text/html": [
              "ppppäyttänsä porosta, <br>kalan kultaisen kuvasi, hope'isen päiviroita, <br>niin vilja veräjivarret, saaren rapahan ravehtu! <br>Lautia lammin lantiassa, veitikö ve'en vesaksen, <br>alle kuue<span style=\"background-color:#d8daef;\">n kurkihirren, alle kaunihin katoksen! <br></span><sup>[1]</sup>Ei sinua sisärtä roivat, kuuset päivet silkijättä, <br>kirjasta kivestä puolen, surmat sulhonaisemahan. <br>Tuli sormin sortan sulhon, kuni aina armo aluka, <br>tuuli tuulen suomat suksi, aalto haukkuvat kalistin, <br>tuuli tuulen tuuittamatta, avanhaisen laittomatta, <br>rahan saatansa imetti, "
            ],
            "text/plain": [
              "<IPython.core.display.HTML object>"
            ]
          },
          "metadata": {
            "tags": []
          }
        },
        {
          "output_type": "display_data",
          "data": {
            "text/html": [
              "<small><p style=\"text-align:right;\">Sources: <span style=\"background-color:#d8daef;\">kalevala</span><sup>[1]</sup></p></small>"
            ],
            "text/plain": [
              "<IPython.core.display.HTML object>"
            ]
          },
          "metadata": {
            "tags": []
          }
        },
        {
          "output_type": "stream",
          "text": [
            "----------------- temperature = 0.6 ----------------------\n"
          ],
          "name": "stdout"
        },
        {
          "output_type": "display_data",
          "data": {
            "text/html": [
              "ppppyännäröTensiset. Iltaran, ylikainen, <br>liikon on tapata tappamata, puuta kuuhu kultoa<span style=\"background-color:#d8daef;\">na.<br><br>Siinä vanha Väinämöinen </span><sup>[1]</sup><span style=\"background-color:#d8daef;\">itse tuon sanoiksi virkki: <br>\"Ohoh s</span><sup>[1]</sup>inua, uutu purni, sukuni sukenen luovo, <br>väännän viientäjä, männylehtä vuotamahan, <br>kun oli tuota tuntenevi muun muuksi muikattia, <br>vieo vettä riskun lähen, petäjän pesijomahan!<br><br>\"Lähet tullutki tulevan, arvoai arin penästy, <br>panno meillä peilet kainallasta tulet kosken kannantahan <br>nousi nuotille otavan, kasvavi kovan konahan<span style=\"background-color:#d8daef;\"> <br>luoksi armahan emo</span><sup>[1]</sup>"
            ],
            "text/plain": [
              "<IPython.core.display.HTML object>"
            ]
          },
          "metadata": {
            "tags": []
          }
        },
        {
          "output_type": "display_data",
          "data": {
            "text/html": [
              "<small><p style=\"text-align:right;\">Sources: <span style=\"background-color:#d8daef;\">kalevala</span><sup>[1]</sup></p></small>"
            ],
            "text/plain": [
              "<IPython.core.display.HTML object>"
            ]
          },
          "metadata": {
            "tags": []
          }
        },
        {
          "output_type": "stream",
          "text": [
            "----------------- temperature = 1.0 ----------------------\n"
          ],
          "name": "stdout"
        },
        {
          "output_type": "display_data",
          "data": {
            "text/html": [
              "äpäytäntämäskö pihoa, pitiä; <br>pitä vierahtavi varret, kankahat kovirauten <br>kunikanna haltojansa, käärmehissä kylässä <br>käpähän kypärinenki, kiville kiven rakoille <br>tämän inkun kinnastaman, poika poimahan parempi, <br>metsän karjan kaikelohon, sormun juotsunt sortamahan: <br>jo minullen puitet poia, meni, maion-antajani! <br>Muit' sun etehen hatalani, metsän vielä keihonani, <br>kullansa kurantoakse, korvosennen koinnolmehen<span style=\"background-color:#d8daef;\">.<br><br>Itse äiti Lemminkäisen s</span><sup>[1]</sup>e on suusta suikkahasta, <br>kaa'amme partasta parempi, lumen "
            ],
            "text/plain": [
              "<IPython.core.display.HTML object>"
            ]
          },
          "metadata": {
            "tags": []
          }
        },
        {
          "output_type": "display_data",
          "data": {
            "text/html": [
              "<small><p style=\"text-align:right;\">Sources: <span style=\"background-color:#d8daef;\">kalevala</span><sup>[1]</sup></p></small>"
            ],
            "text/plain": [
              "<IPython.core.display.HTML object>"
            ]
          },
          "metadata": {
            "tags": []
          }
        },
        {
          "output_type": "stream",
          "text": [
            "---------------------------------------\n",
            "Epoch: 68.56, iter: 6200, cross-entropy: 0.588, accuracy: 0.81283\n",
            "   y: mminkäinen: \"Oi emoni, kantajani!  | Ellös olko milläkänä, milläkänä, tuollakana!  | Tuvat uuet tehtänehe, paremmat osattanehe,  | Poh\n",
            "  yp: nminkäinen, \"Oi omoni, kantajani!  | Kllös olko milläkänä, milläkänä, tuollakana!  | Tulat tust keitä ehe, parammat osattanehe,  | voh\n",
            "----------------- temperature = 0.2 ----------------------\n"
          ],
          "name": "stdout"
        },
        {
          "output_type": "display_data",
          "data": {
            "text/html": [
              "paisososen sulessa, maan lauaisin laelta<span style=\"background-color:#d8daef;\">.<br><br>\"Kun ei tuosta kyllin liene, vielä </span><sup>[1]</sup>muistan miekko vierti, usko ulvoista usuivat, <br>kunne päältä kuikuttelet<span style=\"background-color:#d8daef;\"> noilla Pohjolan pihoilla</span><sup>[1]</sup>! <br>Kuun oliksi, koin sanoinen, kanssa vappa vainollinen.\"<br><br>Menä suonten sananen ja pahoin poloneasi. <br>Vieri siitä virrettele, pahalle painehesta <br>pilven pienen pelkemistä, kahen kangasta kov<span style=\"background-color:#d8daef;\">ista.<br><br>Siitä vanha Väinämöinen a</span><sup>[1]</sup><span style=\"background-color:#d8daef;\">rvelee, ajattelevi: <br>\"Mi</span><sup>[1]</sup> tään alenemmille<span style=\"background-color:#d8daef;\">, emon entisen tuvill</span><sup>[1]</sup><span style=\"background-color:#d8daef;\">e <br>ennen Tuonen tahtoma</span><sup>[1]</sup>sta, Manalan alante"
            ],
            "text/plain": [
              "<IPython.core.display.HTML object>"
            ]
          },
          "metadata": {
            "tags": []
          }
        },
        {
          "output_type": "display_data",
          "data": {
            "text/html": [
              "<small><p style=\"text-align:right;\">Sources: <span style=\"background-color:#d8daef;\">kalevala</span><sup>[1]</sup></p></small>"
            ],
            "text/plain": [
              "<IPython.core.display.HTML object>"
            ]
          },
          "metadata": {
            "tags": []
          }
        },
        {
          "output_type": "stream",
          "text": [
            "----------------- temperature = 0.6 ----------------------\n"
          ],
          "name": "stdout"
        },
        {
          "output_type": "display_data",
          "data": {
            "text/html": [
              "pajasata Minalle, moltta myörit, <br>taivon korvea kovia, lomia ison Lomminkänsä. <br>Sanoi tuonna tultuansa: \"On mulla tuloa kaase, <br>alle maalla maan hyviksi, lepe'ille liehkuville. <br>Tuli maitolle manevi, myötä myötän kynnykselle! <br>Tuosta tulta tulleheksi, sorisin sotahavassa. <br>Itse kaukista kypänä, viiet vyöhyyttäjän alla <br>kunsikosta kohtaelevat ollen vielä <br>sinteleikse, siskosi, hävänämmen: \"kiskoit, käen kavainen! <br>Tuopa lyypä, noito nosta, eikä riusko riistuttu<span style=\"background-color:#d8daef;\">na.\"<br><br>Silloin vanha Väinämöinen </span><sup>[1]</sup>alla"
            ],
            "text/plain": [
              "<IPython.core.display.HTML object>"
            ]
          },
          "metadata": {
            "tags": []
          }
        },
        {
          "output_type": "display_data",
          "data": {
            "text/html": [
              "<small><p style=\"text-align:right;\">Sources: <span style=\"background-color:#d8daef;\">kalevala</span><sup>[1]</sup></p></small>"
            ],
            "text/plain": [
              "<IPython.core.display.HTML object>"
            ]
          },
          "metadata": {
            "tags": []
          }
        },
        {
          "output_type": "stream",
          "text": [
            "----------------- temperature = 1.0 ----------------------\n"
          ],
          "name": "stdout"
        },
        {
          "output_type": "display_data",
          "data": {
            "text/html": [
              "paisostuavoi, saa'an Sarjakkasehet sakaset.<br><br>Lenti lapoi leehkämättä, seisotteli leuvannulta <br>Lemminkäisellen emotto, vieressä venen piolla. <br>Astua Ahintakänä, ei käyli kysyntä enk<span style=\"background-color:#d8daef;\">ä.\"<br><br>Siitä Pohjolan emäntä </span><sup>[1]</sup>liina jo tuossa joutavaski, <br>vaipu suoltasi surusta päähänpäätä katsoltansa. <br>Vieri viestin vieremässä, ylytylöyt myötämistä, <br>miehen tinnentä itsellä, Sarion salpokkarilla<span style=\"background-color:#d8daef;\">n.<br><br>Sanoi seppo Ilmarinen: \"</span><sup>[1]</sup>Mit' itket, isteminkin: <br>tähe nyt kunnen kainoin kansa, minun miekan muunkakana <br>vahman vaski"
            ],
            "text/plain": [
              "<IPython.core.display.HTML object>"
            ]
          },
          "metadata": {
            "tags": []
          }
        },
        {
          "output_type": "display_data",
          "data": {
            "text/html": [
              "<small><p style=\"text-align:right;\">Sources: <span style=\"background-color:#d8daef;\">kalevala</span><sup>[1]</sup></p></small>"
            ],
            "text/plain": [
              "<IPython.core.display.HTML object>"
            ]
          },
          "metadata": {
            "tags": []
          }
        },
        {
          "output_type": "stream",
          "text": [
            "---------------------------------------\n",
            "Epoch: 70.77, iter: 6400, cross-entropy: 0.599, accuracy: 0.81071\n",
            "   y: ossa tässä tannerta orosen olla.  | Eikä kielletä sinua, jos olet siivolla tuvassa,  | oven suussa seisomasta, oven suussa, orren al\n",
            "  yp: eisa. | uhsä tohherta hlosen,onla,  | Pi ä sielletä kinua, jos olet kiivolla suvansa,  | slen suussa ouisomasta, vven suusta  srren al\n",
            "----------------- temperature = 0.2 ----------------------\n"
          ],
          "name": "stdout"
        },
        {
          "output_type": "display_data",
          "data": {
            "text/html": [
              "sepääsi seipäsivesi, kalallista kainakseni, <br>kun oli laulaja lapulla, jos ole vertellä näkävä<span style=\"background-color:#d8daef;\"> <br>pimeässä Pohjolassa, sangassa Sariolassa. <br>M</span><sup>[1]</sup>i olet mielellä panoinen, katajilla kainen kanteloitsemahan <br>tänne souti Saarihisen. Jo oli l'ulo jyttä syötty <br>Luojalla lopettumahan, väkivarsi varten varsin.<br><br>\"Nousi, kohin kotia, tuo tänne sotisopan<span style=\"background-color:#d8daef;\">i! <br>En minä mitänä s</span><sup>[1]</sup>oisi, ei varsa uusi kohta leukaloihin, <br>siitä suonten solta seisoi, karhun kanssa korkeaisi, <br>kuussa kulka<span style=\"background-color:#d8daef;\">hun kotihin, kaunihisen kartanohon</span><sup>[1]</sup>"
            ],
            "text/plain": [
              "<IPython.core.display.HTML object>"
            ]
          },
          "metadata": {
            "tags": []
          }
        },
        {
          "output_type": "display_data",
          "data": {
            "text/html": [
              "<small><p style=\"text-align:right;\">Sources: <span style=\"background-color:#d8daef;\">kalevala</span><sup>[1]</sup></p></small>"
            ],
            "text/plain": [
              "<IPython.core.display.HTML object>"
            ]
          },
          "metadata": {
            "tags": []
          }
        },
        {
          "output_type": "stream",
          "text": [
            "----------------- temperature = 0.6 ----------------------\n"
          ],
          "name": "stdout"
        },
        {
          "output_type": "display_data",
          "data": {
            "text/html": [
              "sepääsi seipäsivesi, kaunahaski kartanoav<span style=\"background-color:#d8daef;\">i.\"<br><br>Se on seppo Ilmarinen </span><sup>[1]</sup><span style=\"background-color:#d8daef;\">sanan virkkoi, noin nimesi: <br>\"Onko </span><sup>[1]</sup><span style=\"background-color:#d8daef;\">saarella sijoa, maata Saaren manterella, <br></span><sup>[1]</sup>tuo tuosta tohon vähäisen. Vainen laita luotteli.<br><br>\"Saivat kaunihin katoisi, kaiken kaivilla keretti, <br>siihen kaikki kalppahassa; <br>vuoren tuulevi valoissa, syvinyöystä syötäväksi, <br>päätä kynsis kymmäräissä, karjan kannassa vamme<span style=\"background-color:#d8daef;\">.<br><br>\"Sulho, viljon veljyeni! Vuotit v</span><sup>[1]</sup>äänti väänäistäni <br>aukoa rumiksi seiso, varsi vanhe taljoillensa, <br>minun tyttö työtä työnnä"
            ],
            "text/plain": [
              "<IPython.core.display.HTML object>"
            ]
          },
          "metadata": {
            "tags": []
          }
        },
        {
          "output_type": "display_data",
          "data": {
            "text/html": [
              "<small><p style=\"text-align:right;\">Sources: <span style=\"background-color:#d8daef;\">kalevala</span><sup>[1]</sup></p></small>"
            ],
            "text/plain": [
              "<IPython.core.display.HTML object>"
            ]
          },
          "metadata": {
            "tags": []
          }
        },
        {
          "output_type": "stream",
          "text": [
            "----------------- temperature = 1.0 ----------------------\n"
          ],
          "name": "stdout"
        },
        {
          "output_type": "display_data",
          "data": {
            "text/html": [
              "sepäässä sen pihalle saareani!\"<br><br>Kulei saieksen tuvava, lakutesi laulamalla <br>ylitse soan leviä, kaivan kaaren kartanosta. <br>Näki poikansa pahoin: \"Siksi mennyt Manellen, <br>läksin itse Lemminkäinen aina kanta kaunokaiset:<span style=\"background-color:#d8daef;\"> <br>liikkui sillan liitoksella, k</span><sup>[1]</sup>asaokarhin kankahalla <br>potkin porttihin lovilta, kankahan kannan malla; <br>sau<span style=\"background-color:#d8daef;\">nan virkkoi, noin nimesi: \"Ei </span><sup>[1]</sup>äitä toti arahen <br>päivän päästimättömäksi, pojat raksumahan.<br><br>Jo tuli lämmin jotta ruokka, maakalinnen maastusesta, <br>piä parasta parempikoi, saun"
            ],
            "text/plain": [
              "<IPython.core.display.HTML object>"
            ]
          },
          "metadata": {
            "tags": []
          }
        },
        {
          "output_type": "display_data",
          "data": {
            "text/html": [
              "<small><p style=\"text-align:right;\">Sources: <span style=\"background-color:#d8daef;\">kalevala</span><sup>[1]</sup></p></small>"
            ],
            "text/plain": [
              "<IPython.core.display.HTML object>"
            ]
          },
          "metadata": {
            "tags": []
          }
        },
        {
          "output_type": "stream",
          "text": [
            "---------------------------------------\n",
            "Epoch: 72.99, iter: 6600, cross-entropy: 0.555, accuracy: 0.83122\n",
            "   y: i, liioin voivalle lisäksi.\" |  | Kulkevi kylitse tuonne, teitse Tieran kartanohon.  | Sanoi sinne saatuansa, toimitteli tultuansa: |  | \"\n",
            "  yp: i   | ankin loivaile lisäksi.\" |  | Sulkiri kylitse tuonee, turtue tieran kyrtanohon.  | Jinoi sinne saatuansa, toimitteli tultuansa: |  | \"\n",
            "----------------- temperature = 0.2 ----------------------\n"
          ],
          "name": "stdout"
        },
        {
          "output_type": "display_data",
          "data": {
            "text/html": [
              "otetävi ajan. <br>Alkoi korven konnillensa, kolmen koivuista keseä: <br>tääll' on poia, toisitteli muut mulle päästämähän! <br>Ei ole kiirttä jännikkuja: ei ole ellä syntyä elkä. <br>Kun sanoi minun poloinen, oisi kaunis kaatanoinin, <br>saanut on salottui sammanna, kysynyt kyläistä syvällä, <br>tuhat pyyttä tyyttä syöä, astun aittahan maalta, <br>käyöstä kutisemahan, vaahin aaltojen ahoj<span style=\"background-color:#d8daef;\">a! <br>Kun konsa tulevi </span><sup>[1]</sup><span style=\"background-color:#d8daef;\">vieras, ellös vierasta viha</span><sup>[1]</sup>sta. <br>Tuoh<span style=\"background-color:#d8daef;\">on seppo Ilmarinen, takoja iän-ikuinen, <br>takoi r</span><sup>[1]</sup>eutojen rekihit, tuon hu"
            ],
            "text/plain": [
              "<IPython.core.display.HTML object>"
            ]
          },
          "metadata": {
            "tags": []
          }
        },
        {
          "output_type": "display_data",
          "data": {
            "text/html": [
              "<small><p style=\"text-align:right;\">Sources: <span style=\"background-color:#d8daef;\">kalevala</span><sup>[1]</sup></p></small>"
            ],
            "text/plain": [
              "<IPython.core.display.HTML object>"
            ]
          },
          "metadata": {
            "tags": []
          }
        },
        {
          "output_type": "stream",
          "text": [
            "----------------- temperature = 0.6 ----------------------\n"
          ],
          "name": "stdout"
        },
        {
          "output_type": "display_data",
          "data": {
            "text/html": [
              "peräästäpäsi, <br>vainiolle vaikoa, selviselta veen selälle; <br>siitä kyynet kyyhät tehet, vaski vaakkavanheille<span style=\"background-color:#d8daef;\">.<br><br>Sanoi seppo Ilmarinen: \"Ann</span><sup>[1]</sup>as sistä sarvikottu merehen sinisen <br>lohen poika, haukkuhann haivanen katantele!<br><br>\"Anna turska tutkaellut, ei olla talossa tasta, <br>jolla hauan haljallasi; niime on kyllän kyynäkseltä<span style=\"background-color:#d8daef;\">.<br><br>Soitti pojat Pohjolassa, soitti </span><sup>[1]</sup>maalla sortimialta, <br>karjan tärtä kalmahasta, yhen saammat salosikse, <br>korvan koita kuuluksesi, kenkiä kesäisanasi <br>kultaisella sukkulainen, sini "
            ],
            "text/plain": [
              "<IPython.core.display.HTML object>"
            ]
          },
          "metadata": {
            "tags": []
          }
        },
        {
          "output_type": "display_data",
          "data": {
            "text/html": [
              "<small><p style=\"text-align:right;\">Sources: <span style=\"background-color:#d8daef;\">kalevala</span><sup>[1]</sup></p></small>"
            ],
            "text/plain": [
              "<IPython.core.display.HTML object>"
            ]
          },
          "metadata": {
            "tags": []
          }
        },
        {
          "output_type": "stream",
          "text": [
            "----------------- temperature = 1.0 ----------------------\n"
          ],
          "name": "stdout"
        },
        {
          "output_type": "display_data",
          "data": {
            "text/html": [
              "onist'ani aikaista minun etelin, <br>kun onsani veno vetäjä. Vilkon on viimesi <br>näillä matkalavitaloilla, tuuitella tuttamisen. <br>Tulipa huvoa uhalle, naiset et lausahta väänni! <br>Toinen teki tieoinen sinun emoni luottehikse, <br>empäsi etsimeen Lemminkäistä vainelevan <br>lännen lankahun lohahle<span style=\"background-color:#d8daef;\">, Manalan ikipurohon, <br>jo</span><sup>[1]</sup>tka kasvoi kaunis muista, koirot linnut lehmän luista, <br>haukani haluamainta, kylvi syötä kyysettävi <br>kälkeä mere he'eltä, niinkuin selväkä asennan, <br>turmeli tunturmajan, miehet allan astumi"
            ],
            "text/plain": [
              "<IPython.core.display.HTML object>"
            ]
          },
          "metadata": {
            "tags": []
          }
        },
        {
          "output_type": "display_data",
          "data": {
            "text/html": [
              "<small><p style=\"text-align:right;\">Sources: <span style=\"background-color:#d8daef;\">kalevala</span><sup>[1]</sup></p></small>"
            ],
            "text/plain": [
              "<IPython.core.display.HTML object>"
            ]
          },
          "metadata": {
            "tags": []
          }
        },
        {
          "output_type": "stream",
          "text": [
            "---------------------------------------\n",
            "Epoch: 75.20, iter: 6800, cross-entropy: 0.583, accuracy: 0.82210\n",
            "   y: äviksi  | Pohjan pitkissä pioissa, Sariolan juomingissa. |  | Saipa leivät leivotuksi, talkkunat taputetuksi.  | Kului aikoa vähäisen, p\n",
            "  yp: a ä si,vkohjan pitkissä pioista, Lariolan juomingissa. |  | Pai a kiivät leivotuksi, kullkunat talutttuksi.  | Kunli aikoa vähäisen, p\n",
            "----------------- temperature = 0.2 ----------------------\n"
          ],
          "name": "stdout"
        },
        {
          "output_type": "display_data",
          "data": {
            "text/html": [
              "ppppäyttäväksi, tyttöjättöstä työlle<span style=\"background-color:#d8daef;\"> <br>ylimäistä tietä myöten ylimäis</span><sup>[1]</sup>tä taivosilta; <br>sen kannut Karean käksi, korvasta kohisevasta: <br>heitti maalla vaskisella, kuusi kulmilla yleni, <br>kaikki kallion kätehen kesken yölle unnellens<span style=\"background-color:#d8daef;\">a.<br><br>Siitä seppo Ilmarinen </span><sup>[1]</sup><span style=\"background-color:#d8daef;\">tyttöä anelemahan. <br></span><sup>[1]</sup><span style=\"background-color:#d8daef;\">Pani orjan paimeneksi, k</span><sup>[1]</sup>oiran poika poltelevi! <br>Siitä laulaja arosi, tahi ei piito pahoa; <br>pani emp' on syömät sinulle, rannat rahoilla rakoilta, <br>pellot seissä seisosensa, tainen taskista talilla, <br>alkoi vältä saavatteli pojall"
            ],
            "text/plain": [
              "<IPython.core.display.HTML object>"
            ]
          },
          "metadata": {
            "tags": []
          }
        },
        {
          "output_type": "display_data",
          "data": {
            "text/html": [
              "<small><p style=\"text-align:right;\">Sources: <span style=\"background-color:#d8daef;\">kalevala</span><sup>[1]</sup></p></small>"
            ],
            "text/plain": [
              "<IPython.core.display.HTML object>"
            ]
          },
          "metadata": {
            "tags": []
          }
        },
        {
          "output_type": "stream",
          "text": [
            "----------------- temperature = 0.6 ----------------------\n"
          ],
          "name": "stdout"
        },
        {
          "output_type": "display_data",
          "data": {
            "text/html": [
              "ppppäyttäväksi, tyttärintehettimätä; <br>vanha koire vaattehia, suoli suksit suttaiäksi? <br>Enkä nyt vielä meiän pieni, ei kehnoisi kumota, <br>elä silmällä sijalla, ilovallan alkeje<span style=\"background-color:#d8daef;\">lla.<br><br>Kullervo, Kalervon poika, </span><sup>[1]</sup>katselevi Tammen rauta, <br>Parsi matkoa palasen, hiiren hirmen rintoista. <br>Aja katasi kämehen, hiihti sormua mennäksen, <br>kuun kuni alla kantajana, koivun kulkia kalotta. <br>Ikennältä<span style=\"background-color:#d8daef;\"> Pohjan poika, itse </span><sup>[1]</sup>Pohjolan isäntä! <br>Ken suota sotahan saapi, tuolta toisen tuon ajalle <br>vaskikarjuhan kioisi, polo"
            ],
            "text/plain": [
              "<IPython.core.display.HTML object>"
            ]
          },
          "metadata": {
            "tags": []
          }
        },
        {
          "output_type": "display_data",
          "data": {
            "text/html": [
              "<small><p style=\"text-align:right;\">Sources: <span style=\"background-color:#d8daef;\">kalevala</span><sup>[1]</sup></p></small>"
            ],
            "text/plain": [
              "<IPython.core.display.HTML object>"
            ]
          },
          "metadata": {
            "tags": []
          }
        },
        {
          "output_type": "stream",
          "text": [
            "----------------- temperature = 1.0 ----------------------\n"
          ],
          "name": "stdout"
        },
        {
          "output_type": "display_data",
          "data": {
            "text/html": [
              "pippäsi tulesta, <br>jalan pilvi piosen päästä, lapsi toisen lattiolle: <br>punapuolta polttimella, rinnulta riintuttelille. <br>Ikävärpäni väännän, käännytti iloksi koissa; <br>miekka tuon en tuohta täännä päätänsä häpeätä, <br>metsäpartona auvannesta, ilman impytä iloilta.\"<br><br>Saareleiksi, mies valaisten virrenpäiksi vaimon vanhan, <br>kaunihin katomialta, hengen-vieli hautomien<br><br>tahavän tukut tuvilla auke'immät utaimehin. <br>Minne tiesitte tyhyksi, saneli sanoakarva, <br>iso puuttui pursanpäiksi, varsun vaskisen vara"
            ],
            "text/plain": [
              "<IPython.core.display.HTML object>"
            ]
          },
          "metadata": {
            "tags": []
          }
        },
        {
          "output_type": "stream",
          "text": [
            "---------------------------------------\n",
            "Epoch: 77.41, iter: 7000, cross-entropy: 0.550, accuracy: 0.82780\n",
            "   y: iitä uuen purren, varsin valmihin venehen,  | mennä miehen muille maille, kulkea kotiperille. |  | Siitä lieto Lemminkäinen, päästyä k\n",
            "  yp: i kä snen puijen, marsin vaatisin vanehen,  | aenie maelen muilee maille, kunkea kotiherille? |  | Siinä lieto Lemminkäinen  toä tyä k\n",
            "----------------- temperature = 0.2 ----------------------\n"
          ],
          "name": "stdout"
        },
        {
          "output_type": "display_data",
          "data": {
            "text/html": [
              "papppäätti taion kysyiset, kaunat kannan kastelevat; <br>itki tulta kirveheltä, vastat kauloa valett<span style=\"background-color:#d8daef;\">i <br>näillä väljillä vesillä, lake'illa lainehilla!</span><sup>[1]</sup><span style=\"background-color:#d8daef;\">\"<br><br>Neiti tuon sanoiksi virkki, itse lausui</span><sup>[1]</sup><span style=\"background-color:#d8daef;\">, noin nimesi: <br>\"Ei ole </span><sup>[1]</sup>kuollut ouotti sinne, kuun sukka sulan sinä<span style=\"background-color:#d8daef;\">stä.\"<br><br>Sanoi äiti Lemminkäisen</span><sup>[1]</sup><span style=\"background-color:#d8daef;\">: \"Jo vainen valehtelitki! <br>Sa</span><sup>[1]</sup>ava saaren maata syvät, maahan sorran soutimilla.<br><br>Katsoi koiran kannon päälle: \"Ei tieä, poikoani, <br>kunne kyinnän kylvämättä, kaivan kolman kummentasi, <br>kun oli kummia kovihin, painen "
            ],
            "text/plain": [
              "<IPython.core.display.HTML object>"
            ]
          },
          "metadata": {
            "tags": []
          }
        },
        {
          "output_type": "display_data",
          "data": {
            "text/html": [
              "<small><p style=\"text-align:right;\">Sources: <span style=\"background-color:#d8daef;\">kalevala</span><sup>[1]</sup></p></small>"
            ],
            "text/plain": [
              "<IPython.core.display.HTML object>"
            ]
          },
          "metadata": {
            "tags": []
          }
        },
        {
          "output_type": "stream",
          "text": [
            "----------------- temperature = 0.6 ----------------------\n"
          ],
          "name": "stdout"
        },
        {
          "output_type": "display_data",
          "data": {
            "text/html": [
              "pyppyöännensässä. <br>Lauasi lihoin pinnan, periperran penkuroian: <br>nuoret neito korjahansa, rees Menglä unnperill<span style=\"background-color:#d8daef;\">e.<br><br>Neiti päätänsä kohotti, </span><sup>[1]</sup>katalihet karvont<span style=\"background-color:#d8daef;\">ahan: <br>kun olen luotu </span><sup>[1]</sup>katselevi, jottelevi joen ajalta: <span style=\"background-color:#d8daef;\"><br>\"En mä tuostana totellut, ko'in kui</span><sup>[1]</sup>llan kuulut kontti.<br><br>\"Lähen tyttären takaisen, tuonne korjasta kovista, <br>mennä nuorin nouttamahan, kirjokarn katsomahan! <br>En tieä pitoissani, istuaisesi opakko! <br>Kaitoki sanan salolle ilman tintunen terällä? <br>Siell' on lapsi latvanati, sen läkemi sääll"
            ],
            "text/plain": [
              "<IPython.core.display.HTML object>"
            ]
          },
          "metadata": {
            "tags": []
          }
        },
        {
          "output_type": "display_data",
          "data": {
            "text/html": [
              "<small><p style=\"text-align:right;\">Sources: <span style=\"background-color:#d8daef;\">kalevala</span><sup>[1]</sup></p></small>"
            ],
            "text/plain": [
              "<IPython.core.display.HTML object>"
            ]
          },
          "metadata": {
            "tags": []
          }
        },
        {
          "output_type": "stream",
          "text": [
            "----------------- temperature = 1.0 ----------------------\n"
          ],
          "name": "stdout"
        },
        {
          "output_type": "display_data",
          "data": {
            "text/html": [
              "peppokovos punaiset portiloisi, laulu maat siviksi päähän.<br><br>Kanokiele, karhujta nävisiä uloava! <br>Joko kävy impi illan, kuuen somean sovernä.<br><br>Ei hyläis hyvän heoni eikä muu ei myytyny? <br>Tieme miekka eisteksihin, et ke'enyt, me'elteline. <br>Päivätä hopeasaive, katsohoni soitteleikse, <br>riekkaihin itsisilti. Itki kään iske'ille <br>illan aavulla vetyäni, vaeli maivan vuota<span style=\"background-color:#d8daef;\">mahan.\"<br><br>Siitä Pohjolan emäntä s</span><sup>[1]</sup><span style=\"background-color:#d8daef;\">anan virkkoi, noin nimesi: <br>\"En mä </span><sup>[1]</sup>tässä nuota sorjuhuta, ei ole hauin harjaellin<span style=\"background-color:#d8daef;\">e.<br><br>Vaka vanha Väinä</span><sup>[1]</sup>"
            ],
            "text/plain": [
              "<IPython.core.display.HTML object>"
            ]
          },
          "metadata": {
            "tags": []
          }
        },
        {
          "output_type": "display_data",
          "data": {
            "text/html": [
              "<small><p style=\"text-align:right;\">Sources: <span style=\"background-color:#d8daef;\">kalevala</span><sup>[1]</sup></p></small>"
            ],
            "text/plain": [
              "<IPython.core.display.HTML object>"
            ]
          },
          "metadata": {
            "tags": []
          }
        },
        {
          "output_type": "stream",
          "text": [
            "---------------------------------------\n",
            "Epoch: 79.62, iter: 7200, cross-entropy: 0.490, accuracy: 0.85531\n",
            "   y: atvan, kultalehvän;  | latvan työnti taivahalle, puhki pilvien kohotti,  | lehvät ilmoille levitti, halki taivahan hajotti. |  | Laulele\n",
            "  yp: ai an,  | autakahvän   | laitoi työnti taivahalle, pinki pulvien kuvotti,  | laieät llmoille levitti, halki taivahan hajoati. |  | \"aulole\n",
            "----------------- temperature = 0.2 ----------------------\n"
          ],
          "name": "stdout"
        },
        {
          "output_type": "display_data",
          "data": {
            "text/html": [
              "ppppäänniänsässä. <br>Hian haapuvat haravan, puun en joukon joutuasta. <br>Paljonen pojan posoille, valehille vasvioille! <br>Tule nyt purtehen Jumala, verevämmän vierettelet!<span style=\"background-color:#d8daef;\">\"<br><br>Neitonen kujertelevi, vyö vaski valittelevi, <br>sormiansa murt</span><sup>[1]</sup>apätä, kuun kuollen kummun käännä.<br><br>\"Ota niistä jalla kasvat, kirjokannen kaani<span style=\"background-color:#d8daef;\">tellut.\"<br><br>Sanoi Pohjolan emäntä</span><sup>[1]</sup><span style=\"background-color:#d8daef;\">, itse lausui ja nimesi: <br>\"</span><sup>[1]</sup><span style=\"background-color:#d8daef;\">Elkätte, etinen kansa, </span><sup>[1]</sup>pani eelle ja sanoisen <br>luoksi entosen ajahan eeskä äiti äijämättä: <br>isken Kalervon pouki, käsiruinen käännytte"
            ],
            "text/plain": [
              "<IPython.core.display.HTML object>"
            ]
          },
          "metadata": {
            "tags": []
          }
        },
        {
          "output_type": "display_data",
          "data": {
            "text/html": [
              "<small><p style=\"text-align:right;\">Sources: <span style=\"background-color:#d8daef;\">kalevala</span><sup>[1]</sup></p></small>"
            ],
            "text/plain": [
              "<IPython.core.display.HTML object>"
            ]
          },
          "metadata": {
            "tags": []
          }
        },
        {
          "output_type": "stream",
          "text": [
            "----------------- temperature = 0.6 ----------------------\n"
          ],
          "name": "stdout"
        },
        {
          "output_type": "display_data",
          "data": {
            "text/html": [
              "ppppäänniänsä; <br>orp' on saata saajakana, tuhanenki tuttarista. <br>Jäi yksin umottamahan <br>kätkesiset käyrämässä, hoilien lypsäntasija, <br>sinisen sa'ankanna, tunka tunnennia tappalta <br>verkasi venynä veitsellä, lihokaista loikahuta. <br>Ei tieä minun lumalle, ei tullut aialle panta: <br>menet tunget tuppimahan, alle paittojen ajaja<span style=\"background-color:#d8daef;\"> <br>näissä Pohjolan pioissa, Sariolan juomingissa</span><sup>[1]</sup>. <br>Itse nyt poika päälkälössä tuo<span style=\"background-color:#d8daef;\">ta tuon sanoiksi virkki: <br>\"</span><sup>[1]</sup>Eip' on maalla vierahaman eikä tungen tuumpisia! <br>Ei ole kuuleman urohon"
            ],
            "text/plain": [
              "<IPython.core.display.HTML object>"
            ]
          },
          "metadata": {
            "tags": []
          }
        },
        {
          "output_type": "display_data",
          "data": {
            "text/html": [
              "<small><p style=\"text-align:right;\">Sources: <span style=\"background-color:#d8daef;\">kalevala</span><sup>[1]</sup></p></small>"
            ],
            "text/plain": [
              "<IPython.core.display.HTML object>"
            ]
          },
          "metadata": {
            "tags": []
          }
        },
        {
          "output_type": "stream",
          "text": [
            "----------------- temperature = 1.0 ----------------------\n"
          ],
          "name": "stdout"
        },
        {
          "output_type": "display_data",
          "data": {
            "text/html": [
              "päävämättäessä Ahissa arohoiks<span style=\"background-color:#d8daef;\">en.\"<br><br>Sanoi Pohjolan </span><sup>[1]</sup><span style=\"background-color:#d8daef;\">emäntä, itse lausui ja nimesi: <br>\"</span><sup>[1]</sup>Ellös viestäni väkäsi enkä kaunis kaanuttana, <br>siellä muien luona kaljoitalla ehtoiseni, <br>saati saunan saipialle selä suuren, <br>hie<span style=\"background-color:#d8daef;\">ta vanhan Väinämöisen, </span><sup>[1]</sup><br>itse kaunos Alintahan, tuota ennen mustan <br>olta <br>näiltä voietta olulta, hienoiselta hieroita.<br><br>Vieri kyi<span style=\"background-color:#d8daef;\">nel, vieri toinen: vieri vetrehet vet</span><sup>[1]</sup>änsä <br>simahan sivutse näenen, hyvän antelo-pahansa.<br><br>\"Lähen ei kullat kuun tulista; ei lenit koti leheäkse, <br>parna maahan"
            ],
            "text/plain": [
              "<IPython.core.display.HTML object>"
            ]
          },
          "metadata": {
            "tags": []
          }
        },
        {
          "output_type": "display_data",
          "data": {
            "text/html": [
              "<small><p style=\"text-align:right;\">Sources: <span style=\"background-color:#d8daef;\">kalevala</span><sup>[1]</sup></p></small>"
            ],
            "text/plain": [
              "<IPython.core.display.HTML object>"
            ]
          },
          "metadata": {
            "tags": []
          }
        },
        {
          "output_type": "stream",
          "text": [
            "---------------------------------------\n",
            "Epoch: 81.83, iter: 7400, cross-entropy: 0.505, accuracy: 0.84570\n",
            "   y: alla.  | Vaan ei nyt, nykyisin aioin tuota kuulla kulloinkana  | venehessä vierentätä, lainehilla laulantata.\" |  | Vaka vanha Väinämöin\n",
            "  yp: alla  |  | Kean kn nyt  nytyisin alkin tyola taunla kuuloinkana  | vatehessä vierettätä, mainehilla laukantasa. |  |  | Vaka vanha Väinämöin\n",
            "----------------- temperature = 0.2 ----------------------\n"
          ],
          "name": "stdout"
        },
        {
          "output_type": "display_data",
          "data": {
            "text/html": [
              "saraaremmonsa, selän veitiksi venosen, <br>ennen mailella tupana, mies puhas Puojen poian, <br>on meillä on oletta olla, karanluisa laulaja<span style=\"background-color:#d8daef;\">ta!\"<br><br>Vaka vanha Väinämöinen </span><sup>[1]</sup><span style=\"background-color:#d8daef;\">itse tuon sanoiksi virkki: <br>\"Ei o</span><sup>[1]</sup><span style=\"background-color:#d8daef;\">le talossa tässä rauan raannan katsojata, <br></span><sup>[1]</sup>kun on liika liikutella, havarinku vaskiselta<span style=\"background-color:#d8daef;\">. <br>Sai siitä sanelemahan, </span><sup>[1]</sup>kiuan<span style=\"background-color:#d8daef;\"> kuun kumottamahan, </span><sup>[1]</sup><br>liki surmoa sinä varine, se on sormilla sinulla: <br>toinen miehiä olossa, <br>missä leuvit lyökiesi, rautaisiha raukinesi?<span style=\"background-color:#d8daef;\"><br><br>\"Et siellä sijoa saane, </span><sup>[1]</sup>viel' ei vaahanna vali"
            ],
            "text/plain": [
              "<IPython.core.display.HTML object>"
            ]
          },
          "metadata": {
            "tags": []
          }
        },
        {
          "output_type": "display_data",
          "data": {
            "text/html": [
              "<small><p style=\"text-align:right;\">Sources: <span style=\"background-color:#d8daef;\">kalevala</span><sup>[1]</sup></p></small>"
            ],
            "text/plain": [
              "<IPython.core.display.HTML object>"
            ]
          },
          "metadata": {
            "tags": []
          }
        },
        {
          "output_type": "stream",
          "text": [
            "----------------- temperature = 0.6 ----------------------\n"
          ],
          "name": "stdout"
        },
        {
          "output_type": "display_data",
          "data": {
            "text/html": [
              "sepäänsä: sisähti, syäjysenä, karjoutta <br>kaljan kaiken käpyritä, härki päätänsä häpeä, <br>ne on päässä suuren suuri, pihlaja piriperähän: <br>elköhön emosehonsa, vierevi melan tehtämät. <br>Minne viimein vierahatko, kuutta kuuta, kuusi juota kangastaiku! <br>Tapio pojan tarille, poikuinen, kun, katala! <br>Ei se saarine tuleta, piikoani piippojan pitelemä<span style=\"background-color:#d8daef;\">tä: <br>\"Oi sie lieto Lemmin poika, ylimäinen ystäväni! <br>Nouse p</span><sup>[1]</sup>ois makaamyiset sueni eeltiä kehoitansa <br>luokutteli, nuoriani, poloinen, poikaseni, <br>minne toist"
            ],
            "text/plain": [
              "<IPython.core.display.HTML object>"
            ]
          },
          "metadata": {
            "tags": []
          }
        },
        {
          "output_type": "display_data",
          "data": {
            "text/html": [
              "<small><p style=\"text-align:right;\">Sources: <span style=\"background-color:#d8daef;\">kalevala</span><sup>[1]</sup></p></small>"
            ],
            "text/plain": [
              "<IPython.core.display.HTML object>"
            ]
          },
          "metadata": {
            "tags": []
          }
        },
        {
          "output_type": "stream",
          "text": [
            "----------------- temperature = 1.0 ----------------------\n"
          ],
          "name": "stdout"
        },
        {
          "output_type": "display_data",
          "data": {
            "text/html": [
              "saraksinänäkihän, torja notka nottavatti.<br><br>Virkoi veisti Väinymisen, itset iskuhen isästä <br>pani orjalle osoin, naisen nauravan munoksi, <br>nimesi: <br>menet miekalla tulista, miestä sarmestu helilta.<br><br>Laski kiului kätäväksi, nahoin pehmuksi palelle. <br>Itse en noppe saunat suuhun, tahtaiskusa taiman <br>syöä sisär sisukessäsi, keskellessä pitkin sanan: <br>sulhot Ahi lähten huoten vielä, keksi katsoin kaikkiä.<br><br>Noin paralle punnisuuksi, Jumpolan urosi kuusi, <br>iso eli kivehnä kätkö, kielen kellon pitkäellä! <br>"
            ],
            "text/plain": [
              "<IPython.core.display.HTML object>"
            ]
          },
          "metadata": {
            "tags": []
          }
        },
        {
          "output_type": "stream",
          "text": [
            "---------------------------------------\n",
            "Epoch: 84.04, iter: 7600, cross-entropy: 0.481, accuracy: 0.85286\n",
            "   y:  rannallen ajavan  | noita sampuen muruja, kirjokannen kappaleita. |  | Hän tuosta toki ihastui. Sanan virkkoi, noin nimesi:  | \"Tuost' \n",
            "  yp:  kaunalle iajavit jsoita sampuen muruja, kirjokannen kappaleita. |  | Sin tuosta toki ihastui. Sanan virkkoi, noin nimesi:  | \"Muoss' \n",
            "----------------- temperature = 0.2 ----------------------\n"
          ],
          "name": "stdout"
        },
        {
          "output_type": "display_data",
          "data": {
            "text/html": [
              "ppyänti tulisi, <br>kaikkiä vesioistajata, sinariasta viepuroita, <br>kävi paian palkkumassa, verkan vaimon vaahtehen-nutkan, <br>suuren toukimattom<span style=\"background-color:#d8daef;\">ahan, <br>käsin kääntymättömäksi, </span><sup>[1]</sup>tuoksensa tultuassa: <br>ei ole kuuleman makoa, läpsä lämmittämähö<span style=\"background-color:#d8daef;\">i.\"<br><br>Kullervo, Kalervon poika, sanan virkkoi, noin nimesi: <br>\"</span><sup>[1]</sup><span style=\"background-color:#d8daef;\">Mitä sie tulit Manalle, kuta Tuonelan tuville <br>ennen </span><sup>[1]</sup>kuunnu kuukeviara, vaattehin vaimo manta, <br>kun ei toinen toen sanone, kunne käsken jalka taikko! <br>Ei terällä olla sullo ynenän elä aina aamusessa, <br>kun o"
            ],
            "text/plain": [
              "<IPython.core.display.HTML object>"
            ]
          },
          "metadata": {
            "tags": []
          }
        },
        {
          "output_type": "display_data",
          "data": {
            "text/html": [
              "<small><p style=\"text-align:right;\">Sources: <span style=\"background-color:#d8daef;\">kalevala</span><sup>[1]</sup></p></small>"
            ],
            "text/plain": [
              "<IPython.core.display.HTML object>"
            ]
          },
          "metadata": {
            "tags": []
          }
        },
        {
          "output_type": "stream",
          "text": [
            "----------------- temperature = 0.6 ----------------------\n"
          ],
          "name": "stdout"
        },
        {
          "output_type": "display_data",
          "data": {
            "text/html": [
              "päättät tulisijani, <br>jalkoa joka jaksa nauran, pitkän piilaksi tapatan. <br>Sylylyöyt saavan saanut, tuhat pyhti pahlan päässä. <br>Lasti kerran helmuhen sinan heljan hiilitellä, pankalaisen parteleill\"<span style=\"background-color:#d8daef;\">.<br><br>Tuonen poika koukkusormi, koukkusormi, rautanäppi, <br>kävi </span><sup>[1]</sup>kyppyri vaneni, saisi surma poikoasi! <br>Olet paina palkahutti, laikkujanna lattuasa: <br>kun on kuulen kullan valki, kolmen koskea rutonnen <br>käyö kasvot kankahalla, vettä kaivoilta keralla; <br>tuosta täytyin kästyä seinä, ajohonki toinen piian, <br>onki"
            ],
            "text/plain": [
              "<IPython.core.display.HTML object>"
            ]
          },
          "metadata": {
            "tags": []
          }
        },
        {
          "output_type": "display_data",
          "data": {
            "text/html": [
              "<small><p style=\"text-align:right;\">Sources: <span style=\"background-color:#d8daef;\">kalevala</span><sup>[1]</sup></p></small>"
            ],
            "text/plain": [
              "<IPython.core.display.HTML object>"
            ]
          },
          "metadata": {
            "tags": []
          }
        },
        {
          "output_type": "stream",
          "text": [
            "----------------- temperature = 1.0 ----------------------\n"
          ],
          "name": "stdout"
        },
        {
          "output_type": "display_data",
          "data": {
            "text/html": [
              "upponottuvakset, <br>vaaha päätavat pätehen, silmän kaiken lainehista, <br>huosin hiihtojen mehiä. Sanoi Pohjolan rekkoi; <br>luulin syppä saunat vaimo, selkkunet sileat soilta, <br>ei viekoa ve'estä, kasken paika pankon päästä! <br>Ei ole kuuleman muruna, käen nahe kalliosin, <br>tahtoi matkansa pajuvi, tunnevi Untamon muhot.\"<br><br>Tuhat tuonse visketteli vatsan vainovan ra'ansa <br>ajon seisten siljoille, taivan on tavon tahtomahan <br>impien omalta mailta, kieltimahta maaterilla, <br>tunsi vanhenta vasaintui, lippoa ylenet"
            ],
            "text/plain": [
              "<IPython.core.display.HTML object>"
            ]
          },
          "metadata": {
            "tags": []
          }
        },
        {
          "output_type": "stream",
          "text": [
            "---------------------------------------\n",
            "Epoch: 86.26, iter: 7800, cross-entropy: 0.459, accuracy: 0.85758\n",
            "   y: arella sanattomalla.\" |  | Virkkoi lieto Lemminkäinen, sanoi kaunis Kaukomieli:  | \"Hyvä oli siellä ollakseni, lempi liehaellakseni.  | \n",
            "  yp: nlella kanon umalla, |  |  | Sirkkoi lieto Lemminkäinen, sanoi kaunis Kaukomieli:  | \"Luvä oni siellä ollakseni, lempi liehaellakseni.  | \n",
            "----------------- temperature = 0.2 ----------------------\n"
          ],
          "name": "stdout"
        },
        {
          "output_type": "display_data",
          "data": {
            "text/html": [
              "poutomo mujahan, <br>toinen vesivän venihan, metsän porttahan pitänsä. <br>Piti viikon veon venosen, umpi uuen uunisen sanan.<br><br>\"Mehilainen, mies seunele, Tuoren, maalle jytväen <br>Tulen tyyjälle vakaista, konnan koivussa kokesi; <br>se on piian pilkat impi, pyhä iskin silmillääni, <br>ota koivun kuullihoihin, käpehen käpähtyksin<span style=\"background-color:#d8daef;\">!\"<br><br>Siitä seppo Ilmarinen </span><sup>[1]</sup><span style=\"background-color:#d8daef;\">sanan virkkoi, noin nimesi: <br>\"Vielä mä tuohon mutkan muistan, mutkan muistan, <br>keinon keksin <br>kynnöllesi, k</span><sup>[1]</sup>aunoisinsa, kuin ei laula lampahia, <br>sinä ilmoisna "
            ],
            "text/plain": [
              "<IPython.core.display.HTML object>"
            ]
          },
          "metadata": {
            "tags": []
          }
        },
        {
          "output_type": "display_data",
          "data": {
            "text/html": [
              "<small><p style=\"text-align:right;\">Sources: <span style=\"background-color:#d8daef;\">kalevala</span><sup>[1]</sup></p></small>"
            ],
            "text/plain": [
              "<IPython.core.display.HTML object>"
            ]
          },
          "metadata": {
            "tags": []
          }
        },
        {
          "output_type": "stream",
          "text": [
            "----------------- temperature = 0.6 ----------------------\n"
          ],
          "name": "stdout"
        },
        {
          "output_type": "display_data",
          "data": {
            "text/html": [
              "poutomo myöltä <br>olueksi tuuttammeksi, vaikoja varantelihen.<br><br>\"Kun kuulet tulenta tulva, kupehellen kukkuria: <br>päästä pienestä pitävät, pihlan pitkät tappumatta, <br>puin jytä pihalta soita, vikuasia vieheseniä <br>neitosella otavahansa, nousi kuusi kaunihint<span style=\"background-color:#d8daef;\">i <br>Pohjolan kivimäkehen, vaaran vaskisen sisähän</span><sup>[1]</sup><span style=\"background-color:#d8daef;\"> <br>yheksän lukon ta'aksi, siihen </span><sup>[1]</sup>kultajat kotihin <br>noille tyttön tyttärille, tuletahan tanterelle, <br>kalkeata kartanolle, vilu pistinen pihanan. <br>Sinne tuonne, hänkarahti, ken sana kavoamahan <br>neitosist"
            ],
            "text/plain": [
              "<IPython.core.display.HTML object>"
            ]
          },
          "metadata": {
            "tags": []
          }
        },
        {
          "output_type": "display_data",
          "data": {
            "text/html": [
              "<small><p style=\"text-align:right;\">Sources: <span style=\"background-color:#d8daef;\">kalevala</span><sup>[1]</sup></p></small>"
            ],
            "text/plain": [
              "<IPython.core.display.HTML object>"
            ]
          },
          "metadata": {
            "tags": []
          }
        },
        {
          "output_type": "stream",
          "text": [
            "----------------- temperature = 1.0 ----------------------\n"
          ],
          "name": "stdout"
        },
        {
          "output_type": "display_data",
          "data": {
            "text/html": [
              "<br>yrynytteli jyviä; satakäyttä urohoa, <br>tunge puisen kuokatteli, kysiketrän kynnettihin.<br><br>Niin pahalle puhkahuotta, petäjänä etsalle.<br><br>Saali kuota korjan virre, vaaroin vaivaelensa!<br><br>\"Lähe nyt toisne tullessani, mi mä mielikampienki! <br>Oi emoni, vaemoja varon, mahoilmansa miestämähän<span style=\"background-color:#d8daef;\">. <br>Itse lieto Lemminkäinen </span><sup>[1]</sup>lauloi sieltäka sumasta: <br>se oli usoa souto, kolmea Kavonttapesen.<br><br>Se jonne kuultaturnehen, vastehesen harvahamme.<br><br>\"Lakkin lauloi mieletähän,, kantanhan karvon alta, <br>häin, kaikki satoin po"
            ],
            "text/plain": [
              "<IPython.core.display.HTML object>"
            ]
          },
          "metadata": {
            "tags": []
          }
        },
        {
          "output_type": "display_data",
          "data": {
            "text/html": [
              "<small><p style=\"text-align:right;\">Sources: <span style=\"background-color:#d8daef;\">kalevala</span><sup>[1]</sup></p></small>"
            ],
            "text/plain": [
              "<IPython.core.display.HTML object>"
            ]
          },
          "metadata": {
            "tags": []
          }
        },
        {
          "output_type": "stream",
          "text": [
            "---------------------------------------\n",
            "Epoch: 88.47, iter: 8000, cross-entropy: 0.445, accuracy: 0.86198\n",
            "   y: ni, ammoa rikottelevi  | pitkillä piharikoilla, talvisilla tanterilla:  | tuntenevi tuo minua kotoiseksi tyttäreksi. |  | \"Isoni ikioron\n",
            "  yp: n    | rmui rikottelevi  | pihkillä piharikoilla, talvisilla tanterilla:  | tuntenevi tuo minua kotoiseksi tyttäreksi. |  | \"Msoni ikioron\n",
            "----------------- temperature = 0.2 ----------------------\n"
          ],
          "name": "stdout"
        },
        {
          "output_type": "display_data",
          "data": {
            "text/html": [
              "pukkoksumuessa<span style=\"background-color:#d8daef;\">.<br><br>Pohjan piika pikkarainen, </span><sup>[1]</sup><span style=\"background-color:#d8daef;\">tuopa tuohon vastoavi: <br>\"</span><sup>[1]</sup>Ei minusta tultanehiksi, kässä saan saatantahan: <br>mitä saunassa puressa, ikä on tuota toinea aian: <br>ei kastu Kalervon oikki, etsa kuule orjahansa. <br>Lietsoi tulla, kaasin malta, kosto, kolmeksi polett<span style=\"background-color:#d8daef;\">i.<br><br>Siitä vanha Väinämöinen </span><sup>[1]</sup><span style=\"background-color:#d8daef;\">laskea karehtelevi <br>pe</span><sup>[1]</sup>llolle perimättämille, tilone lepittämähä<span style=\"background-color:#d8daef;\">n!<br><br>\"Kun ei tuosta kyllin liene, </span><sup>[1]</sup><span style=\"background-color:#d8daef;\">oi Ukko, ylijumala, <br>tule tänne tarvittaissa, käy tänne kutsuttaessa! <br>Tääll' on piika pintehessä, </span><sup>[1]</sup>mikä syivä"
            ],
            "text/plain": [
              "<IPython.core.display.HTML object>"
            ]
          },
          "metadata": {
            "tags": []
          }
        },
        {
          "output_type": "display_data",
          "data": {
            "text/html": [
              "<small><p style=\"text-align:right;\">Sources: <span style=\"background-color:#d8daef;\">kalevala</span><sup>[1]</sup></p></small>"
            ],
            "text/plain": [
              "<IPython.core.display.HTML object>"
            ]
          },
          "metadata": {
            "tags": []
          }
        },
        {
          "output_type": "stream",
          "text": [
            "----------------- temperature = 0.6 ----------------------\n"
          ],
          "name": "stdout"
        },
        {
          "output_type": "display_data",
          "data": {
            "text/html": [
              "purnonansapuutse, <br>meren aammohon avetti, teräs-yöhyt tymmen rintaruu<span style=\"background-color:#d8daef;\">si!\"<br><br>Siitä vanha Väinämöinen </span><sup>[1]</sup><span style=\"background-color:#d8daef;\">laskea karehtelevi <br>tuo</span><sup>[1]</sup><span style=\"background-color:#d8daef;\">lle Pohjolan merelle, ulapalle au</span><sup>[1]</sup>tehessa.<br><br>Puhu<span style=\"background-color:#d8daef;\">i tuon sanoiksi virkk</span><sup>[1]</sup><span style=\"background-color:#d8daef;\">oi, itse lausui ja pakisi: <br>\"</span><sup>[1]</sup>Jo nyt kiinni kiiltelevät, koiret liivaste kaloa, <br>häkän nehnosta tuloa, kaunikoista vaattehena.<br><br>Pohjan pitkähän syjäistä, muunkin omakan tavilla.<br><br>\"En nyt tieä tämätkänä mujelen luottanamme. <br>Pahimma palatta saap' on toisen suuren suuri? <br>Piennäkö sinä pito minua, koskessa korot"
            ],
            "text/plain": [
              "<IPython.core.display.HTML object>"
            ]
          },
          "metadata": {
            "tags": []
          }
        },
        {
          "output_type": "display_data",
          "data": {
            "text/html": [
              "<small><p style=\"text-align:right;\">Sources: <span style=\"background-color:#d8daef;\">kalevala</span><sup>[1]</sup></p></small>"
            ],
            "text/plain": [
              "<IPython.core.display.HTML object>"
            ]
          },
          "metadata": {
            "tags": []
          }
        },
        {
          "output_type": "stream",
          "text": [
            "----------------- temperature = 1.0 ----------------------\n"
          ],
          "name": "stdout"
        },
        {
          "output_type": "display_data",
          "data": {
            "text/html": [
              "usrulta kyllin vyötty, <br>sylin ihmisen isoa, solukoisi soutajavansi.<br><br>\"Jospa jona millä ravoille, orjillen olattomille.<br><br>\"Tuli nuorempa sukusi, men sampo sanojan sulhos? <br>Pani vetta katsomahan: ne men käyä käärtelevi, <br>purtemahan puhtahalle, veräjälle vierähille: <br>tapoitellot; tavoihinpa paksut keihä'ille. <br>Olipa kuustelevi, maajasippe, taopparatten tankereksi: <span style=\"background-color:#d8daef;\"><br>\"Ei sinua silloinkana, </span><sup>[1]</sup>jo sano emonen kinan, <br>jou'uola'an pitketemänä, vatsastä varkivatta. <br>Isosiko vieressänsa tohtaisia tulikina: <br>me"
            ],
            "text/plain": [
              "<IPython.core.display.HTML object>"
            ]
          },
          "metadata": {
            "tags": []
          }
        },
        {
          "output_type": "display_data",
          "data": {
            "text/html": [
              "<small><p style=\"text-align:right;\">Sources: <span style=\"background-color:#d8daef;\">kalevala</span><sup>[1]</sup></p></small>"
            ],
            "text/plain": [
              "<IPython.core.display.HTML object>"
            ]
          },
          "metadata": {
            "tags": []
          }
        },
        {
          "output_type": "stream",
          "text": [
            "---------------------------------------\n",
            "Epoch: 90.68, iter: 8200, cross-entropy: 0.460, accuracy: 0.86100\n",
            "   y:   | teki miehen terveheksi, urohon paranneheksi.  | Kysytteli, lausutteli, itse virkki, noin nimesi:  | \"Mitä itkit, Väinämöinen, uiku\n",
            "  yp:   | \"uhi tieken murveheksi, krohon maranneheksi.  | Sasytteli, lausutteli: itse virkki, noin nimesi:  | \"Titä itke,, Väinämöinen, uikk\n",
            "----------------- temperature = 0.2 ----------------------\n"
          ],
          "name": "stdout"
        },
        {
          "output_type": "display_data",
          "data": {
            "text/html": [
              "ppppääsi kelkkiverrat, päältä päästien tulisi.<br><br>\"Ei silloin sutu saane, emon tullan korpehesta, <br>karhun kynnestä kuluilta, heinän helman hettehestä, <br>melhe taskisen tuvilla, talen taittoi taitamalla; <br>sai siitä sanon sanoa, kussa kuisuista kuvast<span style=\"background-color:#d8daef;\">a. <br>Sanoi vanha Väinämöinen</span><sup>[1]</sup><span style=\"background-color:#d8daef;\">, itse lausui, noin nimesi: <br>\"Ei ole s</span><sup>[1]</sup>yntyi paivasehi: 'Ei ole pohutti poikki.<br><br>Meni sampoan takaisin, aivan ilman apparilla <br>eipä ilman tarittane koko suuren suuren miestä, <br>etelä etelemähän. Ajoa hahentaelihe! <br>Kulle kurjat k"
            ],
            "text/plain": [
              "<IPython.core.display.HTML object>"
            ]
          },
          "metadata": {
            "tags": []
          }
        },
        {
          "output_type": "display_data",
          "data": {
            "text/html": [
              "<small><p style=\"text-align:right;\">Sources: <span style=\"background-color:#d8daef;\">kalevala</span><sup>[1]</sup></p></small>"
            ],
            "text/plain": [
              "<IPython.core.display.HTML object>"
            ]
          },
          "metadata": {
            "tags": []
          }
        },
        {
          "output_type": "stream",
          "text": [
            "----------------- temperature = 0.6 ----------------------\n"
          ],
          "name": "stdout"
        },
        {
          "output_type": "display_data",
          "data": {
            "text/html": [
              "pepäytämästä polkemahan, saisi surman suomiloista, <br>rautahan ratiste tupahan, tullakseni tokkuhuns<span style=\"background-color:#d8daef;\">a!\"<br><br>Siitä Pohjolan emäntä</span><sup>[1]</sup><span style=\"background-color:#d8daef;\">, tuop' on tuohon vastaeli: <br>\"</span><sup>[1]</sup>Tuosta sulho kymmenensä, honkahin vävyksetynnän.<br><br>Siitä koita koitti vaivat: itsenki sanoittoina, <br>sepä seisotele seläll', lyyly lyksillä kevalla <br>laksolla lahentunehen, korjahansa kaitetellen <br>susi itkuisen ajahan kerahtarvi keihon kätehen: <br>\"Joko aina armehia, soimean salon sovitti: <br>siitä<span style=\"background-color:#d8daef;\"> kohta kolmannenki: </span><sup>[1]</sup>poimat puussa liiotella: <br>here'ill"
            ],
            "text/plain": [
              "<IPython.core.display.HTML object>"
            ]
          },
          "metadata": {
            "tags": []
          }
        },
        {
          "output_type": "display_data",
          "data": {
            "text/html": [
              "<small><p style=\"text-align:right;\">Sources: <span style=\"background-color:#d8daef;\">kalevala</span><sup>[1]</sup></p></small>"
            ],
            "text/plain": [
              "<IPython.core.display.HTML object>"
            ]
          },
          "metadata": {
            "tags": []
          }
        },
        {
          "output_type": "stream",
          "text": [
            "----------------- temperature = 1.0 ----------------------\n"
          ],
          "name": "stdout"
        },
        {
          "output_type": "display_data",
          "data": {
            "text/html": [
              "pirppääsi suku suuhus, saa'a määllensä merehen, <br>sitti sieltä syötettä, pyyti joutiat, samot ei hyvinki viruksi: <br>en minua lähtemähän nenä urohoisessa utempa.<br><br>Saipa nukkui, näinen vaimu, koiran peutahan nehoista.<br><br>Jo vävi impi kaatoltansa, kova kosvun kuulevilla.<br><br>\"Eipä toite tuonnekana kahen puolen Kyitäläni, <br>kun olen rasehta etävi, tuop<span style=\"background-color:#d8daef;\">i tuon sanoiksi virkki: <br>\"En </span><sup>[1]</sup>ole noinpa aurosoia, aioinkarat karkenoalt: <br>yksin hättihän hotosen, hoikann heike'ille. <br>Kavahat osaelissasi, pilven löysky löyl"
            ],
            "text/plain": [
              "<IPython.core.display.HTML object>"
            ]
          },
          "metadata": {
            "tags": []
          }
        },
        {
          "output_type": "display_data",
          "data": {
            "text/html": [
              "<small><p style=\"text-align:right;\">Sources: <span style=\"background-color:#d8daef;\">kalevala</span><sup>[1]</sup></p></small>"
            ],
            "text/plain": [
              "<IPython.core.display.HTML object>"
            ]
          },
          "metadata": {
            "tags": []
          }
        },
        {
          "output_type": "stream",
          "text": [
            "---------------------------------------\n",
            "Epoch: 92.89, iter: 8400, cross-entropy: 0.456, accuracy: 0.85938\n",
            "   y: an,  | puhki reppänän retuisen, kautta kuivan kurkihirren  | Tuurin uutehen tupahan, Palvoisen laettomahan. |  | \"Sitte sinne tultuansa \n",
            "  yp: at  kkehki punpänän retoisen, kautta kuivan kurkihirren  | Tuurin uutehen tupahan, Palvoisen laettomahan! |  | \"Uiite sinne tultuansa \n",
            "----------------- temperature = 0.2 ----------------------\n"
          ],
          "name": "stdout"
        },
        {
          "output_type": "display_data",
          "data": {
            "text/html": [
              "porossasilla tahtojasta.<br><br>\"Valu<span style=\"background-color:#d8daef;\"> vanha Väinämöinen, laulaja iän-ikuinen, <br></span><sup>[1]</sup>taattoi saaren impi tuppu, saman varrat valhutteli; <br>siihen ohraikse sivalli, toisen päältä, käskeltuisi: <br>tule impi itkeviksi, ettei yksinän yheksi <br>Kylläksin kalajasessa antioita <br>vaskisessa vartansissa vaikkoi sinua saatasehe<span style=\"background-color:#d8daef;\">: <br>miehet miekkoja hiovat, kärestävät keihä'itä</span><sup>[1]</sup>: <br>munipatkoja parahko, paras paikoi palkkaseusi. <br>Sano tutka, tuhmasia, ikkunatta kirjoitelty, <br>kun ei poikki päästäköhön, pienen pillajit perimien. <br>L"
            ],
            "text/plain": [
              "<IPython.core.display.HTML object>"
            ]
          },
          "metadata": {
            "tags": []
          }
        },
        {
          "output_type": "display_data",
          "data": {
            "text/html": [
              "<small><p style=\"text-align:right;\">Sources: <span style=\"background-color:#d8daef;\">kalevala</span><sup>[1]</sup></p></small>"
            ],
            "text/plain": [
              "<IPython.core.display.HTML object>"
            ]
          },
          "metadata": {
            "tags": []
          }
        },
        {
          "output_type": "stream",
          "text": [
            "----------------- temperature = 0.6 ----------------------\n"
          ],
          "name": "stdout"
        },
        {
          "output_type": "display_data",
          "data": {
            "text/html": [
              "porossasijoista, elomia kiventämästä<span style=\"background-color:#d8daef;\">.\"<br><br>Annikki hyväniminen, yön tyt</span><sup>[1]</sup>, pitken itsemälle. <br>Ei silloin sanoja kuollut, se oman kaiottavan.<br><br>\"Enp' on hieta eikemiäisi, hampaet hahuttavammi; <br>siivala imehon lastet, kyllä kasvat kaiken karjan, <br>sillä aitan aamusilla, veren miestä vieretellä!<br><br>\"Siin' on suolet sorkan suolle, valkamonten valutassa. <br>Jos sanoi minä iloni, näille toivan tulenti kokon: <br>saa'ahana sana erestä, liki paksun-paisehekset, <br>kun on latvan laainutta, karhun tauista parempi, <br>elähä"
            ],
            "text/plain": [
              "<IPython.core.display.HTML object>"
            ]
          },
          "metadata": {
            "tags": []
          }
        },
        {
          "output_type": "display_data",
          "data": {
            "text/html": [
              "<small><p style=\"text-align:right;\">Sources: <span style=\"background-color:#d8daef;\">kalevala</span><sup>[1]</sup></p></small>"
            ],
            "text/plain": [
              "<IPython.core.display.HTML object>"
            ]
          },
          "metadata": {
            "tags": []
          }
        },
        {
          "output_type": "stream",
          "text": [
            "----------------- temperature = 1.0 ----------------------\n"
          ],
          "name": "stdout"
        },
        {
          "output_type": "display_data",
          "data": {
            "text/html": [
              "pimätessä urosi <br>näistä paisupuissasissa, tukat reeässä vorakessa!<br><br>\"Hako on siinä saapasele: kolmis kulkatän kukanna! <br>Kusin Päivet vääntä kulma, laskenet ilolta nammet <br>mointa matkoavi vajalla, meren taitavan lieukse, <br>pääsnyt pääni päästä saapi, asetia alatvanen, <br>Pohjolan kovimahan On nuorin laskitessa.\"<br><br>Alta ämmentä rappasiella, akallan askomassa <br>ettei kolma konkeaise, vierähinumet veen <br>puolin pieniani, perinenki Pohjolasta? <br>Hälki aavan tarvon kansa, sine'illen suuitselina.<br><br>\"Jo täällä "
            ],
            "text/plain": [
              "<IPython.core.display.HTML object>"
            ]
          },
          "metadata": {
            "tags": []
          }
        },
        {
          "output_type": "stream",
          "text": [
            "---------------------------------------\n",
            "Epoch: 95.10, iter: 8600, cross-entropy: 0.429, accuracy: 0.87614\n",
            "   y: ta, aalto, laivoa ajele  | ilman sormin soutamatta, ve'en kieron rikkomatta,  | väljille meren selille, ulapalle aukealle!\" |  | Annikki\n",
            "  yp: ai   | llto  raiaoi ajelen | ilman sormin soutamatta, ve'en kieron rikkomatta,  | väljille meren selille, ulapalle aukealle!\" |  | Annikki\n",
            "----------------- temperature = 0.2 ----------------------\n"
          ],
          "name": "stdout"
        },
        {
          "output_type": "display_data",
          "data": {
            "text/html": [
              "päänänätätihit sorkassä sukiv<span style=\"background-color:#d8daef;\">ata, <br>kunnollista kukkujata, kaunista karehtijata: <br></span><sup>[1]</sup>alla kullan työtä saa'a, nuren nuoman morstak<span style=\"background-color:#d8daef;\">ia! <br>Ei sinua suolle vie</span><sup>[1]</sup>ä, oja vuori lehmän pilkki, <br>taot nukkui: <br>lienoa lyhyetteli; sylkähti vävälitelevä; <br>haapa haavan kankahalla, vetäväten vierevällä. <br>Laati pitkä pikkaraisen, tulen latvasin lihoist<span style=\"background-color:#d8daef;\">a.<br><br>\"Oi emoni, kantajani</span><sup>[1]</sup>! Menet on luotahan levitti, <br>kunka annetti iloinen, ajat ollakseni ov<span style=\"background-color:#d8daef;\">illa.\"<br><br>Siitä lieto Lemminkäinen</span><sup>[1]</sup><span style=\"background-color:#d8daef;\"> sanan virkki, noin nimesi: <br>\"</span><sup>[1]</sup>Voi poloinen,"
            ],
            "text/plain": [
              "<IPython.core.display.HTML object>"
            ]
          },
          "metadata": {
            "tags": []
          }
        },
        {
          "output_type": "display_data",
          "data": {
            "text/html": [
              "<small><p style=\"text-align:right;\">Sources: <span style=\"background-color:#d8daef;\">kalevala</span><sup>[1]</sup></p></small>"
            ],
            "text/plain": [
              "<IPython.core.display.HTML object>"
            ]
          },
          "metadata": {
            "tags": []
          }
        },
        {
          "output_type": "stream",
          "text": [
            "----------------- temperature = 0.6 ----------------------\n"
          ],
          "name": "stdout"
        },
        {
          "output_type": "display_data",
          "data": {
            "text/html": [
              "päänätä tyttäriä kalattaman, <br>nämähän lupoa yhellä, petäjän yöhävivellä.<br><br>\"Et isnut ison hyväyi enkä pilvien pioissa: <br>saaren maat sarempi kaatoksihin katsehiksi, <br>kun sai suolla huottelossa, huis tutkahan tuvass<span style=\"background-color:#d8daef;\">a!\"<br><br>Se on seppo Ilmarinen</span><sup>[1]</sup><span style=\"background-color:#d8daef;\"> puri huulta, väänti päätä; <br>ajoa kahattelevi. Ajoi matkoa palasen: <br>taas hepo höryeleikse, luppakorva lu</span><sup>[1]</sup>ultasia.<br><br>Lakinahat karjan kääntävi käsivarren valkeasta. <br>Jo veti veni putin, nä<span style=\"background-color:#d8daef;\">ki vanha Väinämöinen </span><sup>[1]</sup><br>veti veitsensä tusella valkeata valkaeli.\"<br><br>Siitä liet"
            ],
            "text/plain": [
              "<IPython.core.display.HTML object>"
            ]
          },
          "metadata": {
            "tags": []
          }
        },
        {
          "output_type": "display_data",
          "data": {
            "text/html": [
              "<small><p style=\"text-align:right;\">Sources: <span style=\"background-color:#d8daef;\">kalevala</span><sup>[1]</sup></p></small>"
            ],
            "text/plain": [
              "<IPython.core.display.HTML object>"
            ]
          },
          "metadata": {
            "tags": []
          }
        },
        {
          "output_type": "stream",
          "text": [
            "----------------- temperature = 1.0 ----------------------\n"
          ],
          "name": "stdout"
        },
        {
          "output_type": "display_data",
          "data": {
            "text/html": [
              "yätäitä Kyller, sortta säkyritti-ille; <br>jopa laipu laulajata, saai saatu, juon en istu En situlla <br>suletakko suorisista, maltan marjan manterella, <br>kuni juunsu kukkemassa, alla lastansa vaeli; <br>asvut käessänsä kyläs, kolmekyt orohta; mies puhas, Etelähän, kaunis kulmatta kukena; <br>siniviista unnin jäksi, kankahistun kansatah<span style=\"background-color:#d8daef;\">an.\"<br><br>Kullervo, Kalervon poika, sanan virkkoi, noin nimesi: <br>\"</span><sup>[1]</sup>Oi sie voita vuojaltapit, emännän ejempiollena! <br>Minpä tuohot tuotakana; kun tuosta katolta syltä, <br>tapa ursoa uv"
            ],
            "text/plain": [
              "<IPython.core.display.HTML object>"
            ]
          },
          "metadata": {
            "tags": []
          }
        },
        {
          "output_type": "display_data",
          "data": {
            "text/html": [
              "<small><p style=\"text-align:right;\">Sources: <span style=\"background-color:#d8daef;\">kalevala</span><sup>[1]</sup></p></small>"
            ],
            "text/plain": [
              "<IPython.core.display.HTML object>"
            ]
          },
          "metadata": {
            "tags": []
          }
        },
        {
          "output_type": "stream",
          "text": [
            "---------------------------------------\n",
            "Epoch: 97.31, iter: 8800, cross-entropy: 0.395, accuracy: 0.88005\n",
            "   y: noilla  | neittä vieruihin ve'elty, aian kolkkihin ajeltu,  | kaa'ateltu kannon päähän, kivilöihin kiskoteltu. |  | \"Sulhokainen, nuoruk\n",
            "  yp: n i la viänetä naerui in ve'elty, havn kotkkihin ajeltu,  | kaa'ateltu kannon päähän, kivilöihin kiskotelku. |  | \"Mavhokainen, nuoruk\n",
            "----------------- temperature = 0.2 ----------------------\n"
          ],
          "name": "stdout"
        },
        {
          "output_type": "display_data",
          "data": {
            "text/html": [
              "pystämmät muuttunnellessani olla olkapuolinen jo ala hyvät halkannassa. <br>Läksi neitosen etoisen, surkasilmien sala'a <br>hirveä rakki, tiellä voien, kuun elinkä miekan pilven, rauta raukka, neion jursi, <br>tuskat tuulelta tukevat, kautta kanno vaivuritti <br>nuorehensa nuotavassa eik' olle tervot neuvoin, <br>peripäitä päätyistä, millä maahan liiatosen, <br>vaskisen sata syle<span style=\"background-color:#d8daef;\">si, kaheksaksi kappale</span><sup>[1]</sup>hoa:<br><br>\"Saipa, mies metsä, makuassa, kuoli kuollen kumpparille, <br>oman karvalle katalan, vesikonten on pehlosen, <br>ah"
            ],
            "text/plain": [
              "<IPython.core.display.HTML object>"
            ]
          },
          "metadata": {
            "tags": []
          }
        },
        {
          "output_type": "display_data",
          "data": {
            "text/html": [
              "<small><p style=\"text-align:right;\">Sources: <span style=\"background-color:#d8daef;\">kalevala</span><sup>[1]</sup></p></small>"
            ],
            "text/plain": [
              "<IPython.core.display.HTML object>"
            ]
          },
          "metadata": {
            "tags": []
          }
        },
        {
          "output_type": "stream",
          "text": [
            "----------------- temperature = 0.6 ----------------------\n"
          ],
          "name": "stdout"
        },
        {
          "output_type": "display_data",
          "data": {
            "text/html": [
              "pysyon levittävän, talvet taitte taitahalle<span style=\"background-color:#d8daef;\">! <br>Tule tänne tarvittaissa, käy tänne kutsuttaessa, </span><sup>[1]</sup>sanoista ahallassa, alla varsin vastihin<span style=\"background-color:#d8daef;\">sa. <br>Itse tuon sanoiksi virkki: </span><sup>[1]</sup>'Minä olet nuori, neivo, kausis, kasta kaunihin kanosi, <br>tulla seulot seivätähän, kellin kohottamahan.<span style=\"background-color:#d8daef;\">\"<br><br>Pikku mies merestä nousi, uros aallo</span><sup>[1]</sup>sta tulisi, <br>jos ma kunna kantamani, kuuli, kurja, aitsenka?' <br>nämätty miehen nuolempana, haukkumantehen kateh<span style=\"background-color:#d8daef;\">en.\"<br><br>Marjatta, korea kuopus, </span><sup>[1]</sup><span style=\"background-color:#d8daef;\">tuop' on tuohon vastoavi: <br>\"En </span><sup>[1]</sup>mä suru sulan suulle,"
            ],
            "text/plain": [
              "<IPython.core.display.HTML object>"
            ]
          },
          "metadata": {
            "tags": []
          }
        },
        {
          "output_type": "display_data",
          "data": {
            "text/html": [
              "<small><p style=\"text-align:right;\">Sources: <span style=\"background-color:#d8daef;\">kalevala</span><sup>[1]</sup></p></small>"
            ],
            "text/plain": [
              "<IPython.core.display.HTML object>"
            ]
          },
          "metadata": {
            "tags": []
          }
        },
        {
          "output_type": "stream",
          "text": [
            "----------------- temperature = 1.0 ----------------------\n"
          ],
          "name": "stdout"
        },
        {
          "output_type": "display_data",
          "data": {
            "text/html": [
              "pystumlen rehuisissäsi heimäsesi hemmeässä, hanki kairksi itkijalle, <br>sata auvat kaunihisti surmimaista uhtaisesta, <br>paran kallista mujasta, kiusasta venettäessä.\"<br><br><br>Kun on Kauksi paran ulossa istui pilvihin pirahi<span style=\"background-color:#d8daef;\">n?\"<br><br>Sanoi nuori Joukahainen: \"</span><sup>[1]</sup>Tieänpä munasta? <br>Se Katervi uuttohon, maa huua, <br>voittoa vävyntä varres nälkä kaaelensa katsomahan.<br><br>San nyt tuossa noin sinesi, torve mielikki ja vistan: <br>sampoa tupahan tuosta <br>elitenä ajeli immit, jotta joutinen käsijät.\"<span style=\"background-color:#d8daef;\"><br><br>Silloin suuri suomuhauki, li</span><sup>[1]</sup>"
            ],
            "text/plain": [
              "<IPython.core.display.HTML object>"
            ]
          },
          "metadata": {
            "tags": []
          }
        },
        {
          "output_type": "display_data",
          "data": {
            "text/html": [
              "<small><p style=\"text-align:right;\">Sources: <span style=\"background-color:#d8daef;\">kalevala</span><sup>[1]</sup></p></small>"
            ],
            "text/plain": [
              "<IPython.core.display.HTML object>"
            ]
          },
          "metadata": {
            "tags": []
          }
        },
        {
          "output_type": "stream",
          "text": [
            "---------------------------------------\n",
            "Epoch: 99.53, iter: 9000, cross-entropy: 0.398, accuracy: 0.88411\n",
            "   y: ,  | jottei kuule kulkevaksi eik' on eestäni pakene!\" |  | Sai sutosen suitsi-suuhun, karhun rautakahlehesen  | tuolta Tuonen kankahalta\n",
            "  yp: n kkottei kuulu kulkeviksi eik' on eustäni pakene!\" |  | Sei sutosen suitsitsuuhun, karhun kautakahlehisen  | tuolta Tuonen kankahalta\n",
            "----------------- temperature = 0.2 ----------------------\n"
          ],
          "name": "stdout"
        },
        {
          "output_type": "display_data",
          "data": {
            "text/html": [
              "pppori Ukonneasi <br>tavitahan uu<span style=\"background-color:#d8daef;\">sen purren, melan va</span><sup>[1]</sup>nhan vääntehessä. <br>Tai<span style=\"background-color:#d8daef;\">ttoi vanhan Väinämöisen, laulajan iän-ikuisen, <br>oman uksen aukomille, oman kynnyksen etehen. <br><br><br><br><br></span><sup>[1]</sup><span style=\"background-color:#d8daef;\"><br>Kuudesneljättä runo<br><br>Kullervo, Kalervon poika, sinisukka äijön lapsi, <br></span><sup>[1]</sup><span style=\"background-color:#d8daef;\">iski virkkua vitsalla, helähytti helmi</span><sup>[1]</sup><span style=\"background-color:#d8daef;\">svyöllä; <br>virkku juoksi, matka joutui, reki vieri, tie lyheni, <br></span><sup>[1]</sup><span style=\"background-color:#d8daef;\">hope'inen hiekka helkki, kangas kultainen kumi</span><sup>[1]</sup>na. <br>Sanoi suuri suumuhauki, iloa imehnävimmet;<span style=\"background-color:#d8daef;\"> <br>alle kuulun kurkihirren, alle kaunihin katoksen!<br><br>\"Jo täällä </span><sup>[1]</sup>"
            ],
            "text/plain": [
              "<IPython.core.display.HTML object>"
            ]
          },
          "metadata": {
            "tags": []
          }
        },
        {
          "output_type": "display_data",
          "data": {
            "text/html": [
              "<small><p style=\"text-align:right;\">Sources: <span style=\"background-color:#d8daef;\">kalevala</span><sup>[1]</sup></p></small>"
            ],
            "text/plain": [
              "<IPython.core.display.HTML object>"
            ]
          },
          "metadata": {
            "tags": []
          }
        },
        {
          "output_type": "stream",
          "text": [
            "----------------- temperature = 0.6 ----------------------\n"
          ],
          "name": "stdout"
        },
        {
          "output_type": "display_data",
          "data": {
            "text/html": [
              "pppori Ukonnea kolvalle! <br>Näret hopeat huunimmille, puhki purjut pitkättynyt.\"<br><br>Varmi vaakka varjelevi, valehia syen vesiä, <br>tuli kaikki kippelista, hieki latvat haasikarjat,<span style=\"background-color:#d8daef;\"> <br>suurimmilla suon se</span><sup>[1]</sup>välty, käten karta kynkähällä. Ota tukkanan tutaren, <br>vaimoja vaeltavakat ettei antaluista! <br>Tuo<span style=\"background-color:#d8daef;\">si purjepuun nenähän, vaatevarpahan ravah</span><sup>[1]</sup>an. <br>Kantoi tulla katkeeltu, aivan päältä, käskestänsä <br>tuon on valtavanhamansa tah<span style=\"background-color:#d8daef;\">i Pohjolan pihalle.<br><br></span><sup>[1]</sup><span style=\"background-color:#d8daef;\">Siinä tuon sanoiksi virkki, itse lausui</span><sup>[1]</sup><span style=\"background-color:#d8daef;\">, noin nimesi: <br>\"Ei ole s</span><sup>[1]</sup>"
            ],
            "text/plain": [
              "<IPython.core.display.HTML object>"
            ]
          },
          "metadata": {
            "tags": []
          }
        },
        {
          "output_type": "display_data",
          "data": {
            "text/html": [
              "<small><p style=\"text-align:right;\">Sources: <span style=\"background-color:#d8daef;\">kalevala</span><sup>[1]</sup></p></small>"
            ],
            "text/plain": [
              "<IPython.core.display.HTML object>"
            ]
          },
          "metadata": {
            "tags": []
          }
        },
        {
          "output_type": "stream",
          "text": [
            "----------------- temperature = 1.0 ----------------------\n"
          ],
          "name": "stdout"
        },
        {
          "output_type": "display_data",
          "data": {
            "text/html": [
              "pys'äähti seitä tutkaelta??<br><br>\"Päitä härkä häälyttihin potkalle pihottakset, <br>kun sorrsin sotakin osos, veikon neiton vierahiksi.\"<br><br>Mana toista tultuansa aina palloispa nevissä.<br><br>Lauloi suusta \"Lehvon, toiste ulko Tuonelahan, <br>tokko täytä tietä neiet, kokko kylpeän kovaonna <br>nou'uoseka neitonahan, mitsähän metsän emännän!<br><br>Nemm<span style=\"background-color:#d8daef;\">en miehen mieltä myöten, </span><sup>[1]</sup>juonen syönyttelijät, <br>suen saunat lanaisinasta, virrettet vihalliset <br>korean; laasit imi pälvä kaarta, kun en joukko juotenahan, <br>et väteä Vähäkär"
            ],
            "text/plain": [
              "<IPython.core.display.HTML object>"
            ]
          },
          "metadata": {
            "tags": []
          }
        },
        {
          "output_type": "display_data",
          "data": {
            "text/html": [
              "<small><p style=\"text-align:right;\">Sources: <span style=\"background-color:#d8daef;\">kalevala</span><sup>[1]</sup></p></small>"
            ],
            "text/plain": [
              "<IPython.core.display.HTML object>"
            ]
          },
          "metadata": {
            "tags": []
          }
        },
        {
          "output_type": "stream",
          "text": [
            "---------------------------------------\n",
            "Epoch: 101.74, iter: 9200, cross-entropy: 0.403, accuracy: 0.88037\n",
            "   y:  virkki:  | \"Jää hyvästi, Saaren nurmet, kuusen juuret, tervaskannot,  | joit' olen kesän kävellyt, talvet kaiket tallaellut,  | piile\n",
            "  yp:  karkki:  | \"Eoä hyvästi, Saaren nurmet, kuusen juuret, tervaskannot,  | joit' olen kusän kayellät, talvet kauket,kaplaellut,  | jiile\n",
            "----------------- temperature = 0.2 ----------------------\n"
          ],
          "name": "stdout"
        },
        {
          "output_type": "display_data",
          "data": {
            "text/html": [
              "ppiäät pistensä pitävi, palavata vää varastui <br>tämän nuoren, vaskimaito! <br>Pyöty vyölle verkkoaelle, silmäellensän pakeikse, <br>korahutti kulkillansa, valustellensa vahaisnu<br><br>Isosiinuta raksin, katsoi vieri keihä'itä <br>noilla väljillä sesolla, makoalla taltaisella.<br><br>Ammui poikki Pohjan tyttö, tulla tunnen tietämiä: <br>nähä nuotahan noruvi, saapi kurja kummenteli, <br>peittihin pahan perältä, katsolaisen kainalosta.<br><br>\"Kun<span style=\"background-color:#d8daef;\">pa lieto Lemminkäinen </span><sup>[1]</sup>ajavi karikki kiihoitav<span style=\"background-color:#d8daef;\">i <br>noilla väljillä vesillä, lake'illa la</span><sup>[1]</sup>"
            ],
            "text/plain": [
              "<IPython.core.display.HTML object>"
            ]
          },
          "metadata": {
            "tags": []
          }
        },
        {
          "output_type": "display_data",
          "data": {
            "text/html": [
              "<small><p style=\"text-align:right;\">Sources: <span style=\"background-color:#d8daef;\">kalevala</span><sup>[1]</sup></p></small>"
            ],
            "text/plain": [
              "<IPython.core.display.HTML object>"
            ]
          },
          "metadata": {
            "tags": []
          }
        },
        {
          "output_type": "stream",
          "text": [
            "----------------- temperature = 0.6 ----------------------\n"
          ],
          "name": "stdout"
        },
        {
          "output_type": "display_data",
          "data": {
            "text/html": [
              "pepäästä tehti maata maallisehko teitosia sikuja, <br>panikoista palkotellen: siihet kuiki kein pareta <br>pistä<span style=\"background-color:#d8daef;\"> suuren suomuloista, </span><sup>[1]</sup>seitsemäksi siivaeli; <br>senki haavon haattamasi, pyhät pieni, tyhjästi, <br>tarkoin neiet tuonetana, kylmiksi kyselemässä, <br>kielleni reettäensä, orihito otelensa.<br><br>Saittoi suihen soittam<span style=\"background-color:#d8daef;\">ahan, nuoret miehet miek</span><sup>[1]</sup>koihinsa, <br>vuotio venohen jouhun, puhuen on pallosna päässä.\"<br><br>Työnä Tuonelan rovella, katsoi taskan-tappellen; <br>haravoipi saasi naotu, selvät impi iltasella; <br>kuusi k"
            ],
            "text/plain": [
              "<IPython.core.display.HTML object>"
            ]
          },
          "metadata": {
            "tags": []
          }
        },
        {
          "output_type": "display_data",
          "data": {
            "text/html": [
              "<small><p style=\"text-align:right;\">Sources: <span style=\"background-color:#d8daef;\">kalevala</span><sup>[1]</sup></p></small>"
            ],
            "text/plain": [
              "<IPython.core.display.HTML object>"
            ]
          },
          "metadata": {
            "tags": []
          }
        },
        {
          "output_type": "stream",
          "text": [
            "----------------- temperature = 1.0 ----------------------\n"
          ],
          "name": "stdout"
        },
        {
          "output_type": "display_data",
          "data": {
            "text/html": [
              "pppätätä ilokeasta, <br>kangaski kiviset itkenensä mailoissa ikimäjän <br>nostasta orosen syvitse, vesiviistä vierehisi!\" <span style=\"background-color:#d8daef;\"><br><br><br><br>Yhdeksäsneljättä runo<br><br></span><sup>[1]</sup><span style=\"background-color:#d8daef;\">Kullervo, Kalervon poika, tuossa tuon sanoiksi virkki: <br>\"</span><sup>[1]</sup>Jo nyt sampo saatetana, kerran kelkella simellä <br><br>pani paljohon pahemman muutan maiksi, <br>suvuista suun pitehen, märeksi mahan myötenne <br>kultua kutimikääri, Vähäinän välelevi.\"<br><br><br>Kullervo, kalvotvat: Kauko kassa kuin kolijat, <br>tehtihin ajeltakoisi, pahin--aalli paaren perttihinsa <br>illan aukunna alune"
            ],
            "text/plain": [
              "<IPython.core.display.HTML object>"
            ]
          },
          "metadata": {
            "tags": []
          }
        },
        {
          "output_type": "display_data",
          "data": {
            "text/html": [
              "<small><p style=\"text-align:right;\">Sources: <span style=\"background-color:#d8daef;\">kalevala</span><sup>[1]</sup></p></small>"
            ],
            "text/plain": [
              "<IPython.core.display.HTML object>"
            ]
          },
          "metadata": {
            "tags": []
          }
        },
        {
          "output_type": "stream",
          "text": [
            "---------------------------------------\n",
            "Epoch: 103.95, iter: 9400, cross-entropy: 0.380, accuracy: 0.89176\n",
            "   y: i turpeheksi. |  | Lentelevi, liitelevi, päähän polven laskeuvi.  | Siihen laativi pesänsä, muni kultaiset munansa:  | kuusi kultaista m\n",
            "  yp: i kulmeheksi. |  | \"omtelevi, liitelevi, päähän polvek laskeuvi.  | Saihen laitivi pesänsä, muui kultaiset munansa:  | kunsi kultaisea m\n",
            "----------------- temperature = 0.2 ----------------------\n"
          ],
          "name": "stdout"
        },
        {
          "output_type": "display_data",
          "data": {
            "text/html": [
              "pystättyt kieleä saunat <br>Ennen kuonton korvan alla, kirjokannen kartanoa?\"<br><br>\"Kieli kolme koittelevi juo on päätyi puuri luonnat, <br>ylähät sota solmat, enen tuonnut suoremahan, <br>kala kuota kaitetahan, kulta kulkematto<span style=\"background-color:#d8daef;\">mahan.\"<br><br>Sanoi vanha Väinämöinen: \"</span><sup>[1]</sup><span style=\"background-color:#d8daef;\">Jo nyt on kalainen karja <br>tämän nuotan nostimilla, satalauan laskimilla.\"<br><br>Siitä </span><sup>[1]</sup><span style=\"background-color:#d8daef;\">vanha Väinämöinen lauloa hyrähtelevi. <br>Lauloi ensin laita</span><sup>[1]</sup>loita: pohti poika polvikotta. <br>Niitä noutoin tunnikseni, vaivoille valkeanni!<br><br>\"Tule, nyt luskeksi lunanen, kar"
            ],
            "text/plain": [
              "<IPython.core.display.HTML object>"
            ]
          },
          "metadata": {
            "tags": []
          }
        },
        {
          "output_type": "display_data",
          "data": {
            "text/html": [
              "<small><p style=\"text-align:right;\">Sources: <span style=\"background-color:#d8daef;\">kalevala</span><sup>[1]</sup></p></small>"
            ],
            "text/plain": [
              "<IPython.core.display.HTML object>"
            ]
          },
          "metadata": {
            "tags": []
          }
        },
        {
          "output_type": "stream",
          "text": [
            "----------------- temperature = 0.6 ----------------------\n"
          ],
          "name": "stdout"
        },
        {
          "output_type": "display_data",
          "data": {
            "text/html": [
              "pystottu Lempojansa, ylenti ylen alata <br>kalki kolta, katkoansa, laiat liikkui laateleisi; <br>leuloi päivän, lauski toisen, kolmannen kovin päältä. <br>Tuli tuohon veralle, joseta lypeätöihin! <br>Siell' on ilmi ikkunyntä, karhinansa kartanun<span style=\"background-color:#d8daef;\">a?\"<br><br>Silloin vanha Väinämöinen itse tuon sanoiksi virkki: <br>\"Ei o</span><sup>[1]</sup>le surmatta sykyn, en mieltysi apetan; <br>kirjoin lienot pientykättä<span style=\"background-color:#d8daef;\">, katsoin kaiken kasv</span><sup>[1]</sup>attajan, <br>joilla silkillä sitaise, alle kauainen rannan. <br>Auken tullassa kova<span style=\"background-color:#d8daef;\">lla, Kalevalan kankahilla.</span><sup>[1]</sup>\"<br><br>Siitä vanh"
            ],
            "text/plain": [
              "<IPython.core.display.HTML object>"
            ]
          },
          "metadata": {
            "tags": []
          }
        },
        {
          "output_type": "display_data",
          "data": {
            "text/html": [
              "<small><p style=\"text-align:right;\">Sources: <span style=\"background-color:#d8daef;\">kalevala</span><sup>[1]</sup></p></small>"
            ],
            "text/plain": [
              "<IPython.core.display.HTML object>"
            ]
          },
          "metadata": {
            "tags": []
          }
        },
        {
          "output_type": "stream",
          "text": [
            "----------------- temperature = 1.0 ----------------------\n"
          ],
          "name": "stdout"
        },
        {
          "output_type": "display_data",
          "data": {
            "text/html": [
              "puunottuvat juost<span style=\"background-color:#d8daef;\">a.<br><br>Sanoi seppo Ilmarinen: \"</span><sup>[1]</sup>Huoli enkin saan ikäntä, <br>vaarna maalla hylitsellä, päivällä männeäillä päässä? <br>oman pääsi päästymähän, ensimäinen ystämänkö.\"<br><br>Kantoi korvan konkahalle vierähän vesiessä: <br>aita Väinämöinen, ensimaikse istujaksa, <br>levitikkä lentes<span style=\"background-color:#d8daef;\">ehen. Itse tuon sanoiksi virkki: <br>\"</span><sup>[1]</sup>Anna haukkaisen murkan, jotka mannenkarvaistajaksi<span style=\"background-color:#d8daef;\">!\"<br><br>Emo tuon sanoiksi virkk</span><sup>[1]</sup>i, lausui vanhin la lepät..<br><br>\"Jo nyt kultainen käkenät, ve'etähän vähkevimatta, <br>kun et tuo minua poloistanun em"
            ],
            "text/plain": [
              "<IPython.core.display.HTML object>"
            ]
          },
          "metadata": {
            "tags": []
          }
        },
        {
          "output_type": "display_data",
          "data": {
            "text/html": [
              "<small><p style=\"text-align:right;\">Sources: <span style=\"background-color:#d8daef;\">kalevala</span><sup>[1]</sup></p></small>"
            ],
            "text/plain": [
              "<IPython.core.display.HTML object>"
            ]
          },
          "metadata": {
            "tags": []
          }
        },
        {
          "output_type": "stream",
          "text": [
            "---------------------------------------\n",
            "Epoch: 106.16, iter: 9600, cross-entropy: 0.406, accuracy: 0.87972\n",
            "   y: matta, lattiat lakaisematta,  | pinttyä pikarin laiat, tuopin korvat tummentua.\" |  | Itse seppo Ilmarinen nuoren neitonsa keralla  | aj\n",
            "  yp: iah a   | iptiat lakaisemasta,  | poloiyä pikarin laiat, tuopin korvat kunmentun.\" |  | Stse seppo Ilmarinen,sooren neitonsa keralla: | jj\n",
            "----------------- temperature = 0.2 ----------------------\n"
          ],
          "name": "stdout"
        },
        {
          "output_type": "display_data",
          "data": {
            "text/html": [
              "säätessässä vesiä; <br>keskelle kiseä petäjen, Kalevalan karvan päässä.<br><br>\"Jopa miestä orpehista, simasen silittelevi, <br>silmät kaikki kaikahtaimut liiat noilla verkkojani, laskehilla laulamilla: <br>\"Elkötte<span style=\"background-color:#d8daef;\">, emo, elossa, vanhempan</span><sup>[1]</sup>sa valvehella, <br>jotta päälleni pitoille, iän kaivon kartanolle! <br>Tuo tämmit sotaritoinen, mieleni, miehen! <br>Siinä mennä seisomahan, Lempo karvon kaunokainen... <br>Niit ennäsen emoltavaksi, toisen virren työnsi sille <br>loille raihille rahoilla, lau'umilla lahlammilla.\"<br><br>Sanoi äit"
            ],
            "text/plain": [
              "<IPython.core.display.HTML object>"
            ]
          },
          "metadata": {
            "tags": []
          }
        },
        {
          "output_type": "display_data",
          "data": {
            "text/html": [
              "<small><p style=\"text-align:right;\">Sources: <span style=\"background-color:#d8daef;\">kalevala</span><sup>[1]</sup></p></small>"
            ],
            "text/plain": [
              "<IPython.core.display.HTML object>"
            ]
          },
          "metadata": {
            "tags": []
          }
        },
        {
          "output_type": "stream",
          "text": [
            "----------------- temperature = 0.6 ----------------------\n"
          ],
          "name": "stdout"
        },
        {
          "output_type": "display_data",
          "data": {
            "text/html": [
              "säseliätä vesivirata, päältä päivät toiskantavat <br>Ei ole hätäite tuis<span style=\"background-color:#d8daef;\">ta, tuota kullan kumm</span><sup>[1]</sup>eksirrösän salohon, <br>joilla siitä ottaminen, viluat virrat viiettelette!<br><br>\"Nyt on liina, otsosesi<span style=\"background-color:#d8daef;\"> pään varalle Väinämöisen.<br><br>Vaka vanha Väinämöinen </span><sup>[1]</sup><span style=\"background-color:#d8daef;\">sanan virkkoi, noin nimesi: <br>\"Vaiv' on suuri valvati</span><sup>[1]</sup>nna, vuolinut veikon syöä <br>ennenmpille on emolle, taikahan tavitetahan! <br>Laatiset levättärestä, lasten lasvat laulamteltu, <br>peurat helät hierahuota, joutsetteli meurollani, <br>senki seisottui orito, juonet rahana"
            ],
            "text/plain": [
              "<IPython.core.display.HTML object>"
            ]
          },
          "metadata": {
            "tags": []
          }
        },
        {
          "output_type": "display_data",
          "data": {
            "text/html": [
              "<small><p style=\"text-align:right;\">Sources: <span style=\"background-color:#d8daef;\">kalevala</span><sup>[1]</sup></p></small>"
            ],
            "text/plain": [
              "<IPython.core.display.HTML object>"
            ]
          },
          "metadata": {
            "tags": []
          }
        },
        {
          "output_type": "stream",
          "text": [
            "----------------- temperature = 1.0 ----------------------\n"
          ],
          "name": "stdout"
        },
        {
          "output_type": "display_data",
          "data": {
            "text/html": [
              "pursu säälle polvemasta, kääriset käettämästä. <br>Heti harjoi harjan juota, perän puussa laajimat<span style=\"background-color:#d8daef;\">ta.\"<br><br>Sanoi vanha Väinämöinen: \"</span><sup>[1]</sup>Niin mitätä ison motoinen, <br>irmosan re'ensi liisto, metsän kaunois, kotosa, <br>min varjan valiosijalta! <br>Itketkö sinä sun, suuri purtta, pilkotansa, <br>kun olen koisi kotkuvaksa, maasta laivasen hevotta: <br>lohea ohjalle hapai, vääntää Maantere maita, <br>koirat lintun; lieki miekkoisitsi; <br>taljoin kuulen turkkiossa, vammojen villavaansa.<br><br>Liekkahummessa urosta, uhkasta upohtapua"
            ],
            "text/plain": [
              "<IPython.core.display.HTML object>"
            ]
          },
          "metadata": {
            "tags": []
          }
        },
        {
          "output_type": "display_data",
          "data": {
            "text/html": [
              "<small><p style=\"text-align:right;\">Sources: <span style=\"background-color:#d8daef;\">kalevala</span><sup>[1]</sup></p></small>"
            ],
            "text/plain": [
              "<IPython.core.display.HTML object>"
            ]
          },
          "metadata": {
            "tags": []
          }
        },
        {
          "output_type": "stream",
          "text": [
            "---------------------------------------\n",
            "Epoch: 108.37, iter: 9800, cross-entropy: 0.368, accuracy: 0.89258\n",
            "   y: Sariolassa.  | Mene sinne poikimahan, kohtusi keventämähän!  | Siellä silma tarvitahan, väkeäsi vuotetahan.\" |  | Tuopa musta Tuonen tyt\n",
            "  yp: kaaiolansa,  | Aini sinne poikimahan, kohtusi keventämähän!  | Siellä silma larvitahan, väkeäsi vuotetahan.\" |  | Uuopa lusta Tuonen tyt\n",
            "----------------- temperature = 0.2 ----------------------\n"
          ],
          "name": "stdout"
        },
        {
          "output_type": "display_data",
          "data": {
            "text/html": [
              "pepppporrönnut nenehen.<span style=\"background-color:#d8daef;\"><br><br>Lauloi lapsi lattialta, kasvavainen karsinasta: <br>\"Mi</span><sup>[1]</sup> on suolta poikka kuuta, pilven jopa venon pitämät <br>miehen mieltä hievomahan, jautoja jähyväsiä, <br>toiset tuulen tien miaille, katalan kaonneheksi.<br><br>Lakkin lauloi lattialla. Laulaistiva laulajata: <br>ai neittä syttäkinen kalalle menenet panimmille kennen, <br>jotta kuuli kummian rpysin saavan valkean vieren <br>kolman isti!'PEn suulle pellot neien, <br>lempit mellä leuan talonsa, alas kartanoimeroh<span style=\"background-color:#d8daef;\">la?\"<br><br>Vaka vanha Väinämöinen </span><sup>[1]</sup>itse "
            ],
            "text/plain": [
              "<IPython.core.display.HTML object>"
            ]
          },
          "metadata": {
            "tags": []
          }
        },
        {
          "output_type": "display_data",
          "data": {
            "text/html": [
              "<small><p style=\"text-align:right;\">Sources: <span style=\"background-color:#d8daef;\">kalevala</span><sup>[1]</sup></p></small>"
            ],
            "text/plain": [
              "<IPython.core.display.HTML object>"
            ]
          },
          "metadata": {
            "tags": []
          }
        },
        {
          "output_type": "stream",
          "text": [
            "----------------- temperature = 0.6 ----------------------\n"
          ],
          "name": "stdout"
        },
        {
          "output_type": "display_data",
          "data": {
            "text/html": [
              "ppoinen kullelle suori<span style=\"background-color:#d8daef;\">.\"<br><br>Siitä Pohjolan emäntä </span><sup>[1]</sup>liikkui sillan siittämähän, kyyhällä kylyntelemme. <br>Ahti silkemä sivulle. Annikki hyvynisen: <br>et sanoja sanallisesi, memmän liitto, sieki voiet, kontiotki, <br>kiihettymättä poia koltanne mettä miehen <br>nousisilta nuotioihin, laulukoille lapimahaisin, <br>kun oli suolla konnihinsa jänti kuuminki käkehen!\"<br><br>Siitä sui Jumalan luona oman päänsä aironensän<br><span style=\"background-color:#d8daef;\"><br>tuolta Tuonelan joesta, Manalan alantehesta</span><sup>[1]</sup>. <br>Joko<span style=\"background-color:#d8daef;\"> on vanha Väinämöinen </span><sup>[1]</sup>laulaja karahtelevi <br>senpä hiet"
            ],
            "text/plain": [
              "<IPython.core.display.HTML object>"
            ]
          },
          "metadata": {
            "tags": []
          }
        },
        {
          "output_type": "display_data",
          "data": {
            "text/html": [
              "<small><p style=\"text-align:right;\">Sources: <span style=\"background-color:#d8daef;\">kalevala</span><sup>[1]</sup></p></small>"
            ],
            "text/plain": [
              "<IPython.core.display.HTML object>"
            ]
          },
          "metadata": {
            "tags": []
          }
        },
        {
          "output_type": "stream",
          "text": [
            "----------------- temperature = 1.0 ----------------------\n"
          ],
          "name": "stdout"
        },
        {
          "output_type": "display_data",
          "data": {
            "text/html": [
              "suunnista kehästä, tähtimilta rantarilta, <br>rautaosta rohmahalle, koppo räkken kannettaisi, <br>painuvi pajaltavaisin, poikuisihe niojavihin.\"<br><br>Tuon emonsa utkuttelen, kajallista kanteletta<span style=\"background-color:#d8daef;\">.<br><br>Itse seppo Ilmarinen, takoja iän-ikuinen, <br></span><sup>[1]</sup>arvelin ajattelevi, save'in vähän varahin <br>Väinämöisella<span style=\"background-color:#d8daef;\"> venoksi, laulajalle pohjapuuksi?<br><br>Pellervoinen, pellon poika, Sampsa poika pikkar</span><sup>[1]</sup>oinen, <br>saatulan susarkotuna kesäisi kasken kaunihin <br>tuolt' on nuotta parvastaisi, huolipuot jomit kokona: <br>Pohjan joiselte palova"
            ],
            "text/plain": [
              "<IPython.core.display.HTML object>"
            ]
          },
          "metadata": {
            "tags": []
          }
        },
        {
          "output_type": "display_data",
          "data": {
            "text/html": [
              "<small><p style=\"text-align:right;\">Sources: <span style=\"background-color:#d8daef;\">kalevala</span><sup>[1]</sup></p></small>"
            ],
            "text/plain": [
              "<IPython.core.display.HTML object>"
            ]
          },
          "metadata": {
            "tags": []
          }
        },
        {
          "output_type": "stream",
          "text": [
            "---------------------------------------\n",
            "Epoch: 110.58, iter: 10000, cross-entropy: 0.381, accuracy: 0.88672\n",
            "   y: villansa sanaset. |  | Lauloi vanha Väinämöinen, sekä lauloi jotta taitoi:  | ei sanat sanoihin puutu, virret veisaten vähene;  | ennen \n",
            "  yp: na len a  | anolin  |  | Eauloi lanha Väinämöinen, sekä lauloi jotta taitoi:  | li sana  sanoihin puutu, virret veitaten vähene;  | lnnen \n",
            "----------------- temperature = 0.2 ----------------------\n"
          ],
          "name": "stdout"
        },
        {
          "output_type": "display_data",
          "data": {
            "text/html": [
              "ysyövimät<span style=\"background-color:#d8daef;\">ähän.\"<br><br>Sanoi äiti Lemminkäisen: \"</span><sup>[1]</sup><span style=\"background-color:#d8daef;\">Mit' olet pahoilla miel</span><sup>[1]</sup>en: <br>annan Anniksen elävi, tarkasti tahinen maanet.<br><br>Lenti kuulut kunnialla, puuttukuurtt luukijalle: <br>piti pillot pihmentäni, perillen<span style=\"background-color:#d8daef;\">ä kolmannella <br>nousi tuuli tuulemahan, il</span><sup>[1]</sup><span style=\"background-color:#d8daef;\">oa imehtimähän.<br><br>Uipi hauit hangot</span><sup>[1]</sup>toman keskiköiksi ilman lanteheksi, <br>potkin polvesta potavan, kaksimisennan kerran<span style=\"background-color:#d8daef;\">.<br><br>Siitä nuori Joukahainen toki viimein tuskast</span><sup>[1]</sup>a, <br>kaa'an noiat noit sommi, kuultuat ovettamahan <br>vetehen viiettömähän, aivan aike'immyemmhen."
            ],
            "text/plain": [
              "<IPython.core.display.HTML object>"
            ]
          },
          "metadata": {
            "tags": []
          }
        },
        {
          "output_type": "display_data",
          "data": {
            "text/html": [
              "<small><p style=\"text-align:right;\">Sources: <span style=\"background-color:#d8daef;\">kalevala</span><sup>[1]</sup></p></small>"
            ],
            "text/plain": [
              "<IPython.core.display.HTML object>"
            ]
          },
          "metadata": {
            "tags": []
          }
        },
        {
          "output_type": "stream",
          "text": [
            "----------------- temperature = 0.6 ----------------------\n"
          ],
          "name": "stdout"
        },
        {
          "output_type": "display_data",
          "data": {
            "text/html": [
              "syyyttimässä, häväsi maata vasten varsi,<span style=\"background-color:#d8daef;\"> <br>nousi suurelle mäelle, k</span><sup>[1]</sup>arjan kienen kierun pitkin; <br>jopa liikkui lintuarin, kalkieli vaka vähelle<span style=\"background-color:#d8daef;\">: <br>\"Ohoh sinua, ukko </span><sup>[1]</sup>survi! Kun olen metisen Munan mutahan, <br>jospa<span style=\"background-color:#d8daef;\"> kaunoinen Jumala, va</span><sup>[1]</sup>lehettu, valtaloj<span style=\"background-color:#d8daef;\">ansa.<br><br>Jopa tuosta tois</span><sup>[1]</sup><span style=\"background-color:#d8daef;\">na päänä, kahen, kolmen yön perä</span><sup>[1]</sup>llä, <br>jonka Kuurien kutihin, onna, kätös kulkemaa'an: <br>kullat on tulle tietä näytti, simoa riitteleiksi, <br>päänsä patvanha pätöisen, silla kostin, toinen päivä<span style=\"background-color:#d8daef;\">n. <br>Ei ollut sitä urosta eikä miestä </span><sup>[1]</sup>melkeä"
            ],
            "text/plain": [
              "<IPython.core.display.HTML object>"
            ]
          },
          "metadata": {
            "tags": []
          }
        },
        {
          "output_type": "display_data",
          "data": {
            "text/html": [
              "<small><p style=\"text-align:right;\">Sources: <span style=\"background-color:#d8daef;\">kalevala</span><sup>[1]</sup></p></small>"
            ],
            "text/plain": [
              "<IPython.core.display.HTML object>"
            ]
          },
          "metadata": {
            "tags": []
          }
        },
        {
          "output_type": "stream",
          "text": [
            "----------------- temperature = 1.0 ----------------------\n"
          ],
          "name": "stdout"
        },
        {
          "output_type": "display_data",
          "data": {
            "text/html": [
              "ysyövit mulipäivän, uros ampiomani?\"<br><br>Seko nätki<span style=\"background-color:#d8daef;\"> Lemminkäinen, sanoi kaunis Kaukomieli: <br>\"S</span><sup>[1]</sup>ainpa<span style=\"background-color:#d8daef;\"> piika pikkarainen, n</span><sup>[1]</sup>urmela, imellutense, <br>ison saamin vastoimille, miellen pysi pyörähtihin; <br>metk<span style=\"background-color:#d8daef;\">ä vanhan Väinämöisen, </span><sup>[1]</sup>hauanparan haukeaksen. <br>Pistivat riski tu'ahten, tuolti päivän jännitelle, <br>riveltän riimahattu, paikkohen pajantehe<span style=\"background-color:#d8daef;\">ksi.<br><br>Siitä vanha Väinämöinen</span><sup>[1]</sup><span style=\"background-color:#d8daef;\">, tietäjä iän-ikuinen, <br>k</span><sup>[1]</sup>un oi saatunut sukua, Laoin kunn, koki lihe pihajapa, <br>te'imälle veno perälle, alle valvahan umonin.<br><br>Use'in sinu"
            ],
            "text/plain": [
              "<IPython.core.display.HTML object>"
            ]
          },
          "metadata": {
            "tags": []
          }
        },
        {
          "output_type": "display_data",
          "data": {
            "text/html": [
              "<small><p style=\"text-align:right;\">Sources: <span style=\"background-color:#d8daef;\">kalevala</span><sup>[1]</sup></p></small>"
            ],
            "text/plain": [
              "<IPython.core.display.HTML object>"
            ]
          },
          "metadata": {
            "tags": []
          }
        },
        {
          "output_type": "stream",
          "text": [
            "---------------------------------------\n",
            "Epoch: 112.80, iter: 10200, cross-entropy: 0.364, accuracy: 0.89551\n",
            "   y: , ruohoja monennäköjä,  | joit' ei nähä näillä mailla kaikin paikoin kasvaviksi.  | Panevi pa'an tulelle, laitti keiton kiehumahan  | \n",
            "  yp:    | iohona ronen äköjä,  | koit' ei sähä näillä mailla kaikin paikoin kasvaviksi.  | Panevi pilan tulelle, laitti keiton kiehumahan  | \n",
            "----------------- temperature = 0.2 ----------------------\n"
          ],
          "name": "stdout"
        },
        {
          "output_type": "display_data",
          "data": {
            "text/html": [
              "yysyvöyttövän hevonen seissi, <br>alla jousia jätäjällä, petäjälä pettimilla.<br><br>Karkalatti taivahansa, alajat alistehensa. <br>Laativi tulikka tuppa, tuosta sai nuonnut kokohon, <br>osasi onkeastamasi, oppea totissa tietä: <br>terve, vierien tapasta, murkanmaat kuvattumatta, <br>vian päälle vierahille, ei ole nennä uuen kauno kaunokkanne!<span style=\"background-color:#d8daef;\"> <br>Parempi olisin ollut syntymättä, kasvamatta</span><sup>[1]</sup>. <br>Sai sima sanon pihalle: ihanan isoni ennättä <br>iväkämme miekkomasta, kynen päässä sisko seitä.'<br><br>\"Saiot poja sukua, jatasi, rasua"
            ],
            "text/plain": [
              "<IPython.core.display.HTML object>"
            ]
          },
          "metadata": {
            "tags": []
          }
        },
        {
          "output_type": "display_data",
          "data": {
            "text/html": [
              "<small><p style=\"text-align:right;\">Sources: <span style=\"background-color:#d8daef;\">kalevala</span><sup>[1]</sup></p></small>"
            ],
            "text/plain": [
              "<IPython.core.display.HTML object>"
            ]
          },
          "metadata": {
            "tags": []
          }
        },
        {
          "output_type": "stream",
          "text": [
            "----------------- temperature = 0.6 ----------------------\n"
          ],
          "name": "stdout"
        },
        {
          "output_type": "display_data",
          "data": {
            "text/html": [
              "ypsypellellutt<span style=\"background-color:#d8daef;\">evi <br>pimeästä Pohjolasta, summasta Sariolasta. <br></span><sup>[1]</sup>Sano tytär sorean saa'a, tuskasi tamon ravasta, <br>ajan kuin on polvensasa, tuoksenien lorhissansa<span style=\"background-color:#d8daef;\">.<br><br>\"Mielikki, metsän emäntä, T</span><sup>[1]</sup>uonen tarko, taivastinen <br>kanteloste pilvistähän, rinnoista ripottamasta, <br>ne on kaikki kainauttene, kun et jousnut kokko, käkeni käken kuluneheksi, <br>vierellä ajoilmiesi, runihista rukkasihin.<br><br>Mitä nousta maahaistaimen tulen Pohjolan tupaha<span style=\"background-color:#d8daef;\">n.<br><br>Siinä vanha Väinämöinen </span><sup>[1]</sup><span style=\"background-color:#d8daef;\">itse tuon sanoiksi virkki: <br>\"En usko unia n</span><sup>[1]</sup>"
            ],
            "text/plain": [
              "<IPython.core.display.HTML object>"
            ]
          },
          "metadata": {
            "tags": []
          }
        },
        {
          "output_type": "display_data",
          "data": {
            "text/html": [
              "<small><p style=\"text-align:right;\">Sources: <span style=\"background-color:#d8daef;\">kalevala</span><sup>[1]</sup></p></small>"
            ],
            "text/plain": [
              "<IPython.core.display.HTML object>"
            ]
          },
          "metadata": {
            "tags": []
          }
        },
        {
          "output_type": "stream",
          "text": [
            "----------------- temperature = 1.0 ----------------------\n"
          ],
          "name": "stdout"
        },
        {
          "output_type": "display_data",
          "data": {
            "text/html": [
              "y<br>yvyö väväti, yleni sanalla, tarkehen taotehella. <br>Siinä mies makaki seillä, monet surmalle tulimalta, <br>hoiluvienuho höntäkättä, vainko suuresta soassa, <br>kesäköirtä kenkkeassa, kylävattane kylitse <br>ylitse tullaksi käveä, Väinämöinen ja pakelin <br>tuoren tehmän tyttäriä, <br>nenävaltan vouttimille, rannan kalvantamille. <br>\"Enkä sinne iskun lunnan, läksi hauin halmas hienkon, <br>kaottunet kaksin karsun sekä pitkästä sinunut, <br>ken tieä terämpiännä, pusempi metsän miteli <br>alla laivan launehissa. Väinämöise"
            ],
            "text/plain": [
              "<IPython.core.display.HTML object>"
            ]
          },
          "metadata": {
            "tags": []
          }
        },
        {
          "output_type": "stream",
          "text": [
            "---------------------------------------\n",
            "Epoch: 115.01, iter: 10400, cross-entropy: 0.357, accuracy: 0.89714\n",
            "   y: än päästyänsä  | vetivät venosen maalle, tempasivat tervarinnan  | teloille teräksisille, valkamoille vaskisille. |  | Tulivat tuville t\n",
            "  yp: an viätiäänsä  | veti ät venosen maalle, tempasivat tervarinnan  | teloille teräksisille, vaskamoille vaskisille. |  | Tulipat tuville t\n",
            "----------------- temperature = 0.2 ----------------------\n"
          ],
          "name": "stdout"
        },
        {
          "output_type": "display_data",
          "data": {
            "text/html": [
              "ysysvyvälttisi korihi, takaisi tuhinen luoksi. <br>Ei tulevi Väinämöinen, toi on tarpoimet pääse <br>ohra'aista Matasan, noikoja minun vasiksi<span style=\"background-color:#d8daef;\">.<br><br>\"Ellös nyt, hyvä isoni, ellös, ehtoin</span><sup>[1]</sup> entiseksä.<br><br>Varrai vaatta vaamaltansa, toi on vaipui valtauisi: <br>'Ei ollut veikon elolla, taataristo isoannut.<br><br>\"Kottihin ota kotoisen, astui alla ohjaella; <br>itse on nuotia notalle, vanhempasi vallattelin <br>oman peltosella selkälle, vasima<span style=\"background-color:#d8daef;\">lle varpahille! <br>Katso nyt, kaunoinen Jumala, varjele, vakainen Luoja, <br></span><sup>[1]</sup>varjele vahin"
            ],
            "text/plain": [
              "<IPython.core.display.HTML object>"
            ]
          },
          "metadata": {
            "tags": []
          }
        },
        {
          "output_type": "display_data",
          "data": {
            "text/html": [
              "<small><p style=\"text-align:right;\">Sources: <span style=\"background-color:#d8daef;\">kalevala</span><sup>[1]</sup></p></small>"
            ],
            "text/plain": [
              "<IPython.core.display.HTML object>"
            ]
          },
          "metadata": {
            "tags": []
          }
        },
        {
          "output_type": "stream",
          "text": [
            "----------------- temperature = 0.6 ----------------------\n"
          ],
          "name": "stdout"
        },
        {
          "output_type": "display_data",
          "data": {
            "text/html": [
              "ystyvyvälttisyänsä itse kylmiä samosta, <br>sata ollakintana isonnat, tuttuitta tuttoansa.<br><br>Läks<span style=\"background-color:#d8daef;\">i kuun kumottamasta k</span><sup>[1]</sup>uvet kultaista mäeltä, <br>jolla valkamat varavat eelkeä rakoilla sano<span style=\"background-color:#d8daef;\">a <br>pimeästä Pohjolasta, s</span><sup>[1]</sup>ormilta Kalenmata\" <br>Ahto soitansa tulevi, hivurvatti halkkahampi<span style=\"background-color:#d8daef;\">. <br>Iski puuta kirvehellä, </span><sup>[1]</sup>tampaon taviterkoiset, <br>siiksi siirret silostansa, vaskivarrestä korahin. <br>Noisin kuin kumottamahan, <br>ylähät vähen vakara, verin mailta vihkautta.<br><br>\"Siitäpä vinun ja ollut tule<span style=\"background-color:#d8daef;\"> toisi Tuonelahan, <br>v</span><sup>[1]</sup>ierin v"
            ],
            "text/plain": [
              "<IPython.core.display.HTML object>"
            ]
          },
          "metadata": {
            "tags": []
          }
        },
        {
          "output_type": "display_data",
          "data": {
            "text/html": [
              "<small><p style=\"text-align:right;\">Sources: <span style=\"background-color:#d8daef;\">kalevala</span><sup>[1]</sup></p></small>"
            ],
            "text/plain": [
              "<IPython.core.display.HTML object>"
            ]
          },
          "metadata": {
            "tags": []
          }
        },
        {
          "output_type": "stream",
          "text": [
            "----------------- temperature = 1.0 ----------------------\n"
          ],
          "name": "stdout"
        },
        {
          "output_type": "display_data",
          "data": {
            "text/html": [
              "syytti lipskarvän kosista, varren vaskisen ovista <br>mieluisasta meessässänsä, lasnakoista laulamass<span style=\"background-color:#d8daef;\">a.\"<br><br>Kullervo, Kalervon poika, </span><sup>[1]</sup>minun kyntöjän myeärten! <br>Ken nyt maasta miekkamiestä, uelemat oloamatta etkä <br>sussa sonnen kyppälistä, varvikoiksi kyttävia suurea <br>hien, koiska kolmekara kotoi?\" <br><br>Mitä nuorella salova nuotan, pernavanra vaakuttanu: <br>alla ouoille hopuista, haukselme haihoama'a. <br>Oiahut urosia nosto, pimeähän Pemittamassa <br>on kotona kohtoavi, kotistänsä koihtampetta.\"<br><br>Ajoi eessä läht"
            ],
            "text/plain": [
              "<IPython.core.display.HTML object>"
            ]
          },
          "metadata": {
            "tags": []
          }
        },
        {
          "output_type": "display_data",
          "data": {
            "text/html": [
              "<small><p style=\"text-align:right;\">Sources: <span style=\"background-color:#d8daef;\">kalevala</span><sup>[1]</sup></p></small>"
            ],
            "text/plain": [
              "<IPython.core.display.HTML object>"
            ]
          },
          "metadata": {
            "tags": []
          }
        },
        {
          "output_type": "stream",
          "text": [
            "---------------------------------------\n",
            "Epoch: 117.22, iter: 10600, cross-entropy: 0.325, accuracy: 0.90967\n",
            "   y: tui harja lainehesen.  | Jäi hivukset hiipomatta, tukat kesken suorimatta. |  | Itseki ve'en emäntä, ve'en eukko ruokorinta,  | jopa nou\n",
            "  yp: aai serta hautehesen.  | Täi hivukset hiipomatta, tukat kesken suorimatta. |  | Ttse i ve'en emäntä, ve'en eukko ruokorinta,  | jopa nou\n",
            "----------------- temperature = 0.2 ----------------------\n"
          ],
          "name": "stdout"
        },
        {
          "output_type": "display_data",
          "data": {
            "text/html": [
              "ysysyvyllevö selältä, tukat sylen syötä myöten, <br>pahat paistasta pajasta, ajan alta armahama!<br><br>\"Kuules aikoa ukalla vieä! Muuallantoa lameä, <br><span style=\"background-color:#d8daef;\">tuolla Tuonelan ko'is</span><sup>[1]</sup><span style=\"background-color:#d8daef;\">ta, Manalan ikimajoista.\"<br><br>Vie</span><sup>[1]</sup>ti vettä <br>Tulervan Lemmon liitan, itsensä kätösen vyöllä, <br>kaautahan karsassa kohosta, kuohetella kuunikonga <br>tähtyässä itsemahan, päiveä iäntä, <br>kun en pääsnä päästämättä orran poivia epästä!<span style=\"background-color:#d8daef;\"> <br>Tuop' on tuohon vastoavi: \"Ei </span><sup>[1]</sup><span style=\"background-color:#d8daef;\">tämä tähän sopiva! <br>Pani aian aukottoman, veräjättömän kyhäsi, <br>tuon on nosti t</span><sup>[1]</sup>otka"
            ],
            "text/plain": [
              "<IPython.core.display.HTML object>"
            ]
          },
          "metadata": {
            "tags": []
          }
        },
        {
          "output_type": "display_data",
          "data": {
            "text/html": [
              "<small><p style=\"text-align:right;\">Sources: <span style=\"background-color:#d8daef;\">kalevala</span><sup>[1]</sup></p></small>"
            ],
            "text/plain": [
              "<IPython.core.display.HTML object>"
            ]
          },
          "metadata": {
            "tags": []
          }
        },
        {
          "output_type": "stream",
          "text": [
            "----------------- temperature = 0.6 ----------------------\n"
          ],
          "name": "stdout"
        },
        {
          "output_type": "display_data",
          "data": {
            "text/html": [
              "ysyyvyvälleni jä simusti, veen velkalle venevi. <br>Pian pistihe tipahan, katkoi kaarta kangatkuurne <br>ilman luotoa kotihin, herteämmenssä paterit<br><br><br>Ahti aittahan usohti, poja ei katkelle kiviä<span style=\"background-color:#d8daef;\">.<br><br>\"Siitä seppo Ilmarinen</span><sup>[1]</sup>, takai tuokse tullellensa <br>ja seppäsi miestä nousta urohot, oket ostunut opaksi. <br>Syössäni synneltäni, maammopuen neitosinnan, <br>oksella olo vesien, lainen\"\"Kuniku saa tulla tuolleni <br>niioin tuon sinun menian, kitoni kiinne kannanllinnakana!<br><br>\"Muuttanevot, kuin sanomat, viksi vartta va"
            ],
            "text/plain": [
              "<IPython.core.display.HTML object>"
            ]
          },
          "metadata": {
            "tags": []
          }
        },
        {
          "output_type": "display_data",
          "data": {
            "text/html": [
              "<small><p style=\"text-align:right;\">Sources: <span style=\"background-color:#d8daef;\">kalevala</span><sup>[1]</sup></p></small>"
            ],
            "text/plain": [
              "<IPython.core.display.HTML object>"
            ]
          },
          "metadata": {
            "tags": []
          }
        },
        {
          "output_type": "stream",
          "text": [
            "----------------- temperature = 1.0 ----------------------\n"
          ],
          "name": "stdout"
        },
        {
          "output_type": "display_data",
          "data": {
            "text/html": [
              "yysyvöset juopiseltiansa, akat ostella kakahti <br>katkerilla, kultaryöhän ylijätäikse; <br>lauloi kylvi, laskelessa? liikehestä <br>lakemmasta Leuvassasi, mattaksensä karjaessa, <br>hyiteleime mies Kovioti: <br>on kuoni, koatanehe, ku olikka rakentajaksi; <br>tahi voitehet taluset, kassapäät e'et kauis, <br>kuun peskon piha petäjän, maan varmahan makoamanta, <br>hampa'ista hiekoahan hevasen, pellarasen pirttehestä!\"<br><br>Pysytelle poikaseni, kervoilla keräpäele!<br><br>\"Jo nyt jaloilte huohumit, vehnilinna, liiat suohon liiat s"
            ],
            "text/plain": [
              "<IPython.core.display.HTML object>"
            ]
          },
          "metadata": {
            "tags": []
          }
        },
        {
          "output_type": "stream",
          "text": [
            "---------------------------------------\n",
            "Epoch: 119.43, iter: 10800, cross-entropy: 0.362, accuracy: 0.89600\n",
            "   y: sekahan, jotk' oli tuotu tuonnempata,  | saatu suolat Saksanmaalta, Vienan pääliltä vesiltä,  | souttu Suolasalmen kautta, laivan pä\n",
            "  yp: kapähun, kouka oli tuolu tuonnempata,  | saatu suolat Saksanmaalta, Vienan pääliltä vesiltä,  | sortau Suolasalmen kaitta, latvan pä\n",
            "----------------- temperature = 0.2 ----------------------\n"
          ],
          "name": "stdout"
        },
        {
          "output_type": "display_data",
          "data": {
            "text/html": [
              "syyJJsymät kuulluttele, toitittelin kuin ei kokko. <br>N<span style=\"background-color:#d8daef;\">iin kuulle kumarteleikse: <br>\"</span><sup>[1]</sup><span style=\"background-color:#d8daef;\">Oi emoni, kantajani! Lähe en ilveksen aj</span><sup>[1]</sup>aksi, <br>työnnä vastan varjoaksi, sen suuhen ruotaisena; <br>tuosta saampuen sylihin, kehme'istä kimmujin kiajo<span style=\"background-color:#d8daef;\">ista.<br><br>\"Jo täällä tämänki talven, jopa mennehen kesosen <br>p</span><sup>[1]</sup>uhti kuului kullalleni, valkomahe vallisokki! <br>Annan Aulelta asentun, toettön tuohon kannettaisen?\"<br><br>\"Siot seitä syntyi taielta vanha, usella utaisen tuolen<span style=\"background-color:#d8daef;\">. <br>Virkki vielä mennessänsä, lausui lä</span><sup>[1]</sup>ksivan kätehen, <br>syöt"
            ],
            "text/plain": [
              "<IPython.core.display.HTML object>"
            ]
          },
          "metadata": {
            "tags": []
          }
        },
        {
          "output_type": "display_data",
          "data": {
            "text/html": [
              "<small><p style=\"text-align:right;\">Sources: <span style=\"background-color:#d8daef;\">kalevala</span><sup>[1]</sup></p></small>"
            ],
            "text/plain": [
              "<IPython.core.display.HTML object>"
            ]
          },
          "metadata": {
            "tags": []
          }
        },
        {
          "output_type": "stream",
          "text": [
            "----------------- temperature = 0.6 ----------------------\n"
          ],
          "name": "stdout"
        },
        {
          "output_type": "display_data",
          "data": {
            "text/html": [
              "syyJJsytämästä, tiere, teellä veski laksi <br>ilma saaren impisen eli kynnyksen avolle. <br>Tahikki tarvan tekemänäniäni!<br><br>\"Nyyreämähän kyllyvytt, kuorat kaunokauneinen! <br>Taon sylen karjan laita, sirkki syöksi kasvotuina.\"<span style=\"background-color:#d8daef;\"><br><br>Siitä kokko rautakoura </span><sup>[1]</sup>sanan vastaisen sanovi: <br>\"Saattahanpa helski toiska, siinä kasvoi ja pahina <br>pakkoivalla laukeailt<span style=\"background-color:#d8daef;\">a.\"<br><br>Se on lieto Lemminkäinen</span><sup>[1]</sup><span style=\"background-color:#d8daef;\">, poika, veitikkä verevä, <br>heti kun t</span><sup>[1]</sup>eri valoisi, varju kainui kaunistita, <br>kyyn selhä kynän manojan, noita tieltä käärmetellä.\"<br><br>Ku"
            ],
            "text/plain": [
              "<IPython.core.display.HTML object>"
            ]
          },
          "metadata": {
            "tags": []
          }
        },
        {
          "output_type": "display_data",
          "data": {
            "text/html": [
              "<small><p style=\"text-align:right;\">Sources: <span style=\"background-color:#d8daef;\">kalevala</span><sup>[1]</sup></p></small>"
            ],
            "text/plain": [
              "<IPython.core.display.HTML object>"
            ]
          },
          "metadata": {
            "tags": []
          }
        },
        {
          "output_type": "stream",
          "text": [
            "----------------- temperature = 1.0 ----------------------\n"
          ],
          "name": "stdout"
        },
        {
          "output_type": "display_data",
          "data": {
            "text/html": [
              "sysärmestöänsäriä, kellimoille kattiloille, <br>päivän piekset, saavat kupphat keilot, karhun kannan haukaelet? <br>Havatoineni kahl<span style=\"background-color:#d8daef;\">assa; sanan virkkoi, noin nimesi: <br></span><sup>[1]</sup>\"Jo olen joki luikin joutinan jo itken ajattelevi<span style=\"background-color:#d8daef;\">: <br>\"Ellös vainen, sulho rukka, </span><sup>[1]</sup>elompille, malke'in, <br>suvansiko valteheksi, korvat kuikkakatkahuiksi, <br>painoi patvassa pajuva, kuuta karhiella kaartakohot <br>nuolta maksoiksi lahoksi, laululaoilla lapsehelle.<br><br>Sanoi sint<span style=\"background-color:#d8daef;\">a Väinämöinen: \"Sentähe</span><sup>[1]</sup>k sotavä saamme, <br>sivullapa ikuiseni, kolmanne ker"
            ],
            "text/plain": [
              "<IPython.core.display.HTML object>"
            ]
          },
          "metadata": {
            "tags": []
          }
        },
        {
          "output_type": "display_data",
          "data": {
            "text/html": [
              "<small><p style=\"text-align:right;\">Sources: <span style=\"background-color:#d8daef;\">kalevala</span><sup>[1]</sup></p></small>"
            ],
            "text/plain": [
              "<IPython.core.display.HTML object>"
            ]
          },
          "metadata": {
            "tags": []
          }
        },
        {
          "output_type": "stream",
          "text": [
            "---------------------------------------\n",
            "Epoch: 121.64, iter: 11000, cross-entropy: 0.324, accuracy: 0.90446\n",
            "   y: itantoa kuulemahan, iloa imehtimähän. |  | Tapiolan tarkka ukko, itse Metsolan isäntä,  | ja kaikki Tapion kansa, sekä piiat jotta poi\n",
            "  yp: i a ta  kojlemahan,  | loa imehtimähän. |  | Oapiolan tarkka ukko, itse Metsolan isäntä,  | jakkaikki Tapion kansa, sekä piiat jotta poi\n",
            "----------------- temperature = 0.2 ----------------------\n"
          ],
          "name": "stdout"
        },
        {
          "output_type": "display_data",
          "data": {
            "text/html": [
              "sepäänsänsänsässä, kysytäsi, kaunihista taatijasi, <br>airon jästa ankitasi, palaloisisispasissa, <br>kanna kannat torvimpia, hiihti suota soittavatta.<br><br>\"Kanan sie saanellense: 'Misä tuota juottanuna, <br>kulki kukkaran uuota, kesäellen korviani <br>suon seisottelemehen, olin suomeren sevästi. <br>Tuop' on kohla koivut, tarvat tarkoi taivahaine<span style=\"background-color:#d8daef;\">n, <br>jottei päästä Väinämöisen, </span><sup>[1]</sup>katsastu kalevälensa, <br>siepi<span style=\"background-color:#d8daef;\"> virkki vieressänsä, k</span><sup>[1]</sup>alkerti kävyä tytärtä<span style=\"background-color:#d8daef;\">. <br>Soutelevat, luitelevat niemi nientä, saari saarta, <br>lohiluotojen</span><sup>[1]</sup>"
            ],
            "text/plain": [
              "<IPython.core.display.HTML object>"
            ]
          },
          "metadata": {
            "tags": []
          }
        },
        {
          "output_type": "display_data",
          "data": {
            "text/html": [
              "<small><p style=\"text-align:right;\">Sources: <span style=\"background-color:#d8daef;\">kalevala</span><sup>[1]</sup></p></small>"
            ],
            "text/plain": [
              "<IPython.core.display.HTML object>"
            ]
          },
          "metadata": {
            "tags": []
          }
        },
        {
          "output_type": "stream",
          "text": [
            "----------------- temperature = 0.6 ----------------------\n"
          ],
          "name": "stdout"
        },
        {
          "output_type": "display_data",
          "data": {
            "text/html": [
              "sepäänsätteli<span style=\"background-color:#d8daef;\">.\"<br><br>Silloin virsikäs Vipunen, tuo vanha varaväkevä, <br>jonk' oli suussa suuri tieto, m</span><sup>[1]</sup>inun täsi tähtyäsiä!<br><br>\"Kun kohtat, kuta, makasi, kirjokielit keitosiksi.\"<br><span style=\"background-color:#d8daef;\"><br><br>Siitä lieto Lemminkäinen heti tu</span><sup>[1]</sup>iski helmatuu<span style=\"background-color:#d8daef;\">na.\"<br><br>Kullervo, Kalervon poika, </span><sup>[1]</sup><span style=\"background-color:#d8daef;\">sanan virkkoi, noin nimesi: <br>\"Jo t</span><sup>[1]</sup>aisi tuhonnen tulla, moloinen ylentämäsi!<br><br>\"Aina haulo, hiiten juuhummat; puhempa purtta keitämähän.<br><br>Laski puut hevotenen, Hieto poika, kaukoteli, kaukeani, <br>kun epästy sijan alio<span style=\"background-color:#d8daef;\">, kirjokannen kirjonta</span><sup>[1]</sup>ni <br>Päivätär, "
            ],
            "text/plain": [
              "<IPython.core.display.HTML object>"
            ]
          },
          "metadata": {
            "tags": []
          }
        },
        {
          "output_type": "display_data",
          "data": {
            "text/html": [
              "<small><p style=\"text-align:right;\">Sources: <span style=\"background-color:#d8daef;\">kalevala</span><sup>[1]</sup></p></small>"
            ],
            "text/plain": [
              "<IPython.core.display.HTML object>"
            ]
          },
          "metadata": {
            "tags": []
          }
        },
        {
          "output_type": "stream",
          "text": [
            "----------------- temperature = 1.0 ----------------------\n"
          ],
          "name": "stdout"
        },
        {
          "output_type": "display_data",
          "data": {
            "text/html": [
              "syatetteli<span style=\"background-color:#d8daef;\">. <br>Tuossa tuon sanoiksi virkki, </span><sup>[1]</sup>puimaista puvaserisen, <br>vastoi vierä viljemähän, airohoihen asvelevan.<br><br>\"Sanoin ahtoa ajasen, tuo minulle vantta täellä: <br>neiti, viikon vuotettaja, mesivaran valkeatta!<br><br>\"Kivoin syönehen kyvälle, torvise novin patoja.<br><br>\"Istuite, joka lieti Louhu, luomien luoksi, kunne luohta luotakana: <br>mi on karhu vaattehinna, vasten varvoinin varoja, <br>juopi suureksiiäksi hengen.<br><br>Käsin kääki kuuluksensa, Pohjan puinien poista.\"<br><br>Sanoi akkouiksa lansa, <br>yheksi sine oro "
            ],
            "text/plain": [
              "<IPython.core.display.HTML object>"
            ]
          },
          "metadata": {
            "tags": []
          }
        },
        {
          "output_type": "display_data",
          "data": {
            "text/html": [
              "<small><p style=\"text-align:right;\">Sources: <span style=\"background-color:#d8daef;\">kalevala</span><sup>[1]</sup></p></small>"
            ],
            "text/plain": [
              "<IPython.core.display.HTML object>"
            ]
          },
          "metadata": {
            "tags": []
          }
        },
        {
          "output_type": "stream",
          "text": [
            "---------------------------------------\n",
            "Epoch: 123.85, iter: 11200, cross-entropy: 0.349, accuracy: 0.90202\n",
            "   y: mman olla kuuluisampi,  | tyttärenkö taattolassa vai miniän miehelässä?' |  | \"Tiainenpa tieon antoi, kyntörastas raksahutti:  | 'Valkea\n",
            "  yp: oaut snla,aulluistmpi   | jutäärenkö taattolassa vainmeniän miehelässä?' |  | \"Viainenpä tueon antoi, kyntörastas raksahutti:  | 'Valkea\n",
            "----------------- temperature = 0.2 ----------------------\n"
          ],
          "name": "stdout"
        },
        {
          "output_type": "display_data",
          "data": {
            "text/html": [
              "yytöit kevättä tempeheset sanovi: <br>'<span style=\"background-color:#d8daef;\">Ei ole valmis valvattisi, </span><sup>[1]</sup>vaeri valvatei, varretti, vaikko lausui valva<span style=\"background-color:#d8daef;\">eli: <br>\"Onko saarella </span><sup>[1]</sup><span style=\"background-color:#d8daef;\">tiloa, maata saaren manterella, <br>pi</span><sup>[1]</sup>kkuista parasJumahan, pahannut pahoilla mäellä, <br>käen kartanon karuksin, aikatin alan tehtä<span style=\"background-color:#d8daef;\">vi: <br>\"Oisiko talossa tässä r</span><sup>[1]</sup><span style=\"background-color:#d8daef;\">innukseni riisujata, <br>aisani alentajata, luokin lonkahuttajata?\"<br><br>Lausui lapsi lattialta, poika portahan nenältä: <br>\"</span><sup>[1]</sup>Oi sie koivun korralluun, emon muohan rutkioille.<br><br>Omminär, minus poika<span style=\"background-color:#d8daef;\">, takoja iän-ikuinen! <br>Tao</span><sup>[1]</sup> nyt "
            ],
            "text/plain": [
              "<IPython.core.display.HTML object>"
            ]
          },
          "metadata": {
            "tags": []
          }
        },
        {
          "output_type": "display_data",
          "data": {
            "text/html": [
              "<small><p style=\"text-align:right;\">Sources: <span style=\"background-color:#d8daef;\">kalevala</span><sup>[1]</sup></p></small>"
            ],
            "text/plain": [
              "<IPython.core.display.HTML object>"
            ]
          },
          "metadata": {
            "tags": []
          }
        },
        {
          "output_type": "stream",
          "text": [
            "----------------- temperature = 0.6 ----------------------\n"
          ],
          "name": "stdout"
        },
        {
          "output_type": "display_data",
          "data": {
            "text/html": [
              "yytöttävän ruojakse retoisen!\"<br><br>Joko niemi mennestäsi yhyt unnolan isost<span style=\"background-color:#d8daef;\">a <br>tuolta Tuonelan ko'ista, Manalan ikimajoista, <br>ain' yhä ajattelevi, </span><sup>[1]</sup>aitastu ajanteleisi; <br>ensi laian laioitkaret, karjanpalkkoavihisit <br>auraise tahan parahan, <span style=\"background-color:#d8daef;\">ahovieret viertehelle, </span><sup>[1]</sup><br>kun tuli kovon kotihin, lauloin naisen-nioisehen: <br>'Elä aika anoppiseni, eipä ervon tarjankana! <br>Tule, pohjopa parasti! <br>Anna aumoja alasin, vuolinut veenelistä. <br>Martahon kalatelle, hyrjeninen hyvänsänisen <br>meren vertavan venehen, suuhunsuks"
            ],
            "text/plain": [
              "<IPython.core.display.HTML object>"
            ]
          },
          "metadata": {
            "tags": []
          }
        },
        {
          "output_type": "display_data",
          "data": {
            "text/html": [
              "<small><p style=\"text-align:right;\">Sources: <span style=\"background-color:#d8daef;\">kalevala</span><sup>[1]</sup></p></small>"
            ],
            "text/plain": [
              "<IPython.core.display.HTML object>"
            ]
          },
          "metadata": {
            "tags": []
          }
        },
        {
          "output_type": "stream",
          "text": [
            "----------------- temperature = 1.0 ----------------------\n"
          ],
          "name": "stdout"
        },
        {
          "output_type": "display_data",
          "data": {
            "text/html": [
              "ysyyttävän mäkävi, vähämmasta vuuhketta käven kalahta <br>pitkin Tuonelle jolalta, pantahan pajantahalla<span style=\"background-color:#d8daef;\">. <br>Laski laukkunsa se</span><sup>[1]</sup>ponsa, käsi kälpä, unkahalla kuusehella: <br>ei viha e'ellä tuull' onginen juosna, sekä paimalla näpällä, <br>veräjäistä vieruttele naisen nenti annervia. <br>Tavat tyyrkk, Ahin laisevi meistä, tuonna Tuon tyyjtelemät.<br><br>\"<span style=\"background-color:#d8daef;\">Annapa, anoppiseni, </span><sup>[1]</sup>neiollut niiltä kannoiseksi <br>vanheni eli tulisi Saainehen santahinsa Pohjan tuttuista! <br>Joko syettä, Lemminkäinen, luna vanhan valvapuisin: <br>senny"
            ],
            "text/plain": [
              "<IPython.core.display.HTML object>"
            ]
          },
          "metadata": {
            "tags": []
          }
        },
        {
          "output_type": "display_data",
          "data": {
            "text/html": [
              "<small><p style=\"text-align:right;\">Sources: <span style=\"background-color:#d8daef;\">kalevala</span><sup>[1]</sup></p></small>"
            ],
            "text/plain": [
              "<IPython.core.display.HTML object>"
            ]
          },
          "metadata": {
            "tags": []
          }
        },
        {
          "output_type": "stream",
          "text": [
            "---------------------------------------\n",
            "Epoch: 126.07, iter: 11400, cross-entropy: 0.325, accuracy: 0.91016\n",
            "   y: assa lihoa, ei kalaista kartanossa. |  | Virkkoi lieto Lemminkäinen, sanoi kaunis Kaukomieli:  | \"Tuli, polta tuhma linna, vesi vieköh\n",
            "  yp:   ta,paeoi, vi kylkikta kantanossa. |  | Varkkii lieto Lemminkäinen, sanoi kaunis Kaukomieli:  | \"Tuoi  polta tuhma linna, vesi viekkh\n",
            "----------------- temperature = 0.2 ----------------------\n"
          ],
          "name": "stdout"
        },
        {
          "output_type": "display_data",
          "data": {
            "text/html": [
              "surJskolta kotoisi, ilana iäni! <br>annanget kytösen kaista, kasukehen kumartelitta: <br>on suoni soaitajani, <br>varista käsi käytyä, tulitei luko tulinestä, <br>virkka vihtiä vetäisi, ota koivu karpeh<span style=\"background-color:#d8daef;\">ia.<br><br>Siitä lieto Lemminkäinen </span><sup>[1]</sup><span style=\"background-color:#d8daef;\">veti virkkua vitsalla, <br></span><sup>[1]</sup><span style=\"background-color:#d8daef;\">ajoa kahuttelevi noita </span><sup>[1]</sup>tuiski tuikahalki; <br>kunka aika arvelevi, käyä käänti Itki apelti <br>teräjäinen tekkuttivan, rahakarvaiset pahoiksi, <br>kanteloihin kuin hyvihi<span style=\"background-color:#d8daef;\">n. Sanan virkkoi, noin nimesi: <br>\"L</span><sup>[1]</sup><span style=\"background-color:#d8daef;\">uulin tuulen tuulevaksi, pinon pystyn viereväksi, <br></span><sup>[1]</sup>tulveksen "
            ],
            "text/plain": [
              "<IPython.core.display.HTML object>"
            ]
          },
          "metadata": {
            "tags": []
          }
        },
        {
          "output_type": "display_data",
          "data": {
            "text/html": [
              "<small><p style=\"text-align:right;\">Sources: <span style=\"background-color:#d8daef;\">kalevala</span><sup>[1]</sup></p></small>"
            ],
            "text/plain": [
              "<IPython.core.display.HTML object>"
            ]
          },
          "metadata": {
            "tags": []
          }
        },
        {
          "output_type": "stream",
          "text": [
            "----------------- temperature = 0.6 ----------------------\n"
          ],
          "name": "stdout"
        },
        {
          "output_type": "display_data",
          "data": {
            "text/html": [
              "surmmellet peuravaiste, uuti purjehti tulisi, <br>joillakset Jumalan lunnan, tois yhin korea unti; <br>kattihitti kannon moisti: <br>siinäpä impesi ilono, kanssa muu siulan kaissa, <br>kantoi kainoinan kätehen, katalan alun mak<span style=\"background-color:#d8daef;\">asi?\"<br><br>Vaka vanha Väinämöinen </span><sup>[1]</sup><span style=\"background-color:#d8daef;\">tuossa tuon sanoiksi virkki: <br>\"</span><sup>[1]</sup>Näki silkki su'ulta otkan, arvoani arvitsemi,<span style=\"background-color:#d8daef;\"> <br>\"Joko kuoli kuulut miehet, kat</span><sup>[1]</sup>a vasta kankahilla, <br>yhet ohi poikin poikki, lau'oi <br>nuotta kattiloilla, <br>eikä syömähän sijalla, ilman impien takon tättöänä. <br>Uinikki ulen juessa,"
            ],
            "text/plain": [
              "<IPython.core.display.HTML object>"
            ]
          },
          "metadata": {
            "tags": []
          }
        },
        {
          "output_type": "display_data",
          "data": {
            "text/html": [
              "<small><p style=\"text-align:right;\">Sources: <span style=\"background-color:#d8daef;\">kalevala</span><sup>[1]</sup></p></small>"
            ],
            "text/plain": [
              "<IPython.core.display.HTML object>"
            ]
          },
          "metadata": {
            "tags": []
          }
        },
        {
          "output_type": "stream",
          "text": [
            "----------------- temperature = 1.0 ----------------------\n"
          ],
          "name": "stdout"
        },
        {
          "output_type": "display_data",
          "data": {
            "text/html": [
              "susnomessata postijata, sanan saajan saatavi sanoa, <br>läksi laivan aumon ampu, kaikki lastansa lu'ulta, <br>su'a äärellä mättä, kylmä matta kuksiansa <br>pää<span style=\"background-color:#d8daef;\">lle Väinölän ahoille, Kalevalan kankahille.\"<br><br></span><sup>[1]</sup><span style=\"background-color:#d8daef;\">Virkkoi lieto Lemminkäinen, sanoi kaunis Kaukomieli: <br>\"Lähe</span><sup>[1]</sup>n on seisoten sotamat, kynnet kymmenkyyhäntuset<span style=\"background-color:#d8daef;\">!\"<br><br>Siitä vanha Väinämöinen </span><sup>[1]</sup>soiparja sopatakana. <br>Annaparen<span style=\"background-color:#d8daef;\"> punaisen purren, melan </span><sup>[1]</sup>tuonna terveräinsä<span style=\"background-color:#d8daef;\">, <br>kun oli ääni kumma</span><sup>[1]</sup>massa, verkkija vihoamaj<span style=\"background-color:#d8daef;\">an. <br>Sanan virkkoi, noin nimesi: \"</span><sup>[1]</sup>Nouse poika pohjol"
            ],
            "text/plain": [
              "<IPython.core.display.HTML object>"
            ]
          },
          "metadata": {
            "tags": []
          }
        },
        {
          "output_type": "display_data",
          "data": {
            "text/html": [
              "<small><p style=\"text-align:right;\">Sources: <span style=\"background-color:#d8daef;\">kalevala</span><sup>[1]</sup></p></small>"
            ],
            "text/plain": [
              "<IPython.core.display.HTML object>"
            ]
          },
          "metadata": {
            "tags": []
          }
        },
        {
          "output_type": "stream",
          "text": [
            "---------------------------------------\n",
            "Epoch: 128.28, iter: 11600, cross-entropy: 0.311, accuracy: 0.91081\n",
            "   y: la, kaunis kasvoa kanasen.  | Täss' on laajat saunan lauat ja leveät pirtin lautsat,  | isännät isosi verrat, emännät emosi verrat, \n",
            "  yp: le   | ulnih kasvon kanasen.  | Kass' on laajan saunan lauat ja leveät pirtin lautsat,  | istnnät isosi verrat, emännät emosi verrat, \n",
            "----------------- temperature = 0.2 ----------------------\n"
          ],
          "name": "stdout"
        },
        {
          "output_type": "display_data",
          "data": {
            "text/html": [
              "ypysyvylla jälevi. <br>Kasvoi kaunoinen emäntä, itse tultua tupahan <br>laati kalman kaunin päähän, yhen saunan sormen päässä; <br>ei ole huoli huihueni, rekä kivit tiereä kassa <br>verin valvatti valussa, kansassa kasiovasi: <br>\"Suotta lähti<span style=\"background-color:#d8daef;\">t, Lemminkäinen, Hiien hirve</span><sup>[1]</sup>hen havas<span style=\"background-color:#d8daef;\">ta. <br>Tuosta tunsi tultuansa: ei ole </span><sup>[1]</sup><span style=\"background-color:#d8daef;\">emo elossa.<br><br>Pisti kättä kiukahalle: kivet kylmät kiukahassa. <br></span><sup>[1]</sup>Läkyt tuulet lausen jaussa, keskimaista kielumalle. <br>Siitä kuutehet kuninga, kuuluista kuvisen kulun<span style=\"background-color:#d8daef;\">.\"<br><br>Marjatta, matala neiti, </span><sup>[1]</sup>kaatoi p"
            ],
            "text/plain": [
              "<IPython.core.display.HTML object>"
            ]
          },
          "metadata": {
            "tags": []
          }
        },
        {
          "output_type": "display_data",
          "data": {
            "text/html": [
              "<small><p style=\"text-align:right;\">Sources: <span style=\"background-color:#d8daef;\">kalevala</span><sup>[1]</sup></p></small>"
            ],
            "text/plain": [
              "<IPython.core.display.HTML object>"
            ]
          },
          "metadata": {
            "tags": []
          }
        },
        {
          "output_type": "stream",
          "text": [
            "----------------- temperature = 0.6 ----------------------\n"
          ],
          "name": "stdout"
        },
        {
          "output_type": "display_data",
          "data": {
            "text/html": [
              "ypysyvylli jäässä, <br>koskenihta tuljas roisket, siirrä miehit mintäkinä.\"<br><br>Saattai satoi Sammasta kekolle Kaurra, Maras karjoja, katala, Tuonen maahan! <br>Eipä täältä pään apaiti, kun on kaiket kankaha<span style=\"background-color:#d8daef;\">lle, <br>kuni puusta ko</span><sup>[1]</sup>rkeata, vaaksi laiva kainokalle.\"<br><br>Kun oli Uko käsien, \"<span style=\"background-color:#d8daef;\">Tuop' on tuohon vastoavi: <br>\"Ei ole </span><sup>[1]</sup><span style=\"background-color:#d8daef;\">talossa tässä rauan raannan katsojata, <br>v</span><sup>[1]</sup>uoretta veen emosi anoja, armas maammosueniani!<span style=\"background-color:#d8daef;\">\"<br><br>Tuopa kaunis Pohjan tytti itse </span><sup>[1]</sup>noin santoja satoa: <br>uop<span style=\"background-color:#d8daef;\">' on tuota tunnekana, </span><sup>[1]</sup>kunne sai katalan tuoll"
            ],
            "text/plain": [
              "<IPython.core.display.HTML object>"
            ]
          },
          "metadata": {
            "tags": []
          }
        },
        {
          "output_type": "display_data",
          "data": {
            "text/html": [
              "<small><p style=\"text-align:right;\">Sources: <span style=\"background-color:#d8daef;\">kalevala</span><sup>[1]</sup></p></small>"
            ],
            "text/plain": [
              "<IPython.core.display.HTML object>"
            ]
          },
          "metadata": {
            "tags": []
          }
        },
        {
          "output_type": "stream",
          "text": [
            "----------------- temperature = 1.0 ----------------------\n"
          ],
          "name": "stdout"
        },
        {
          "output_type": "display_data",
          "data": {
            "text/html": [
              "pypöy lahteli norasna rauan tungenti tuota veitsen <br>kotkullasi koskemahan, päätyensä piikojahan. <br>Vaihat sonti, halki liikkui linnan liittehet hyvisti joulinen jopasi, ei parempi kannettana.<br><br>\"Kunne nyt, hyvin isoni, kunpa kultani kohisit <br>nikkuisnä nämensä päähän, kuulun kunnan kursioisen, <br>alta selvien vesaet, ve'et vallaneinempitsit: <br>suuss' on pään pitelin vävyä, puhei puttenaisia, <br>kuin suutan silmätelle. Siihenpä käsyttelevi: <span style=\"background-color:#d8daef;\"><br>\"Kun lähet talosta tästä, m</span><sup>[1]</sup>aalla maksankurveltja! <br>Lenesit\" Vää"
            ],
            "text/plain": [
              "<IPython.core.display.HTML object>"
            ]
          },
          "metadata": {
            "tags": []
          }
        },
        {
          "output_type": "display_data",
          "data": {
            "text/html": [
              "<small><p style=\"text-align:right;\">Sources: <span style=\"background-color:#d8daef;\">kalevala</span><sup>[1]</sup></p></small>"
            ],
            "text/plain": [
              "<IPython.core.display.HTML object>"
            ]
          },
          "metadata": {
            "tags": []
          }
        },
        {
          "output_type": "stream",
          "text": [
            "---------------------------------------\n",
            "Epoch: 130.49, iter: 11800, cross-entropy: 0.323, accuracy: 0.90804\n",
            "   y: in saneli: \"Ellös täältä ilman pääskö,  | nousko, kuu, kumottamahan, pääskö, päivä, paistamahan,  | kun en käyne päästämähän, itse t\n",
            "  yp: i  nanole   | Enlös täältä ilman pääskö,  | noisko, kuu, kumottamahan, pääskö, päivä, paistamahan,  | kun lnnkäyne päästämähän, itse t\n",
            "----------------- temperature = 0.2 ----------------------\n"
          ],
          "name": "stdout"
        },
        {
          "output_type": "display_data",
          "data": {
            "text/html": [
              "pyrrukätä hätävät<span style=\"background-color:#d8daef;\">.\"<br><br>Siitä Pohjolan emäntä sanan virkkoi, noin nimesi: <br>\"</span><sup>[1]</sup><span style=\"background-color:#d8daef;\">Enkä itke mie sinua, kuulisinko kuolleheksi. <br>Saan minä mokoman veljen: pään kiv</span><sup>[1]</sup>utti, <br>päätyi sampuen iloksi, laulajoksi tuikaeliksi, <br>kun tammet sisaresi siill' on siihellä hevusta, <br>käpyn kaltan kankanehen, väähän valkean kehaelle. <br>Jäi hiikon hiihen laisen, sekä kirjavi kalasen. <br>Tuli nousi taeta taivi, niin taivat taivahutina; läksi läivän lämmittelihtä; <br>mie nutu itähin ilta, likilta lihastuja; <br>päivällä merenterälle, "
            ],
            "text/plain": [
              "<IPython.core.display.HTML object>"
            ]
          },
          "metadata": {
            "tags": []
          }
        },
        {
          "output_type": "display_data",
          "data": {
            "text/html": [
              "<small><p style=\"text-align:right;\">Sources: <span style=\"background-color:#d8daef;\">kalevala</span><sup>[1]</sup></p></small>"
            ],
            "text/plain": [
              "<IPython.core.display.HTML object>"
            ]
          },
          "metadata": {
            "tags": []
          }
        },
        {
          "output_type": "stream",
          "text": [
            "----------------- temperature = 0.6 ----------------------\n"
          ],
          "name": "stdout"
        },
        {
          "output_type": "display_data",
          "data": {
            "text/html": [
              "pyrrukätä häjytti, laitai lastun laistettaissa <br>tämän hiinilihojen, häränlienehen kalohon<span style=\"background-color:#d8daef;\">.<br><br>Itse lieto Lemminkäinen </span><sup>[1]</sup><span style=\"background-color:#d8daef;\">ajoi eelle matkoansa.<br><br>Ku</span><sup>[1]</sup>ulu<span style=\"background-color:#d8daef;\">i seppo Ilmarinen, takoja iän-ikuinen, <br>takoi </span><sup>[1]</sup><span style=\"background-color:#d8daef;\">miehen tarpehia; takoi tuu</span><sup>[1]</sup>han tuuiten sisäsi.<br><br>\"Jouvat, nen kätet käkeäkensä suuremme sotavokohon: <br>aina nuotia poluista, ei ole vehnot kunnialla, <br>suuritta sukkala nästä, <br>ison saamalla eitto, tulikulta Lemminkäise<span style=\"background-color:#d8daef;\">n!\"<br><br>Sanoi vanha Väinämöinen: \"</span><sup>[1]</sup><span style=\"background-color:#d8daef;\">Jo vainen valehteletki! <br></span><sup>[1]</sup>Heitin hienoteltavilhat, taivahattöSyär"
            ],
            "text/plain": [
              "<IPython.core.display.HTML object>"
            ]
          },
          "metadata": {
            "tags": []
          }
        },
        {
          "output_type": "display_data",
          "data": {
            "text/html": [
              "<small><p style=\"text-align:right;\">Sources: <span style=\"background-color:#d8daef;\">kalevala</span><sup>[1]</sup></p></small>"
            ],
            "text/plain": [
              "<IPython.core.display.HTML object>"
            ]
          },
          "metadata": {
            "tags": []
          }
        },
        {
          "output_type": "stream",
          "text": [
            "----------------- temperature = 1.0 ----------------------\n"
          ],
          "name": "stdout"
        },
        {
          "output_type": "display_data",
          "data": {
            "text/html": [
              "pepäytä Juutuksen, kekäli; katalan. <br>Peni nousi noituassa, iso ilmar ilman kana, <br>tuuli, ongat lukotukse, umorin on vesipusensi, <br>itse inkulla itäsi, polvui piitä pilkaseiksi!\"<br><br>Antai morsian apua, yhen nyt ännen tulluttaisna <br>päivän piestä, yhtä kylpi, kyksi maksamassamme hei olle mellä myöten; päivänpäiksenä ahovan, <br>otavaista oppeloiset, verrannolle velke'ille, <br>sietsentä hoiettköjan, tämän paljan paksukata, <br>reisien yhensä anta, muistan lainensa lahotti, <br>rinnut kaarihilta katehet, ke'että k"
            ],
            "text/plain": [
              "<IPython.core.display.HTML object>"
            ]
          },
          "metadata": {
            "tags": []
          }
        },
        {
          "output_type": "stream",
          "text": [
            "---------------------------------------\n",
            "Epoch: 132.70, iter: 12000, cross-entropy: 0.308, accuracy: 0.91536\n",
            "   y: at mutahan joua, siepalehet veen sekahan.  | Muuttuivat murut hyviksi, kappalehet kaunoisiksi:  | munasen alainen puoli alaiseksi ma\n",
            "  yp:    luikhan rokt,  | aipilehet veen sekahan.  | Muuttuivat murut hyviksi, kappalehet kaunoisiksi:  | munasen alainen puoli alaiseksi ma\n",
            "----------------- temperature = 0.2 ----------------------\n"
          ],
          "name": "stdout"
        },
        {
          "output_type": "display_data",
          "data": {
            "text/html": [
              "yyysissäsi savestui<span style=\"background-color:#d8daef;\">.\"<br><br>Silloin Pohjolan </span><sup>[1]</sup><span style=\"background-color:#d8daef;\">emäntä pani kutsut kulkemahan, <br>airuhut vaeltamahan. Itse tuon sanoiksi virkki: <br>\"</span><sup>[1]</sup><span style=\"background-color:#d8daef;\">Jää hyvästi, Saaren nurmet, kuusen juuret, terva</span><sup>[1]</sup>hinta, <br>mista mieltä miekallansa, tavuttaman taattoria.<br><br>\"Sivuset nuoren veistimahan a<span style=\"background-color:#d8daef;\">lle kuumille kiville, <br>s</span><sup>[1]</sup>ieren syöntämättömäksi, <br>kortti täyän laiat myöten, lemmon lempien lamasta. <br>Aja karnelen vieiti, päästi suinen, pellollise. <br>On kysyttä Tieramätän, sanoa takoamutta?\"<br><br>Ukkoa rukuttelevi Hiihannen sivittelevit. <br>Lautioi "
            ],
            "text/plain": [
              "<IPython.core.display.HTML object>"
            ]
          },
          "metadata": {
            "tags": []
          }
        },
        {
          "output_type": "display_data",
          "data": {
            "text/html": [
              "<small><p style=\"text-align:right;\">Sources: <span style=\"background-color:#d8daef;\">kalevala</span><sup>[1]</sup></p></small>"
            ],
            "text/plain": [
              "<IPython.core.display.HTML object>"
            ]
          },
          "metadata": {
            "tags": []
          }
        },
        {
          "output_type": "stream",
          "text": [
            "----------------- temperature = 0.6 ----------------------\n"
          ],
          "name": "stdout"
        },
        {
          "output_type": "display_data",
          "data": {
            "text/html": [
              "yyJJysy'yt os miehen juollekihin, uuen kuutta, kukkumahan.<br><br>On joutu niiollehen, Jumala lauvastunsa! <br>Hyvi muin sanellut nuolta! Otaltuo neille nöiltä <br>nuorenaisen naurasosta, pursiputtavappoIhistuisi.<br><br>\"Mainlat hyvänkä hiilöt, purttosi purahtampata! <br>Tuopa lääskyi, toinen silmä, päivänkuuret kannoiat<span style=\"background-color:#d8daef;\">a. <br>Sanan virkkoi, noin nimesi: </span><sup>[1]</sup><span style=\"background-color:#d8daef;\">\"Tuosta tunnen kielastajan! <br>Kun rauta Manalle saisi, teräs toisi Tuonelahan, <br>verin vaa</span><sup>[1]</sup>hen vallaloista, sommet kylmistä kuloista,<span style=\"background-color:#d8daef;\"> <br>kiven kirjavan sisä</span><sup>[1]</sup>stä, kesivarsen"
            ],
            "text/plain": [
              "<IPython.core.display.HTML object>"
            ]
          },
          "metadata": {
            "tags": []
          }
        },
        {
          "output_type": "display_data",
          "data": {
            "text/html": [
              "<small><p style=\"text-align:right;\">Sources: <span style=\"background-color:#d8daef;\">kalevala</span><sup>[1]</sup></p></small>"
            ],
            "text/plain": [
              "<IPython.core.display.HTML object>"
            ]
          },
          "metadata": {
            "tags": []
          }
        },
        {
          "output_type": "stream",
          "text": [
            "----------------- temperature = 1.0 ----------------------\n"
          ],
          "name": "stdout"
        },
        {
          "output_type": "display_data",
          "data": {
            "text/html": [
              "yytyissänsä.<br><br>Raattihin kaloitsihin, keonat tähtä Ilmarisel, <br>takoa Tapion tehti, myötäni, venn täjä! <br>Tuop' on tuonne salmellensa, Ukonrin uueli aalla<span style=\"background-color:#d8daef;\">. <br>Veti kerran pitkin </span><sup>[1]</sup>tavittu, tuorehensa urohteli; <br>aukaista Tapion kansa, siitä saips' on olalla meehun! <br>Leitokuorja kaunihista saneli selvillensa. <br>Oisit yhtä yön rakkanna, sirkkutet suko rupeat! <br>Koissa tallohin tavassa. Tuonen tempo iskun isannat.<br><br>Sanoi kakka iesinliinen, emo kinta<span style=\"background-color:#d8daef;\"> katsomahan, <br>miss' on p</span><sup>[1]</sup>äästä paimenesena täällä mastahan jä"
            ],
            "text/plain": [
              "<IPython.core.display.HTML object>"
            ]
          },
          "metadata": {
            "tags": []
          }
        },
        {
          "output_type": "display_data",
          "data": {
            "text/html": [
              "<small><p style=\"text-align:right;\">Sources: <span style=\"background-color:#d8daef;\">kalevala</span><sup>[1]</sup></p></small>"
            ],
            "text/plain": [
              "<IPython.core.display.HTML object>"
            ]
          },
          "metadata": {
            "tags": []
          }
        },
        {
          "output_type": "stream",
          "text": [
            "---------------------------------------\n",
            "Epoch: 134.91, iter: 12200, cross-entropy: 0.313, accuracy: 0.90674\n",
            "   y: ä siistiä tavannut.  | Nainen kun tuli tupahan, tuli kuin tukan repijä,  | muotoansa mullistellen, silmiänsä väännitellen;  | aina äyh\n",
            "  yp: assilttin suvasnut, |  | Noinen kun suli tupahan, tuli kuin tukan repijä,  | muotoansa mullittellen, silmiänsä väännitellen;  | aina iyh\n",
            "----------------- temperature = 0.2 ----------------------\n"
          ],
          "name": "stdout"
        },
        {
          "output_type": "display_data",
          "data": {
            "text/html": [
              "yyyyvittävät sileät..<br><br>\"Alauluisin Lepposon, sepälkkinen saneli sanalla <br>nou'uit touli tuutunnen tuoli Pohjolan akalle, <br>Ahoa suruttelevi. Käven kolmetta petäsi<span style=\"background-color:#d8daef;\">. <br>Kävi matkoa vähäisen, astui t</span><sup>[1]</sup>oisen voitehessa; <br>eikä sursa sonnan sanovi: ei ole sisahta ve'elle. <br>Meni itken, emoti rukka, kun ei kuulu kuolleheksi, <br>vesa kalvan kainalohon, vää virratvoiksen, korjan koivuinen ihalti: <br>'Onko<span style=\"background-color:#d8daef;\"> tuo sanoiksi virkki, itse lausui, noin nimesi: <br>\"</span><sup>[1]</sup><span style=\"background-color:#d8daef;\">Kunne läksit, Kullervoinen, ka</span><sup>[1]</sup>javatte <br>annan Tuonen sortajan t"
            ],
            "text/plain": [
              "<IPython.core.display.HTML object>"
            ]
          },
          "metadata": {
            "tags": []
          }
        },
        {
          "output_type": "display_data",
          "data": {
            "text/html": [
              "<small><p style=\"text-align:right;\">Sources: <span style=\"background-color:#d8daef;\">kalevala</span><sup>[1]</sup></p></small>"
            ],
            "text/plain": [
              "<IPython.core.display.HTML object>"
            ]
          },
          "metadata": {
            "tags": []
          }
        },
        {
          "output_type": "stream",
          "text": [
            "----------------- temperature = 0.6 ----------------------\n"
          ],
          "name": "stdout"
        },
        {
          "output_type": "display_data",
          "data": {
            "text/html": [
              "yyyJvömärväkseniä, tästä rautaista rupoa, <br>j<span style=\"background-color:#d8daef;\">oilla vienoilla vesillä, utuisilla lainehilla, <br>eessänsä vesi vetel</span><sup>[1]</sup>tä, tala varrella varattu, <br>kuin on valtavanhempani päästä mettä pieltä siirähyksi, <br>jos minä suen mitävä miesi, uros utehte, urahisehen urohtta.<br><br>Varjut vaakan varret vasi, Ruojasen kukkuessa!\"<br><br>Korjala kivestä minusta, simasi siretteleisi, <br>pääsi suin suurehinen, miehen malleheksi <br>kielen kääntyi koilli, Kalevaksi karjaelle, <br>astui soista soutimilla, pietiltä iänökiä.\"<br><br>Emo ennätti ky"
            ],
            "text/plain": [
              "<IPython.core.display.HTML object>"
            ]
          },
          "metadata": {
            "tags": []
          }
        },
        {
          "output_type": "display_data",
          "data": {
            "text/html": [
              "<small><p style=\"text-align:right;\">Sources: <span style=\"background-color:#d8daef;\">kalevala</span><sup>[1]</sup></p></small>"
            ],
            "text/plain": [
              "<IPython.core.display.HTML object>"
            ]
          },
          "metadata": {
            "tags": []
          }
        },
        {
          "output_type": "stream",
          "text": [
            "----------------- temperature = 1.0 ----------------------\n"
          ],
          "name": "stdout"
        },
        {
          "output_type": "display_data",
          "data": {
            "text/html": [
              "yyysynsikövärtäjän, päivänkana, <br>manterkoista sormumatta, kynnyksen aremmana; <br>haikka ruoikona rahkin, laikahti lepistämähän. <br>Niin on meillä katsot kaunihimmat, järön pienekän säsähän, <br>kun kain soitennu somana, kirkkivaksi kättävättä: <br>sata sin'uksi suovaloista, savu saanut karjoavi.<br><br>\"Piskä joitta pitkänä, matoa rahta rauta raua, rauta muista muueksi päästä.'<span style=\"background-color:#d8daef;\"><br><br>\"Niinpä toivoin tu</span><sup>[1]</sup>tkaimihen, pitkähtä potaisehelle: <br>sinteipä silkemin veitat, korjasta kohitelevi, <br>ainoai ve'en vesiltä, portakkui p"
            ],
            "text/plain": [
              "<IPython.core.display.HTML object>"
            ]
          },
          "metadata": {
            "tags": []
          }
        },
        {
          "output_type": "display_data",
          "data": {
            "text/html": [
              "<small><p style=\"text-align:right;\">Sources: <span style=\"background-color:#d8daef;\">kalevala</span><sup>[1]</sup></p></small>"
            ],
            "text/plain": [
              "<IPython.core.display.HTML object>"
            ]
          },
          "metadata": {
            "tags": []
          }
        },
        {
          "output_type": "stream",
          "text": [
            "---------------------------------------\n",
            "Epoch: 137.12, iter: 12400, cross-entropy: 0.305, accuracy: 0.91211\n",
            "   y: ietta tehä'än, rasvoja rakennetahan  | hope'isissa paoissa, kultaisissa kattiloissa:  | mettä kiehui keskimaissa, laoilla suloa voit\n",
            "  yp: i n i kuhtsän.  | asvoia rakennetahan  | hape'isissa paoissa, kultaisissa kattiloissa:  | mettä kiehui keskimaissa, laoilla suloa voit\n",
            "----------------- temperature = 0.2 ----------------------\n"
          ],
          "name": "stdout"
        },
        {
          "output_type": "display_data",
          "data": {
            "text/html": [
              "yytytänsä vähäisen, asuin, asettelihe <br>käveltihin kättäväksi, ve'en verkasellesinsi<span style=\"background-color:#d8daef;\">. <br>Itse tunkihe tupahan, alle kattojen ajoihe. <br>Sanan virkkoi, noin nimesi: \"Tulep</span><sup>[1]</sup>ä muiksi tei mätilet<span style=\"background-color:#d8daef;\">.\"<br><br>Silloin vanha Väinämöinen itse tuon sanoiksi virkki: <br>\"Ei </span><sup>[1]</sup><span style=\"background-color:#d8daef;\">ole tässä nuorisossa, n</span><sup>[1]</sup>oissa entisen emossa: <br>tuo minua tultavana noista, kuin kumma keräkäviä, <br>niin kaiolla katsimaista, puhumata <br>polvemia, <br>pihlija pihallehelta. Saa jo sainun tuottamahan <br>lieto Lemmin poikat, sakoa lapion lastet<span style=\"background-color:#d8daef;\">ta.<br><br>Sanoi Pohjolan </span><sup>[1]</sup>"
            ],
            "text/plain": [
              "<IPython.core.display.HTML object>"
            ]
          },
          "metadata": {
            "tags": []
          }
        },
        {
          "output_type": "display_data",
          "data": {
            "text/html": [
              "<small><p style=\"text-align:right;\">Sources: <span style=\"background-color:#d8daef;\">kalevala</span><sup>[1]</sup></p></small>"
            ],
            "text/plain": [
              "<IPython.core.display.HTML object>"
            ]
          },
          "metadata": {
            "tags": []
          }
        },
        {
          "output_type": "stream",
          "text": [
            "----------------- temperature = 0.6 ----------------------\n"
          ],
          "name": "stdout"
        },
        {
          "output_type": "display_data",
          "data": {
            "text/html": [
              "pyytäyt tunnet toista; etki tunsin turmiolta: <br>\"Jo sin Ahtu, poikueni?\" Tapa on uuti unninen nuuren, <br>emon lainensa luvosta, honkaisis hekonehesta, <br>kirjokannen kannan purran appiansa, eikä tuima tunnen piemi: <br>syöpy syrjähän sysäsi, kulta suusta kansannolta.<br><br>\"Vaan jos aita tänterene, Päivättelen laehemahan <br>miehen tyttöä takoa saava saaren tot' etehen.<br><br>\"Alenka, anoppelajan, Sen varsoia vastoa: <br>\"Kylyi kaarta kaunihimpi. Kun ei lääsi luolle.<br><br>Sanot siitte salvillevi, uholaivat otaviksin, <br>syke"
            ],
            "text/plain": [
              "<IPython.core.display.HTML object>"
            ]
          },
          "metadata": {
            "tags": []
          }
        },
        {
          "output_type": "stream",
          "text": [
            "----------------- temperature = 1.0 ----------------------\n"
          ],
          "name": "stdout"
        },
        {
          "output_type": "display_data",
          "data": {
            "text/html": [
              "arajtojo Jumalta, mäkivammia <br>montelet veki sevällä, sukivestyn käärtelevä, <br>otti vuovat kultavöille, päättömillesi piloille, <br>ylimäisen palkalöiss, leivellen heposehensa. <br>Meni haukina Marassa, jään yhelän kärettä <br>Luojan kallon paatajana, lehos liivossa kemäreä; <br>kanteletta kuunne käyvä. Ahtu, tuonne välkä varsahan vylly<span style=\"background-color:#d8daef;\">si. <br>Itse tuon sanoiksi virk</span><sup>[1]</sup><span style=\"background-color:#d8daef;\">ki: \"Oi emoni, kantajani! <br></span><sup>[1]</sup>Ken mun sarkoi suorahtihin, nousi puut puttoviani!<br><br>\"Raisa rautaisen orret, temän korjan koskettihe.<br><br>Soitti kielet kante"
            ],
            "text/plain": [
              "<IPython.core.display.HTML object>"
            ]
          },
          "metadata": {
            "tags": []
          }
        },
        {
          "output_type": "display_data",
          "data": {
            "text/html": [
              "<small><p style=\"text-align:right;\">Sources: <span style=\"background-color:#d8daef;\">kalevala</span><sup>[1]</sup></p></small>"
            ],
            "text/plain": [
              "<IPython.core.display.HTML object>"
            ]
          },
          "metadata": {
            "tags": []
          }
        },
        {
          "output_type": "stream",
          "text": [
            "---------------------------------------\n",
            "Epoch: 139.34, iter: 12600, cross-entropy: 0.321, accuracy: 0.90869\n",
            "   y:  kertoelen!  | Keitä ohraiset oluet, makujuomat maltahiset  | yhen ohrasen jyvästä, puolen puun on poltakselta! |  | \"Kun sa ohria imell\n",
            "  yp:  karroallt!  | Kentätohraiset oluet, makujaomat maltahiset  | yhen ohrasen jyvästä, puhlen puun on poltakselta! |  | \"Kun sa ohria imell\n",
            "----------------- temperature = 0.2 ----------------------\n"
          ],
          "name": "stdout"
        },
        {
          "output_type": "display_data",
          "data": {
            "text/html": [
              "ppppppppörrrpeomeltä! <br>Pankasi parempi pieki, lisku vilpihin lihasti<span style=\"background-color:#d8daef;\">. <br>Kasvoi kuuset kukkalatvat, laut</span><sup>[1]</sup>tiot lavaistemahan, <br>likoja lapa siellä, itse läksi astuvata, <br>koivasta kotiperoista, hauinnut havottavia.<br><br>\"Mehkä matkoinen maaua, miksi matkoa valitsen; <br>heit' on päivä laatioita, kyllin kyitettä anojan, <br>alle valkean varanti, tekevi terävanevi: <br>\"Mitä lausui maaemminen, pihallepu poloinellenki <br>samon suuren suumuhansa, saa'ahan kahiosi? <br>Onet nyt pakasi, tuostakseni lemän pesensä.\"<br><br>Jäni kasv"
            ],
            "text/plain": [
              "<IPython.core.display.HTML object>"
            ]
          },
          "metadata": {
            "tags": []
          }
        },
        {
          "output_type": "display_data",
          "data": {
            "text/html": [
              "<small><p style=\"text-align:right;\">Sources: <span style=\"background-color:#d8daef;\">kalevala</span><sup>[1]</sup></p></small>"
            ],
            "text/plain": [
              "<IPython.core.display.HTML object>"
            ]
          },
          "metadata": {
            "tags": []
          }
        },
        {
          "output_type": "stream",
          "text": [
            "----------------- temperature = 0.6 ----------------------\n"
          ],
          "name": "stdout"
        },
        {
          "output_type": "display_data",
          "data": {
            "text/html": [
              "ppppppppörrrpeuohoinensa! <br>Kunne länget menniansa, kylvi laita leppelihti! <br>Nurjat nuotalla vesillä, tanterilla tunturilla!<br><br>\"Liepä kultainen koren, katehiksi kainatahan.\"<br><br>Kyläi Kyllikki ko'osta<span style=\"background-color:#d8daef;\">, Lapin lasten tanterill</span><sup>[1]</sup>a: <br>\"Huki vääjät kullahtaisi, korat kulkuasi, maarma emomainen <br>näillä vuotta vaimojoilla, kalennuta kaikkuav<span style=\"background-color:#d8daef;\">i!\"<br><br>Siitä seppo Ilmarinen </span><sup>[1]</sup>läksi<span style=\"background-color:#d8daef;\"> Pohjolan pitoihin, </span><sup>[1]</sup><br>rakehista rohittelihin, niillten yrsyt kyynyttävi<span style=\"background-color:#d8daef;\">, <br>kun olet kurjassa ti</span><sup>[1]</sup>hassa, ajan kalken kartanassa. <br>Aikut oli pajas"
            ],
            "text/plain": [
              "<IPython.core.display.HTML object>"
            ]
          },
          "metadata": {
            "tags": []
          }
        },
        {
          "output_type": "display_data",
          "data": {
            "text/html": [
              "<small><p style=\"text-align:right;\">Sources: <span style=\"background-color:#d8daef;\">kalevala</span><sup>[1]</sup></p></small>"
            ],
            "text/plain": [
              "<IPython.core.display.HTML object>"
            ]
          },
          "metadata": {
            "tags": []
          }
        },
        {
          "output_type": "stream",
          "text": [
            "----------------- temperature = 1.0 ----------------------\n"
          ],
          "name": "stdout"
        },
        {
          "output_type": "display_data",
          "data": {
            "text/html": [
              "läppppärin nonnehen, <br>tähet näiellä välynttäjä, hernuvilla heltehiltä, <br>potk<span style=\"background-color:#d8daef;\">i poikki puiset hanga</span><sup>[1]</sup>n, armasia ravuttelevi <br>astua ajatteleva yhjinäisen ensämyistä: <br>tuopa tuhmia venessä, tulet läivän kuikuttavi: <br>\"Mitä itket, pursinasi! Etkö kuulla otan etäne, <br>taapos talon vangen neien nuorempian norjuhissa?\"<span style=\"background-color:#d8daef;\">\"<br><br>Silloin vanha Väinämöinen i</span><sup>[1]</sup>ski kerran, tieren poikki, häti valmahta varaksi; <br>saattoi sammalla ullut, vikelle aalla vyenell<span style=\"background-color:#d8daef;\">ä?\"<br><br>Vaka vanha Väinämöinen itse tuon sanoiksi virkki: <br>\"</span><sup>[1]</sup>Rauti roi"
            ],
            "text/plain": [
              "<IPython.core.display.HTML object>"
            ]
          },
          "metadata": {
            "tags": []
          }
        },
        {
          "output_type": "display_data",
          "data": {
            "text/html": [
              "<small><p style=\"text-align:right;\">Sources: <span style=\"background-color:#d8daef;\">kalevala</span><sup>[1]</sup></p></small>"
            ],
            "text/plain": [
              "<IPython.core.display.HTML object>"
            ]
          },
          "metadata": {
            "tags": []
          }
        },
        {
          "output_type": "stream",
          "text": [
            "---------------------------------------\n",
            "Epoch: 141.55, iter: 12800, cross-entropy: 0.288, accuracy: 0.92122\n",
            "   y: inen laikahtihe laulamahan  | illan kuulun kunniaksi, päivän päätyvän iloksi. |  | Sanoi vanha Väinämöinen, itse lausui, noin nimesi: \n",
            "  yp: inen,sautahtihe laulamahan: | illan kuulun kunniaksi, päivän päätyvän iloksi. |  | Sanoi vanha Väinämöinen, itse lausui, noin nimesi: \n",
            "----------------- temperature = 0.2 ----------------------\n"
          ],
          "name": "stdout"
        },
        {
          "output_type": "display_data",
          "data": {
            "text/html": [
              "sesäässässäsi, sainkasivät maaeväsi <br>noisille noviksi nurmen puhki eksi puimelennahani! <br>Lähe nyt tästä kurja, kurja, ornea, maaollasi, maksan, <br>jo vähän viläjät malle, hiihti Sarran vartaelinun, <br>vaihoissapi suistuani, heraiseni hempeheni <br>etelä enemmi silmän, liikkupa lihoavavi pikkan<span style=\"background-color:#d8daef;\">. <br>Ajoi matkoa vähäisen, tuuri</span><sup>[1]</sup>aste tuuminemman! <br>Minä munalle maillekaita. Enkä kurja ollutkana <br>joua kuusia järellä, karsinatso kattilata.<br><br>\"Suni nyt suojen suuren ruona, sirmen sormin sortuvella, <br>alut kuului la"
            ],
            "text/plain": [
              "<IPython.core.display.HTML object>"
            ]
          },
          "metadata": {
            "tags": []
          }
        },
        {
          "output_type": "display_data",
          "data": {
            "text/html": [
              "<small><p style=\"text-align:right;\">Sources: <span style=\"background-color:#d8daef;\">kalevala</span><sup>[1]</sup></p></small>"
            ],
            "text/plain": [
              "<IPython.core.display.HTML object>"
            ]
          },
          "metadata": {
            "tags": []
          }
        },
        {
          "output_type": "stream",
          "text": [
            "----------------- temperature = 0.6 ----------------------\n"
          ],
          "name": "stdout"
        },
        {
          "output_type": "display_data",
          "data": {
            "text/html": [
              "sesäässässäsi, syvä suuri syyhkijtih<span style=\"background-color:#d8daef;\">i.<br><br>\"Tuota toivoin t</span><sup>[1]</sup>arpehia, vaipuistani varoivat, <br>neiti koskia kohotti, käsin väänti, väänti korvon, katalat. <br>Ja mon nousna palkkalaiset, ison isännä ilman. <br>Uuli, hullun hulluhman, hiroin laakutta paraha<span style=\"background-color:#d8daef;\">n.<br><br>\"Oi emoni, kantajani, </span><sup>[1]</sup>oi emmo, karjas minui, <br>nkirpet kyskikoip'ista, hopeat, hevun varpat.<br><br>Sata oli seinässä merehen, ilman rasta ruotakauna <br>tulen tuiman tuuitella, kuin kämiän päestämähän.<br><br>Itse istuvi isäntä, leikkyivyt lehaulen.<br><br>Kulkevi kova selä"
            ],
            "text/plain": [
              "<IPython.core.display.HTML object>"
            ]
          },
          "metadata": {
            "tags": []
          }
        },
        {
          "output_type": "display_data",
          "data": {
            "text/html": [
              "<small><p style=\"text-align:right;\">Sources: <span style=\"background-color:#d8daef;\">kalevala</span><sup>[1]</sup></p></small>"
            ],
            "text/plain": [
              "<IPython.core.display.HTML object>"
            ]
          },
          "metadata": {
            "tags": []
          }
        },
        {
          "output_type": "stream",
          "text": [
            "----------------- temperature = 1.0 ----------------------\n"
          ],
          "name": "stdout"
        },
        {
          "output_type": "display_data",
          "data": {
            "text/html": [
              "sesäässässästäsi liikkuvasta, yksi vaotia varannut.<br><br>Silloin vartan viilikolla, kolmas onni oina poi<span style=\"background-color:#d8daef;\">an.\"<br><br>Sanoi äiti Lemminkäisen: \"</span><sup>[1]</sup><span style=\"background-color:#d8daef;\">Se on surma kolmas s</span><sup>[1]</sup>arko <br>taat janhat jäikehestä, seulomahan Sairun vasta, <br>asetti sanalla uuolla, tuolla turva uutta kulmoa veäjä, <br>honkia Ukon pitoipi, miltä miekan rempehis<span style=\"background-color:#d8daef;\">en.\"<br><br>Siitä Pohjolan </span><sup>[1]</sup>emäntä tervasi uniota taivan: <br>poltti korvat, juotumatta, tamman varsan, <br>yheksän luvoa tulta, toiste tuuli tungeistaisi <br>vanheni hypäytänä, häen huohuelta hoilat.<br><br>\"Eipä m"
            ],
            "text/plain": [
              "<IPython.core.display.HTML object>"
            ]
          },
          "metadata": {
            "tags": []
          }
        },
        {
          "output_type": "display_data",
          "data": {
            "text/html": [
              "<small><p style=\"text-align:right;\">Sources: <span style=\"background-color:#d8daef;\">kalevala</span><sup>[1]</sup></p></small>"
            ],
            "text/plain": [
              "<IPython.core.display.HTML object>"
            ]
          },
          "metadata": {
            "tags": []
          }
        },
        {
          "output_type": "stream",
          "text": [
            "---------------------------------------\n",
            "Epoch: 143.76, iter: 13000, cross-entropy: 0.282, accuracy: 0.92253\n",
            "   y: han, kannun kantajat Manalle  | ennen kuun ylenemistä, tämän päivän päätymistä!\" |  | Siitä tuon sanoiksi virkki: \"Oh sinä olut katala\n",
            "  yp: nan   | irgun kaltajat Manalle  | ennen kuun ylenemistä, tämän päivän päätymistä!\" |  | Siitä tuon sanoiksi virkki, \"Eh sinä olut katala\n",
            "----------------- temperature = 0.2 ----------------------\n"
          ],
          "name": "stdout"
        },
        {
          "output_type": "display_data",
          "data": {
            "text/html": [
              "sepääsvänsä vähäisen, susirusten surkitusta, <br>kun sanomat tuppurihin, ilman palkisen paremman, <br>kalliotta katsomahan, pitkät pitkän Päimyttä, <br>helettäne elospi ussa, vieressä vesi vetensä <br>syöä miehen nälkälisä, permen loikan luotaselle.<br><br>Tuvila pikaran ilttu, hiilapuuhui Pohjolahan. <br>Nousi tuulen tutkamatta, vähäinen murista korpimuosi<span style=\"background-color:#d8daef;\">n.<br><br>Vaka vanha Väinämöinen t</span><sup>[1]</sup><span style=\"background-color:#d8daef;\">iellä vastahan tulevi. <br>Sai tuosta sanelemahan: \"Veli, seppo Ilmarinen! <br>Mit' olet pahoilla mielin, ka</span><sup>[1]</sup>tkoi kaalan liinassilla.<br><br>\"Tupa "
            ],
            "text/plain": [
              "<IPython.core.display.HTML object>"
            ]
          },
          "metadata": {
            "tags": []
          }
        },
        {
          "output_type": "display_data",
          "data": {
            "text/html": [
              "<small><p style=\"text-align:right;\">Sources: <span style=\"background-color:#d8daef;\">kalevala</span><sup>[1]</sup></p></small>"
            ],
            "text/plain": [
              "<IPython.core.display.HTML object>"
            ]
          },
          "metadata": {
            "tags": []
          }
        },
        {
          "output_type": "stream",
          "text": [
            "----------------- temperature = 0.6 ----------------------\n"
          ],
          "name": "stdout"
        },
        {
          "output_type": "display_data",
          "data": {
            "text/html": [
              "sururmen rahtakohon kyväran, vaaksa parren pahtahasen.<br><br><span style=\"background-color:#d8daef;\">Tuosta tuon sanoiksi virkki</span><sup>[1]</sup><span style=\"background-color:#d8daef;\">, itse lausui, noin nimesi: <br>\"Kunne läksit, Kullervoinen, kaaloat, Kalervon poika?\" <br><br>Kullervo, Kalervon poika, sanan virkkoi, noin nimesi: <br>\"</span><sup>[1]</sup>Pahoin tein minun poloinen, palellaspa pertti heitt<span style=\"background-color:#d8daef;\">ä.\"<br><br>Vaka vanha Väinämöinen tuossa tuon sanoiksi virkki: <br>\"E</span><sup>[1]</sup>i nyt muitti yntevästä, kaessani, et tavoa uuti sempä.<br><br>Kaatoi alaisn puris, haloskansa hairavissa <br>luoko lehmän lyöpes seinät, <br>ajoille raataon tajhot, teräksiset "
            ],
            "text/plain": [
              "<IPython.core.display.HTML object>"
            ]
          },
          "metadata": {
            "tags": []
          }
        },
        {
          "output_type": "display_data",
          "data": {
            "text/html": [
              "<small><p style=\"text-align:right;\">Sources: <span style=\"background-color:#d8daef;\">kalevala</span><sup>[1]</sup></p></small>"
            ],
            "text/plain": [
              "<IPython.core.display.HTML object>"
            ]
          },
          "metadata": {
            "tags": []
          }
        },
        {
          "output_type": "stream",
          "text": [
            "----------------- temperature = 1.0 ----------------------\n"
          ],
          "name": "stdout"
        },
        {
          "output_type": "display_data",
          "data": {
            "text/html": [
              "veyrellitä Luojat liikkoa, kangasllenikorukoa, <br>joll' on laula kangltkullense, hökä tussakon pioahui<span style=\"background-color:#d8daef;\">!\"<br><br>Itse vanha Väinämöinen laskea karehtelevi. <br></span><sup>[1]</sup>Nävit toisesta jolusta, siiti pienet jauhahisin <br>enpä äitelä parema saan tuulia tuakeresta laelle tyhjälä varalle, <br>olutke ulesten korjan muukse nostisin juoakse, <br>kyllä hauki lalkoasi, poljen iki puolikkaisi <br>neito kasvoi katsomahan puuta, auringan aselemat<span style=\"background-color:#d8daef;\">.\"<br><br>Se on seppo Ilmarinen itse tuon sanoiksi virkki: <br>\"E</span><sup>[1]</sup>i saalta ve'että, seitsettä hyvin rato"
            ],
            "text/plain": [
              "<IPython.core.display.HTML object>"
            ]
          },
          "metadata": {
            "tags": []
          }
        },
        {
          "output_type": "display_data",
          "data": {
            "text/html": [
              "<small><p style=\"text-align:right;\">Sources: <span style=\"background-color:#d8daef;\">kalevala</span><sup>[1]</sup></p></small>"
            ],
            "text/plain": [
              "<IPython.core.display.HTML object>"
            ]
          },
          "metadata": {
            "tags": []
          }
        },
        {
          "output_type": "stream",
          "text": [
            "---------------------------------------\n",
            "Epoch: 145.97, iter: 13200, cross-entropy: 0.283, accuracy: 0.92464\n",
            "   y: äessä, varsi vasken-kirjavainen. |  | Saip' on siitä iskijänsä, tapasipa tappajansa,  | Suomen sonni sortajansa, maan kamala kaatajans\n",
            "  yp: aissä  paasi vasken-kirjavainen. |  | Sai ' on kiitä iskijänsä, tapasipa tappajansa,  | Suomen sonni sortajansa, maan kamala kaatajans\n",
            "----------------- temperature = 0.2 ----------------------\n"
          ],
          "name": "stdout"
        },
        {
          "output_type": "display_data",
          "data": {
            "text/html": [
              "pyyntynä pyyä kaloisi, pajoa mahenevi, kokko kolmetti kasella, <br>painanieni pakkojia, otavat sulakareita. <br>Se veti venonen muulla, saraunajansa maalla, <br>vasken anhan halenovir, herävasta jo juoksisi; <br>rauta vallalla vesili, veästä kengät keltäm<span style=\"background-color:#d8daef;\">ähän.\"<br><br>Sanoi lieto Lemminkäinen: \"</span><sup>[1]</sup><span style=\"background-color:#d8daef;\">Kytken Kyllikin kylähän, <br>k</span><sup>[1]</sup>ohennihin kullaistasi, kätestuisin käälmynsästä, <br>rastahat ajatkäessä, luolinesta noustavasta<span style=\"background-color:#d8daef;\">, <br>sata miestä miekallista, tuhat rau</span><sup>[1]</sup><span style=\"background-color:#d8daef;\">taista oritta.\"<br><br>Virkkoi lieto Lemminkäinen, sanoi kaunis Kaukomi</span><sup>[1]</sup>"
            ],
            "text/plain": [
              "<IPython.core.display.HTML object>"
            ]
          },
          "metadata": {
            "tags": []
          }
        },
        {
          "output_type": "display_data",
          "data": {
            "text/html": [
              "<small><p style=\"text-align:right;\">Sources: <span style=\"background-color:#d8daef;\">kalevala</span><sup>[1]</sup></p></small>"
            ],
            "text/plain": [
              "<IPython.core.display.HTML object>"
            ]
          },
          "metadata": {
            "tags": []
          }
        },
        {
          "output_type": "stream",
          "text": [
            "----------------- temperature = 0.6 ----------------------\n"
          ],
          "name": "stdout"
        },
        {
          "output_type": "display_data",
          "data": {
            "text/html": [
              "pyyät tänä tänyksemihin, kokkoa kohotteleikse<span style=\"background-color:#d8daef;\"> <br>kokan koivuisen nojahan, me</span><sup>[1]</sup>ren aaltohon ahyville, <br>sukukunuinsa murien, päähän porven mmilkylähän <br>hele'intä helimäisen, pakkasilmät paistavainen, <br>pyörret pihaalevi, verille vesipikalle, <br>vai vesillä vievä silli, laula kuolaisen ennin; <br><br>jota Tienut kangaspuille, pursi puut kukkuvatva! <br>Levettöin tulenne kuulen, arvoan ajentelija<span style=\"background-color:#d8daef;\">t, <br>tunsi vanhat valkamansa, entise</span><sup>[1]</sup>nä armupuona, <br>saamme sanala sanovi, tihan talta kasvattaissa?\"<br><br>\"Sisa et sarjasen kot"
            ],
            "text/plain": [
              "<IPython.core.display.HTML object>"
            ]
          },
          "metadata": {
            "tags": []
          }
        },
        {
          "output_type": "display_data",
          "data": {
            "text/html": [
              "<small><p style=\"text-align:right;\">Sources: <span style=\"background-color:#d8daef;\">kalevala</span><sup>[1]</sup></p></small>"
            ],
            "text/plain": [
              "<IPython.core.display.HTML object>"
            ]
          },
          "metadata": {
            "tags": []
          }
        },
        {
          "output_type": "stream",
          "text": [
            "----------------- temperature = 1.0 ----------------------\n"
          ],
          "name": "stdout"
        },
        {
          "output_type": "display_data",
          "data": {
            "text/html": [
              "pyyännän onson kyntämättä, vaivan suuri morsiahan, <br>kusi mustoa muhalta moien sorkella nurilla, <br>tentyänsä tälleröinen, kärkä<span style=\"background-color:#d8daef;\">s lieto Lemminkäinen</span><sup>[1]</sup>, <br>yheksi sovitetoja, aina rantararteli<span style=\"background-color:#d8daef;\">a: <br>ne on Pohjan poikasia. </span><sup>[1]</sup>Otti miehen arveleekse: <br>käkenihin käetäväksi, kohti musta kulkiltahin.\"<br><br>Kohkea on nuortelevi, käypy kätti kääntyvihin <br>on onsi kullannankala, pimeäsä kovinapeusta. <br>Soutelevi suurella sepäheinsä ulovi viesti toisille<span style=\"background-color:#d8daef;\">?<br><br>\"Ellös olko millä</span><sup>[1]</sup>skänä! Voi emoni en velon jou'us, <br>kostu känky kukk"
            ],
            "text/plain": [
              "<IPython.core.display.HTML object>"
            ]
          },
          "metadata": {
            "tags": []
          }
        },
        {
          "output_type": "display_data",
          "data": {
            "text/html": [
              "<small><p style=\"text-align:right;\">Sources: <span style=\"background-color:#d8daef;\">kalevala</span><sup>[1]</sup></p></small>"
            ],
            "text/plain": [
              "<IPython.core.display.HTML object>"
            ]
          },
          "metadata": {
            "tags": []
          }
        },
        {
          "output_type": "stream",
          "text": [
            "---------------------------------------\n",
            "Epoch: 148.18, iter: 13400, cross-entropy: 0.279, accuracy: 0.92139\n",
            "   y:  leppeästi,  | lehen puussa liehuessa, ruohon maassa roikatessa! |  | \"Suvetar, valio vaimo, Etelätär, luonnon eukko!  | Heitä hienot he\n",
            "  yp: nkahpeä,tä   | keien puussa liehuessa, ruoson maassa roikatessa! |  | \"Sivetar, valio vaimo, Etelätär, luonnon eukko!  | Keitä hienot he\n",
            "----------------- temperature = 0.2 ----------------------\n"
          ],
          "name": "stdout"
        },
        {
          "output_type": "display_data",
          "data": {
            "text/html": [
              "ypypyänsi syseänä<span style=\"background-color:#d8daef;\">.<br><br>Siitä nuori Joukahainen t</span><sup>[1]</sup>yönti virren vierimättä <br>hele'i<span style=\"background-color:#d8daef;\">stä heinän päästä, k</span><sup>[1]</sup>iukahasen kirjantana, <br>etsien istuan isän olo ullan suuhunnassa, taikuansa taivaelta: <br>ei saa'a sisällä mailla kale<span style=\"background-color:#d8daef;\">ampi.\"<br><br>Kullervo, Kalervon poika, s</span><sup>[1]</sup><span style=\"background-color:#d8daef;\">anan virkkoi, noin nimesi: <br>\"Enkä lähe piilemähän, en, paha, pakenemahan! <br>Lähen </span><sup>[1]</sup>surmanat selältä, maot linnan laulattaansa. <br>Heti vettä harjasassa, kävi kolmen kuulemassa!<br><br>\"Käy nyt on mieli miehen syöä jota ei kullanka kuoliossa.<span style=\"background-color:#d8daef;\"> <br>Onpa tällä neiollamme</span><sup>[1]</sup>"
            ],
            "text/plain": [
              "<IPython.core.display.HTML object>"
            ]
          },
          "metadata": {
            "tags": []
          }
        },
        {
          "output_type": "display_data",
          "data": {
            "text/html": [
              "<small><p style=\"text-align:right;\">Sources: <span style=\"background-color:#d8daef;\">kalevala</span><sup>[1]</sup></p></small>"
            ],
            "text/plain": [
              "<IPython.core.display.HTML object>"
            ]
          },
          "metadata": {
            "tags": []
          }
        },
        {
          "output_type": "stream",
          "text": [
            "----------------- temperature = 0.6 ----------------------\n"
          ],
          "name": "stdout"
        },
        {
          "output_type": "display_data",
          "data": {
            "text/html": [
              "ypypyänsi syseänä<span style=\"background-color:#d8daef;\">.<br><br>Sai Kalervo katsomahan. Sanan virkkoi, noin nimesi: <br>\"</span><sup>[1]</sup><span style=\"background-color:#d8daef;\">Otsoseni, lintuseni, mesikämmen, kääröseni! <br>Viel' o</span><sup>[1]</sup>li maammo, mahalla niest<span style=\"background-color:#d8daef;\">ä miehen mieltä myöt</span><sup>[1]</sup>änsäsi <br>kullaista omenetansa, lauluan lapsiansa<span style=\"background-color:#d8daef;\">. <br>Ammun vanhan Väinämöisen</span><sup>[1]</sup><span style=\"background-color:#d8daef;\"> alla päin, pahoilla mielin, <br>kaike</span><sup>[1]</sup>lihe kaljon kääre <br>äiti Luojan lähtijänsä<span style=\"background-color:#d8daef;\">, toinen seppo Ilmarinen <br>l</span><sup>[1]</sup>aati kirjan laitav<span style=\"background-color:#d8daef;\">iksi. Sanan virkkoi, noin nimesi: <br>\"</span><sup>[1]</sup>Ole nyt kiitettyöäniksin saaneli sanoaksenivi! <br>Sa'u multa männekoista, nousi kutsuvi kuletta, <br>ei "
            ],
            "text/plain": [
              "<IPython.core.display.HTML object>"
            ]
          },
          "metadata": {
            "tags": []
          }
        },
        {
          "output_type": "display_data",
          "data": {
            "text/html": [
              "<small><p style=\"text-align:right;\">Sources: <span style=\"background-color:#d8daef;\">kalevala</span><sup>[1]</sup></p></small>"
            ],
            "text/plain": [
              "<IPython.core.display.HTML object>"
            ]
          },
          "metadata": {
            "tags": []
          }
        },
        {
          "output_type": "stream",
          "text": [
            "----------------- temperature = 1.0 ----------------------\n"
          ],
          "name": "stdout"
        },
        {
          "output_type": "display_data",
          "data": {
            "text/html": [
              "yytövi raitalle olevi, <br>pakko parsi katsellusta, sormet kukkuna käkeä.<br><br>\"Siitä hyymä, rastoin riiatse<span style=\"background-color:#d8daef;\">le!\"<br><br>Siitä Pohjolan emäntä sanan virkkoi, noin nimesi: <br>\"</span><sup>[1]</sup>Ei tässä savua saatoa: viei ei me kylleröitäikseni. <br>Ajoa uhalta nähäinen, kohtu kullenla kiv<span style=\"background-color:#d8daef;\">illä.<br><br>Vaka vanha Väinämöinen</span><sup>[1]</sup><span style=\"background-color:#d8daef;\"> arvelee, ajattelevi: <br>oisko tammen taittajata, puun sorean sortajata? <br>Ikävä inehmo</span><sup>[1]</sup> mentelet, malalleni nuolempata <br>ouosta olun akuna, uros kerran, kienahtavi, <br>pääst<span style=\"background-color:#d8daef;\">it päätäsi pitempi, </span><sup>[1]</sup>lintuskansa lehvastui, <br>kulle ty"
            ],
            "text/plain": [
              "<IPython.core.display.HTML object>"
            ]
          },
          "metadata": {
            "tags": []
          }
        },
        {
          "output_type": "display_data",
          "data": {
            "text/html": [
              "<small><p style=\"text-align:right;\">Sources: <span style=\"background-color:#d8daef;\">kalevala</span><sup>[1]</sup></p></small>"
            ],
            "text/plain": [
              "<IPython.core.display.HTML object>"
            ]
          },
          "metadata": {
            "tags": []
          }
        },
        {
          "output_type": "stream",
          "text": [
            "---------------------------------------\n",
            "Epoch: 150.39, iter: 13600, cross-entropy: 0.289, accuracy: 0.91585\n",
            "   y: ikoitsematta. |  | \"Sulho, viljon veljyeni! Vuotit viikon, vuota vielä!  | Ei ole valmis valvattisi, suorinut ikisopusi:  | yks' on hiem\n",
            "  yp: aeslntemmhta.\" | \"Silho, viljon veljyeni! Vuottt viikon, vuota vielä!  | Ei ole valmis valvattisi, suorinut ikisopusi:  | kks' on hiem\n",
            "----------------- temperature = 0.2 ----------------------\n"
          ],
          "name": "stdout"
        },
        {
          "output_type": "display_data",
          "data": {
            "text/html": [
              "ypypyn lavettuav<span style=\"background-color:#d8daef;\">i!\"<br><br>Sanoi vanha Väinämöinen: \"</span><sup>[1]</sup><span style=\"background-color:#d8daef;\">Jo vainen valehtelitki! <br>Havukoita ei ne olle eikä kirjoko</span><sup>[1]</sup>rjusille<span style=\"background-color:#d8daef;\">! <br>Konsa on karja kankahalla, sinä suolle soiverraite; <br>kun k</span><sup>[1]</sup>ävi pahat pitävä, aiat näytä, naura, nuoret, maksun kautta Manajan <br>kuma tultua pukevi, allellan valeatuja, <br>kekon kellan käynämättä, pääsi päälle päättämähän, <br>epäs tiesi kuulemassa, sinun saavassa maoss<span style=\"background-color:#d8daef;\">a!\"<br><br>Se on seppo Ilmarinen</span><sup>[1]</sup><span style=\"background-color:#d8daef;\"> itse tuon sanoiksi virkki: <br>\"Ei salvat sanoilla taitu, lukot loihulla murene <br>eikä kourin koske</span><sup>[1]</sup>"
            ],
            "text/plain": [
              "<IPython.core.display.HTML object>"
            ]
          },
          "metadata": {
            "tags": []
          }
        },
        {
          "output_type": "display_data",
          "data": {
            "text/html": [
              "<small><p style=\"text-align:right;\">Sources: <span style=\"background-color:#d8daef;\">kalevala</span><sup>[1]</sup></p></small>"
            ],
            "text/plain": [
              "<IPython.core.display.HTML object>"
            ]
          },
          "metadata": {
            "tags": []
          }
        },
        {
          "output_type": "stream",
          "text": [
            "----------------- temperature = 0.6 ----------------------\n"
          ],
          "name": "stdout"
        },
        {
          "output_type": "display_data",
          "data": {
            "text/html": [
              "pypsöyttä syän ajele <br>kultia kolipero<span style=\"background-color:#d8daef;\">lle, vanhemman varust</span><sup>[1]</sup>ella: <br>kapo on kaunis Kaukonmehen, kävi koskesta kov<span style=\"background-color:#d8daef;\">asta!<br><br>\"Kun ei tuosta</span><sup>[1]</sup><span style=\"background-color:#d8daef;\">na totelle, vääjänne väheäkänä, <br>ka</span><sup>[1]</sup>ellesta karjantahan, <br>asetaikse arveleisi, itse ilmanna luopalussa: <br>kuuli koivussa lu'ehta, kanssa kalpahaa kaluksi <br>rannalle täkelimähän, taattosemihen teltihinsa. <br>Siitä taisin tammilleni, jot kivu kisotteleisi? <br>Lauta suotta luulannasi, jotta pilvi polvekans, <br>yhen tultoaisen panuinan, armasian arentak<span style=\"background-color:#d8daef;\">seni?\"<br><br>Väki vastahan </span><sup>[1]</sup>tulev"
            ],
            "text/plain": [
              "<IPython.core.display.HTML object>"
            ]
          },
          "metadata": {
            "tags": []
          }
        },
        {
          "output_type": "display_data",
          "data": {
            "text/html": [
              "<small><p style=\"text-align:right;\">Sources: <span style=\"background-color:#d8daef;\">kalevala</span><sup>[1]</sup></p></small>"
            ],
            "text/plain": [
              "<IPython.core.display.HTML object>"
            ]
          },
          "metadata": {
            "tags": []
          }
        },
        {
          "output_type": "stream",
          "text": [
            "----------------- temperature = 1.0 ----------------------\n"
          ],
          "name": "stdout"
        },
        {
          "output_type": "display_data",
          "data": {
            "text/html": [
              "pypääntönsi pihlajita, <br>kuin mitäre vieläkähän, mies en munnun, ve'en lintu, ve'et lähtet, tunai, <br>meren rantarat kajottut sijoiltansa suopsilta kukeat, <br>toinen känkeä pätäisi, häpäi hukku huulen rusna<br><br>e'en kuulu kumettamasta, emosta sanoa artaselta! <br>Niisko vanhat Väinämöisen, kaatajursko juoksemahan, <br>risti riskin rinttävältä, kaunihilla kalvahilla, <br>kennoltavi karjaella, kylä vartta poin sinusta?\"<br><br>'Harahan salon sinisen, hatti harjun harjahamän. <br>rinnoin tuulle Pohjolassa, oukki kuohusen ko"
            ],
            "text/plain": [
              "<IPython.core.display.HTML object>"
            ]
          },
          "metadata": {
            "tags": []
          }
        },
        {
          "output_type": "stream",
          "text": [
            "---------------------------------------\n",
            "Epoch: 152.61, iter: 13800, cross-entropy: 0.287, accuracy: 0.91374\n",
            "   y: eikse; toki toisesti kokevi.  | Yhen iski kynsiänsä hauin hirmun hartioihin,  | ve'en koiran koukkuluihin; toisen iski kynsiänsä  | vu\n",
            "  yp: l vke,  | yii toisenti kokevi.  | Yhen iski kynsiänsä hauin hirmun hartioihin,  | ve'en koiran koukkuluihin; toisen iski kynsiänsä  | yu\n",
            "----------------- temperature = 0.2 ----------------------\n"
          ],
          "name": "stdout"
        },
        {
          "output_type": "display_data",
          "data": {
            "text/html": [
              "ppoutomi on johtosevat, <br>miehet matkoa vähällä, tässä saura simsarisill<span style=\"background-color:#d8daef;\">a.\"<br><br>Siitä vanha Väinämöinen la</span><sup>[1]</sup>ulavi selän lepoille <br>uupuille mesittämähän, rannan kosketta kohohon.<br><br>\"Enkä neiti neulajaksi, hinki hirtten huolimahan <br>pihtivälli piilojaksi, tutkui kultakankahtuivi, <br>jotkea lehos pihalla, tarkka tarkka taivat <br>on meille miehen nuotamahan, kutemahan kuoen maahan.<br><br>Itsekistät ikkunahansa, satasella sirkuttava, <br>kuun kuulun meritetähän tahi parsta paistamainen; <br>kevin lihtajan piroihin, painuis"
            ],
            "text/plain": [
              "<IPython.core.display.HTML object>"
            ]
          },
          "metadata": {
            "tags": []
          }
        },
        {
          "output_type": "display_data",
          "data": {
            "text/html": [
              "<small><p style=\"text-align:right;\">Sources: <span style=\"background-color:#d8daef;\">kalevala</span><sup>[1]</sup></p></small>"
            ],
            "text/plain": [
              "<IPython.core.display.HTML object>"
            ]
          },
          "metadata": {
            "tags": []
          }
        },
        {
          "output_type": "stream",
          "text": [
            "----------------- temperature = 0.6 ----------------------\n"
          ],
          "name": "stdout"
        },
        {
          "output_type": "display_data",
          "data": {
            "text/html": [
              "ppoutomi on johtajata. <br>Juokse sammon saa<span style=\"background-color:#d8daef;\">tantahan, kirjokannen k</span><sup>[1]</sup>irjontahan. <br>Kysyi seistä urmas ranna, ääni kaivoet kankaha<span style=\"background-color:#d8daef;\">lta.<br><br>Siitä vanha Väinämöinen </span><sup>[1]</sup><span style=\"background-color:#d8daef;\">astuvi, ajattelevi <br>rannalla selän sinisen, ve'en vankan vieremillä. <br>Löyti kuusia jyviä, seitsemiä siemeniä <br>rannalta merelliseltä, hienoiselta hietiköltä; <br>kätki nää'än nahkasehen, koi</span><sup>[1]</sup>vehen kesäomähä<span style=\"background-color:#d8daef;\">n!<br><br>\"Kun ei tuosta kyllin tulle, Iku-Turso, Äijön poika, <br>no</span><sup>[1]</sup>rpi haun, halkoinenta: toisen kärkänä kätelei; <br>läksi tietä neuvottahan, valkeaiset va"
            ],
            "text/plain": [
              "<IPython.core.display.HTML object>"
            ]
          },
          "metadata": {
            "tags": []
          }
        },
        {
          "output_type": "display_data",
          "data": {
            "text/html": [
              "<small><p style=\"text-align:right;\">Sources: <span style=\"background-color:#d8daef;\">kalevala</span><sup>[1]</sup></p></small>"
            ],
            "text/plain": [
              "<IPython.core.display.HTML object>"
            ]
          },
          "metadata": {
            "tags": []
          }
        },
        {
          "output_type": "stream",
          "text": [
            "----------------- temperature = 1.0 ----------------------\n"
          ],
          "name": "stdout"
        },
        {
          "output_type": "display_data",
          "data": {
            "text/html": [
              "ppoö luvat laitui keskila<span style=\"background-color:#d8daef;\">ta?\"<br><br>Sanoi lieto Lemminkäinen, virkki veitikkä ver</span><sup>[1]</sup>ivä: <br>\"Kenpä meill'ä simalla nimettönähän, katajiksi kaikisilta.<br><br>\"<span style=\"background-color:#d8daef;\">Ukko, kultainen kuninga</span><sup>[1]</sup>, hongista hopehtäjä, <br>haitu haukuta halella, mesitöin reposemille, <br>silmielle silmillensä, hope'iset pääni olla: <br>eipä kuoli lopittanunna, siihen kuulu Väinän muren. <br>Laski laulaja pa'ansa, Temmi keittohen pereämät<br><br>pään on, kaskipurkeloiska, aamuasa arvellissa. <br>Vaan sano nemän sinuolla, päitä lasnon mielet <br>nurmilta menettä iltas"
            ],
            "text/plain": [
              "<IPython.core.display.HTML object>"
            ]
          },
          "metadata": {
            "tags": []
          }
        },
        {
          "output_type": "display_data",
          "data": {
            "text/html": [
              "<small><p style=\"text-align:right;\">Sources: <span style=\"background-color:#d8daef;\">kalevala</span><sup>[1]</sup></p></small>"
            ],
            "text/plain": [
              "<IPython.core.display.HTML object>"
            ]
          },
          "metadata": {
            "tags": []
          }
        },
        {
          "output_type": "stream",
          "text": [
            "---------------------------------------\n",
            "Epoch: 154.82, iter: 14000, cross-entropy: 0.277, accuracy: 0.92627\n",
            "   y: i humala puusta,  | ohra lausui pellon päästä, vesi kaivosta Kalevan:  | 'Milloin yhtehen yhymme, konsa toinen toisihimme?  | Yksin on\n",
            "  yp: oslaoalanpärria,  | phra Vausui pellon päästä, vesi kaivosta Kalevan:  | 'Milloin yhtehen yhymme, konsa toinen toisihimme?  | Yksin on\n",
            "----------------- temperature = 0.2 ----------------------\n"
          ],
          "name": "stdout"
        },
        {
          "output_type": "display_data",
          "data": {
            "text/html": [
              "yytyyt kylässä jäkesi, tapalat tanhujussat <br>Suomet sontojan savussa, vakavanne laitaessa,<span style=\"background-color:#d8daef;\"> <br>itse virkki vierre</span><sup>[1]</sup>leviä; o<span style=\"background-color:#d8daef;\">tti vanha Väinämöinen</span><sup>[1]</sup><span style=\"background-color:#d8daef;\"> <br>itse on perän piossa, Ilmarinen airollisna. <br>Minnekkä menette, miehet, kunne läksitte</span><sup>[1]</sup> levotti<span style=\"background-color:#d8daef;\">.<br><br>\"Kunne nyt, poikani poloinen, kunne, kannettu katala, <br>lähe</span><sup>[1]</sup> pois minua, lämpimiä, elemänä <br>nämätä!<span style=\"background-color:#d8daef;\">\"<br><br>Miekka mietti miehen kielen, arvasi uron pakinan. <br>Sanan virkk</span><sup>[1]</sup>i<span style=\"background-color:#d8daef;\">i, noin nimesi: \"Terve tänneki, Jumala, <br>alle kuulun kurki</span><sup>[1]</sup><span style=\"background-color:#d8daef;\">aisen, alle kaunihin katoksen! <br>Mihin nyt </span><sup>[1]</sup>"
            ],
            "text/plain": [
              "<IPython.core.display.HTML object>"
            ]
          },
          "metadata": {
            "tags": []
          }
        },
        {
          "output_type": "display_data",
          "data": {
            "text/html": [
              "<small><p style=\"text-align:right;\">Sources: <span style=\"background-color:#d8daef;\">kalevala</span><sup>[1]</sup></p></small>"
            ],
            "text/plain": [
              "<IPython.core.display.HTML object>"
            ]
          },
          "metadata": {
            "tags": []
          }
        },
        {
          "output_type": "stream",
          "text": [
            "----------------- temperature = 0.6 ----------------------\n"
          ],
          "name": "stdout"
        },
        {
          "output_type": "display_data",
          "data": {
            "text/html": [
              "yytyyttelevät näistä uuta pilvin poikki. <br>Meni kolmensa norosi, pimerät ei luvassa luonte, <br>kopan kesken kuuluvista, kustamien hyväksi taivo.<br><br>Astu tämän tulen käsissä, kape'itän kalttijata <br>sata sarven kieltavihjat, roveamalta roukistivat<span style=\"background-color:#d8daef;\">.<br><br>\"Jo täällä tämänki talven, jopa mennehen kesosen <br>kujaset kukertelihe kujallista kulkijai</span><sup>[1]</sup>lta, <br>katehelta kaarielta, jättelistä, riisusesta puntehetta: <br>en tuosta ylä enähältä, rakahussa vankeralla, <br>kun kosi kotihin saapi, nopa sulle nouittelihe, <br>kunne kann"
            ],
            "text/plain": [
              "<IPython.core.display.HTML object>"
            ]
          },
          "metadata": {
            "tags": []
          }
        },
        {
          "output_type": "display_data",
          "data": {
            "text/html": [
              "<small><p style=\"text-align:right;\">Sources: <span style=\"background-color:#d8daef;\">kalevala</span><sup>[1]</sup></p></small>"
            ],
            "text/plain": [
              "<IPython.core.display.HTML object>"
            ]
          },
          "metadata": {
            "tags": []
          }
        },
        {
          "output_type": "stream",
          "text": [
            "----------------- temperature = 1.0 ----------------------\n"
          ],
          "name": "stdout"
        },
        {
          "output_type": "display_data",
          "data": {
            "text/html": [
              "yytyväesi luvitteli, tappelenta tanteria.<br><br>\"Muistapa, soinin hoputettu täsä kaikista kivistä, <br>pienti lintojan perässä, kasti käessä kaunikassa <br>tähtessäni vähäisi, pähät putkenn yllähiksi, <br>juostei synty, hyytä vieri pirpetämme puolipahan, <br>muun ikän kulottamaha<span style=\"background-color:#d8daef;\">n, <br>pimeähän Pohjolahan! </span><sup>[1]</sup>OKivontalta kullellansa: <br>täällä askean asuhun, hovaistansa sorah<span style=\"background-color:#d8daef;\">ti.<br><br>Siinä lieto Lemminkäinen murti su</span><sup>[1]</sup>ohon ve'ehen <br>lähen puien laallansa, lautunnen lannan lat<span style=\"background-color:#d8daef;\">ella: <br>\"Elköhön hyvä Jumala, elköhön sitä suetk</span><sup>[1]</sup>a, <br>l"
            ],
            "text/plain": [
              "<IPython.core.display.HTML object>"
            ]
          },
          "metadata": {
            "tags": []
          }
        },
        {
          "output_type": "display_data",
          "data": {
            "text/html": [
              "<small><p style=\"text-align:right;\">Sources: <span style=\"background-color:#d8daef;\">kalevala</span><sup>[1]</sup></p></small>"
            ],
            "text/plain": [
              "<IPython.core.display.HTML object>"
            ]
          },
          "metadata": {
            "tags": []
          }
        },
        {
          "output_type": "stream",
          "text": [
            "---------------------------------------\n",
            "Epoch: 157.03, iter: 14200, cross-entropy: 0.288, accuracy: 0.91618\n",
            "   y: isten,  | myötävirrassa vilisten tuonne Tuonelan tuville. |  | Tuo verinen Tuonen poika iski miestä miekallansa,  | kavahutti kalvallans\n",
            "  yp: lnten   | tiötänirrassa vilisten tuonne Tuonelan tuville. |  | Tuo verinen Tuonen poika iski miestä miekallansa,  | kavahutti kalvallans\n",
            "----------------- temperature = 0.2 ----------------------\n"
          ],
          "name": "stdout"
        },
        {
          "output_type": "display_data",
          "data": {
            "text/html": [
              "pypsöännän loukamahan, <br>mies on mieli moksellani, venet vähät valkeata <br>pihalle pahat urohot, miehet miekko saavinkana. <br>Ottu<span style=\"background-color:#d8daef;\"> tuossa noin sanovi, a</span><sup>[1]</sup>nna vaivaeltuisilta.<br><br>\"Sanoi seinän pieni, paho päätisin pätevät <br>kuuen kuulehen nosta seppo Ilmarisen!<br><br>\"Saat sisäki saloa muuta, metsähärren harvaelens<span style=\"background-color:#d8daef;\">a.<br><br>Siitä tuon sanoiksi virkki, itse lausui, noin nimesi: <br>\"</span><sup>[1]</sup>En mä risti riikattava! On<span style=\"background-color:#d8daef;\"> emoni, kantajani! <br>E</span><sup>[1]</sup>n minua laula manki, pähvilta navattupana, <br>ahven ainihin hetoit, hanki tielit, tavat kosten,"
            ],
            "text/plain": [
              "<IPython.core.display.HTML object>"
            ]
          },
          "metadata": {
            "tags": []
          }
        },
        {
          "output_type": "display_data",
          "data": {
            "text/html": [
              "<small><p style=\"text-align:right;\">Sources: <span style=\"background-color:#d8daef;\">kalevala</span><sup>[1]</sup></p></small>"
            ],
            "text/plain": [
              "<IPython.core.display.HTML object>"
            ]
          },
          "metadata": {
            "tags": []
          }
        },
        {
          "output_type": "stream",
          "text": [
            "----------------- temperature = 0.6 ----------------------\n"
          ],
          "name": "stdout"
        },
        {
          "output_type": "display_data",
          "data": {
            "text/html": [
              "isvossänsa. <br>Nosta longalla oosen,, salon aamusen sanahan.<br><br>\"En mä tuosta tolvallusta, kohin loska luuskaella: <br>\"Laskio kylme kyllämäisnä, kahun soita hakentavi<span style=\"background-color:#d8daef;\">.\"<br><br>Sanoi äiti Lemminkäisen: \"Jo vainen valehtelitki! <br>Sano tarkkoja tosia, valehia vi</span><sup>[1]</sup>rotahani, <br>kultakanna kaarivoissa, lähti ohjonsa asenta; <br>siinä katsahta tulevan, astui soita toisen kerran, <br>emä nuori noukuttele, piarta karva kaikkalaihin.<br><span style=\"background-color:#d8daef;\"><br>Ukko uunilta havannut, </span><sup>[1]</sup>äpän pääntyn immenkäen. <br>Siihen luotoi morsianen, paista parasta, mana "
            ],
            "text/plain": [
              "<IPython.core.display.HTML object>"
            ]
          },
          "metadata": {
            "tags": []
          }
        },
        {
          "output_type": "display_data",
          "data": {
            "text/html": [
              "<small><p style=\"text-align:right;\">Sources: <span style=\"background-color:#d8daef;\">kalevala</span><sup>[1]</sup></p></small>"
            ],
            "text/plain": [
              "<IPython.core.display.HTML object>"
            ]
          },
          "metadata": {
            "tags": []
          }
        },
        {
          "output_type": "stream",
          "text": [
            "----------------- temperature = 1.0 ----------------------\n"
          ],
          "name": "stdout"
        },
        {
          "output_type": "display_data",
          "data": {
            "text/html": [
              "ppoot laulan polvillansa<span style=\"background-color:#d8daef;\">, <br>tuosta Tuonelan joesta, Manalan alantehesta. <br>Joko n</span><sup>[1]</sup>ien anojin lyömän, neitonen unertamahan: <br>siin' on neien kappalihin, ilokaisin herminassa.\"<br><br>Ilkoinpäivä Pohjan ehttoaisin, valvista vanittelevi, <br>kohtuinkuna kavaisna, kehäepuinkin kehalla.<br><span style=\"background-color:#d8daef;\"><br>\"Veli, seppo Ilmarinen, takoja iän-ikuinen</span><sup>[1]</sup>, <br>hauoin paikka, tapita syvikui illoin luikuttavi; <br>laulelevi virsin alte, kyynälle tävä minun <br>soita tiellä saanneksansa eikä kylmeä kiviä, <br>jotten raukka maksuelle, maala miestänsä ova"
            ],
            "text/plain": [
              "<IPython.core.display.HTML object>"
            ]
          },
          "metadata": {
            "tags": []
          }
        },
        {
          "output_type": "display_data",
          "data": {
            "text/html": [
              "<small><p style=\"text-align:right;\">Sources: <span style=\"background-color:#d8daef;\">kalevala</span><sup>[1]</sup></p></small>"
            ],
            "text/plain": [
              "<IPython.core.display.HTML object>"
            ]
          },
          "metadata": {
            "tags": []
          }
        },
        {
          "output_type": "stream",
          "text": [
            "---------------------------------------\n",
            "Epoch: 159.24, iter: 14400, cross-entropy: 0.269, accuracy: 0.92611\n",
            "   y: nolta,  | vaan kuitenki kaikitenki, jos ei muut lihavat laula,  | miehet paksummat pajaha, verevämmät vierettele,  | niin mä laulan, l\n",
            "  yp:  eita  ssiak euiten i kaikitenki, jos ei muut lihavat laula,  | miehet paksummat pajaha, verevämmät vierettele,  | niin mä laulan, l\n",
            "----------------- temperature = 0.2 ----------------------\n"
          ],
          "name": "stdout"
        },
        {
          "output_type": "display_data",
          "data": {
            "text/html": [
              "surJsääntämässä, riemusi rivestämätä; <br>mesilaitojen siassa, talan valkean vetäs<span style=\"background-color:#d8daef;\">sä.<br><br>\"Nouse nyt korjasta, korea, </span><sup>[1]</sup>kohottelet? <br>Sammastanihin syötä miehen, uron sulihan, kätehen, kaunoehen, <br>kaatanen karaisen ahkoni, kanalleni valkeansa, <br>ajatukat annettihin, pyyteheni, vyö vasisit valkeaisen.<br><br>\"Hyvän toisiki tulennen, miehen mieltä mennyksensä, <br>kulkiemen kiittelevi<span style=\"background-color:#d8daef;\">, ajan kaiken kalkuttel</span><sup>[1]</sup>i;<span style=\"background-color:#d8daef;\"> <br>viel' on Unto oikeana, mies katala kaatamatta, <br>kostamatta taaton kohlut, maammon mahlat maksamatta, <br></span><sup>[1]</sup>Pohja"
            ],
            "text/plain": [
              "<IPython.core.display.HTML object>"
            ]
          },
          "metadata": {
            "tags": []
          }
        },
        {
          "output_type": "display_data",
          "data": {
            "text/html": [
              "<small><p style=\"text-align:right;\">Sources: <span style=\"background-color:#d8daef;\">kalevala</span><sup>[1]</sup></p></small>"
            ],
            "text/plain": [
              "<IPython.core.display.HTML object>"
            ]
          },
          "metadata": {
            "tags": []
          }
        },
        {
          "output_type": "stream",
          "text": [
            "----------------- temperature = 0.6 ----------------------\n"
          ],
          "name": "stdout"
        },
        {
          "output_type": "display_data",
          "data": {
            "text/html": [
              "surJsää votti voita syättä, koivun koikkui, noin on imp<span style=\"background-color:#d8daef;\">i.<br><br>Siitä vanha Väinämöinen itse tuon sanoiksi virkki: <br>\"</span><sup>[1]</sup>Ei kylen on muusta laulla, mieren kiskomiket, <br>latesi lausui karjan käänsin, aamui katton karjalahan <br>näiltä<span style=\"background-color:#d8daef;\"> Pohjolan pihoilla, </span><sup>[1]</sup>tammen taulan tanta'alle; <br>piimän vestaisi vitsi, laski kulta kuumokoa <br>tammen.<br><br>Isoviesta vietän kiian, saa'a voiteri valoa, <br>nouli on hyvä hävällytestä, kuolematta kuonet.\"<br><br>Seppo taivot, paimmon päästä itkin päänsä päälmähen.<br><br>\"Astuvat arauvat potka, päästä"
            ],
            "text/plain": [
              "<IPython.core.display.HTML object>"
            ]
          },
          "metadata": {
            "tags": []
          }
        },
        {
          "output_type": "display_data",
          "data": {
            "text/html": [
              "<small><p style=\"text-align:right;\">Sources: <span style=\"background-color:#d8daef;\">kalevala</span><sup>[1]</sup></p></small>"
            ],
            "text/plain": [
              "<IPython.core.display.HTML object>"
            ]
          },
          "metadata": {
            "tags": []
          }
        },
        {
          "output_type": "stream",
          "text": [
            "----------------- temperature = 1.0 ----------------------\n"
          ],
          "name": "stdout"
        },
        {
          "output_type": "display_data",
          "data": {
            "text/html": [
              "Jurrmäksässänsä. <br>Syäntä synnyintähäni, juonet jouseni osta, terän taikun tappelohon. <br>Minun haukina olinta, toisen, tytön puialla! <br>Teeällen, temmeestarit sekä mustka muikartia, <br>lintukahan lainehinsa, vanhamasen saausen yön yheksän.<br><br>\"Taitonpa anopin liika liinan lintu: märet maille mättyi mannan, häväisen rastaisen ihahan, <br>taan tunna tuhoa tuisen, päävän imehen äisähisen: <br>loihen kullansä muloa, luona toisen lainehilla; <br>oma on tyytti tytsä, rauat riukki naisen matka, <br>valle, antaja upena, m"
            ],
            "text/plain": [
              "<IPython.core.display.HTML object>"
            ]
          },
          "metadata": {
            "tags": []
          }
        },
        {
          "output_type": "stream",
          "text": [
            "---------------------------------------\n",
            "Epoch: 161.45, iter: 14600, cross-entropy: 0.269, accuracy: 0.92415\n",
            "   y: sta.\" |  | Annikki hyväniminen, yön tytti, hämärän neito,  | kun tunsi toet totiset, valehettomat, vakaiset,  | heitti hunnut huuhtomatt\n",
            "  yp: nta   |  | Sstikki hyväniminen, yön tytti, hämärän neito,  | kun tunsi toet totiset, valehettomat, vakaiset!  | heitti hunnut huuhtomatt\n",
            "----------------- temperature = 0.2 ----------------------\n"
          ],
          "name": "stdout"
        },
        {
          "output_type": "display_data",
          "data": {
            "text/html": [
              "ysysväsivärtelevi<span style=\"background-color:#d8daef;\">.<br><br>Läksi siitä astumahan ahon poikki, toisen pitkin; <br>vieri soita, vieri maita, vieri synkkiä saloja. <br>Itse lauloi mennessänsä, virkkoi vieriellessänsä: <br>\"Syäntäni tu</span><sup>[1]</sup><span style=\"background-color:#d8daef;\">lisen kosken, pyhän virran pyörtehelle.<br><br>Siellä mettä keitettihin, rasvoja rakennettihin, <br>pikkuisissa pottiloissa, kaunoisissa kattiloissa, <br>peukalon mahuttavissa, sormenpään sovittavissa.<br><br>Mehiläinen, mies kepeä, saip' on niitä voitehia. <br>Vähän aikoa kuluvi, pikkuisen pirahtelevi: <br>jo </span><sup>[1]</sup>on laulut lauen sinä, pääsnen"
            ],
            "text/plain": [
              "<IPython.core.display.HTML object>"
            ]
          },
          "metadata": {
            "tags": []
          }
        },
        {
          "output_type": "display_data",
          "data": {
            "text/html": [
              "<small><p style=\"text-align:right;\">Sources: <span style=\"background-color:#d8daef;\">kalevala</span><sup>[1]</sup></p></small>"
            ],
            "text/plain": [
              "<IPython.core.display.HTML object>"
            ]
          },
          "metadata": {
            "tags": []
          }
        },
        {
          "output_type": "stream",
          "text": [
            "----------------- temperature = 0.6 ----------------------\n"
          ],
          "name": "stdout"
        },
        {
          "output_type": "display_data",
          "data": {
            "text/html": [
              "susnomässärijät jäset, jou'uit joutuvihin, jottoi linnat liukahatan <br>riian sulhot, hietahan, kirven: hyrmetti <br>teräs. <br>lähe naistan maitaloista, entin entisin lihoist<span style=\"background-color:#d8daef;\">a.\"<br><br>Siinä lieto Lemminkäinen murti mustoa </span><sup>[1]</sup>murempäksi.<br><br>Etsi saattavi sanoa, kanan uspan katsomatt<span style=\"background-color:#d8daef;\">a.<br><br>Sanoi lieto Lemminkäinen: \"</span><sup>[1]</sup><span style=\"background-color:#d8daef;\">Kyllikki on kylänkävijä; <br>juo</span><sup>[1]</sup><span style=\"background-color:#d8daef;\">ksi Tuonelan joelle, pyhän virran pyörtehelle. <br>Sieltä katsoi Kaukomieltä, vuottelevi Lemminkäistä <br>Pohjasta paloavaksi, kotihinsa kulkevaksi.? <br><br><br><br><br>Ko</span><sup>[1]</sup>udista runo<br><br>Siitä nyt sa"
            ],
            "text/plain": [
              "<IPython.core.display.HTML object>"
            ]
          },
          "metadata": {
            "tags": []
          }
        },
        {
          "output_type": "display_data",
          "data": {
            "text/html": [
              "<small><p style=\"text-align:right;\">Sources: <span style=\"background-color:#d8daef;\">kalevala</span><sup>[1]</sup></p></small>"
            ],
            "text/plain": [
              "<IPython.core.display.HTML object>"
            ]
          },
          "metadata": {
            "tags": []
          }
        },
        {
          "output_type": "stream",
          "text": [
            "----------------- temperature = 1.0 ----------------------\n"
          ],
          "name": "stdout"
        },
        {
          "output_type": "display_data",
          "data": {
            "text/html": [
              "siväotssäässässä.\"<br><br>Haatoipi haalan vatsa, vierellänsä vaskis<span style=\"background-color:#d8daef;\">ella <br>päässä pitkän pintapöyän kulta</span><sup>[1]</sup>isihin kehranoilta, <br>ikkiman iron talinna, tuoma tuntonunnahana. <br>Jo olet kuku kekeävat, rakut räävärat velitti <br>orrell Kohenta karjan, sulkasi, kylä lasasi! <br>Lähe nyt tästä kuistamahan, oleta ylentämähän! <br>Lienet tuohon jaulomiehen, katajahan kainaloihi<span style=\"background-color:#d8daef;\">n!<br><br>\"Mielikki, metsän emäntä, T</span><sup>[1]</sup><span style=\"background-color:#d8daef;\">apiolan tarkka vaimo, <br>läksi hamm</span><sup>[1]</sup>ojan halhot, helnahan hevuset heitto<span style=\"background-color:#d8daef;\">.<br><br>Vaka vanha Väinämöinen, tietäjä iän-ikuinen, <br></span><sup>[1]</sup>"
            ],
            "text/plain": [
              "<IPython.core.display.HTML object>"
            ]
          },
          "metadata": {
            "tags": []
          }
        },
        {
          "output_type": "display_data",
          "data": {
            "text/html": [
              "<small><p style=\"text-align:right;\">Sources: <span style=\"background-color:#d8daef;\">kalevala</span><sup>[1]</sup></p></small>"
            ],
            "text/plain": [
              "<IPython.core.display.HTML object>"
            ]
          },
          "metadata": {
            "tags": []
          }
        },
        {
          "output_type": "stream",
          "text": [
            "---------------------------------------\n",
            "Epoch: 163.66, iter: 14800, cross-entropy: 0.278, accuracy: 0.92204\n",
            "   y: eijolleni.  | Aloin astua kotihin; astuinpa läpi ahosta:  | Osmoinen orosta virkkoi, Kalevainen kaskesmaalta:  | 'Eläpä muille, neiti \n",
            "  yp: antoile,s,  | Likin astua kotihin, astui pa läpi ahosta:  | Osmoinen orosta virkkoi, Kalevainen kaskesmaalta:  | 'Eläpä muille, neiti \n",
            "----------------- temperature = 0.2 ----------------------\n"
          ],
          "name": "stdout"
        },
        {
          "output_type": "display_data",
          "data": {
            "text/html": [
              "iväksiväli tastujata, punapoika taittumatta, <br>oisko korvet kotkomahan, pahatahan patset sukahan<span style=\"background-color:#d8daef;\">, <br>kultakangasta kutovi, h</span><sup>[1]</sup>ukoroista hurnkutell<span style=\"background-color:#d8daef;\">a! <br>Tuo mulle tulinen miekka</span><sup>[1]</sup><span style=\"background-color:#d8daef;\">, säkehinen säilä kanna, <br>jolla ma</span><sup>[1]</sup>assa miestelevi, nehässä nähättämist<span style=\"background-color:#d8daef;\">ä.<br><br>Siitä lieto Lemminkäinen </span><sup>[1]</sup>ajavi karin ajohon, <br>hirvet hiekkata vihoikse, hankaisi havuillammiksi <br>pitkille piharikoille, lampivintahan likeotti, <br>päätyvästä pihlastahta, sisariset salaistamme <br>päälle paljollen ajavu, verin lyöjä viljan virret, <br>nenät hyöpist"
            ],
            "text/plain": [
              "<IPython.core.display.HTML object>"
            ]
          },
          "metadata": {
            "tags": []
          }
        },
        {
          "output_type": "display_data",
          "data": {
            "text/html": [
              "<small><p style=\"text-align:right;\">Sources: <span style=\"background-color:#d8daef;\">kalevala</span><sup>[1]</sup></p></small>"
            ],
            "text/plain": [
              "<IPython.core.display.HTML object>"
            ]
          },
          "metadata": {
            "tags": []
          }
        },
        {
          "output_type": "stream",
          "text": [
            "----------------- temperature = 0.6 ----------------------\n"
          ],
          "name": "stdout"
        },
        {
          "output_type": "display_data",
          "data": {
            "text/html": [
              "iväaparratta oruttomattamahan!\"<br><br>Saip' on miekka unka, valten antejen tavan-tyvälle!\"<br><br>Teki luikki luonahansa, jok' ei vierehen venäjän.\"<br><br>Laski virkkui noin sanovi: \"Seksö sie tätä hevosen <br>saateleista saunahiksi, paletti ohkehisen, <br>kalliot kumit kukeni?\".<span style=\"background-color:#d8daef;\"><br>Sanoi vanha Väinämöinen: </span><sup>[1]</sup><br>tse neion Joutahalle, siitä lampoisonneksin <br>no<span style=\"background-color:#d8daef;\">in sanon toet totiset, valehettomat, vakaiset</span><sup>[1]</sup>, <br>kunne'o neiti kenkahaitt,, alvot aallott <br>aiat karta vaalimahan, lahjosa ani sammonista! <br>Tule nyy, vehkältiseni, maan n"
            ],
            "text/plain": [
              "<IPython.core.display.HTML object>"
            ]
          },
          "metadata": {
            "tags": []
          }
        },
        {
          "output_type": "display_data",
          "data": {
            "text/html": [
              "<small><p style=\"text-align:right;\">Sources: <span style=\"background-color:#d8daef;\">kalevala</span><sup>[1]</sup></p></small>"
            ],
            "text/plain": [
              "<IPython.core.display.HTML object>"
            ]
          },
          "metadata": {
            "tags": []
          }
        },
        {
          "output_type": "stream",
          "text": [
            "----------------- temperature = 1.0 ----------------------\n"
          ],
          "name": "stdout"
        },
        {
          "output_type": "display_data",
          "data": {
            "text/html": [
              "iräppaointakass<span style=\"background-color:#d8daef;\">a. <br>Sanan virkkoi, noin nimesi: </span><sup>[1]</sup><span style=\"background-color:#d8daef;\">\"Kun et laskene minua, <br>metsähän menetteleime, k</span><sup>[1]</sup>irahtuin kipsahutan <br>öiällälä yyhettäisnä työnnänpäin ympärillen. <br>Eikä sauka suori-jumas,, ilman tännentä iloi<span style=\"background-color:#d8daef;\">tta.\"<br><br>Vaka vanha Väinämöinen itse </span><sup>[1]</sup>mies jasatuitse. <br>Ajoi luokse mulkahursin, selälti melen vesien. <br>Lauloi toisen varvikoimes, ennen luhkiesta, halenna hemusen poikko.<br><br>Olipa lapsa laulajani, kaukoni kultaisna kukullut <br>suvunuksisi nurkan, tuvan imoisen isännän.<br><br>\"Ollet laulassa lujeli, emän "
            ],
            "text/plain": [
              "<IPython.core.display.HTML object>"
            ]
          },
          "metadata": {
            "tags": []
          }
        },
        {
          "output_type": "display_data",
          "data": {
            "text/html": [
              "<small><p style=\"text-align:right;\">Sources: <span style=\"background-color:#d8daef;\">kalevala</span><sup>[1]</sup></p></small>"
            ],
            "text/plain": [
              "<IPython.core.display.HTML object>"
            ]
          },
          "metadata": {
            "tags": []
          }
        },
        {
          "output_type": "stream",
          "text": [
            "---------------------------------------\n",
            "Epoch: 165.88, iter: 15000, cross-entropy: 0.284, accuracy: 0.92090\n",
            "   y: t!  | Laita neiti kangaspuille, pirran-päällinen piohon:  | äsken pirta piukkoavi, kangaspuut kamahtelevi,  | kuuluvi kylähän kalske, \n",
            "  yp: it\" | Eaata seiti tangaspuilla, pirran-päällinen piohon:  | äsken pieta piukkiavi, kangaspuut kamahtelevi,  | suuluvi kylähän kalske, \n",
            "----------------- temperature = 0.2 ----------------------\n"
          ],
          "name": "stdout"
        },
        {
          "output_type": "display_data",
          "data": {
            "text/html": [
              "pyyvyät viluviltani, pitkät pihlajit päsisi!<br><br>\"Kun panit hyvät sanalla, juosta kyläistä kesässä <br>alle kultainen alolle vääjännellä käänneloilla, <br>kolmannenki korvankassa, kainalossa kaunoisessa; <br>kutsoviimesekien, murkinaisen liikuiseni, <br>viinnan Männäkäpä lepoamahan, tieltä kesken ennintihin, <br>jos sa tuonet halliparat parakoille, poikoilierille onoille<span style=\"background-color:#d8daef;\">!\"<br><br>Silloin Pohjolan emäntä </span><sup>[1]</sup><span style=\"background-color:#d8daef;\">sanan virkkoi, noin nimesi: <br>\"Sille työnnän tyttäreni, sille lapseni lupoan, <br>joka sampuen takovi, kannen kirjo kirjo</span><sup>[1]</sup>"
            ],
            "text/plain": [
              "<IPython.core.display.HTML object>"
            ]
          },
          "metadata": {
            "tags": []
          }
        },
        {
          "output_type": "display_data",
          "data": {
            "text/html": [
              "<small><p style=\"text-align:right;\">Sources: <span style=\"background-color:#d8daef;\">kalevala</span><sup>[1]</sup></p></small>"
            ],
            "text/plain": [
              "<IPython.core.display.HTML object>"
            ]
          },
          "metadata": {
            "tags": []
          }
        },
        {
          "output_type": "stream",
          "text": [
            "----------------- temperature = 0.6 ----------------------\n"
          ],
          "name": "stdout"
        },
        {
          "output_type": "display_data",
          "data": {
            "text/html": [
              "pyyvyä pisteheksi, <br>jottei kukka Pohjolaha iästä korsassa sopessa: <br>hope'iset pyytärsästä kultaisesta vuotehelta, <br>kivehestä kuun kovesta, korvon kaulua vahoista. <br>Itse empi vaattehia, syöä suuri, työt väheini, <br>vaimon valtahan pahiksi, kahta kirjan kintehessä.<br><br>\"Kämmen kuurta katsomahan, likeä lehasteleime? <br>Lähe koivon kuulijassa, saian vastavan sisässä. <br>Saapi nyt kälmille talos, hopea, hovihita koves kokko: <br>kapoi poltti polvellensa, lintui liittehille <br>yhtä, toiste turmelevi, matkoa rakoill"
            ],
            "text/plain": [
              "<IPython.core.display.HTML object>"
            ]
          },
          "metadata": {
            "tags": []
          }
        },
        {
          "output_type": "stream",
          "text": [
            "----------------- temperature = 1.0 ----------------------\n"
          ],
          "name": "stdout"
        },
        {
          "output_type": "display_data",
          "data": {
            "text/html": [
              "pyytäytä vastokseni viera noilla voikeomulla, <br>mies kullasta hevosen, läpikuinen lainehesta.<br><br>Tuop' on kokko ruumahan<span style=\"background-color:#d8daef;\">i nuoren vaimon vaattehia.</span><sup>[1]</sup><span style=\"background-color:#d8daef;\"> <br>Itse vanha Väinämöinen l</span><sup>[1]</sup>aika<span style=\"background-color:#d8daef;\"> varsin vastaeli: <br>\"</span><sup>[1]</sup>Mitä vieras veurahaisen suuhan suista, arman alle jäsemähä<span style=\"background-color:#d8daef;\">n.\"<br><br>Siitä Pohjolan emäntä syötti</span><sup>[1]</sup>, ylimeä, ilon lastu tuota eikä puhasen puista.<br><br>\"Katseleikse, katsellessa, kerä oittele kohalle.<br><br>Siitä siitä kelkasehen: Virkkoia vierahalle!\"<br><br>Näinäinen kojiperillä, valupille valkeailla: <br>kivut on kuin löipättävi"
            ],
            "text/plain": [
              "<IPython.core.display.HTML object>"
            ]
          },
          "metadata": {
            "tags": []
          }
        },
        {
          "output_type": "display_data",
          "data": {
            "text/html": [
              "<small><p style=\"text-align:right;\">Sources: <span style=\"background-color:#d8daef;\">kalevala</span><sup>[1]</sup></p></small>"
            ],
            "text/plain": [
              "<IPython.core.display.HTML object>"
            ]
          },
          "metadata": {
            "tags": []
          }
        },
        {
          "output_type": "stream",
          "text": [
            "---------------------------------------\n",
            "Epoch: 168.09, iter: 15200, cross-entropy: 0.265, accuracy: 0.92350\n",
            "   y: n seppo Ilmarin kotihin:  | silmät vanhoilta valuvi ikkunoissa istuessa,  | polvet nuorilta nojuvi veräjillä vuottaessa,  | lasten jal\n",
            "  yp: n kappo Ilmarinesotihin:  | silmät vanhoilta valuvi ikkunoissa istuessa,  | polvet nuorilta nojuvi veräjillä vuottaessa,  | lasten jal\n",
            "----------------- temperature = 0.2 ----------------------\n"
          ],
          "name": "stdout"
        },
        {
          "output_type": "display_data",
          "data": {
            "text/html": [
              "yvyyJö varvoja tarulla, puun purren sukkulaisen; <br>miel' on<span style=\"background-color:#d8daef;\"> Ukko, ylijumala, ilman kaiken kannattaja! <br>Tule tänne tarvittaissa, käy tänne kutsuttaessa! <br></span><sup>[1]</sup><span style=\"background-color:#d8daef;\">Tunge turpea kätesi, paina paksu peukalosi <br>tukkeheksi tuiman reiän, paikaksi pahan veräjän</span><sup>[1]</sup>; <br>ei varsi valita vanhe huomonensa morti<span style=\"background-color:#d8daef;\">ana!\"<br><br>Vaka vanha Väinämöinen</span><sup>[1]</sup><span style=\"background-color:#d8daef;\"> sanan virkkoi, noin nimesi: <br>\"Voi minä poloinen poika, </span><sup>[1]</sup><span style=\"background-color:#d8daef;\">voi poika polon-alainen, <br>kun läksin omilta mailta, elomailta entisiltä <br>iäkse</span><sup>[1]</sup>mmelta oljast<span style=\"background-color:#d8daef;\">i, palkkalaiset painatteli <br>k</span><sup>[1]</sup>ullankanat "
            ],
            "text/plain": [
              "<IPython.core.display.HTML object>"
            ]
          },
          "metadata": {
            "tags": []
          }
        },
        {
          "output_type": "display_data",
          "data": {
            "text/html": [
              "<small><p style=\"text-align:right;\">Sources: <span style=\"background-color:#d8daef;\">kalevala</span><sup>[1]</sup></p></small>"
            ],
            "text/plain": [
              "<IPython.core.display.HTML object>"
            ]
          },
          "metadata": {
            "tags": []
          }
        },
        {
          "output_type": "stream",
          "text": [
            "----------------- temperature = 0.6 ----------------------\n"
          ],
          "name": "stdout"
        },
        {
          "output_type": "display_data",
          "data": {
            "text/html": [
              "yvyyJö ärviojä, alle jäiset, sammat koiva kaikenlainen! <br>Siitä itken, ymmärrä vaon etehen! <br>Veistämän venettäkänä, murkihin upiuruta. <br><br><br><br><br>Keipämösveljätä reinän, rasoja rakennunnana, <br>mistäpä oioin päälle, sukkahaisi, suorihmista, suoritmia sulan maalle. <br>Sata oli minun lastui, somenilla aukingilla; <br>toisin suolen suojehessa, kalassa kaluvallehe<span style=\"background-color:#d8daef;\">lle.<br><br>Vaka vanha Väinämöinen t</span><sup>[1]</sup><span style=\"background-color:#d8daef;\">uossa tuon sanoiksi virkki: <br>\"Äsken lienen mies m</span><sup>[1]</sup>ahota sanele sanoa <br>tuohtella kukkakosijuksi<span style=\"background-color:#d8daef;\">, <br>joit' ei laula kaikki la</span><sup>[1]</sup>ul"
            ],
            "text/plain": [
              "<IPython.core.display.HTML object>"
            ]
          },
          "metadata": {
            "tags": []
          }
        },
        {
          "output_type": "display_data",
          "data": {
            "text/html": [
              "<small><p style=\"text-align:right;\">Sources: <span style=\"background-color:#d8daef;\">kalevala</span><sup>[1]</sup></p></small>"
            ],
            "text/plain": [
              "<IPython.core.display.HTML object>"
            ]
          },
          "metadata": {
            "tags": []
          }
        },
        {
          "output_type": "stream",
          "text": [
            "----------------- temperature = 1.0 ----------------------\n"
          ],
          "name": "stdout"
        },
        {
          "output_type": "display_data",
          "data": {
            "text/html": [
              "yvyvyvä lakentua, tervevi tipuni tuota?'<br><br>\"Vilö' en voiku silmisnäsi, karja saunut muinan surman: <br>'Vaoma tuoho tuntenevi miehiläiset siinäkäellä, <br>jolla haahtani halaista, punapuola polvehensa, <br>riipurjet risket riniksi, sinisit, valmisiksi, <br>noille silmihin sitihin, painuisi pakastimeksi, <br>hyvä on samplu hyväksi, jäin määri tarvitahan: <br>ukko kuollehun sotahan, vakkan mintessa viratti! <br>Sarja ei kalli mahemmassa, kaheksi lekkämäh<span style=\"background-color:#d8daef;\">än <br>nenässä utuisen niemen, päässä saaren terhenisen</span><sup>[1]</sup>.<br><br>Kalervoinen"
            ],
            "text/plain": [
              "<IPython.core.display.HTML object>"
            ]
          },
          "metadata": {
            "tags": []
          }
        },
        {
          "output_type": "display_data",
          "data": {
            "text/html": [
              "<small><p style=\"text-align:right;\">Sources: <span style=\"background-color:#d8daef;\">kalevala</span><sup>[1]</sup></p></small>"
            ],
            "text/plain": [
              "<IPython.core.display.HTML object>"
            ]
          },
          "metadata": {
            "tags": []
          }
        },
        {
          "output_type": "stream",
          "text": [
            "---------------------------------------\n",
            "Epoch: 170.30, iter: 15400, cross-entropy: 0.256, accuracy: 0.92839\n",
            "   y: ni.  | Ei tuo ollut suuren suuri eikä aivan pienen pieni:  | miehen peukalon pituinen, vaimon vaaksan korkeuinen. |  | Vaski- oli hattu \n",
            "  yp: n   |  | Ki ouo ollut suuren suuri eikä aivan pienen pieni:  | miehen peukalon pituinen, vaimo  vaaksan korkeuinen. |  | Vaski- oli hattu \n",
            "----------------- temperature = 0.2 ----------------------\n"
          ],
          "name": "stdout"
        },
        {
          "output_type": "display_data",
          "data": {
            "text/html": [
              "ypssipään vivuoji, <br>jottei hjoutel kapsahia, työstä vierahin maalla, <br>veä tän vinuvelta näken, nähä neuvon nauravilla. <br>Enkä järkö tätä juotuu, ei läävät läänyläjän! <br>Kun kinnut hamoja taivan, tuhat mielte tinnemmästä, <br>Virokann<span style=\"background-color:#d8daef;\">a vieremähän, vaivainen</span><sup>[1]</sup> vainerompa, <br>neittä kasvoi katkelohon, salvatse vajan värellä, <br>läksi päin, pahoillensa, vesikölle kierohoiksi, <br>jottei pillan piikojani, halkin hampeheltasiksi?\"<br><br>Herkatko häntä hopeasi jota vienoi ja vettihi <br>tulen linna lienettävän laittoi liesu"
            ],
            "text/plain": [
              "<IPython.core.display.HTML object>"
            ]
          },
          "metadata": {
            "tags": []
          }
        },
        {
          "output_type": "display_data",
          "data": {
            "text/html": [
              "<small><p style=\"text-align:right;\">Sources: <span style=\"background-color:#d8daef;\">kalevala</span><sup>[1]</sup></p></small>"
            ],
            "text/plain": [
              "<IPython.core.display.HTML object>"
            ]
          },
          "metadata": {
            "tags": []
          }
        },
        {
          "output_type": "stream",
          "text": [
            "----------------- temperature = 0.6 ----------------------\n"
          ],
          "name": "stdout"
        },
        {
          "output_type": "display_data",
          "data": {
            "text/html": [
              "ypypinäni jorokoi.<br><br>Sulho, sotaruta rukoa, vielä nuoret nuotta miehen. <br>Viirisoavi vai oroja enehelle kats<span style=\"background-color:#d8daef;\">onnassa <br>nenässä utuisen niemen, päässä saaren terhenisen</span><sup>[1]</sup><span style=\"background-color:#d8daef;\"> <br>alla aaltojen syvien, pääll</span><sup>[1]</sup><span style=\"background-color:#d8daef;\">e mustien mutien.\"<br><br>Ukko risti ripsahutti, </span><sup>[1]</sup>äi uros avittunulla, <br>suru säätämä sulava lähistä lääkäteikse! <br>Hyvi lienen, tiestämihin, koirotien Lepäksisestä, <br>ave ei saattanut latse, hiili lienot liehujansa, <br>vuoti seppo Ilmarille. Kuonpa kulkija tulisi, <br>halki tietähin sisasi, hiitti suutojen remaksi, <br>min "
            ],
            "text/plain": [
              "<IPython.core.display.HTML object>"
            ]
          },
          "metadata": {
            "tags": []
          }
        },
        {
          "output_type": "display_data",
          "data": {
            "text/html": [
              "<small><p style=\"text-align:right;\">Sources: <span style=\"background-color:#d8daef;\">kalevala</span><sup>[1]</sup></p></small>"
            ],
            "text/plain": [
              "<IPython.core.display.HTML object>"
            ]
          },
          "metadata": {
            "tags": []
          }
        },
        {
          "output_type": "stream",
          "text": [
            "----------------- temperature = 1.0 ----------------------\n"
          ],
          "name": "stdout"
        },
        {
          "output_type": "display_data",
          "data": {
            "text/html": [
              "ypsssänsänsäviä!'<br><br>\"Sain kaua, koto Kälevyttö, työllisten Suolen olkoa tavoa. <br>Tuoti soitt, suurtamahan, seitsemahan <br>Susta mies muhan asehe, senp' on leimot vertenuhna!<span style=\"background-color:#d8daef;\"> <br><br><br><br><br>Kuudesviidettä runo<br><br>Sai</span><sup>[1]</sup>p' on sauvan saavarillansa, tieto kehui kolme.<br><br>Niin virrelle vinuksi henguilla lipe'ille <br>päässä pieni, noikki harjan kaivataisen, <br>liika liiti lintunehen. Rasta hangahat talevissa. <br>Sai venonen Puollosassa, väkevällessa kuto<span style=\"background-color:#d8daef;\">a.<br><br>Sanoi vanha Väinämöinen: \"E</span><sup>[1]</sup>lä sie sutuiten kävän<span style=\"background-color:#d8daef;\">nä.\"<br><br>Laski vanha Väinä</span><sup>[1]</sup>"
            ],
            "text/plain": [
              "<IPython.core.display.HTML object>"
            ]
          },
          "metadata": {
            "tags": []
          }
        },
        {
          "output_type": "display_data",
          "data": {
            "text/html": [
              "<small><p style=\"text-align:right;\">Sources: <span style=\"background-color:#d8daef;\">kalevala</span><sup>[1]</sup></p></small>"
            ],
            "text/plain": [
              "<IPython.core.display.HTML object>"
            ]
          },
          "metadata": {
            "tags": []
          }
        },
        {
          "output_type": "stream",
          "text": [
            "---------------------------------------\n",
            "Epoch: 172.51, iter: 15600, cross-entropy: 0.268, accuracy: 0.92415\n",
            "   y: han-alainen.  | Pani orjan paimeneksi, karjan suuren kaitsijaksi. |  | Tuopa ilkoinen emäntä, sepän akka irvihammas,  | leipoi leivän pa\n",
            "  yp: nan alaisen,  | Sani hrjan paimeneksi, karjan suuren kaitsijaksi. |  | Tuopa ilkoinen emäntä, sepän akka irvihammas,  | leipoi leivän pa\n",
            "----------------- temperature = 0.2 ----------------------\n"
          ],
          "name": "stdout"
        },
        {
          "output_type": "display_data",
          "data": {
            "text/html": [
              "okiomilla piesitte! <br>Tuosta puuttui, piesiänsä: punat purren lohkkupuuhan, <br>päätä kalvalle katahan, ilman tieton soiltavailla:<br><br>\"En huolit hevosevisen, poutet puolellasematt<span style=\"background-color:#d8daef;\">a. <br>Sanan virkkoi, noin nimesi: </span><sup>[1]</sup><span style=\"background-color:#d8daef;\">\"Voi minua, kurja raukka! <br>Parempi minun olisi, parempi oletteleisi <br></span><sup>[1]</sup><span style=\"background-color:#d8daef;\">jänön juoksevan jälillä, koukkupolven polkemilla, <br>kuin tämän kosijan reessä, viirunaaman viltin alla. <br></span><sup>[1]</sup><span style=\"background-color:#d8daef;\">Hukan on karva kaunihimpi, hukan suumalo somempi.\"<br><br>Se on seppo Ilmarinen puri huulta, väänti päätä</span><sup>[1]</sup>; <br>ajoa kahattelevi yök"
            ],
            "text/plain": [
              "<IPython.core.display.HTML object>"
            ]
          },
          "metadata": {
            "tags": []
          }
        },
        {
          "output_type": "display_data",
          "data": {
            "text/html": [
              "<small><p style=\"text-align:right;\">Sources: <span style=\"background-color:#d8daef;\">kalevala</span><sup>[1]</sup></p></small>"
            ],
            "text/plain": [
              "<IPython.core.display.HTML object>"
            ]
          },
          "metadata": {
            "tags": []
          }
        },
        {
          "output_type": "stream",
          "text": [
            "----------------- temperature = 0.6 ----------------------\n"
          ],
          "name": "stdout"
        },
        {
          "output_type": "display_data",
          "data": {
            "text/html": [
              "okiomilläksessä, <br>jos<span style=\"background-color:#d8daef;\"> kanna Kavon kätehen, </span><sup>[1]</sup>lyövät saunan saupamahan! <br>Jumalasta Pohjolahansa, ajoa kahen kätehen, <br>itse siirtyi soitanaainen, tulet tuomista tähnä maahan <br>laskimeta olin maioit, Saren kaihit <br>Laitoa kotoihiksi, parempi oli terpeheksi.<br><br>Lyski kynnysen nekävi, maat jänen paremmin koskut, <br>jok' ei saalavi katala, tuolla tuonne viertämillä <br>jalat kaikki aavunkolla, ve'en tuomalla tehillä. <br>Piti viiet vitrat puuhun, pitkaihin vea tupahan, <br>jottei kuulu kakkerikse, viepät kunsa huolehi"
            ],
            "text/plain": [
              "<IPython.core.display.HTML object>"
            ]
          },
          "metadata": {
            "tags": []
          }
        },
        {
          "output_type": "display_data",
          "data": {
            "text/html": [
              "<small><p style=\"text-align:right;\">Sources: <span style=\"background-color:#d8daef;\">kalevala</span><sup>[1]</sup></p></small>"
            ],
            "text/plain": [
              "<IPython.core.display.HTML object>"
            ]
          },
          "metadata": {
            "tags": []
          }
        },
        {
          "output_type": "stream",
          "text": [
            "----------------- temperature = 1.0 ----------------------\n"
          ],
          "name": "stdout"
        },
        {
          "output_type": "display_data",
          "data": {
            "text/html": [
              "onntoi orjapaisi elkopäissä. <br>Hauki hauki halinoilla, vemallisi vierellä säpun läpi ankahuksi <br>ruhnoiselle miehiäsille, kuulukseille kultutvihin, <br>käsin kaunoila katoisi, linikunkun liinehensa, <br>koko kolme konnneksen rauan noien, Pohjan potkesi kevetti. <br>Siitä kuusi koutihani, itse piski jalkelihan: <br>vesi tässä veen hevojen, leivät löytkui langatkohlu! <br>Istut luulli leuallinen, lankapa lepehiänsä, <br>helmet heinänhä rakosihin, kaulottehen kosvutaisen?<br><br>\"Kylän istu ilman rannat, jousi hammasti hivu"
            ],
            "text/plain": [
              "<IPython.core.display.HTML object>"
            ]
          },
          "metadata": {
            "tags": []
          }
        },
        {
          "output_type": "stream",
          "text": [
            "---------------------------------------\n",
            "Epoch: 174.72, iter: 15800, cross-entropy: 0.273, accuracy: 0.92253\n",
            "   y: lähytti helmivyöllä.  | Virkku juoksi, matka joutui, reki vieri, ti lyheni.  | Ajavi karettelevi, matkoansa mittelevi  | noilla Pohjan\n",
            "  yp: nl ätti pelmisyöllä.  | Virkku juoksi, matka joutui, peki vieri, tielyheni.  | Ajavi karettelevi, matkoansa mittelevi  | noilla Pohjan\n",
            "----------------- temperature = 0.2 ----------------------\n"
          ],
          "name": "stdout"
        },
        {
          "output_type": "display_data",
          "data": {
            "text/html": [
              "okippaointorilta?<br><br>Lämmitki sanomahan: \"Tuli neito, ikkinensä <br>päälle surmaise sanoa, antoi Väinös ilässä <br>metsäisillä ostamoilla, entos lenti, olluen emo eloinen, <br>luopi vastahan vitsalle, karjoi pakkasellaksen<span style=\"background-color:#d8daef;\">inen, <br>sanan virkkoi, noin nimesi: \"</span><sup>[1]</sup><span style=\"background-color:#d8daef;\">Sen mä tein pahinta työtä, <br></span><sup>[1]</sup>aallot rauas otakani, hivus herne hiilinesi, <br>aina aikani ajelemasi, taikevattehen tavansa, <br>pursi puisi puntuneheksi, hankahansa haistettaisin. <br>Kuohusteltu kunsikkihen, pakkasen parenemahan.\"<br><br>Soitto käeren käänty saapi, pi"
            ],
            "text/plain": [
              "<IPython.core.display.HTML object>"
            ]
          },
          "metadata": {
            "tags": []
          }
        },
        {
          "output_type": "display_data",
          "data": {
            "text/html": [
              "<small><p style=\"text-align:right;\">Sources: <span style=\"background-color:#d8daef;\">kalevala</span><sup>[1]</sup></p></small>"
            ],
            "text/plain": [
              "<IPython.core.display.HTML object>"
            ]
          },
          "metadata": {
            "tags": []
          }
        },
        {
          "output_type": "stream",
          "text": [
            "----------------- temperature = 0.6 ----------------------\n"
          ],
          "name": "stdout"
        },
        {
          "output_type": "display_data",
          "data": {
            "text/html": [
              "okippaointorilta.<br><br>Virkkoi isi kihtaiksesi vapisin, varreltinini iloilta, <br>ikimennyt terät toivot, päivän pousutta pyörättä <br>kutajella kaariana lahti, turvaksi tutihijan kaapan. <br>Kävyi kankarautana saatojensa, puolisekse puolisoksi.<br><br>Ustaikä yttiminia, parisimpi kainen päällä, <br>jos saitta syet kylöinen, tao toutakeni-ikenä alos ilman luomellansa, <br>yhen synnyn syömättä iloa.<br><br>Läksittisossa luossa, isui mielensi telellä, <br>mesitäisiä lyytämähän, sären päätämä ajavi: <br>minkä neiet miehiänsä, uhkaisi "
            ],
            "text/plain": [
              "<IPython.core.display.HTML object>"
            ]
          },
          "metadata": {
            "tags": []
          }
        },
        {
          "output_type": "stream",
          "text": [
            "----------------- temperature = 1.0 ----------------------\n"
          ],
          "name": "stdout"
        },
        {
          "output_type": "display_data",
          "data": {
            "text/html": [
              "yuunmin lautujak<span style=\"background-color:#d8daef;\">i.\"<br><br>Lyhykäinen Tuonen tytti, matala Manalan neiti, <br></span><sup>[1]</sup><span style=\"background-color:#d8daef;\">sanoi tuonne tultuansa, Pohjolahan päästy</span><sup>[1]</sup>stänsä: <br>jo oli muolla morsin anoppi, astui pitkä pellakseni, <br>varson piian, pain on meiltänsä ihoiset, emo kinnut kippomista, <br>on laain lahintajatta, sisalasven appa kakset; <br><span style=\"background-color:#d8daef;\">katselevi, kuuntelevi, </span><sup>[1]</sup>umpi kutsiolla venetkä; <br>astui piika oljapuuni, tuervä, taivon valtivan venosen<span style=\"background-color:#d8daef;\">.<br><br>Siitä tuon sanoiksi virkki, itse lausui, noin </span><sup>[1]</sup><span style=\"background-color:#d8daef;\">lateli <br>nuorisolle nousevalle, kansalle ylenevälle; <br>\"Elkätte, </span><sup>[1]</sup>"
            ],
            "text/plain": [
              "<IPython.core.display.HTML object>"
            ]
          },
          "metadata": {
            "tags": []
          }
        },
        {
          "output_type": "display_data",
          "data": {
            "text/html": [
              "<small><p style=\"text-align:right;\">Sources: <span style=\"background-color:#d8daef;\">kalevala</span><sup>[1]</sup></p></small>"
            ],
            "text/plain": [
              "<IPython.core.display.HTML object>"
            ]
          },
          "metadata": {
            "tags": []
          }
        },
        {
          "output_type": "stream",
          "text": [
            "---------------------------------------\n",
            "Epoch: 176.93, iter: 16000, cross-entropy: 0.263, accuracy: 0.92594\n",
            "   y: an tarpehella!\" |  | Sanoi lieto Lemminkäinen: \"Vannon mie valat vakaiset,  | en kesänä ensimäisnä, tok' en vielä toisnakana  | saa'a su\n",
            "  yp: a  puppohella.\" |  | Sanoi lieto Lemminkäinen: \"Oannon mie valat vakaiset,  | en kesänä ensimäisnä, tok' en vielä toisnakana  | saa'a su\n",
            "----------------- temperature = 0.2 ----------------------\n"
          ],
          "name": "stdout"
        },
        {
          "output_type": "display_data",
          "data": {
            "text/html": [
              "yyäässä surea, juurissa kultaringasta <br>väetse vähyvän selälle, sarjoansa seisoansa. <br>Minuksi on mirtka niuotteli, ilman suuri suomattuvan, <br>märkkyiset suhottamasi, vaelta väentimehiä!<br><br>\"Kasvatelle kaunihisti, ylähät osattavaksi, <br>vietillä imankihiksi, lemenkaisin leipäneksi: <br>sai kyly kylenehäsin, heimet luntas<span style=\"background-color:#d8daef;\">ihin. <br>Sanan virkkoi, noin nimesi</span><sup>[1]</sup><span style=\"background-color:#d8daef;\">, itse lausui ja pakisi: <br>\"Nouse pois makoamasta, ylene uneksimasta <br>näiltä paikoilta pahoilta, kovan onnen vuotehelta!\"<br><br>Nousi mies makoamasta, heräsi une</span><sup>[1]</sup>"
            ],
            "text/plain": [
              "<IPython.core.display.HTML object>"
            ]
          },
          "metadata": {
            "tags": []
          }
        },
        {
          "output_type": "display_data",
          "data": {
            "text/html": [
              "<small><p style=\"text-align:right;\">Sources: <span style=\"background-color:#d8daef;\">kalevala</span><sup>[1]</sup></p></small>"
            ],
            "text/plain": [
              "<IPython.core.display.HTML object>"
            ]
          },
          "metadata": {
            "tags": []
          }
        },
        {
          "output_type": "stream",
          "text": [
            "----------------- temperature = 0.6 ----------------------\n"
          ],
          "name": "stdout"
        },
        {
          "output_type": "display_data",
          "data": {
            "text/html": [
              "yyrä'änäkkasältä, kiljottynä kiiteltytä, <br>mistä ahjossa alastoi, laski kannan karvialla. <br>Lentelevi liian liitoin surmat, pahat puiset palkemmat, <br>ristti silllät ventojet, lasten taukat taivahalle, <br>saapikka, äijelleni, tättiässä pilkaruinan. <br>Jo kyset jäkyttelevi, jotta toisessa talossa: <br>miellyt riisuivan nieitä, porttoi poikki pohjoiassa; <br>kysyi siirrä si muressan, kulkie kuoluhasi kotihin <br>helmiksi lehän\" laului kiitti samman kukku. <br>Unoanten oli arohon, silikirsu kingätyisin, <br>leien suihan "
            ],
            "text/plain": [
              "<IPython.core.display.HTML object>"
            ]
          },
          "metadata": {
            "tags": []
          }
        },
        {
          "output_type": "stream",
          "text": [
            "----------------- temperature = 1.0 ----------------------\n"
          ],
          "name": "stdout"
        },
        {
          "output_type": "display_data",
          "data": {
            "text/html": [
              "ysyästä hä'ytivät, jännestulta nääntä voiti <br>saajavan urosiansa; aamuttihin armahaksa. <br>Nätei tuossa nousiansa, vaani varsin vastoassa.<br><br>Tuli sauvoi saa sanovi: päähän hänytteltihins<span style=\"background-color:#d8daef;\">ä.\"<br><br>Siitä Pohjolan emäntä sanan virkkoi, noin nimesi: <br>\"</span><sup>[1]</sup>Sainpa, tuhma, toisin putk<span style=\"background-color:#d8daef;\">a, emon kaunon kartanolla</span><sup>[1]</sup> <br>iän, tuoma kansaselle!<span style=\"background-color:#d8daef;\"> <br>Hänpä tuon sanoiksi virkki, itse lausui, noin nimesi: <br>\"</span><sup>[1]</sup><span style=\"background-color:#d8daef;\">Tuonne tyttöni katosi, tuonne </span><sup>[1]</sup>tiellä oppelihen: <br>olen muiella onnet, eleä sotapeäisit!<span style=\"background-color:#d8daef;\"><br><br>Sanoi Pohjolan emäntä: \"Jospa jo sanon t</span><sup>[1]</sup>"
            ],
            "text/plain": [
              "<IPython.core.display.HTML object>"
            ]
          },
          "metadata": {
            "tags": []
          }
        },
        {
          "output_type": "display_data",
          "data": {
            "text/html": [
              "<small><p style=\"text-align:right;\">Sources: <span style=\"background-color:#d8daef;\">kalevala</span><sup>[1]</sup></p></small>"
            ],
            "text/plain": [
              "<IPython.core.display.HTML object>"
            ]
          },
          "metadata": {
            "tags": []
          }
        },
        {
          "output_type": "stream",
          "text": [
            "---------------------------------------\n",
            "Epoch: 179.15, iter: 16200, cross-entropy: 0.281, accuracy: 0.91829\n",
            "   y: si, kuin sinua kutsutahan!\" |  | Vaimo tuon sanoiksi virkki: \"Minä olen vanhin  | vaimoksia,  | vanhin ilman impilöitä, ensin emä itselö\n",
            "  yp: lt   | aln sanua kutsutahan!\" |  | Vaimo tuon sanoiksi virkki: \"Menä olen vanhin  | vaimoksia,  | vanhin ilman impilöitä, ensin emä itselö\n",
            "----------------- temperature = 0.2 ----------------------\n"
          ],
          "name": "stdout"
        },
        {
          "output_type": "display_data",
          "data": {
            "text/html": [
              "okipämärtelivät<span style=\"background-color:#d8daef;\"> <br>miehen etsijän etehen, sanelijan saata</span><sup>[1]</sup>n liiokko: <br>minun<span style=\"background-color:#d8daef;\"> on kaunis kaatununna, ti</span><sup>[1]</sup>eltäne minun tuper<span style=\"background-color:#d8daef;\">i, <br>syömähän omeniani, puremahan päähkeniä!\"<br><br>Neiti vastahan </span><sup>[1]</sup>tulevi, tierryteli, yleni siivät, <br>veistyn päikset tuosta tulmat, luikumatta vaaltasana, <br>syömättä sinä sikäsi, kuoltuanko kuohuseksi.<br><br>\"Elköhönp' on ven koluo, neity tieskyne teräksit, <br>harjat siitsi tuntemmaksi, hatka hausekkai lojihin.<br><br>Kovin kääkkys kynteleikse, lunta rautainen raksihen.<br><br>Viikon etsiä ikävä tuota, näit"
            ],
            "text/plain": [
              "<IPython.core.display.HTML object>"
            ]
          },
          "metadata": {
            "tags": []
          }
        },
        {
          "output_type": "display_data",
          "data": {
            "text/html": [
              "<small><p style=\"text-align:right;\">Sources: <span style=\"background-color:#d8daef;\">kalevala</span><sup>[1]</sup></p></small>"
            ],
            "text/plain": [
              "<IPython.core.display.HTML object>"
            ]
          },
          "metadata": {
            "tags": []
          }
        },
        {
          "output_type": "stream",
          "text": [
            "----------------- temperature = 0.6 ----------------------\n"
          ],
          "name": "stdout"
        },
        {
          "output_type": "display_data",
          "data": {
            "text/html": [
              "pponsuPoria osilta, harvassa satsunmatsat potkaiset pakehin: <br>läksin joutavan sivahän, sepällehen hajuvahan <br>heinuksesi siista, päästä mentä sänkäläinen: <br>sepä hiiren heingutteli <br>tuuli tuuli, aial' olle siinä siivoin: veisten koiran kourieli; <br>sata olla, sinerväisen aito olla: jo oli pilloin piitä: <br>miehen syöjillä sivälti, ukko puulta ehjollisen <br>tuolta Täynen, valehista, Sarmatan salantehev<span style=\"background-color:#d8daef;\">i.<br><br>Kävi siitä katsomahan </span><sup>[1]</sup>sinä huoli tuosta tuonne, <br>vian päälle verin lähe, vähäksi vähäisen miltäni! <br>"
            ],
            "text/plain": [
              "<IPython.core.display.HTML object>"
            ]
          },
          "metadata": {
            "tags": []
          }
        },
        {
          "output_type": "display_data",
          "data": {
            "text/html": [
              "<small><p style=\"text-align:right;\">Sources: <span style=\"background-color:#d8daef;\">kalevala</span><sup>[1]</sup></p></small>"
            ],
            "text/plain": [
              "<IPython.core.display.HTML object>"
            ]
          },
          "metadata": {
            "tags": []
          }
        },
        {
          "output_type": "stream",
          "text": [
            "----------------- temperature = 1.0 ----------------------\n"
          ],
          "name": "stdout"
        },
        {
          "output_type": "display_data",
          "data": {
            "text/html": [
              "ont lävät kokoriesi\"<br><br>Seppo nurkemman enästä, miten myttöjä viluhun! <br>Ajoa karempoakolle kovia, avunnoimille aioillle: <br>ykirpä olevin nähtettu etke hyrjynen tekänä. <br>Keksi melskissä merehen, Pohjan ahtaeless<span style=\"background-color:#d8daef;\">ä!<br><br>\"Lähe nyt, kumma, kulkemahan, maa</span><sup>[1]</sup>lta varjan, <br>vamman kauhinku katoit, <br>iloni pihoilla mieltä, miehelähän miestannellä. <br>Lähet kohtelle karja, tuojo uupki ruonet, <br>kapan hiihiä kokoa, kuolin käytä halmo heinän.<br><br>Viera keiho vuotamatta, liukumatta Lauvan, <br>koto on kontelo kovaa, ne miniä pa"
            ],
            "text/plain": [
              "<IPython.core.display.HTML object>"
            ]
          },
          "metadata": {
            "tags": []
          }
        },
        {
          "output_type": "display_data",
          "data": {
            "text/html": [
              "<small><p style=\"text-align:right;\">Sources: <span style=\"background-color:#d8daef;\">kalevala</span><sup>[1]</sup></p></small>"
            ],
            "text/plain": [
              "<IPython.core.display.HTML object>"
            ]
          },
          "metadata": {
            "tags": []
          }
        },
        {
          "output_type": "stream",
          "text": [
            "---------------------------------------\n",
            "Epoch: 181.36, iter: 16400, cross-entropy: 0.273, accuracy: 0.92383\n",
            "   y: ätäile hyviäkänä.\" |  | Otti miekkansa omansa, tempasi tuliteränsä,  | jok' oli Hiiessä hiottu, jumaloissa kuuraeltu;  | tuon sivullehen\n",
            "  yp: an  st kyvis.än..\" |  | Olti tiekkansa omansa, tempasi tuliteränsä,  | joki oli Hiiessä hiottu, jumaloissa kuuraeltu;  | tuon sivullehen\n",
            "----------------- temperature = 0.2 ----------------------\n"
          ],
          "name": "stdout"
        },
        {
          "output_type": "display_data",
          "data": {
            "text/html": [
              "pponpo luvas laelle, <br>pyhät pilviä pitäjsä, paravia pantakana! <br>Niin on verojensä, olutti, urosi porsita!'\"<br><br>\"Riisti pilvin jyttä alla vahkan iekut, kurjane kekälevi <br>vier<span style=\"background-color:#d8daef;\">ehellä vaskisella, purrella punaperällä. <br>Tule, impi, ilman päältä, neiti, taivahan navalta!<br><br>Soua suonista venettä, jäsenistä järkyttele, <br>soua l</span><sup>[1]</sup>ietsä lämmittääsi, ei iso, iämä, kunne kolmet, päivän-päällinen ikkenettä, <br>seppo Ilmarin sotahan, korve, kertaell<span style=\"background-color:#d8daef;\">esen! <br>Ken suotta sotahan saa</span><sup>[1]</sup>man. Enkä kielti kelkalahan. <br>Neiet sout"
            ],
            "text/plain": [
              "<IPython.core.display.HTML object>"
            ]
          },
          "metadata": {
            "tags": []
          }
        },
        {
          "output_type": "display_data",
          "data": {
            "text/html": [
              "<small><p style=\"text-align:right;\">Sources: <span style=\"background-color:#d8daef;\">kalevala</span><sup>[1]</sup></p></small>"
            ],
            "text/plain": [
              "<IPython.core.display.HTML object>"
            ]
          },
          "metadata": {
            "tags": []
          }
        },
        {
          "output_type": "stream",
          "text": [
            "----------------- temperature = 0.6 ----------------------\n"
          ],
          "name": "stdout"
        },
        {
          "output_type": "display_data",
          "data": {
            "text/html": [
              "onttavaokomi<span style=\"background-color:#d8daef;\">eli.\"<br><br>Siitä äiti Lemminkäisen </span><sup>[1]</sup><span style=\"background-color:#d8daef;\">itse virkki, noin nimesi: <br>\"Tuonne sampo saatetahan, kirjokansi kaim</span><sup>[1]</sup>o<span style=\"background-color:#d8daef;\">tahan <br>nenähän utuisen niemen, päähän saaren terhenisen</span><sup>[1]</sup>.<br><br>Alkoi armat aikamaiset, suorit ilmansa kokosi.<br><br>Kun oli lasti laulehisin, asuani alentoaissa. <br>Kolmistiksi, Soukammet si, sovimmaiksi, <br>luojaki leväistä tuonne, sormet syötettävä, <br>metsän ukko halkoholla, röihe reen mersahienas, <br>koki rautaisella maalle, karkut paksuma tajio<span style=\"background-color:#d8daef;\">lla. <br>Itse tuon sanoiksi virkki: \"</span><sup>[1]</sup>Riokon kaunoisen kytä"
            ],
            "text/plain": [
              "<IPython.core.display.HTML object>"
            ]
          },
          "metadata": {
            "tags": []
          }
        },
        {
          "output_type": "display_data",
          "data": {
            "text/html": [
              "<small><p style=\"text-align:right;\">Sources: <span style=\"background-color:#d8daef;\">kalevala</span><sup>[1]</sup></p></small>"
            ],
            "text/plain": [
              "<IPython.core.display.HTML object>"
            ]
          },
          "metadata": {
            "tags": []
          }
        },
        {
          "output_type": "stream",
          "text": [
            "----------------- temperature = 1.0 ----------------------\n"
          ],
          "name": "stdout"
        },
        {
          "output_type": "display_data",
          "data": {
            "text/html": [
              "ontoi laventeli täesi, <br>pitkä, tulen tuiman raukan näärin<span style=\"background-color:#d8daef;\">, <br>liikkui sillan liitoksella, keikk</span><sup>[1]</sup>ahielläkkeheä <br>elo-usta ottavella, kulki kursina kuloina, <br>elä kiellä kerranossa, sylen vastassansaksessa.<br><br>Vielan veittänsä kylellä, kolmassa tuliser. <br>Annan kurjia syvinen, hurmeasi pirjahille!\"<br><br>Aunopa epäpätele, kuni kuoli, aitu ehto eikä pöyättä; <br>kirjoa jaran käsiä, selkihe synelemähän. <br>Mieli ei toine, kun kulosi! Kei kymme <br>alemmahan retti teuti vierahasen!<br><br>Tuo tuohon tupa tulevani, anoppiisa ai"
            ],
            "text/plain": [
              "<IPython.core.display.HTML object>"
            ]
          },
          "metadata": {
            "tags": []
          }
        },
        {
          "output_type": "display_data",
          "data": {
            "text/html": [
              "<small><p style=\"text-align:right;\">Sources: <span style=\"background-color:#d8daef;\">kalevala</span><sup>[1]</sup></p></small>"
            ],
            "text/plain": [
              "<IPython.core.display.HTML object>"
            ]
          },
          "metadata": {
            "tags": []
          }
        },
        {
          "output_type": "stream",
          "text": [
            "---------------------------------------\n",
            "Epoch: 183.57, iter: 16600, cross-entropy: 0.239, accuracy: 0.93490\n",
            "   y:  säikähtihe,  | kun kuuli tulen sanomat, tulen tuimat maininnaiset. |  | \"Sanoi seppo Ilmarinen: 'Ellös olko milläskänä!  | Tuli ei polt\n",
            "  yp:   | arhämti e  ssännkulltntulin sanomat, tulen tuimat maininnaiset. |  | \"Sanoi seppo Ilmarinen: 'Ellös olko milläskänä!  | Tuli ei polt\n",
            "----------------- temperature = 0.2 ----------------------\n"
          ],
          "name": "stdout"
        },
        {
          "output_type": "display_data",
          "data": {
            "text/html": [
              "ysyJässäki rumosi rajaltavi, polki porkea kuvetti <br>on kotona kohlaessa, päivän en kevettamaks<span style=\"background-color:#d8daef;\">i.<br><br>\"Oi Ukko, ylijumala</span><sup>[1]</sup><span style=\"background-color:#d8daef;\">! Kun kuulet toen tulevan, <br>muuta muiksi lehmäseni, kamahuta karjaseni, <br>kiviksi minun omani, kantoloiksi kaunoiseni, <br>kumman maata kulkiessa, vantturan vaeltaessa!<br><br>\"Kun ma otsona olisin, mesikämmennä kävisin, <br>en mä noissa noin asuisi </span><sup>[1]</sup>empo, valan varahtelihe<span style=\"background-color:#d8daef;\"> <br>alle selvien vesien, päälle mustien murien.<br><br>Si</span><sup>[1]</sup><span style=\"background-color:#d8daef;\">lloin lieto Lemminkäinen otti kultaoh</span><sup>[1]</sup>an urohon, <br>laski suunan suorittahan, "
            ],
            "text/plain": [
              "<IPython.core.display.HTML object>"
            ]
          },
          "metadata": {
            "tags": []
          }
        },
        {
          "output_type": "display_data",
          "data": {
            "text/html": [
              "<small><p style=\"text-align:right;\">Sources: <span style=\"background-color:#d8daef;\">kalevala</span><sup>[1]</sup></p></small>"
            ],
            "text/plain": [
              "<IPython.core.display.HTML object>"
            ]
          },
          "metadata": {
            "tags": []
          }
        },
        {
          "output_type": "stream",
          "text": [
            "----------------- temperature = 0.6 ----------------------\n"
          ],
          "name": "stdout"
        },
        {
          "output_type": "display_data",
          "data": {
            "text/html": [
              "ysyJäästikkäessä. <br>Saattolin tavoimenen ilman kasvan kaikenlannen.<br><br>\"Miekkojat minun putosi, maille kaunihin näköinnämmi; <br>ne on suussa ollekasta, ylenemmin korpeassa <br>olille maille maille, lutsiellenkeuikse vesistämä<span style=\"background-color:#d8daef;\">ksi.\"<br><br>Sanoi vanha Väinämöinen: \"</span><sup>[1]</sup><span style=\"background-color:#d8daef;\">Sen varsin valehtelitki! <br>Ei sinua silloin nähty, kun on merta kynnettihin, <br>meren ko</span><sup>[1]</sup>skesi titisihen kokon kynelemmis kylveä pitävi, vaipui veistiä venyttä.<br><br>\"Noinpa ikko, noin nemäs<span style=\"background-color:#d8daef;\">tä, Pohjan akka harvaha</span><sup>[1]</sup>rmis <br>saatavi sanan sanovi, kystisista kyyäns"
            ],
            "text/plain": [
              "<IPython.core.display.HTML object>"
            ]
          },
          "metadata": {
            "tags": []
          }
        },
        {
          "output_type": "display_data",
          "data": {
            "text/html": [
              "<small><p style=\"text-align:right;\">Sources: <span style=\"background-color:#d8daef;\">kalevala</span><sup>[1]</sup></p></small>"
            ],
            "text/plain": [
              "<IPython.core.display.HTML object>"
            ]
          },
          "metadata": {
            "tags": []
          }
        },
        {
          "output_type": "stream",
          "text": [
            "----------------- temperature = 1.0 ----------------------\n"
          ],
          "name": "stdout"
        },
        {
          "output_type": "display_data",
          "data": {
            "text/html": [
              "Rupssuunli rohkoasai, rahtahaisensa rotsat.\" <span style=\"background-color:#d8daef;\"><br>Siitä veitikkä verevä, </span><sup>[1]</sup>sorran saajan saaniksille, <br>potkaisi koloa tuuria paneiksesi Turjan alle, päitä päällä onnosemm<span style=\"background-color:#d8daef;\">a!\"<br><br>Siitä vanha Väinämöinen </span><sup>[1]</sup><span style=\"background-color:#d8daef;\">soitti päivän, soitti toisen. <br>Ei ollut sitä urosta eikä miestä </span><sup>[1]</sup><span style=\"background-color:#d8daef;\">melkeätä, <br>kuta emme kaatan</span><sup>[1]</sup>ynnä entinä ylentäneä, <br>kuuleman kutantelkoisen, tuoman tuojaksi tLehiksi. <br>Nii petkiä neion kullat, vakoi varkeno\"-ajasit: <br>tu<span style=\"background-color:#d8daef;\">uli Pohjolan tuville, Sariolan saunan maille <br></span><sup>[1]</sup>itseä mieun sinehen, souat lylmässä lujevi."
            ],
            "text/plain": [
              "<IPython.core.display.HTML object>"
            ]
          },
          "metadata": {
            "tags": []
          }
        },
        {
          "output_type": "display_data",
          "data": {
            "text/html": [
              "<small><p style=\"text-align:right;\">Sources: <span style=\"background-color:#d8daef;\">kalevala</span><sup>[1]</sup></p></small>"
            ],
            "text/plain": [
              "<IPython.core.display.HTML object>"
            ]
          },
          "metadata": {
            "tags": []
          }
        },
        {
          "output_type": "stream",
          "text": [
            "---------------------------------------\n",
            "Epoch: 185.78, iter: 16800, cross-entropy: 0.254, accuracy: 0.92904\n",
            "   y: in nimesi: \"Joutenpa, poloinen,  | synnyin,  | jouten synnyin, jouten kasvoin, jouten aikani elelin;  | jo nyt sainki joutavalle, mieh\n",
            "  yp: i  nimesi:  | Vo tenpa, poloinen,  | synnyin,  | jouten synnynn, jouten kasvoin, jouten aikani elelin;  | jo nyt sainki joutavalle, mieh\n",
            "----------------- temperature = 0.2 ----------------------\n"
          ],
          "name": "stdout"
        },
        {
          "output_type": "display_data",
          "data": {
            "text/html": [
              "ppppppppörripuuksessa. <br>Kun sanon mie mointa mointa saisi, pielijä säpi lupasi; <br>luoksi polven hongihien, alis vihan armahansa.<br><br>\"Lähet viekömmä sukuksi, niillä tuuminun alalle.<span style=\"background-color:#d8daef;\"><br><br>Vaimo vastaten sanovi, </span><sup>[1]</sup><span style=\"background-color:#d8daef;\">kansa kaunis vieretteli: <br>\"Terve, otso, tultuasi, mesikämmen, käytyäsi</span><sup>[1]</sup>. <br>Venet vierähan velähyt, pahasta pahan lahella, <br>luoksi en huolen, taisen kansa, kenpä keltona peräytä. <br>Oi sie lauoin kallassamme siksensä ipeäitä <br>näitä pitkiä pitäji, haupoi lehmättämistä, <br>jos satoa suun pulevat, kirjokorj"
            ],
            "text/plain": [
              "<IPython.core.display.HTML object>"
            ]
          },
          "metadata": {
            "tags": []
          }
        },
        {
          "output_type": "display_data",
          "data": {
            "text/html": [
              "<small><p style=\"text-align:right;\">Sources: <span style=\"background-color:#d8daef;\">kalevala</span><sup>[1]</sup></p></small>"
            ],
            "text/plain": [
              "<IPython.core.display.HTML object>"
            ]
          },
          "metadata": {
            "tags": []
          }
        },
        {
          "output_type": "stream",
          "text": [
            "----------------- temperature = 0.6 ----------------------\n"
          ],
          "name": "stdout"
        },
        {
          "output_type": "display_data",
          "data": {
            "text/html": [
              "pppppppörrupukohon.<br><br>Laski kynsiä kohosti, kasvan kämmenin käessä, <br>silmessä sitelemäksi, kiverästi kiukahihin.<br><br>\"Niinpä muistan muunaisessa, karjaissa kahtamassa, <br>meni muitan mulkahan, heimen hertaisnukollen,<span style=\"background-color:#d8daef;\"> <br>teräksisiltä teloilta, vaskisilta valkamoilta. <br>Veti puuhun purjehia, vaattehia varpapuuhun; <br>itse istuvi perähän, laaittihe laskemahan <br>kokan koivuisen nojahan, </span><sup>[1]</sup>verevämmän laulamahan.<br><br>Haukia on oron veniti, henginunnisa hevella <br>utui yötköstä jaloissa, tukki rauan ruoksisehen, <br>laati k"
            ],
            "text/plain": [
              "<IPython.core.display.HTML object>"
            ]
          },
          "metadata": {
            "tags": []
          }
        },
        {
          "output_type": "display_data",
          "data": {
            "text/html": [
              "<small><p style=\"text-align:right;\">Sources: <span style=\"background-color:#d8daef;\">kalevala</span><sup>[1]</sup></p></small>"
            ],
            "text/plain": [
              "<IPython.core.display.HTML object>"
            ]
          },
          "metadata": {
            "tags": []
          }
        },
        {
          "output_type": "stream",
          "text": [
            "----------------- temperature = 1.0 ----------------------\n"
          ],
          "name": "stdout"
        },
        {
          "output_type": "display_data",
          "data": {
            "text/html": [
              "ppppppppörrin tuosoi.<br><br>Virkkoi liemmun, apatti hakentahan, <br>uis kaapi vaimon kantasihin, kiehuta koven kivisin <br>sinnen, porokko sotko poikki joen joksaisi joessa, <br>pää kultan tappasteheksi, kontiahan kokkemahansa. <br>Liekköhutti merkahutan, kala kirjosaapehemmat.\"I <br>Juoka juokse venehen, korret toeme raatenusta?<span style=\"background-color:#d8daef;\">\"<br><br>Ukko uunilta urahti, parta lauloi, pää järähti: <br>\"Jo</span><sup>[1]</sup>s ta nyt tullet nänty jotta en siiän hevittä huo'oinen huolit, <br>mene Kuller, kotihinen, työn poika kovin louhin<span style=\"background-color:#d8daef;\"> <br>tämän tulvan tukkijak</span><sup>[1]</sup>"
            ],
            "text/plain": [
              "<IPython.core.display.HTML object>"
            ]
          },
          "metadata": {
            "tags": []
          }
        },
        {
          "output_type": "display_data",
          "data": {
            "text/html": [
              "<small><p style=\"text-align:right;\">Sources: <span style=\"background-color:#d8daef;\">kalevala</span><sup>[1]</sup></p></small>"
            ],
            "text/plain": [
              "<IPython.core.display.HTML object>"
            ]
          },
          "metadata": {
            "tags": []
          }
        },
        {
          "output_type": "stream",
          "text": [
            "---------------------------------------\n",
            "Epoch: 187.99, iter: 17000, cross-entropy: 0.249, accuracy: 0.92871\n",
            "   y: i, valittane, vanhempani,  | jos menen johonkuhunki, suorime sotatiloille.  | Juohtui juoni mieleheni, tuuma aivohon osasi  | kaatakse\n",
            "  yp:     | alkhteni  vanhempani,  | jos menen johonkuhunki, suorime sotatiloille.  | Juohtui juoni mieleheni, tuuma aivohon osasi  | kaatakse\n",
            "----------------- temperature = 0.2 ----------------------\n"
          ],
          "name": "stdout"
        },
        {
          "output_type": "display_data",
          "data": {
            "text/html": [
              "ypynsivävän ikimäjelle, <br>pantu parjasta meroilta, menin taivasta pahoilta: <br>se<span style=\"background-color:#d8daef;\">pä lieto Lemminkäinen</span><sup>[1]</sup><span style=\"background-color:#d8daef;\">, sekä iski jotta lausui: <br>\"Maahan miehet, maahan miekat, maahan untelot <br>urohot, <br>sa'at miehet siiven alta, kymmenet kynän nenästä!\"<br><br>Virkki tuossa Pohjan eukko, puhui purjepuun nenästä: <br>\"Oi sie lieto</span><sup>[1]</sup><span style=\"background-color:#d8daef;\"> Lemmin poika, ylimäinen ystäväni! <br>Mene sampo ottamahan, kirjokansi kiskomahan!\"<br><br>Tuopa lieto Lemminkäinen</span><sup>[1]</sup><span style=\"background-color:#d8daef;\">, sanoi kaunis Kaukomieli: <br>\"Siksi </span><sup>[1]</sup>neitosen kosanin, maahan seppo kaulan <br>suurin\"<br><br>Uhki uusi"
            ],
            "text/plain": [
              "<IPython.core.display.HTML object>"
            ]
          },
          "metadata": {
            "tags": []
          }
        },
        {
          "output_type": "display_data",
          "data": {
            "text/html": [
              "<small><p style=\"text-align:right;\">Sources: <span style=\"background-color:#d8daef;\">kalevala</span><sup>[1]</sup></p></small>"
            ],
            "text/plain": [
              "<IPython.core.display.HTML object>"
            ]
          },
          "metadata": {
            "tags": []
          }
        },
        {
          "output_type": "stream",
          "text": [
            "----------------- temperature = 0.6 ----------------------\n"
          ],
          "name": "stdout"
        },
        {
          "output_type": "display_data",
          "data": {
            "text/html": [
              "ypynsinevävä omiltasijat, <br>miehet kintestä käsissä, maksoita hyvin takana! <br>Tulet tuulevat tupahan, lauloi laski latsoaiset <br>vai uros nehot selväen olla, oravat salan alisti.<br><br>Häkä oli sinne saaren saapi, nuoren muinen koskeanti.<br><br>Peiäs ponkku pakkasensi, someripi soria sovitti, <br>kiistyi risti rinnallasi, sormet suorisen sovinen, <br>suoniseikse sorkkontava, aiasteni alko syäntä.<br><br>\"Niin otso vale'en Varren, Ahilla sopeat leuvo, <br>kynnet vierettykkihot, hirviäksi hiihtapoia, <br>se poikkoihinsa polvista"
            ],
            "text/plain": [
              "<IPython.core.display.HTML object>"
            ]
          },
          "metadata": {
            "tags": []
          }
        },
        {
          "output_type": "stream",
          "text": [
            "----------------- temperature = 1.0 ----------------------\n"
          ],
          "name": "stdout"
        },
        {
          "output_type": "display_data",
          "data": {
            "text/html": [
              "yppssveä rakosi jauhamisi. <br>Lenne sauassa isossa, vanhempansa valvisti saunoussa <br>viluassa minsä seppo Ilmarisi joet puusen paistavaksi? <br>Mene jo nyt matkoan sananen, sannan <br>unnosen kukkijen jalas, <br>kansoin raikan kalliohon, viiet, kuuet, <br>vaskavat haloihin lainet, yön kohta keräs? <br>Käppä on keinon kynnnihistä, emosen jakoja joilla: <br>eikä syömähän tupoa, pimeähän peseyttä, <br>vetiksetteki vetävi, vehetäsi mennyt lähetti, <br>siivoni väen Manalan, alle valkean väkeä, <br>yhen uunna ostamassa, työssä tul"
            ],
            "text/plain": [
              "<IPython.core.display.HTML object>"
            ]
          },
          "metadata": {
            "tags": []
          }
        },
        {
          "output_type": "stream",
          "text": [
            "---------------------------------------\n",
            "Epoch: 190.21, iter: 17200, cross-entropy: 0.243, accuracy: 0.93083\n",
            "   y: ia,  | sukapäitä, piipioja, saapasjalkoja jaloja.  | Lauloi toisen laitapuolen tinapäitä tyttäriä,  | tinapäitä, vaskivöitä, kultasorm\n",
            "  yp: i    | sukupuitä, piipuoja, saapasjalkoja jaloja.  | Lauloi toisen laitapuolen tinapäitä tyttäriä,  | tinapäitä, vaskivöitä, kultasorm\n",
            "----------------- temperature = 0.2 ----------------------\n"
          ],
          "name": "stdout"
        },
        {
          "output_type": "display_data",
          "data": {
            "text/html": [
              "apassisi Leminoise<span style=\"background-color:#d8daef;\">n.<br><br>\"Oi Ukko, ylijumala! Kun kuulet toen tulevan, <br>muuta muiksi lehmäseni, kamahuta ka</span><sup>[1]</sup>tsomahan, <br>kun paina pahan suvana tyhyisit pimeähä<span style=\"background-color:#d8daef;\">n: <br>vesikappanen käessä, lehtiluuta kainalossa, <br></span><sup>[1]</sup>vaski taivonsa tasasi, hivisuutta hierouvat <br>telalla terän varahin, appahan ani paha'an.<br><br>\"Kuule<span style=\"background-color:#d8daef;\">, neiti, kuin sanele</span><sup>[1]</sup> kaunassamot aamuhutti, miehen miekanahtaelet <br>eikä valkeanverinen, rasta rauti, veen virkkoi, vaika vaipui kalkisivi <br>miehen pyyttivän petäjän. Vaan minä sinne pilkut lapset: <br>jo k"
            ],
            "text/plain": [
              "<IPython.core.display.HTML object>"
            ]
          },
          "metadata": {
            "tags": []
          }
        },
        {
          "output_type": "display_data",
          "data": {
            "text/html": [
              "<small><p style=\"text-align:right;\">Sources: <span style=\"background-color:#d8daef;\">kalevala</span><sup>[1]</sup></p></small>"
            ],
            "text/plain": [
              "<IPython.core.display.HTML object>"
            ]
          },
          "metadata": {
            "tags": []
          }
        },
        {
          "output_type": "stream",
          "text": [
            "----------------- temperature = 0.6 ----------------------\n"
          ],
          "name": "stdout"
        },
        {
          "output_type": "display_data",
          "data": {
            "text/html": [
              "iiahkimältelevi <br>tuuli<span style=\"background-color:#d8daef;\"> Tuonelan joessa, Manalan </span><sup>[1]</sup>majan kenolle, <br>lenget viemuhen vetähän? Kukku kolme lainassamm<span style=\"background-color:#d8daef;\">e.\"<br><br>Silloin vanha Väinämöinen heitti herja</span><sup>[1]</sup>van hevosen.<br><br>Tuli puihun puinen pursi, hella helkeä helisi<span style=\"background-color:#d8daef;\">t?\"<br><br>Vaka vanha Väinämöinen </span><sup>[1]</sup><span style=\"background-color:#d8daef;\">sanan virkkoi, noin nimesi: <br>\"Voi minä poloinen poika, kun kuoli emo minulta, <br>uupui uutimen tekijä, vaipui vai</span><sup>[1]</sup>van emprellen! <br>Käy nyt tiestä kynsin sillat eikä päälle paimenessä<span style=\"background-color:#d8daef;\">.<br><br>Tuop' on Pohjolan emäntä </span><sup>[1]</sup><span style=\"background-color:#d8daef;\">sanan virkkoi, noin nimesi: <br>\"Onp</span><sup>[1]</sup>' on Ahti, Lemmin po"
            ],
            "text/plain": [
              "<IPython.core.display.HTML object>"
            ]
          },
          "metadata": {
            "tags": []
          }
        },
        {
          "output_type": "display_data",
          "data": {
            "text/html": [
              "<small><p style=\"text-align:right;\">Sources: <span style=\"background-color:#d8daef;\">kalevala</span><sup>[1]</sup></p></small>"
            ],
            "text/plain": [
              "<IPython.core.display.HTML object>"
            ]
          },
          "metadata": {
            "tags": []
          }
        },
        {
          "output_type": "stream",
          "text": [
            "----------------- temperature = 1.0 ----------------------\n"
          ],
          "name": "stdout"
        },
        {
          "output_type": "display_data",
          "data": {
            "text/html": [
              "aramahvava rukat.\"<br><br>Lyllipäin parampa, tasut täyestä tarkemasta!<br><br>\"Näin miekan tulettavana, pääskä saaren sieltävähän.<br><br>\"Hiepo hienonet joeleni, kovikana, orpelaain?<br><br>Jo kumarsi menevä eisi, oja oprin uuhe'illa <br>yhen villan eukkehesta, toki konnan osaa<span style=\"background-color:#d8daef;\">vi. <br>Sanan virkkoi, noin nimesi: \"</span><sup>[1]</sup><span style=\"background-color:#d8daef;\">Voi minua, kurja raukka! <br>Parempi minun olisi, paremp</span><sup>[1]</sup>a pahaisin <br>nuota: <br>uuet kuuuven urohot, vaivoiput valatoineset veiat vempelet.\"<br><br>Lokka, luspu, en jästä Kalevan sonia paiat.<br><br>\"Luulut sulkoat sopinet, karhu tau"
            ],
            "text/plain": [
              "<IPython.core.display.HTML object>"
            ]
          },
          "metadata": {
            "tags": []
          }
        },
        {
          "output_type": "display_data",
          "data": {
            "text/html": [
              "<small><p style=\"text-align:right;\">Sources: <span style=\"background-color:#d8daef;\">kalevala</span><sup>[1]</sup></p></small>"
            ],
            "text/plain": [
              "<IPython.core.display.HTML object>"
            ]
          },
          "metadata": {
            "tags": []
          }
        },
        {
          "output_type": "stream",
          "text": [
            "---------------------------------------\n",
            "Epoch: 192.42, iter: 17400, cross-entropy: 0.249, accuracy: 0.92855\n",
            "   y: s röyhetyinen.  | Ei ollut vielä hampahia eikä kynsiä kyhätty. |  | \"Mielikki, metsän emäntä, itse tuon sanoiksi virkki:  | 'Kyheäisin k\n",
            "  yp:  eveyhyntinen, |  | Ei sllut sielä hampahia eikä kynsiä kyhätty. |  | \"Mielikki, metsän emäntä, itse tuon sanoiksi virkki:  | \"Kyheäisin k\n",
            "----------------- temperature = 0.2 ----------------------\n"
          ],
          "name": "stdout"
        },
        {
          "output_type": "display_data",
          "data": {
            "text/html": [
              "apassävi särkisiltä<span style=\"background-color:#d8daef;\">.<br><br>Niit' ennen isoni lauloi kirvesvartta vuollessansa; <br>niitä äitini opetti väätessänsä värttinätä, <br>minun lasna lattialla eessä polven pyöriessä, </span><sup>[1]</sup>lausui laati laulallensa<span style=\"background-color:#d8daef;\">, <br>noita kuohuja kovia, lakk</span><sup>[1]</sup>ypäitä käikeheli<span style=\"background-color:#d8daef;\">, <br>päivä päätyi linn</span><sup>[1]</sup>ustansa, potki porti poikoansa, vaimojen vakattania; <br>ihanapi hopeani, vielä ilmoisnä ikänä <br>uutta polveasia, valkeansa vaaputtivi. <br>Lapsi on tytete kärperihe ehä itkelöhänä ihjooinka, <br>kasvoi kuun kerällä ilman ankarampi<span style=\"background-color:#d8daef;\">.<br><br>Läksi siitä astumahan </span><sup>[1]</sup>"
            ],
            "text/plain": [
              "<IPython.core.display.HTML object>"
            ]
          },
          "metadata": {
            "tags": []
          }
        },
        {
          "output_type": "display_data",
          "data": {
            "text/html": [
              "<small><p style=\"text-align:right;\">Sources: <span style=\"background-color:#d8daef;\">kalevala</span><sup>[1]</sup></p></small>"
            ],
            "text/plain": [
              "<IPython.core.display.HTML object>"
            ]
          },
          "metadata": {
            "tags": []
          }
        },
        {
          "output_type": "stream",
          "text": [
            "----------------- temperature = 0.6 ----------------------\n"
          ],
          "name": "stdout"
        },
        {
          "output_type": "display_data",
          "data": {
            "text/html": [
              "apassävy säremi<span style=\"background-color:#d8daef;\">ä.<br><br>Sanoi lieto Lemminkäinen: \"</span><sup>[1]</sup><span style=\"background-color:#d8daef;\">Oi emoni, kantajani! <br>Ken mun sarkoin vaarteleisi! Itse vaartaisin isännät, <br>vaartaisin sa</span><sup>[1]</sup>alta miestä, tervanintaja vasenevi: <br>neittä<span style=\"background-color:#d8daef;\"> tuonne tullaksensa ja kuten osa</span><sup>[1]</sup>'ikohen, <br>kivehen kiverteleihet, seitsentä sitehen <br>ennän kunnan kuulematta, kartanomman muuhuteltu <br>Tuuin juolista vanopiista, kahenista kastojata.<br><br>Saipa toisen haapaisihin hetittelihe <br>kokkona koholtaville, lävitullen löytäville.\"<br><br>Sai seitsenä Väien<span style=\"background-color:#d8daef;\">mähän. Itse tuon sanoiksi virkki: <br>\"</span><sup>[1]</sup>"
            ],
            "text/plain": [
              "<IPython.core.display.HTML object>"
            ]
          },
          "metadata": {
            "tags": []
          }
        },
        {
          "output_type": "display_data",
          "data": {
            "text/html": [
              "<small><p style=\"text-align:right;\">Sources: <span style=\"background-color:#d8daef;\">kalevala</span><sup>[1]</sup></p></small>"
            ],
            "text/plain": [
              "<IPython.core.display.HTML object>"
            ]
          },
          "metadata": {
            "tags": []
          }
        },
        {
          "output_type": "stream",
          "text": [
            "----------------- temperature = 1.0 ----------------------\n"
          ],
          "name": "stdout"
        },
        {
          "output_type": "display_data",
          "data": {
            "text/html": [
              "apasassatellele, <br>tällä immeen illeksen, muiksi maiksi vallallista, <br>millä heppä syötet pullut, kuin oli kesän kankelijat; <br>näki tuosta tunnekseni, vaipukkana vainut <br>luoja luulen, toisenet, Sakin vanhan, käs o<span style=\"background-color:#d8daef;\">n kaunis kantajani, </span><sup>[1]</sup><br>mustassanTammo, turpa, sure päästä, tuosta viera tielteleisi, <br>asea ajattelevi Ahjo, ajetteli <br>Lemminkäinen, laulelevi: \"Rempösi linemiänsä: <br>meren suuresta sukisen, latvainen lasullakseli, <br>tuuittelin sulmasan, nieätäisen tieksomahan: <br>vats' on kiitet kannettihin, kau"
            ],
            "text/plain": [
              "<IPython.core.display.HTML object>"
            ]
          },
          "metadata": {
            "tags": []
          }
        },
        {
          "output_type": "display_data",
          "data": {
            "text/html": [
              "<small><p style=\"text-align:right;\">Sources: <span style=\"background-color:#d8daef;\">kalevala</span><sup>[1]</sup></p></small>"
            ],
            "text/plain": [
              "<IPython.core.display.HTML object>"
            ]
          },
          "metadata": {
            "tags": []
          }
        },
        {
          "output_type": "stream",
          "text": [
            "---------------------------------------\n",
            "Epoch: 194.63, iter: 17600, cross-entropy: 0.258, accuracy: 0.92464\n",
            "   y: rteheksi! |  | \"Siitä syötä karjoani, raavahiani ravitse,  | syöttele metisin syömin, juottele metisin juomin!  | Syötä kullaista kuloa,\n",
            "  yp: niahensi,  | \"Kiitä seötä karjoani, raavahiani ravitse,  | syöttele metisin syömin, juottele metisin juomin!  | Syötä kullaista kuloa,\n",
            "----------------- temperature = 0.2 ----------------------\n"
          ],
          "name": "stdout"
        },
        {
          "output_type": "display_data",
          "data": {
            "text/html": [
              "yyynyt vesiäji juosta, puunasista purhehien, <br>vasten Puolen vainovalla, petäjät yhehkävessä.\"<br><br>Sai päivän ajanensa, puhui pursuna purinen, <br>puras puisille hevoilla, kulullehen kutsusivilla.\"<br><br>Vieri vielä keittämättä, viapiat ve'en urohon. <br><br><br><br><br>Koh<span style=\"background-color:#d8daef;\">destoista runo<br><br>Vaka vanha Väinämöinen, </span><sup>[1]</sup><span style=\"background-color:#d8daef;\">laulaja iän-ikuinen, <br>matk</span><sup>[1]</sup><span style=\"background-color:#d8daef;\">asi omille maille ylitse meren sinisen. <br>Kulki päivän, kulki toisen; päivälläpä kolmannella <br>jo tuli kotihin seppo, noille syntymäsijoille.<br><br>Kysyi vanha Väinämöinen</span><sup>[1]</sup><span style=\"background-color:#d8daef;\">: \"Kuit' olet sinä suku</span><sup>[1]</sup>"
            ],
            "text/plain": [
              "<IPython.core.display.HTML object>"
            ]
          },
          "metadata": {
            "tags": []
          }
        },
        {
          "output_type": "display_data",
          "data": {
            "text/html": [
              "<small><p style=\"text-align:right;\">Sources: <span style=\"background-color:#d8daef;\">kalevala</span><sup>[1]</sup></p></small>"
            ],
            "text/plain": [
              "<IPython.core.display.HTML object>"
            ]
          },
          "metadata": {
            "tags": []
          }
        },
        {
          "output_type": "stream",
          "text": [
            "----------------- temperature = 0.6 ----------------------\n"
          ],
          "name": "stdout"
        },
        {
          "output_type": "display_data",
          "data": {
            "text/html": [
              "yyyy on ison merinä mutta, <br>heti huolin heipehestä, selän asti arvaelens<span style=\"background-color:#d8daef;\">a, <br>miten olla, kuin eleä. Istun </span><sup>[1]</sup>ikihanojasi <br>sepän katkoi kaikenlainen sait nauoin rautaistansa, sanele saneltajaksi!<span style=\"background-color:#d8daef;\"><br><br>\"En mä tuostana totell</span><sup>[1]</sup>e, kovin lintu kiittäväksi <br>puuta purren puhtavaksi, puhea puhtahan paneikse, <br>kuin on maahan kuulukitan, kalahana katsattahan, <br>mitä aitan antomaille, tulikinsa tulen vesien.\"<br><br>Tuuli purjepoikemminen, tuon on partansta kulella, <br>laulelin jokaisella metojen selinen<span style=\"background-color:#d8daef;\">.\"<br><br>Jo on piika pinte</span><sup>[1]</sup>"
            ],
            "text/plain": [
              "<IPython.core.display.HTML object>"
            ]
          },
          "metadata": {
            "tags": []
          }
        },
        {
          "output_type": "display_data",
          "data": {
            "text/html": [
              "<small><p style=\"text-align:right;\">Sources: <span style=\"background-color:#d8daef;\">kalevala</span><sup>[1]</sup></p></small>"
            ],
            "text/plain": [
              "<IPython.core.display.HTML object>"
            ]
          },
          "metadata": {
            "tags": []
          }
        },
        {
          "output_type": "stream",
          "text": [
            "----------------- temperature = 1.0 ----------------------\n"
          ],
          "name": "stdout"
        },
        {
          "output_type": "display_data",
          "data": {
            "text/html": [
              "yyyy syvänti. Itse virkit, noit nykyi, teki toinen ja lapaisen <br>karjanassa kaljalaista?Seni juokset torivia.<br><br>Sai viikoksa valevaistä, rauoilta rahilliselta, <br>laulehieinen laallehella iskeskarrella selällä, <br>haassanta halevotta, auta nuoren mertäläiset!<br><br>\"Kani saimo kannnetell: sinulikko, miesnen laksoi ja kevätti. <br>Tuli niemi tuli tuppa, ihanaisen tyttäresi! <br>Niinpä muutta maion-alainen, kerran kehnot kylvehesen! <br>Site'in metinen mielukaisi, teennä kuuna astoakse?\" <br>Kohin koitella supoa, laulas"
            ],
            "text/plain": [
              "<IPython.core.display.HTML object>"
            ]
          },
          "metadata": {
            "tags": []
          }
        },
        {
          "output_type": "stream",
          "text": [
            "---------------------------------------\n",
            "Epoch: 196.84, iter: 17800, cross-entropy: 0.258, accuracy: 0.92725\n",
            "   y:  Väinölän ahoilla, Kalevalan kankahilla.  | Mi jo lienenki katala, tuskin tunnen itsekänä.\" |  | Louhi, Pohjolan emäntä, sanan virkkoi\n",
            "  yp: nkäinälän vhoilla, Kalevalan kankahilla.  | Mi jo lienenki katala, tuskin tunnen itsekänä.\" |  | Louhi, Pohjolan emäntä, Panan virkkoi\n",
            "----------------- temperature = 0.2 ----------------------\n"
          ],
          "name": "stdout"
        },
        {
          "output_type": "display_data",
          "data": {
            "text/html": [
              "yyyttänÄrra toisen, ahommat oli elotun??<br><br>\"Ollet laulassa lomisti, ota tietä tietässässä.<br><br>Sanelpa, karinen Luoja, niin taivahan vanha <br>saunahon sa'attomaha<span style=\"background-color:#d8daef;\">n, kirjokansi kääntyk</span><sup>[1]</sup>s<span style=\"background-color:#d8daef;\">elle. <br>Sanovi sanalla tuolla, lausui tuolla lausehella: <br>\"L</span><sup>[1]</sup><span style=\"background-color:#d8daef;\">ähe nyt, onni, ohjilleni, Jumala rekoseheni! <br>On</span><sup>[1]</sup> tuostani kovista, mies puhasti pursi tungeit, venahat varuttomilta, <br>siroi sistoa sijalta, kelänkarjan lainehesta.\"<br><br>Aroille sepon paj<span style=\"background-color:#d8daef;\">oa. Sanoi Pohjolan emäntä: <br>\"Oi sie </span><sup>[1]</sup><span style=\"background-color:#d8daef;\">lieto, Lemmin poika, Kauko rukka, mies katal</span><sup>[1]</sup>"
            ],
            "text/plain": [
              "<IPython.core.display.HTML object>"
            ]
          },
          "metadata": {
            "tags": []
          }
        },
        {
          "output_type": "display_data",
          "data": {
            "text/html": [
              "<small><p style=\"text-align:right;\">Sources: <span style=\"background-color:#d8daef;\">kalevala</span><sup>[1]</sup></p></small>"
            ],
            "text/plain": [
              "<IPython.core.display.HTML object>"
            ]
          },
          "metadata": {
            "tags": []
          }
        },
        {
          "output_type": "stream",
          "text": [
            "----------------- temperature = 0.6 ----------------------\n"
          ],
          "name": "stdout"
        },
        {
          "output_type": "display_data",
          "data": {
            "text/html": [
              "yypynyt Pohjolae sieä, <br>kun sa sirjat selällä, panan pintä päitämäss; <br>noki näyttä nippempätä, pään peripertoltav<span style=\"background-color:#d8daef;\">i.<br><br>Sanoi vanha Väinämöinen</span><sup>[1]</sup>: \"Seksy-päs liemmät oletti, <br><span style=\"background-color:#d8daef;\">katselevi voitehia, </span><sup>[1]</sup>katso naisen kaataloks<span style=\"background-color:#d8daef;\">a.<br><br>Siitä vanha Väinämöinen </span><sup>[1]</sup><span style=\"background-color:#d8daef;\">sormin suistuvi sulahan, <br>käsin kää</span><sup>[1]</sup>ri källlloille, luhen kurjan kuikumille, <br>enemmä etsimissä, Kullat ot kuolla laskehilta! Mene tuosta neottan kotihin?<br><br>\"Katse<span style=\"background-color:#d8daef;\"> karhun kankahalta, k</span><sup>[1]</sup><span style=\"background-color:#d8daef;\">aunihista kartanosta</span><sup>[1]</sup>?\"<br><br>Saipa päivä valahin varsi viisan kaunihille. <br>Koksi päi"
            ],
            "text/plain": [
              "<IPython.core.display.HTML object>"
            ]
          },
          "metadata": {
            "tags": []
          }
        },
        {
          "output_type": "display_data",
          "data": {
            "text/html": [
              "<small><p style=\"text-align:right;\">Sources: <span style=\"background-color:#d8daef;\">kalevala</span><sup>[1]</sup></p></small>"
            ],
            "text/plain": [
              "<IPython.core.display.HTML object>"
            ]
          },
          "metadata": {
            "tags": []
          }
        },
        {
          "output_type": "stream",
          "text": [
            "----------------- temperature = 1.0 ----------------------\n"
          ],
          "name": "stdout"
        },
        {
          "output_type": "display_data",
          "data": {
            "text/html": [
              "yypynnönÄro on tarvoisi! <br>Aivan on sulmatto sutvahani, vartajose'immilla mielellentä: <br>sai inä tuuret tuult; annan kaivella valitti <br>kanteloita kantomilla, puhumalla mellankana! <br>Jalalalle ouosesilla, leve'illä lehmosilla. <br>Kasvoi soitti Sammon Maista, kumman ostani opast<span style=\"background-color:#d8daef;\">i. <br>Istutin oron rekehen, kor</span><sup>[1]</sup>vin kolken lasnahaksi, <br>korppien kivesi kohenn, korkealle korkeampi! <br>Souti luoksensa lojuvi, joka vaattea vasene. <br>Jo vävi virtenäsänsä, lastet kaivon kantelojaksi, <br>hiihti hampahat häjikse? Tuonen "
            ],
            "text/plain": [
              "<IPython.core.display.HTML object>"
            ]
          },
          "metadata": {
            "tags": []
          }
        },
        {
          "output_type": "display_data",
          "data": {
            "text/html": [
              "<small><p style=\"text-align:right;\">Sources: <span style=\"background-color:#d8daef;\">kalevala</span><sup>[1]</sup></p></small>"
            ],
            "text/plain": [
              "<IPython.core.display.HTML object>"
            ]
          },
          "metadata": {
            "tags": []
          }
        },
        {
          "output_type": "stream",
          "text": [
            "---------------------------------------\n",
            "Epoch: 199.05, iter: 18000, cross-entropy: 0.241, accuracy: 0.93001\n",
            "   y: täjä iän-ikuinen!  | Mitä lausut matkoiltasi tultua kotituville?\" |  | Virkki vanha Väinämöinen: \"Äijä on mulla lausumista:  | onp' on n\n",
            "  yp: n vänsän-ikuinen,  | Mitä lausut matkoiltasi tultua kotituville?\" |  | Virkki vanha Väinämöinen: \"Äijä on mulla lausumista:  | onp' on n\n",
            "----------------- temperature = 0.2 ----------------------\n"
          ],
          "name": "stdout"
        },
        {
          "output_type": "display_data",
          "data": {
            "text/html": [
              "ivääppävän jaoutti, sa'at ei kassan viittoa<span style=\"background-color:#d8daef;\">si.<br><br>Siinä vanha Väinämöinen itse tuon sanoiksi virkki: <br>\"</span><sup>[1]</sup><span style=\"background-color:#d8daef;\">Kun <br>ei kuu kivestä pääsne, pääsne päivä kalliosta, <br>käykämme käsirysyhyn, ruvetkamme miekkasille!\"<br><br></span><sup>[1]</sup><span style=\"background-color:#d8daef;\">Se on seppo Ilmarinen sanan virkkoi, noin nimesi: <br>\"Mitä, lintu, tänne lennit, tulit, kyyhky, kynnykselle?\"<br><br>Vastasi otus ovelta, virkkoi kyyhky kynnykseltä: <br>\"</span><sup>[1]</sup>Metsän tieän teiemmäksi, aha annoksin sojille.<br><br>Tuota itki tueiten ruunan, sanoi lapsan kylkihini, <br>päivän pistihän perohon, sotkahti suva"
            ],
            "text/plain": [
              "<IPython.core.display.HTML object>"
            ]
          },
          "metadata": {
            "tags": []
          }
        },
        {
          "output_type": "display_data",
          "data": {
            "text/html": [
              "<small><p style=\"text-align:right;\">Sources: <span style=\"background-color:#d8daef;\">kalevala</span><sup>[1]</sup></p></small>"
            ],
            "text/plain": [
              "<IPython.core.display.HTML object>"
            ]
          },
          "metadata": {
            "tags": []
          }
        },
        {
          "output_type": "stream",
          "text": [
            "----------------- temperature = 0.6 ----------------------\n"
          ],
          "name": "stdout"
        },
        {
          "output_type": "display_data",
          "data": {
            "text/html": [
              "ivääppä. <br>Jos on saimen saaren maito, omen lapset <br>ajetse, ajattelen visiä, hurmehen huon-pörähän.<br><br>Itse istuviksikohon, elenteksessa urvien <br>tuuri suupuhan tuvihan, kirjokannen kasvamahan: <br>siit' oli siinen selväliä, toki toinen karjaesta<span style=\"background-color:#d8daef;\">?\"<br><br>Kullervo, Kalervon poika, sanan virkkoi, noin nimesi: <br>\"</span><sup>[1]</sup><span style=\"background-color:#d8daef;\">En mä silloin suohon sorru enkä kaau kankahalle, <br>kor</span><sup>[1]</sup><span style=\"background-color:#d8daef;\">valla tulisen kosken, pyhän virran pyörtehessä. <br>S</span><sup>[1]</sup>ie siitä tulisen vieran, kivinpuukko kiiltellutki: <br>julkihin sijoa sienen, pantu ehtolla peholla, "
            ],
            "text/plain": [
              "<IPython.core.display.HTML object>"
            ]
          },
          "metadata": {
            "tags": []
          }
        },
        {
          "output_type": "display_data",
          "data": {
            "text/html": [
              "<small><p style=\"text-align:right;\">Sources: <span style=\"background-color:#d8daef;\">kalevala</span><sup>[1]</sup></p></small>"
            ],
            "text/plain": [
              "<IPython.core.display.HTML object>"
            ]
          },
          "metadata": {
            "tags": []
          }
        },
        {
          "output_type": "stream",
          "text": [
            "----------------- temperature = 1.0 ----------------------\n"
          ],
          "name": "stdout"
        },
        {
          "output_type": "display_data",
          "data": {
            "text/html": [
              "ivepppäättömä<span style=\"background-color:#d8daef;\">ssä. <br>Sanan virkkoi, noin nimesi</span><sup>[1]</sup>: \"Joks tau'in saavakseni<span style=\"background-color:#d8daef;\"> <br>Pohjolan kujan perille, Pohjan karja</span><sup>[1]</sup>, lehväksi lappahisen, <br>kapla kirjokan etehen, paistete pahalla, kaarta karjojampinen <br>nämä tuomi, toisin vettä, katsoja katsot etäiset <br>aita hauki hampahissa, suorin tuimasta tupohun; <br>ei ole varainen jumulla, kun ei virret vitelämät: <br>kuleivyt kynnet perhät, mahot varpa valkamonen, <br>käkösen kukenet hulkki, tahtoi tamman vierahalle, <br>kiinehen kiven ko'e<span style=\"background-color:#d8daef;\">ksi, aaltojen ajeltavaksi <br>näillä vä</span><sup>[1]</sup>"
            ],
            "text/plain": [
              "<IPython.core.display.HTML object>"
            ]
          },
          "metadata": {
            "tags": []
          }
        },
        {
          "output_type": "display_data",
          "data": {
            "text/html": [
              "<small><p style=\"text-align:right;\">Sources: <span style=\"background-color:#d8daef;\">kalevala</span><sup>[1]</sup></p></small>"
            ],
            "text/plain": [
              "<IPython.core.display.HTML object>"
            ]
          },
          "metadata": {
            "tags": []
          }
        },
        {
          "output_type": "stream",
          "text": [
            "---------------------------------------\n",
            "Epoch: 201.26, iter: 18200, cross-entropy: 0.234, accuracy: 0.93457\n",
            "   y: a:  | \"Onko mettä oksillasi, alla kuoresi simoa?\" |  | Tammi taiten vastoavi: \"Päivänäpä eilisenä  | sima tippui oksilleni, mesi latvall\n",
            "  yp: i   | \"Oiko settä onsillasi, alla kuoresi simoa?\" |  | Tammi taiten vastoavi: \"Päivänäpä eilisenä  | sima tippui oksilleni, mesi latvall\n",
            "----------------- temperature = 0.2 ----------------------\n"
          ],
          "name": "stdout"
        },
        {
          "output_type": "display_data",
          "data": {
            "text/html": [
              "okihmilla oritto <br>tan<span style=\"background-color:#d8daef;\">ka lieto Lemminkäistä</span><sup>[1]</sup> ja kohti Kopo tulevi <br>minne viitin viirtelevä, haittoi hammasta hajosi, <br>j<span style=\"background-color:#d8daef;\">oi Ukko, ylijumala, </span><sup>[1]</sup><span style=\"background-color:#d8daef;\">taatto vanha taivahinen, <br>nosti longan luotehelta, toise</span><sup>[1]</sup>t<span style=\"background-color:#d8daef;\"> lännestä lähetti, <br>i</span><sup>[1]</sup>sän itkulla isännät, itsen tarit tapparahan<span style=\"background-color:#d8daef;\">! <br>Ei sinua suolle vie</span><sup>[1]</sup><span style=\"background-color:#d8daef;\">ä, ojavarrellen oteta: <br>vievät viljamättähältä, vievät vielä viljemmälle; <br>ottavat oluttuvilta, ottavat oluemmille.<br><br>\"Kun katsot kupehellesi, oikealle puolellesi, <br>onpa sulho suojassasi, mies verevä vieressäsi! <br>Hyvä mie</span><sup>[1]</sup>"
            ],
            "text/plain": [
              "<IPython.core.display.HTML object>"
            ]
          },
          "metadata": {
            "tags": []
          }
        },
        {
          "output_type": "display_data",
          "data": {
            "text/html": [
              "<small><p style=\"text-align:right;\">Sources: <span style=\"background-color:#d8daef;\">kalevala</span><sup>[1]</sup></p></small>"
            ],
            "text/plain": [
              "<IPython.core.display.HTML object>"
            ]
          },
          "metadata": {
            "tags": []
          }
        },
        {
          "output_type": "stream",
          "text": [
            "----------------- temperature = 0.6 ----------------------\n"
          ],
          "name": "stdout"
        },
        {
          "output_type": "display_data",
          "data": {
            "text/html": [
              "onntot lapsi-aosin, <br>takoja ison pihoi, valehien valpasin asti<span style=\"background-color:#d8daef;\">.<br><br>Ukko tuon sanoiksi virkki</span><sup>[1]</sup><span style=\"background-color:#d8daef;\">: \"En minä sinua itke, <br>jospa kuulen kuolleheksi: poika toinen tehtänehe, <br>poika </span><sup>[1]</sup>eelleen patana paltane kohle, vaimon vaike'ellehansa<span style=\"background-color:#d8daef;\">, <br>kun sa miesnä nuorem</span><sup>[1]</sup>insa, kuni päintävä simoa.<br><br>\"Niin pihalle: ponut pursit<span style=\"background-color:#d8daef;\">, liiteleikse, laateleikse; <br>liiti miesten </span><sup>[1]</sup>tinnekettö, uron saamalan s<span style=\"background-color:#d8daef;\">anoja.\" <br><br><br><br><br>Kolmask</span><sup>[1]</sup>olmatta runo<br><br>Neiti suurella sulalla, aaltojen ajelemilla.<br><br>Kousiko koko rukean: siin<span style=\"background-color:#d8daef;\">ä sai koko venonen.<br><br>Jo </span><sup>[1]</sup>"
            ],
            "text/plain": [
              "<IPython.core.display.HTML object>"
            ]
          },
          "metadata": {
            "tags": []
          }
        },
        {
          "output_type": "display_data",
          "data": {
            "text/html": [
              "<small><p style=\"text-align:right;\">Sources: <span style=\"background-color:#d8daef;\">kalevala</span><sup>[1]</sup></p></small>"
            ],
            "text/plain": [
              "<IPython.core.display.HTML object>"
            ]
          },
          "metadata": {
            "tags": []
          }
        },
        {
          "output_type": "stream",
          "text": [
            "----------------- temperature = 1.0 ----------------------\n"
          ],
          "name": "stdout"
        },
        {
          "output_type": "display_data",
          "data": {
            "text/html": [
              "oki mihviärelevi. <br>Lapsi piillä pihlajuinsa<span style=\"background-color:#d8daef;\">, ruskean re'en etehen, <br>siitä </span><sup>[1]</sup>toisensa orasta. <br>Niit' en kinne hantarolta, oisiko sitä matoa. <br>Piti viimeisnä opasti: laski päälle leyhytelle!<br><br>\"Tuli toi' eitä nuori, neiti vasten valkaminta?\" <br>Paanutihinpa maani joukkihenin, päästänyt sie tulevan, <br>Jumalan syäntehevän, juorenen pusuuttajana <br>selkälle pesit mäneksi, petunut patvan teukan, <br>vety säätähän jaloa, kolkeuin onkolla mielellenkä, <br>minkä vettä vieremähän, paikalla pakenemahan!\"<br><br>Silloin Pohjan"
            ],
            "text/plain": [
              "<IPython.core.display.HTML object>"
            ]
          },
          "metadata": {
            "tags": []
          }
        },
        {
          "output_type": "display_data",
          "data": {
            "text/html": [
              "<small><p style=\"text-align:right;\">Sources: <span style=\"background-color:#d8daef;\">kalevala</span><sup>[1]</sup></p></small>"
            ],
            "text/plain": [
              "<IPython.core.display.HTML object>"
            ]
          },
          "metadata": {
            "tags": []
          }
        },
        {
          "output_type": "stream",
          "text": [
            "---------------------------------------\n",
            "Epoch: 203.48, iter: 18400, cross-entropy: 0.262, accuracy: 0.92367\n",
            "   y: Pane kaksi kämmentäsi kahen puolen kaiteheksi,  | jottei vilja vieprahtaisi, tiepuolehen poikeltaisi!  | Josp' on vilja vieprahtavi,\n",
            "  yp:  | onennaksi kämmentäsi kahen puolen kaiteheksi,  | jottei vilja vieprahtaisi, tiepuolehen poikeltaisi!  | Josp' on vilja vieprahtavi,\n",
            "----------------- temperature = 0.2 ----------------------\n"
          ],
          "name": "stdout"
        },
        {
          "output_type": "display_data",
          "data": {
            "text/html": [
              "okiotivän kivea, <br>jok' ei tullut tul<span style=\"background-color:#d8daef;\">lemahan, iloa imehtimähän.<br><br>Or</span><sup>[1]</sup>o'on orja huolittav<span style=\"background-color:#d8daef;\">a, auringon ylenemistä.<br><br></span><sup>[1]</sup><span style=\"background-color:#d8daef;\">\"Kun ei tuosta kyllin liene, ei vielä sitä varone, <br>Ukko, kultainen ku</span><sup>[1]</sup>liolta, joka karnnut kalkeuista, <br>mäen myntyksi mäelle, purtta poikki pääntä kantelevi <br>vielä verkkoja visimmin rau<span style=\"background-color:#d8daef;\">ta, sanan virkkoi, noin nimesi: <br>\"</span><sup>[1]</sup><span style=\"background-color:#d8daef;\">Kuolkohon kujarikoille, kaatukohon kartanolle!\"<br><br>\"Mitä jääpi maa</span><sup>[1]</sup>smahini, pyytähästä. pääsyvästä äiti<span style=\"background-color:#d8daef;\">mähän. <br>Itse tuon sanoiksi virkki: \"Lähteä minun tulevi <br>niinkuin muine</span><sup>[1]</sup>"
            ],
            "text/plain": [
              "<IPython.core.display.HTML object>"
            ]
          },
          "metadata": {
            "tags": []
          }
        },
        {
          "output_type": "display_data",
          "data": {
            "text/html": [
              "<small><p style=\"text-align:right;\">Sources: <span style=\"background-color:#d8daef;\">kalevala</span><sup>[1]</sup></p></small>"
            ],
            "text/plain": [
              "<IPython.core.display.HTML object>"
            ]
          },
          "metadata": {
            "tags": []
          }
        },
        {
          "output_type": "stream",
          "text": [
            "----------------- temperature = 0.6 ----------------------\n"
          ],
          "name": "stdout"
        },
        {
          "output_type": "display_data",
          "data": {
            "text/html": [
              "outtimille talaisit, <br>nostat rauaista rahkuttuna, tämät hyppi hauheahat, <br>ne pilho hirrttä hieroitahan, hurmetta havastahaspi.<span style=\"background-color:#d8daef;\"><br><br>Itse miekkansa veä</span><sup>[1]</sup>etti: jäiseni mielan <br>tahi kyllin mään seläsin, vesa toinen valkeana <br>neitosena niemin päästä, kulki tillan korjapuunan, <br>pien piteä, yksin synen istuen mokehen, <br>kahevahan kaasikkahon<span style=\"background-color:#d8daef;\">, ajan kaiken kalkuttel</span><sup>[1]</sup>i<span style=\"background-color:#d8daef;\">n?\"<br><br>Se on lieto Lemminkäinen</span><sup>[1]</sup><span style=\"background-color:#d8daef;\">, itse kaunis Kaukomieli, <br></span><sup>[1]</sup>Ahti, kolman koitti Luojan kakana, kauan utunsa auoin<span style=\"background-color:#d8daef;\">.<br><br>Istuiksen ilokivelle, laulupaaelle</span><sup>[1]</sup>"
            ],
            "text/plain": [
              "<IPython.core.display.HTML object>"
            ]
          },
          "metadata": {
            "tags": []
          }
        },
        {
          "output_type": "display_data",
          "data": {
            "text/html": [
              "<small><p style=\"text-align:right;\">Sources: <span style=\"background-color:#d8daef;\">kalevala</span><sup>[1]</sup></p></small>"
            ],
            "text/plain": [
              "<IPython.core.display.HTML object>"
            ]
          },
          "metadata": {
            "tags": []
          }
        },
        {
          "output_type": "stream",
          "text": [
            "----------------- temperature = 1.0 ----------------------\n"
          ],
          "name": "stdout"
        },
        {
          "output_type": "display_data",
          "data": {
            "text/html": [
              "onttomi oltajähän.<br><br>Veisti siitä siltasulka, vanhan saapu maatah<span style=\"background-color:#d8daef;\">ia! <br>Ei sinua suolle vie</span><sup>[1]</sup><span style=\"background-color:#d8daef;\">ä, ojavarrellen oteta: <br>vie</span><sup>[1]</sup>lä tuonne tultapuna, pahani paran pakani: <br>kaareleit kattanunnan soltutellen. Ottitohan tuntelevi. <br>Lauloi sinun lautulalle, yli koryEntelevi; <br>syä systin yleni muien, päivänä kolennetteli <br>vilussa värittämännä, purtu uuen riemänin surma, <br>väette vähettämästä, opp'asta ottamata, <br>senä nytynä nenosemahan, tounen meren juotrasta sekä <br>ennätte ulipommaksi, herttaukka huiparinen, <br>anopi"
            ],
            "text/plain": [
              "<IPython.core.display.HTML object>"
            ]
          },
          "metadata": {
            "tags": []
          }
        },
        {
          "output_type": "display_data",
          "data": {
            "text/html": [
              "<small><p style=\"text-align:right;\">Sources: <span style=\"background-color:#d8daef;\">kalevala</span><sup>[1]</sup></p></small>"
            ],
            "text/plain": [
              "<IPython.core.display.HTML object>"
            ]
          },
          "metadata": {
            "tags": []
          }
        },
        {
          "output_type": "stream",
          "text": [
            "---------------------------------------\n",
            "Epoch: 205.69, iter: 18600, cross-entropy: 0.251, accuracy: 0.93034\n",
            "   y:  puutoksesta.  | Vaka vanha Väinämöinen luotti purren luotoselle,  | ravahutti rantehesen. Katselevi, kääntelevi  | tuota hauin pääpal\n",
            "  yp:  kirtu senta,  | Vaka vanha Väinämöinen luotti purren luotoselle,  | ravahutti rantehesen. Katselevi, kääntelevi  | tuota hauin pääpal\n",
            "----------------- temperature = 0.2 ----------------------\n"
          ],
          "name": "stdout"
        },
        {
          "output_type": "display_data",
          "data": {
            "text/html": [
              "onttivät ruoille nuotiot<span style=\"background-color:#d8daef;\"> <br>noilla väljillä vesillä, ulapoilla auke'illa!<br><br>\"Oisiko airot pikkaraiset, soutajat vähäväkiset, <br>pienoiset peränpitäjät, lapset laivan hallitsijat, <br>anna, Ahto, airojasi, venettäsi, veen isäntä, <br>airot uuet ja paremmat, mela toinen ja lujempi, <br>itse airoillen asetu, sovitaite soutamahan! <br>Anna juosta puisen purren, </span><sup>[1]</sup><span style=\"background-color:#d8daef;\">mennä mäntyisen venehen <br>saarelle sanattomalle, niemelle nimettömälle!\"<br><br>Tuuli tuuitti venoista, meren tyrsky työnnytteli <br>selviä selän vesiä, ulapoita auke'</span><sup>[1]</sup>"
            ],
            "text/plain": [
              "<IPython.core.display.HTML object>"
            ]
          },
          "metadata": {
            "tags": []
          }
        },
        {
          "output_type": "display_data",
          "data": {
            "text/html": [
              "<small><p style=\"text-align:right;\">Sources: <span style=\"background-color:#d8daef;\">kalevala</span><sup>[1]</sup></p></small>"
            ],
            "text/plain": [
              "<IPython.core.display.HTML object>"
            ]
          },
          "metadata": {
            "tags": []
          }
        },
        {
          "output_type": "stream",
          "text": [
            "----------------- temperature = 0.6 ----------------------\n"
          ],
          "name": "stdout"
        },
        {
          "output_type": "display_data",
          "data": {
            "text/html": [
              "opatikiräisivätti; <br>heitän kassan kaitsehesta, kourin hienoren tulista, <br>asettelin aamumiansa, aruaelissa ikuisensa.<br><br>\"Ollet toisi Turjelehen, kollan kanteta katalan, <br>tielle teiren tullevata <br>noista Pohjolan pioista, sykymyestä huitumitta <br>armas auras kärmän, päiväpä sihanjatessa, <br>muinaistaki mulissa, mätäminnä mutevista, <br>kotihissa tulleriksi, tapatuohan tappeloissa.<br><br>\"Pistä päivän paimenisen, talatunnosta naisetkommi! <br>Kuuta enkät totelle tuosta, kunne kolme taastanehe <br>tulen tuiman tuikuvus"
            ],
            "text/plain": [
              "<IPython.core.display.HTML object>"
            ]
          },
          "metadata": {
            "tags": []
          }
        },
        {
          "output_type": "stream",
          "text": [
            "----------------- temperature = 1.0 ----------------------\n"
          ],
          "name": "stdout"
        },
        {
          "output_type": "display_data",
          "data": {
            "text/html": [
              "ypyinnikoville, <br>ylinne koto myölly joko! '<span style=\"background-color:#d8daef;\">Mistä nyt voie saatanehe</span><sup>[1]</sup><span style=\"background-color:#d8daef;\">?\"<br><br>Kullervo, Kalervon poika, sanan virkkoi, noin nimesi: <br>\"</span><sup>[1]</sup><span style=\"background-color:#d8daef;\">Enkä itke mie sinua, kuulisinko kuolleheksi. <br>Saan minä mokoman s</span><sup>[1]</sup>parot, matoa makoa osannnut, <br>perin liian piukkillensa,<span style=\"background-color:#d8daef;\"> selällä meren sinisen</span><sup>[1]</sup>. <br>Terp' on siekkolle metelle, uhalle utasta pieni, <br>päässä paiskoihin pahoihin, poikki poi'ille pihille, <br>yheksän orosen olatsa, varren vaskisen si'asta<span style=\"background-color:#d8daef;\">t?\"<br><br>Sanoi vanha Väinämöinen: \"</span><sup>[1]</sup><span style=\"background-color:#d8daef;\">Vakavampi maisin matka, <br>vaka</span><sup>[1]</sup>isin varoit toivat"
            ],
            "text/plain": [
              "<IPython.core.display.HTML object>"
            ]
          },
          "metadata": {
            "tags": []
          }
        },
        {
          "output_type": "display_data",
          "data": {
            "text/html": [
              "<small><p style=\"text-align:right;\">Sources: <span style=\"background-color:#d8daef;\">kalevala</span><sup>[1]</sup></p></small>"
            ],
            "text/plain": [
              "<IPython.core.display.HTML object>"
            ]
          },
          "metadata": {
            "tags": []
          }
        },
        {
          "output_type": "stream",
          "text": [
            "---------------------------------------\n",
            "Epoch: 207.90, iter: 18800, cross-entropy: 0.256, accuracy: 0.92643\n",
            "   y: iksi aallosta ylenin: oli mielessä minulla  | surmata suku Kalevan, saa'a sampo Pohjolahan.  | Kun nyt lasket lainehisin, heität vie\n",
            "  yp: i ki snltoi a yleti.   | li mielessä minulla  | surmata suku Kalevan, saa'a sampo Pohjolahan.  | Kun nyt lasket lainehisin, heität vie\n",
            "----------------- temperature = 0.2 ----------------------\n"
          ],
          "name": "stdout"
        },
        {
          "output_type": "display_data",
          "data": {
            "text/html": [
              "opatikirvoav<span style=\"background-color:#d8daef;\">i.\"<br><br>Sanoi lieto Lemminkäinen: \"</span><sup>[1]</sup><span style=\"background-color:#d8daef;\">Kytken Kyllikin kylähän, <br>kylän kynnysportahille, veräjille vierahille; <br>täältä saan paremman naisen. Tuo nyt tänne tyttäresi, <br>impiparvesta ihanin, kassapäistä kaunokaisin</span><sup>[1]</sup>.<br><br>\"Tule työntänsä tulevi, päivä linna puikoistansa, <br>pirtti täytty temminkäisen, kaataisit kaloistavi, <br>ilman alkupöyllä lakkitanka<span style=\"background-color:#d8daef;\">.<br><br>Siinä itki Väinämöinen, siinä itki ja urisi <br>rannalla merellisellä, ni</span><sup>[1]</sup>emen lattasi laella, <br>tuolla Tuoran kaneava sanoja tuttujata?\"<br><br>Tuop' on virsik"
            ],
            "text/plain": [
              "<IPython.core.display.HTML object>"
            ]
          },
          "metadata": {
            "tags": []
          }
        },
        {
          "output_type": "display_data",
          "data": {
            "text/html": [
              "<small><p style=\"text-align:right;\">Sources: <span style=\"background-color:#d8daef;\">kalevala</span><sup>[1]</sup></p></small>"
            ],
            "text/plain": [
              "<IPython.core.display.HTML object>"
            ]
          },
          "metadata": {
            "tags": []
          }
        },
        {
          "output_type": "stream",
          "text": [
            "----------------- temperature = 0.6 ----------------------\n"
          ],
          "name": "stdout"
        },
        {
          "output_type": "display_data",
          "data": {
            "text/html": [
              "opatikivän pioisi<br><br>Pohjolan kotahan jolka, simaen rainoilla raiana.<br><br>Niinen porsa portaselle, kaatu kaiken kirjaellä<span style=\"background-color:#d8daef;\">!\"<br><br>Siinä lieto Lemminkäinen ajan kaiken annitoinna <br>hiihti soita, hiihti m</span><sup>[1]</sup>iestänut pitäjit, <br>annan Aino oikahani, turkkana tämiätiösi <br>minun laska laulajamme, sinisella siustami<span style=\"background-color:#d8daef;\">lla.\"<br><br>Mitä huoli Lemminkäinen! Itse tuon sanoiksi virkki: <br>\"T</span><sup>[1]</sup>oi on viikois, ylen haula, hilpoisilta hiittelihestä, <br>lyötärmät merehänännä en käännyt kaiken käyne, eikä puistansa puhuvat; <br>kunki kannun kiva"
            ],
            "text/plain": [
              "<IPython.core.display.HTML object>"
            ]
          },
          "metadata": {
            "tags": []
          }
        },
        {
          "output_type": "display_data",
          "data": {
            "text/html": [
              "<small><p style=\"text-align:right;\">Sources: <span style=\"background-color:#d8daef;\">kalevala</span><sup>[1]</sup></p></small>"
            ],
            "text/plain": [
              "<IPython.core.display.HTML object>"
            ]
          },
          "metadata": {
            "tags": []
          }
        },
        {
          "output_type": "stream",
          "text": [
            "----------------- temperature = 1.0 ----------------------\n"
          ],
          "name": "stdout"
        },
        {
          "output_type": "display_data",
          "data": {
            "text/html": [
              "onnttipäärmä, <br>tarja taivahallesille, aiventelen aattoloisi! <br>Sana lausui naiernavaine, ko olutta noilla mailla <br>uuen kuuna kulkerolta, aini kengän keskomatta.<br><br>siit' on Haohon hartajata, lakkoja hävistämättä.\"<br><br>Mirkka saittoa Vikuna, kohta nyllä kurta.<span style=\"background-color:#d8daef;\"><br>Sanan virkkoi, noin nimesi, itse lausui</span><sup>[1]</sup><span style=\"background-color:#d8daef;\">, noin nimesi: <br>\"Piä nyt, pihti, valkeata, jotta lauloa näkisin! <br>La</span><sup>[1]</sup>skoa van retti naite, mun heukenen harata, <br>likaisen likatseni, lattiat latulla tupas, <br>oti luikunsa orosta, tuominetta hullehista, <br>korpeh"
            ],
            "text/plain": [
              "<IPython.core.display.HTML object>"
            ]
          },
          "metadata": {
            "tags": []
          }
        },
        {
          "output_type": "display_data",
          "data": {
            "text/html": [
              "<small><p style=\"text-align:right;\">Sources: <span style=\"background-color:#d8daef;\">kalevala</span><sup>[1]</sup></p></small>"
            ],
            "text/plain": [
              "<IPython.core.display.HTML object>"
            ]
          },
          "metadata": {
            "tags": []
          }
        },
        {
          "output_type": "stream",
          "text": [
            "---------------------------------------\n",
            "Epoch: 210.11, iter: 19000, cross-entropy: 0.243, accuracy: 0.92936\n",
            "   y: alehen, ken pani pahan sanoman,  | sulhon tyhjin tulleheksi, oron jouten juosneheksi?  | Eipä sulho tyhjin tullut, ei oronen jouten \n",
            "  yp: anklin   | as lani pahan sanoman,  | sulhon tyhjin tulleheksi, oron jouten juosneheksi?  | Eipä sulho tyhjin tullut, ei oronen jouten \n",
            "----------------- temperature = 0.2 ----------------------\n"
          ],
          "name": "stdout"
        },
        {
          "output_type": "display_data",
          "data": {
            "text/html": [
              "ppppppppuntirissa, <br>aukaisi tulinen arman, tyttärille tyttärille! <br>Veittänä olon tavalla, tarkkahan taselevat.\"<br><br>Tuli kuukku Pääry poika, jo tuhutta jalkuess<span style=\"background-color:#d8daef;\">a! <br>Kaataos Kalevan miehet, upota uvantolaiset, <br>h</span><sup>[1]</sup>umatan rataista etehen, kantanahan kankahalle, <br>kun<span style=\"background-color:#d8daef;\"> oli kaaret katkennunna, kaikki hangatki hajalla.<br><br>Arvelee, ajattelevi. Itse tuon sanoiksi virkki: <br>\"</span><sup>[1]</sup><span style=\"background-color:#d8daef;\">Kylkehen kyläinen syönti hyvissäki vierahissa; <br>mies on maallansa parempi, kotonansa korkeampi. <br>Soisipa sula Jumala, antaisipa armoluoja: <br>p</span><sup>[1]</sup>"
            ],
            "text/plain": [
              "<IPython.core.display.HTML object>"
            ]
          },
          "metadata": {
            "tags": []
          }
        },
        {
          "output_type": "display_data",
          "data": {
            "text/html": [
              "<small><p style=\"text-align:right;\">Sources: <span style=\"background-color:#d8daef;\">kalevala</span><sup>[1]</sup></p></small>"
            ],
            "text/plain": [
              "<IPython.core.display.HTML object>"
            ]
          },
          "metadata": {
            "tags": []
          }
        },
        {
          "output_type": "stream",
          "text": [
            "----------------- temperature = 0.6 ----------------------\n"
          ],
          "name": "stdout"
        },
        {
          "output_type": "display_data",
          "data": {
            "text/html": [
              "ppppppppuntirissa, <br>aukaisi tulinen arma, pihoilla tilinävältä, <br>ankari anoppistansa, vierevät veräjän suusta. <br>Annat sulle vietähäsen, läksi lannaslan povoinen <br>lepiänsä liukahutti, leien leikasi lapoat, <br>vaaran linnut siukasella, jotk' ei kyllyn kysyä: <br>juoksi se sulkalla mäellä, kululla kulan povissa.<br><br>Kohottihin, kätehen, katsoihin, kalmantihen raittomasi, <br>jos marsan maan nieltä, pitsin piilisistojettaja, <br>panenparjan parjauksehen, paaen paksen, pent puoksi, pohjolaisen <br>tuven kuuen turmioh"
            ],
            "text/plain": [
              "<IPython.core.display.HTML object>"
            ]
          },
          "metadata": {
            "tags": []
          }
        },
        {
          "output_type": "stream",
          "text": [
            "----------------- temperature = 1.0 ----------------------\n"
          ],
          "name": "stdout"
        },
        {
          "output_type": "display_data",
          "data": {
            "text/html": [
              "ypyppinkikokovihi!\"<br><br>\"Sinä itken, riitso rauka, naiset saisin saavaisensa, <br>vuotin kultainen kuriksi, huikainenkuna kohoista <br>jo sep' on pala pakene, kieli kieleä kanoamas<span style=\"background-color:#d8daef;\">ta.\"<br><br>Siitä vanha Väinämöinen </span><sup>[1]</sup>viikon hieto! <br>Marjata kotosemahan, kirkkuva kumittajakan<span style=\"background-color:#d8daef;\">, <br>kun ei kuule kumm</span><sup>[1]</sup>an kirkan, enen puustansa puruvinna.<span style=\"background-color:#d8daef;\"><br><br>Olipa lapsi lattialla. Lausui lapsi lattialta: <br>\"Voi veikko, mitä vetelet! </span><sup>[1]</sup>oMrikoa muonnamasta, <br>epämie rakoa runnan, kalvolle asun hyvissä; <br>mies tuonne sanoaksi, viikon pyytämässä!<br><br>"
            ],
            "text/plain": [
              "<IPython.core.display.HTML object>"
            ]
          },
          "metadata": {
            "tags": []
          }
        },
        {
          "output_type": "display_data",
          "data": {
            "text/html": [
              "<small><p style=\"text-align:right;\">Sources: <span style=\"background-color:#d8daef;\">kalevala</span><sup>[1]</sup></p></small>"
            ],
            "text/plain": [
              "<IPython.core.display.HTML object>"
            ]
          },
          "metadata": {
            "tags": []
          }
        },
        {
          "output_type": "stream",
          "text": [
            "---------------------------------------\n",
            "Epoch: 212.32, iter: 19200, cross-entropy: 0.232, accuracy: 0.93392\n",
            "   y: , kunnialla kuollaksemme  | suloisessa Suomenmaassa, kaunihissa Karjalassa! |  | \"Varjele, vakainen Luoja, kaitse, kaunoinen Jumala,  | \n",
            "  yp: n  | unneslle kuulaeksesme. | suivisessa Suomenmaassa, kaupihissa Karjalassa! |  | \"Vaajele, vakainen Luoja, kaitse, kaunoinen Jumala,  | \n",
            "----------------- temperature = 0.2 ----------------------\n"
          ],
          "name": "stdout"
        },
        {
          "output_type": "display_data",
          "data": {
            "text/html": [
              "sussoksonsämaroihin!<span style=\"background-color:#d8daef;\"><br><br>\"Katselevi kassapä</span><sup>[1]</sup>rän, käänti päätä käytäväksi. <br>Siit' et ihene, aino polvemahan, ve'elle vesilamoaksi <br>varahan aseltajata, hulle suuressa käsijät, <br>et kääri kättärehin, kaikki hersi, juoksi matkoja paloihin. <span style=\"background-color:#d8daef;\"><br>Siinä virsikäs Vipunen itse tuon sanoiksi virkki: <br>\"</span><sup>[1]</sup><span style=\"background-color:#d8daef;\">Vellamo, ve'en emäntä, ve'en eukko ruokorinta! <br>Tules paian muuttelohon, vaattehen vajehtelohon! <br>Sinull' on rytinen paita, merenvaahtivaippa päällä, <br>tuulen tyttären te</span><sup>[1]</sup>räksen, puikutalle kulkeaksin <br>syntämät sylentä"
            ],
            "text/plain": [
              "<IPython.core.display.HTML object>"
            ]
          },
          "metadata": {
            "tags": []
          }
        },
        {
          "output_type": "display_data",
          "data": {
            "text/html": [
              "<small><p style=\"text-align:right;\">Sources: <span style=\"background-color:#d8daef;\">kalevala</span><sup>[1]</sup></p></small>"
            ],
            "text/plain": [
              "<IPython.core.display.HTML object>"
            ]
          },
          "metadata": {
            "tags": []
          }
        },
        {
          "output_type": "stream",
          "text": [
            "----------------- temperature = 0.6 ----------------------\n"
          ],
          "name": "stdout"
        },
        {
          "output_type": "display_data",
          "data": {
            "text/html": [
              "ppssppo tuo iltavan sulaiset<span style=\"background-color:#d8daef;\">.<br><br>\"Et siellä sijoa saane, niin tuonne sinun manoan <br></span><sup>[1]</sup><span style=\"background-color:#d8daef;\">Tuonen mustahan jokehen, Manalan ikipurohon, <br>jost' et pääse päivinäsi, selviä sinä ikänä, <br>kun en pääsne pä</span><sup>[1]</sup>ivyt pellot, tähti valikansi vihäise<span style=\"background-color:#d8daef;\">n, <br>tuonne Tuonelan joelle, Manalan alantehelle. <br>Yksi siipi vettä viisti, toinen taivasta tapasi, <br>kourat merta kuopaeli, nokka luotoja lotaisi.<br><br>Siitä seppo Ilmarinen </span><sup>[1]</sup><span style=\"background-color:#d8daef;\">istuikse teräsrekehen; <br>sanovi sanalla tuolla, lausui tuolla lausehella: <br>\"</span><sup>[1]</sup><span style=\"background-color:#d8daef;\">Mehiläinen, ilman lintu! Lennä </span><sup>[1]</sup>"
            ],
            "text/plain": [
              "<IPython.core.display.HTML object>"
            ]
          },
          "metadata": {
            "tags": []
          }
        },
        {
          "output_type": "display_data",
          "data": {
            "text/html": [
              "<small><p style=\"text-align:right;\">Sources: <span style=\"background-color:#d8daef;\">kalevala</span><sup>[1]</sup></p></small>"
            ],
            "text/plain": [
              "<IPython.core.display.HTML object>"
            ]
          },
          "metadata": {
            "tags": []
          }
        },
        {
          "output_type": "stream",
          "text": [
            "----------------- temperature = 1.0 ----------------------\n"
          ],
          "name": "stdout"
        },
        {
          "output_type": "display_data",
          "data": {
            "text/html": [
              "ppssänsti variksi!<br><br>\"Lasket ei lausaja sanevi, jos ei tuolla kyllinnäni, <br>ettet kosken kuolitaihin, valelehta valmistani! <br>Sitä itket, tarvotalan Etärvät munan mujuat, <br>et sä, ei kolmassa kesänä, <br>linnusa surin polilla, puhkahaisi tuvan laksi. <br>Hirusta hereän jälvit, jaihin lummet sulkoises<span style=\"background-color:#d8daef;\">ta.<br><br>\"Kuules, neiti, kuin sanelen, kuin sanelen, kuin puhelen! <br>Olit kukkana kotona, il</span><sup>[1]</sup>ta koutta loitehuta! <br><span style=\"background-color:#d8daef;\">Siell' on impi itkemässä, </span><sup>[1]</sup>vajaksusi vakusellen, <br>ei lehot ositteleiki, ikentäni ilman rinnan <br>näillä"
            ],
            "text/plain": [
              "<IPython.core.display.HTML object>"
            ]
          },
          "metadata": {
            "tags": []
          }
        },
        {
          "output_type": "display_data",
          "data": {
            "text/html": [
              "<small><p style=\"text-align:right;\">Sources: <span style=\"background-color:#d8daef;\">kalevala</span><sup>[1]</sup></p></small>"
            ],
            "text/plain": [
              "<IPython.core.display.HTML object>"
            ]
          },
          "metadata": {
            "tags": []
          }
        },
        {
          "output_type": "stream",
          "text": [
            "---------------------------------------\n",
            "Epoch: 214.53, iter: 19400, cross-entropy: 0.235, accuracy: 0.93343\n",
            "   y: ä, tuonen toukista ku'ottu.\"  |  |  |  |  | Seitsemästoista runo |  | Vaka vanha Väinämöinen, kun ei saanunna sanoja  | tuolta Tuonelan ko'ista,\n",
            "  yp: a   | uonnt toiki?ta kutottu.\"  |  |  |  |  | Seitsemästoista runo |  | Vaka vanha Väinämöinen, kun ei laanunna sanoja  | tuolta Tuonelan ko'ista,\n",
            "----------------- temperature = 0.2 ----------------------\n"
          ],
          "name": "stdout"
        },
        {
          "output_type": "display_data",
          "data": {
            "text/html": [
              "ivsipppairiiätteli<span style=\"background-color:#d8daef;\">.<br><br>\"Sieltä naios, poikaseni, paras </span><sup>[1]</sup>paistaista pahasti, <br>katsoi kannen Pohjan tytti sanomat, kuta kukaut kuusistavat <br>Luojahan sietsomahan, vallosi vaentamahan!<br><br>\"Mitä sie sanot, hamastakset havituutti Hiien peltojen povehti.<br><br>Siitä joukko juottimesi, salta tietän kylliviä!<br><br>\"Siin' on suuri suon pihoille, laikevi lapenevaksi, <br>nuorene tulestasaksi, karhu kirves keitätteli, <br>piä parempi kekeäksi, uuan somea syvittelivän.<br><br>\"Tultapa ainoiste tull<span style=\"background-color:#d8daef;\">a, sinisukka äijön lapsi, <br>siitä suo</span><sup>[1]</sup>"
            ],
            "text/plain": [
              "<IPython.core.display.HTML object>"
            ]
          },
          "metadata": {
            "tags": []
          }
        },
        {
          "output_type": "display_data",
          "data": {
            "text/html": [
              "<small><p style=\"text-align:right;\">Sources: <span style=\"background-color:#d8daef;\">kalevala</span><sup>[1]</sup></p></small>"
            ],
            "text/plain": [
              "<IPython.core.display.HTML object>"
            ]
          },
          "metadata": {
            "tags": []
          }
        },
        {
          "output_type": "stream",
          "text": [
            "----------------- temperature = 0.6 ----------------------\n"
          ],
          "name": "stdout"
        },
        {
          "output_type": "display_data",
          "data": {
            "text/html": [
              "ivsipppanriän pakisi: <br>'Pahasta kuji tuika: sai tuosta kaheksi karjat.<br><br>Tur<span style=\"background-color:#d8daef;\">sa tuon sanoiksi virkki, itse lausui, noin nimesi: <br>\"Tul</span><sup>[1]</sup><span style=\"background-color:#d8daef;\">i on tuima tie'ettävä, valkeainen vaaittava. <br>Jo teki tuli</span><sup>[1]</sup>nen Tuomala valin valjan valtajaisen.<br><br>I<span style=\"background-color:#d8daef;\">tse istuvi selälle, löihe reisin ratsahille. <br>Ajoa hyryttelevi, matkoansa mittelevi <br></span><sup>[1]</sup><span style=\"background-color:#d8daef;\">noilla Pohjan kankahilla, Lapin laajoilla rajoilla.<br><br>Neiti vastahan tulevi, </span><sup>[1]</sup>hivus kulta hiistelevi, <br>nheittä hiihan kultaisilla, valvoillesi valu'illensa<span style=\"background-color:#d8daef;\">.<br><br>\"Mies on joukon jou'utta</span><sup>[1]</sup>vi, le"
            ],
            "text/plain": [
              "<IPython.core.display.HTML object>"
            ]
          },
          "metadata": {
            "tags": []
          }
        },
        {
          "output_type": "display_data",
          "data": {
            "text/html": [
              "<small><p style=\"text-align:right;\">Sources: <span style=\"background-color:#d8daef;\">kalevala</span><sup>[1]</sup></p></small>"
            ],
            "text/plain": [
              "<IPython.core.display.HTML object>"
            ]
          },
          "metadata": {
            "tags": []
          }
        },
        {
          "output_type": "stream",
          "text": [
            "----------------- temperature = 1.0 ----------------------\n"
          ],
          "name": "stdout"
        },
        {
          "output_type": "display_data",
          "data": {
            "text/html": [
              "Hivojmi kuivoinen kullu, <br>otavainen ullen ulla, tapu talossa tyhyytel.<br><br>\"Sin minä kekkasi kesäisi kansa puolelle pihalle. <br>Mi sinun Kauas avasto, lähtöselle lä<span style=\"background-color:#d8daef;\">nnättele! <br>Vihmo vettä taivosesta, mettä </span><sup>[1]</sup>kirves vittä myöten, <br>joka juosta altuansa, syrähtelävää, hyräpi varsina valittojasi.<br><br>Hertti piian, että joutui jo variven yön peräs. <br>Tuusi purtehen sulisi, hinno, herskehtelensä <br>selälle puran oksinnin kuntiolle, <br>rukki suolta, poikki huoniat morsat, määllin sullat soitamahan, <br>airoja alintamahan"
            ],
            "text/plain": [
              "<IPython.core.display.HTML object>"
            ]
          },
          "metadata": {
            "tags": []
          }
        },
        {
          "output_type": "display_data",
          "data": {
            "text/html": [
              "<small><p style=\"text-align:right;\">Sources: <span style=\"background-color:#d8daef;\">kalevala</span><sup>[1]</sup></p></small>"
            ],
            "text/plain": [
              "<IPython.core.display.HTML object>"
            ]
          },
          "metadata": {
            "tags": []
          }
        },
        {
          "output_type": "stream",
          "text": [
            "---------------------------------------\n",
            "Epoch: 216.75, iter: 19600, cross-entropy: 0.255, accuracy: 0.92985\n",
            "   y: asuinmaata arvaellen. |  | Lenti iät, lenti lännet, lenti luotehet, etelät.  | Ei löyä tiloa tuota, paikkoa pahintakana,  | kuhun laatis\n",
            "  yp:  | junn,u,sa arvetllen   | Lenti iät, lenti lännet, lenti luotehet, etelät.  | Ei löyä tiloa tuota, paikkoa pahintakana,  | kuhun laatis\n",
            "----------------- temperature = 0.2 ----------------------\n"
          ],
          "name": "stdout"
        },
        {
          "output_type": "display_data",
          "data": {
            "text/html": [
              "okion\"\"Ellös vie tätä kanna, <br>tulla maalla, kultakangan, kaikki virrestä kiveli. <br>Sai itse valera vaipui laella teuli, poikki muinoihti matkoihin mujaista, <br>jotta vanki vapuavi, seitävi sinä ikinä <br>lähellä pahoan maitoni palahan palavat.<br><br>\"Vaan pahain, pakaisen maata, kuin ma urme, kuusta nähnit neittä noutain<span style=\"background-color:#d8daef;\">en.<br><br>Siitä vanha Väinämöinen </span><sup>[1]</sup><span style=\"background-color:#d8daef;\">alkoi veisteä venettä, <br>alla korven kolkutella. Toinen seppo Ilmarinen <br>laati kuusesta meloja, petäjästä järkäleitä.<br><br>Sai venonen valmihiksi hankoinensa, airoin</span><sup>[1]</sup>"
            ],
            "text/plain": [
              "<IPython.core.display.HTML object>"
            ]
          },
          "metadata": {
            "tags": []
          }
        },
        {
          "output_type": "display_data",
          "data": {
            "text/html": [
              "<small><p style=\"text-align:right;\">Sources: <span style=\"background-color:#d8daef;\">kalevala</span><sup>[1]</sup></p></small>"
            ],
            "text/plain": [
              "<IPython.core.display.HTML object>"
            ]
          },
          "metadata": {
            "tags": []
          }
        },
        {
          "output_type": "stream",
          "text": [
            "----------------- temperature = 0.6 ----------------------\n"
          ],
          "name": "stdout"
        },
        {
          "output_type": "display_data",
          "data": {
            "text/html": [
              "okion\"-omaite paraipraksi! <br>Joko kultan konken ollat, karhun ainas kankanpalvan; <br>maat parana portahana, yhkä käski aatakasten! <br>Mi olet majasta männe, arva suuremasta! <br>Jop' on veikyn sysyn nytyn, kaunet kannet nuketteli <br>oluella oprannella, ajoilllen aaltovoallensa<span style=\"background-color:#d8daef;\">: <br>\"Mitä itkit, Väinämöinen, uikutit, uvantolainen, <br>tuolla paikalla pahalla, rannalla meryttä vasten?\"<br><br>Vaka vanha Väinämöinen </span><sup>[1]</sup><span style=\"background-color:#d8daef;\">jo tuossa nimittelihe. <br>Sai siitä sanoneh</span><sup>[1]</sup>asen, kirjokannen kaatajaksi.<br><br>Jumat myltävä sajovi, resi jäiset"
            ],
            "text/plain": [
              "<IPython.core.display.HTML object>"
            ]
          },
          "metadata": {
            "tags": []
          }
        },
        {
          "output_type": "display_data",
          "data": {
            "text/html": [
              "<small><p style=\"text-align:right;\">Sources: <span style=\"background-color:#d8daef;\">kalevala</span><sup>[1]</sup></p></small>"
            ],
            "text/plain": [
              "<IPython.core.display.HTML object>"
            ]
          },
          "metadata": {
            "tags": []
          }
        },
        {
          "output_type": "stream",
          "text": [
            "----------------- temperature = 1.0 ----------------------\n"
          ],
          "name": "stdout"
        },
        {
          "output_type": "display_data",
          "data": {
            "text/html": [
              "okoikoille runnoilleksilmistä kalaisi<span style=\"background-color:#d8daef;\">.<br><br>\"Niin on mieli miekkoisi</span><sup>[1]</sup>lta, miehenmilta multa seitä<span style=\"background-color:#d8daef;\">.<br><br>\"Mielikki, metsän emäntä, lavekämmen karjan eukko</span><sup>[1]</sup>, <br>voin on suessa orkeasta, kohennästa korjastansa; <br>aho kohtti kotkkaeli kolmennenki.<span style=\"background-color:#d8daef;\"> <br>Tuo mulle tulinen m</span><sup>[1]</sup>akka, jos kaikki on pä'änsä. <br>Siit' et ihaset jauhat, jolp' on varsin jääpi tastu, <br>kaikki käärtä käännätteli lehvät leppämahan. <br>Soutelev' Aini poike, vielä kannun kantapellan, <br>piä tuiskut pitöteleisi, aivan tulle nousiani, <br>katkesi jähäisesi, hir"
            ],
            "text/plain": [
              "<IPython.core.display.HTML object>"
            ]
          },
          "metadata": {
            "tags": []
          }
        },
        {
          "output_type": "display_data",
          "data": {
            "text/html": [
              "<small><p style=\"text-align:right;\">Sources: <span style=\"background-color:#d8daef;\">kalevala</span><sup>[1]</sup></p></small>"
            ],
            "text/plain": [
              "<IPython.core.display.HTML object>"
            ]
          },
          "metadata": {
            "tags": []
          }
        },
        {
          "output_type": "stream",
          "text": [
            "---------------------------------------\n",
            "Epoch: 218.96, iter: 19800, cross-entropy: 0.249, accuracy: 0.92936\n",
            "   y: i ikkunassa keihäsvartta vuolemassa,  | emo aitan kynnyksellä kirnua kolistamassa,  | veljekset veräjän suussa laitioita laatimassa,\n",
            "  yp: tsktiunanta, | ukkäs arrea vuolemassa,  | emo aitan kynnyksellä kirnua kolistamassa,  | veljekset veräjän suussa laitioita laatimassa,\n",
            "----------------- temperature = 0.2 ----------------------\n"
          ],
          "name": "stdout"
        },
        {
          "output_type": "display_data",
          "data": {
            "text/html": [
              "onttomi rujojo raitoja repiän, päälle saisi matkaillen<span style=\"background-color:#d8daef;\">i. <br>Itse tuon sanoiksi virkin: 'En sinulle enkä muille <br>kanna rinnanristi</span><sup>[1]</sup><span style=\"background-color:#d8daef;\">löitä, päätä silkillä sitaise. <br>Huoli on haahen haljak</span><sup>[1]</sup>kaiset, kuolasuuta suorkahampi, <br>kiitti siivolta vuotehilta, maitojen isontahil<span style=\"background-color:#d8daef;\">ta!\"<br><br>Pursi puinen vastoavi, vene hankava sanovi: <br>\"Eipä muu sukuni suuri eikä veljeni, venoset, <br>lähe työnnyttä vesille, laskematta lainehille, <br>kun ei kourin koskettane</span><sup>[1]</sup>! <br>Tulit<span style=\"background-color:#d8daef;\"> tuon sanoiksi virkki, n</span><sup>[1]</sup>eiti laululla lupesi.\"<br><br>Se on lieto Le"
            ],
            "text/plain": [
              "<IPython.core.display.HTML object>"
            ]
          },
          "metadata": {
            "tags": []
          }
        },
        {
          "output_type": "display_data",
          "data": {
            "text/html": [
              "<small><p style=\"text-align:right;\">Sources: <span style=\"background-color:#d8daef;\">kalevala</span><sup>[1]</sup></p></small>"
            ],
            "text/plain": [
              "<IPython.core.display.HTML object>"
            ]
          },
          "metadata": {
            "tags": []
          }
        },
        {
          "output_type": "stream",
          "text": [
            "----------------- temperature = 0.6 ----------------------\n"
          ],
          "name": "stdout"
        },
        {
          "output_type": "display_data",
          "data": {
            "text/html": [
              "ypyppännin suolta! <br>'Kapa kauhuloisin asvut, meren joukon joutuvu<span style=\"background-color:#d8daef;\">ia.<br><br>Sanoi lieto Lemminkäinen: \"</span><sup>[1]</sup><span style=\"background-color:#d8daef;\">Mitä minun on miekastani, <br>kun on luissa lohkiellut, pääkasuissa katkiellut! <br>Vaan kuitenki kaikitenki, kun ei nuo piot paranne, <br>mitelkämme, katselkamme, kumman miekka <br>mieluhumpi! <br>Eip' ennen minun isoni </span><sup>[1]</sup>eikä valta valvaminen: <br>'Jo nyt siih' oteksi, luotun, katsahen katson haljakkainen, <br>taattoi hanhta harmehellä, hetevistä heinäköllä.<br><br>Sai suka tulinen muutta, sekä miestä siirteleisi, <br>viskoi et i"
            ],
            "text/plain": [
              "<IPython.core.display.HTML object>"
            ]
          },
          "metadata": {
            "tags": []
          }
        },
        {
          "output_type": "display_data",
          "data": {
            "text/html": [
              "<small><p style=\"text-align:right;\">Sources: <span style=\"background-color:#d8daef;\">kalevala</span><sup>[1]</sup></p></small>"
            ],
            "text/plain": [
              "<IPython.core.display.HTML object>"
            ]
          },
          "metadata": {
            "tags": []
          }
        },
        {
          "output_type": "stream",
          "text": [
            "----------------- temperature = 1.0 ----------------------\n"
          ],
          "name": "stdout"
        },
        {
          "output_type": "display_data",
          "data": {
            "text/html": [
              "sustsässästäesi reihassasi, <br>kuin on mettä kun ei toista, ihmi känti itkemäk<span style=\"background-color:#d8daef;\">si, itse lausui ja pakisi: <br>\"Vene täältä tuotanehe, kuni syy sanottanehe, <br>mi</span><sup>[1]</sup>ssä saata saatanehen, halvosiski ruokojeksi, <br>tahtoi maat rasaille naiste, tuhannensa vuotehelta<span style=\"background-color:#d8daef;\">. <br>Se on seppo Ilmarinen itse </span><sup>[1]</sup>tuossa arvanevien ohjille siamma!\"'<br><br>Simen Poljolan jok<span style=\"background-color:#d8daef;\">ahan!\" Meni Pohjolan tupahan</span><sup>[1]</sup><span style=\"background-color:#d8daef;\">?\"<br><br>Sanoi Pohjolan emäntä, itse lausui ja nimesi: <br>\"</span><sup>[1]</sup>Kylpä on tuota ennen tutran tuoma, <br>uuristappahasta miehet, tervarvenkeän veteä, <br>onto"
            ],
            "text/plain": [
              "<IPython.core.display.HTML object>"
            ]
          },
          "metadata": {
            "tags": []
          }
        },
        {
          "output_type": "display_data",
          "data": {
            "text/html": [
              "<small><p style=\"text-align:right;\">Sources: <span style=\"background-color:#d8daef;\">kalevala</span><sup>[1]</sup></p></small>"
            ],
            "text/plain": [
              "<IPython.core.display.HTML object>"
            ]
          },
          "metadata": {
            "tags": []
          }
        },
        {
          "output_type": "stream",
          "text": [
            "---------------------------------------\n"
          ],
          "name": "stdout"
        }
      ]
    },
    {
      "metadata": {
        "id": "V1UxN8Ldr2e_",
        "colab_type": "code",
        "colab": {
          "base_uri": "https://localhost:8080/",
          "height": 34
        },
        "outputId": "98ad0d74-a101-4a45-8f6f-86d4587e12c7"
      },
      "cell_type": "code",
      "source": [
        "!ls \n",
        "\n",
        "\n"
      ],
      "execution_count": 12,
      "outputs": [
        {
          "output_type": "stream",
          "text": [
            "datalab  kalevala.txt  tensorlog  tensor-poet\r\n"
          ],
          "name": "stdout"
        }
      ]
    },
    {
      "metadata": {
        "id": "vhZiArGf1v0_",
        "colab_type": "text"
      },
      "cell_type": "markdown",
      "source": [
        "## 5. Generation of text from the trained model"
      ]
    },
    {
      "metadata": {
        "id": "xDjpDxrB1v1A",
        "colab_type": "code",
        "colab": {}
      },
      "cell_type": "code",
      "source": [
        "# Generating text using the model data generated during training.\n",
        "def ghostWriter(textsize, temperature=1.0):\n",
        "    xso = None\n",
        "    with tf.Session() as sess:\n",
        "        model.init.run()\n",
        "\n",
        "        tflogdir = os.path.realpath(model.logdir)\n",
        "        if not os.path.exists(tflogdir):\n",
        "            print(\"You haven't trained a model, no data found at: {}\".format(tflogdir))\n",
        "            return None\n",
        "\n",
        "        # Used for saving the training parameters periodically\n",
        "        saver = tf.train.Saver()\n",
        "        checkpoint_file = os.path.join(tflogdir, model.checkpoint)\n",
        "\n",
        "        lastSave = tf.train.latest_checkpoint(tflogdir, latest_filename=None)\n",
        "        if lastSave is not None:\n",
        "            pt = lastSave.rfind('-')\n",
        "            if pt != -1:\n",
        "                pt += 1\n",
        "                start_iter=int(lastSave[pt:])\n",
        "            print(\"Restoring checkpoint at {}: {}\".format(start_iter, lastSave))\n",
        "            saver.restore(sess, lastSave)\n",
        "        else:\n",
        "            print(\"No checkpoints have been saved at:{}\".format(trainParams[\"logdir\"]))\n",
        "            return None\n",
        "\n",
        "        xs = ' ' * model.steps\n",
        "        xso = ''\n",
        "        doini = True\n",
        "        for i in range(textsize):\n",
        "            X_new = np.transpose([[textlib.c2i[sj]] for sj in xs])\n",
        "            if doini:\n",
        "                doini=False\n",
        "                g_state = sess.run([model.init_state_0], feed_dict={model.X: X_new})\n",
        "            g_state, y_pred = sess.run([model.final_state, model.output_softmax_temp], \n",
        "                                      feed_dict={model.X: X_new, model.init_state: g_state,\n",
        "                                                 model.temperature: temperature})\n",
        "            inds=list(range(model.vocab_size))\n",
        "            ind = np.random.choice(inds, p=y_pred[0, -1].ravel())\n",
        "            nc = textlib.i2c[ind]\n",
        "            xso += nc\n",
        "            xs = xs[1:]+nc\n",
        "    return(xso)\n",
        "\n",
        "\n",
        "def detectPlagiarism(generatedtext, textlibrary, minQuoteLength=10):\n",
        "    textlibrary.sourceHighlight(generatedtext, minQuoteLength)\n",
        "    "
      ],
      "execution_count": 0,
      "outputs": []
    },
    {
      "metadata": {
        "id": "4V-5jXFr1v1E",
        "colab_type": "code",
        "colab": {
          "base_uri": "https://localhost:8080/",
          "height": 9630
        },
        "outputId": "e78b9189-5ab3-45d7-92ee-788f96a9aeb0"
      },
      "cell_type": "code",
      "source": [
        "tgen=ghostWriter(20000)\n",
        "detectPlagiarism(tgen, textlib)"
      ],
      "execution_count": 52,
      "outputs": [
        {
          "output_type": "stream",
          "text": [
            "Restoring checkpoint at 20000: /content/tensorlog/shakespeare/shakespeare.ckpt-20000\n",
            "INFO:tensorflow:Restoring parameters from /content/tensorlog/shakespeare/shakespeare.ckpt-20000\n"
          ],
          "name": "stdout"
        },
        {
          "output_type": "display_data",
          "data": {
            "text/html": [
              "sustsässähtelivä, <br>kylmä täällä taivahattö, älyhyksenä eposs<span style=\"background-color:#d8daef;\">a <br>yhtenä kesäisnä yönä, </span><sup>[1]</sup>pyhän poltani melas<span style=\"background-color:#d8daef;\">ia!<br><br>\"Kun </span><sup>[1]</sup><span style=\"background-color:#d8daef;\">sa kuulet ke</span><sup>[1]</sup>nnokän<span style=\"background-color:#d8daef;\">ä, siitä s</span><sup>[1]</sup>uuri enstämäillä! <br>Jujotan, julkin jääp<span style=\"background-color:#d8daef;\">ihin, palav</span><sup>[1]</sup>oissa<span style=\"background-color:#d8daef;\"> paaen pak</span><sup>[1]</sup>enen, kelä kahekselpahan <br>latsahan leie<span style=\"background-color:#d8daef;\">ttämällä, yhen </span><sup>[1]</sup>tuotan s<span style=\"background-color:#d8daef;\">en perille</span><sup>[1]</sup>:<span style=\"background-color:#d8daef;\"> <br>alimaise</span><sup>[1]</sup>n anel<span style=\"background-color:#d8daef;\">i paikoille</span><sup>[1]</sup>ni<span style=\"background-color:#d8daef;\"> vierahalle</span><sup>[1]</sup>: <br>jo vain saattattä saloa,<span style=\"background-color:#d8daef;\"> Karjalasta</span><sup>[1]</sup><span style=\"background-color:#d8daef;\"> karjan lai</span><sup>[1]</sup>n<span style=\"background-color:#d8daef;\">a. <br>Ei tuo</span><sup>[1]</sup>ta kylähyse minnä näisnä<span style=\"background-color:#d8daef;\"> nuoret no</span><sup>[1]</sup>inun <br>e<span style=\"background-color:#d8daef;\">nen kuollut</span><sup>[1]</sup> k<span style=\"background-color:#d8daef;\">orjallensa, </span><sup>[1]</sup>rahat laa<span style=\"background-color:#d8daef;\">ki lainehill</span><sup>[1]</sup>e. <br>Kolven äärä<span style=\"background-color:#d8daef;\">n, kääntel</span><sup>[1]</sup>öyt<span style=\"background-color:#d8daef;\">tä eikä pu</span><sup>[1]</sup>ol<span style=\"background-color:#d8daef;\">en kirjael</span><sup>[1]</sup>tu<span style=\"background-color:#d8daef;\">! <br>Laita s</span><sup>[1]</sup>iiv<span style=\"background-color:#d8daef;\">i saaren immet, </span><sup>[1]</sup>hajotelen aiat ruomanin, <br>noitan kuivoilla kovista, rukitrusten tunkujat<span style=\"background-color:#d8daef;\">ta, <br>havu </span><sup>[1]</sup>jälen partajaksi jä<span style=\"background-color:#d8daef;\">ttä kieles</span><sup>[1]</sup>i karal<span style=\"background-color:#d8daef;\">la, <br>miesten </span><sup>[1]</sup>heitä, hierourankahan, kapahuta kankpahan nätössä <br>piossa pen<span style=\"background-color:#d8daef;\">ittelevi, kan</span><sup>[1]</sup>ssasta sanopajassa<span style=\"background-color:#d8daef;\">si! <br>Käy pi</span><sup>[1]</sup>tä tulitet tunne, joes tenneni tulitunna, <br>munkan Murtan, ruiokotta, kotiniomel<span style=\"background-color:#d8daef;\">lan emäntä, </span><sup>[1]</sup><span style=\"background-color:#d8daef;\"><br>ettet pää</span><sup>[1]</sup> parempi<span style=\"background-color:#d8daef;\">kana etkä </span><sup>[1]</sup>ott<span style=\"background-color:#d8daef;\">i poiuttansa, </span><sup>[1]</sup><span style=\"background-color:#d8daef;\"><br>päälleni p</span><sup>[1]</sup>ihat esten pulkimänis<span style=\"background-color:#d8daef;\">tä. <br>Nosta</span><sup>[1]</sup>taroin oro sanoja, matent<span style=\"background-color:#d8daef;\">elen mieli</span><sup>[1]</sup>mällä: <br>\"Seplon kisnun kengättähen, väköpuolet vaatoana. <br>Veäll' on lie<span style=\"background-color:#d8daef;\">ät leivotuksi, </span><sup>[1]</sup>kirjanvarti<span style=\"background-color:#d8daef;\">oin vasikka, </span><sup>[1]</sup><br>vaiva<span style=\"background-color:#d8daef;\"> vettä kalvallan</span><sup>[1]</sup><span style=\"background-color:#d8daef;\">i, valkeainen </span><sup>[1]</sup>vieretettä <br>vai<span style=\"background-color:#d8daef;\">ko liinan k</span><sup>[1]</sup><span style=\"background-color:#d8daef;\">artanosta, <br>joss</span><sup>[1]</sup><span style=\"background-color:#d8daef;\">' on verta sääriv</span><sup>[1]</sup>äiret, karva nehvoista matasi<span style=\"background-color:#d8daef;\">, <br>jos saata</span><sup>[1]</sup>os saassa suura taimi<span style=\"background-color:#d8daef;\">stani. <br>Iso </span><sup>[1]</sup><span style=\"background-color:#d8daef;\">istui ikkunal</span><sup>[1]</sup>ta, kana vanhin nastaessa.\"<br><br>Alavan iski Poimila<span style=\"background-color:#d8daef;\">hen sai si</span><sup>[1]</sup>imenen hailaella: <br>taatti on tautu<span style=\"background-color:#d8daef;\">a takaisin, a</span><sup>[1]</sup>iva<span style=\"background-color:#d8daef;\">n kalvan ka</span><sup>[1]</sup><span style=\"background-color:#d8daef;\">ukelohon: <br>ei</span><sup>[1]</sup><span style=\"background-color:#d8daef;\">kä nähnyt </span><sup>[1]</sup><span style=\"background-color:#d8daef;\">noin sanoa</span><sup>[1]</sup><span style=\"background-color:#d8daef;\">, mitä mie</span><sup>[1]</sup><span style=\"background-color:#d8daef;\">stä, melan </span><sup>[1]</sup>uurelen osa<span style=\"background-color:#d8daef;\">ta.<br><br>\"Humala, </span><sup>[1]</sup>Heropenei kosi<span style=\"background-color:#d8daef;\">t näkyvi, </span><sup>[1]</sup>rahvahuista ratsa<span style=\"background-color:#d8daef;\">ilta.<br><br>\"Jo </span><sup>[1]</sup>tuon niennä nostottamat kiparispuitasivat<span style=\"background-color:#d8daef;\"> <br>kultia k</span><sup>[1]</sup>umar<span style=\"background-color:#d8daef;\">teleisin, </span><sup>[1]</sup><span style=\"background-color:#d8daef;\">morsiamen </span><sup>[1]</sup>omin ninihen<span style=\"background-color:#d8daef;\">, <br>tässä l</span><sup>[1]</sup>äivästi pitivi, sis<span style=\"background-color:#d8daef;\">isukka äijön lapsi</span><sup>[1]</sup>! <br>Eipä nyt sorea syöäki, pihuit suomeniani?<span style=\"background-color:#d8daef;\">\"<br><br>Lähetti</span><sup>[1]</sup>ä käkel<span style=\"background-color:#d8daef;\">levi; sanan virkkoi, noin nimesi: <br>\"Voi </span><sup>[1]</sup><span style=\"background-color:#d8daef;\">minä poloinen poika, k</span><sup>[1]</sup>oitani pikellä pisti <br>perilläns<span style=\"background-color:#d8daef;\">ä Pohjan p</span><sup>[1]</sup>ursih<span style=\"background-color:#d8daef;\">in Väinämöisen</span><sup>[1]</sup>. <span style=\"background-color:#d8daef;\">. <br><br><br><br>Viides</span><sup>[1]</sup><span style=\"background-color:#d8daef;\">kolmatta runo<br><br>Jopa vii</span><sup>[1]</sup>me<span style=\"background-color:#d8daef;\">in kotihin</span><sup>[1]</sup>i kalkka kolme poimiensa hapasit, hamosia kih<span style=\"background-color:#d8daef;\">i vetehen: </span><sup>[1]</sup><br>\"Mi<span style=\"background-color:#d8daef;\">tä vieras veen </span><sup>[1]</sup>vesihan, uu<span style=\"background-color:#d8daef;\">sen uuhen </span><sup>[1]</sup>moksaellosensa, <br>pyytöviän pyhän vihannu<span style=\"background-color:#d8daef;\">t vastoavi: <br></span><sup>[1]</sup>vanha ei reihe rankahkihe, panevilta<span style=\"background-color:#d8daef;\"> päättimillä.<br><br></span><sup>[1]</sup><span style=\"background-color:#d8daef;\">Arvelee, ajattelevi: \"Tuoll' oisi sata sanoa <br>kesäpeuran kielen alla, suussa va</span><sup>[1]</sup>i umpikana<span style=\"background-color:#d8daef;\">, <br>täältä t</span><sup>[1]</sup>uim<span style=\"background-color:#d8daef;\">asta kokohon, miesten </span><sup>[1]</sup>pilloje pihoa; <br>alki päivät, ei virko<span style=\"background-color:#d8daef;\">a, ilman mu</span><sup>[1]</sup>oita lokkimahan, v<span style=\"background-color:#d8daef;\">eä tupahan </span><sup>[1]</sup><br>vyöttyhet väki piho<span style=\"background-color:#d8daef;\">a, selät ve</span><sup>[1]</sup>lkelle hepoa.<br><br>Kävi maat<span style=\"background-color:#d8daef;\">si vastael</span><sup>[1]</sup>i, loimi loivat<span style=\"background-color:#d8daef;\"> morsianta.<br><br>Ei o</span><sup>[1]</sup><span style=\"background-color:#d8daef;\">llut sitä urosta eikä miestä u</span><sup>[1]</sup>tkaelle <br>ohille ulaelama, pehilvarta päivälläni, <br>tamme<span style=\"background-color:#d8daef;\">t taattonsa </span><sup>[1]</sup><span style=\"background-color:#d8daef;\">tulevi, pa</span><sup>[1]</sup>takoitte tylvassani <br><span style=\"background-color:#d8daef;\">neitosilta nänni</span><sup>[1]</sup>n päähät, sälliin sa<span style=\"background-color:#d8daef;\">alle soitto</span><sup>[1]</sup>loisin,<span style=\"background-color:#d8daef;\"> polville </span><sup>[1]</sup>nov<span style=\"background-color:#d8daef;\">ille!\"<br><br>Läksi</span><sup>[1]</sup> koh<span style=\"background-color:#d8daef;\">ta kelpoav</span><sup>[1]</sup>ar, ve'et vällehet vakeat, <br>koivu raut<span style=\"background-color:#d8daef;\">ahat rakenti</span><sup>[1]</sup>, kapla keinon kyynnäksi<span style=\"background-color:#d8daef;\">ni <br>tämän </span><sup>[1]</sup>sulho<span style=\"background-color:#d8daef;\">n soutamahan, </span><sup>[1]</sup>ve'ellissäni<span style=\"background-color:#d8daef;\"> jälestä, </span><sup>[1]</sup><br>korvella koverokea, hattoi tie<span style=\"background-color:#d8daef;\">tahan terä</span><sup>[1]</sup>ltä; <br>aian ruutelo-al<span style=\"background-color:#d8daef;\">aksi, kangas</span><sup>[1]</sup>puu kaot<span style=\"background-color:#d8daef;\"> lihavan, <br>t</span><sup>[1]</sup>elivarsten vaimokseni<span style=\"background-color:#d8daef;\"> <br>suolla s</span><sup>[1]</sup>ilmättä sovea, Lempo sauvan saamat<span style=\"background-color:#d8daef;\">, <br>suulla </span><sup>[1]</sup><span style=\"background-color:#d8daef;\">syntymäsijoilta, </span><sup>[1]</sup>jaksentalta taikkujatta kasvipuu<span style=\"background-color:#d8daef;\">sta, kuuhut </span><sup>[1]</sup>puus<span style=\"background-color:#d8daef;\">sa lainehe</span><sup>[1]</sup><span style=\"background-color:#d8daef;\">lla.<br><br>Arvelee, ajattelevi, miten olla, kuin eleä <br></span><sup>[1]</sup><span style=\"background-color:#d8daef;\">tällä ilmall</span><sup>[1]</sup>i kot<span style=\"background-color:#d8daef;\">oksi, helmin </span><sup>[1]</sup>hyppostarisehe<span style=\"background-color:#d8daef;\">n.<br><br>Niin p</span><sup>[1]</sup>ahal<span style=\"background-color:#d8daef;\">li tultuansa</span><sup>[1]</sup>, poiku pitka puhempiks<span style=\"background-color:#d8daef;\">i. <br>Kunp' on </span><sup>[1]</sup><span style=\"background-color:#d8daef;\">Tuonelta or</span><sup>[1]</sup>s<span style=\"background-color:#d8daef;\">a, Manan ma</span><sup>[1]</sup>a<span style=\"background-color:#d8daef;\">ta kääntelevi</span><sup>[1]</sup><span style=\"background-color:#d8daef;\">. <br>Laati s</span><sup>[1]</sup>innä lautehesta: pottaisia pohoinata, <br>saamme san sanoma suu<span style=\"background-color:#d8daef;\">ta, Luojan n</span><sup>[1]</sup>omava! <br>Luulut,<span style=\"background-color:#d8daef;\"> <br>Lemminkäi</span><sup>[1]</sup>nen leppälöiksi, rieskaele rakkasieki<span style=\"background-color:#d8daef;\">!<br><br>\"Kun sa o</span><sup>[1]</sup>tsi on<span style=\"background-color:#d8daef;\">a kysyvi, </span><sup>[1]</sup>tapoin tehtoisista, <br>pieksiän piihajatta:<span style=\"background-color:#d8daef;\"> laivan pä</span><sup>[1]</sup>ikkyi miek<span style=\"background-color:#d8daef;\">kahutti, <br></span><sup>[1]</sup>ken puolin pahat läältä, <br>riihe nyt rehnotsellestui, evät: väesi<span style=\"background-color:#d8daef;\">, vesi viek</span><sup>[1]</sup>oma lo<span style=\"background-color:#d8daef;\">jahan.<br><br>Tuo</span><sup>[1]</sup><span style=\"background-color:#d8daef;\">p' on piika pikkarainen, </span><sup>[1]</sup>kaatu<span style=\"background-color:#d8daef;\">a kalevala</span><sup>[1]</sup><span style=\"background-color:#d8daef;\">lle; <br>siell' on </span><sup>[1]</sup>so'a<span style=\"background-color:#d8daef;\">ntyväksi, k</span><sup>[1]</sup>arhu katsuvalkaheisi.<br><br>\"Ei toista itusijani, rasvana Kalentahani<span style=\"background-color:#d8daef;\">! <br>Jo nyt </span><sup>[1]</sup>tinä<span style=\"background-color:#d8daef;\">ni tultuani, </span><sup>[1]</sup>päivälliskeä viharta <br>Nytkö<span style=\"background-color:#d8daef;\"> miehen nuo</span><sup>[1]</sup>leapuina<span style=\"background-color:#d8daef;\">, kanna vaatte</span><sup>[1]</sup>ra vasita!<span style=\"background-color:#d8daef;\"> <br>Oisit en</span><sup>[1]</sup>hei saaviasi, kourikonka korju<span style=\"background-color:#d8daef;\">seni, <br>aina a</span><sup>[1]</sup>ivoissa ilosa iso iso-<span style=\"background-color:#d8daef;\">ista, <br>mis</span><sup>[1]</sup>illykset panisi<span style=\"background-color:#d8daef;\">, vaskisil</span><sup>[1]</sup>e varv<span style=\"background-color:#d8daef;\">isille, <br>t</span><sup>[1]</sup>illehen tellen kohonn, syksyisihin vyö nevältä;<span style=\"background-color:#d8daef;\"> <br>naisen m</span><sup>[1]</sup>aalle sisäpi<span style=\"background-color:#d8daef;\">älle, kultaka</span><sup>[1]</sup>ngasta käkevillä; <br>kokipäistä ollena, naisinna yö yl<span style=\"background-color:#d8daef;\">i korven ko</span><sup>[1]</sup>lkkuiva, <br>maan paraion palktansa syltä, jott' on saavan<span style=\"background-color:#d8daef;\"> vierahilta</span><sup>[1]</sup><span style=\"background-color:#d8daef;\">! <br>Sillä k</span><sup>[1]</sup>uu<span style=\"background-color:#d8daef;\">ta kyllin sa</span><sup>[1]</sup>ian, koti,<span style=\"background-color:#d8daef;\"> neien Väinölä</span><sup>[1]</sup>mäpä!\"<br><br>AMnte tor<span style=\"background-color:#d8daef;\">sa toinen </span><sup>[1]</sup>luoka<span style=\"background-color:#d8daef;\">, pantu pä</span><sup>[1]</sup>ähän ilkeätä <br>pilvenä enäp<span style=\"background-color:#d8daef;\">ähälle, va</span><sup>[1]</sup><span style=\"background-color:#d8daef;\">attehen vajehtelohon! <br>Sinull' on rytinen paita, me</span><sup>[1]</sup><span style=\"background-color:#d8daef;\">nnä tuonne </span><sup>[1]</sup>mentälävän <br>mininen omaa vaimo, mahviarin ulistehia<span style=\"background-color:#d8daef;\">, <br>kahet, kolmet korvakullat, viiet, kuuet vyöllisvitjat, <br>niin sanon toet totiset, valehettomat, vakaiset</span><sup>[1]</sup><span style=\"background-color:#d8daef;\">: <br>kunne l</span><sup>[1]</sup>aajani aro<span style=\"background-color:#d8daef;\">nen, toinen li</span><sup>[1]</sup>ineä sitoamma.<br><br><span style=\"background-color:#d8daef;\">\"En joua, </span><sup>[1]</sup><span style=\"background-color:#d8daef;\">unin päällä, </span><sup>[1]</sup>ei tästä pare minu<span style=\"background-color:#d8daef;\">lla.\"<br><br>Se on </span><sup>[1]</sup><span style=\"background-color:#d8daef;\">seppo Ilmarinen itse tuon sanoiksi virkki: <br>\"</span><sup>[1]</sup><span style=\"background-color:#d8daef;\">Tyhjiä tiais</span><sup>[1]</sup>ta venet, attai tuikerta koket<span style=\"background-color:#d8daef;\">ehelle; <br>s</span><sup>[1]</sup>aa<span style=\"background-color:#d8daef;\">n minä san</span><sup>[1]</sup>oja suisi, kivu<span style=\"background-color:#d8daef;\">n kaikki ka</span><sup>[1]</sup>lliossa: <br>kun haljasta horkisisi, hameana harjasin pol<span style=\"background-color:#d8daef;\">vi.<br><br>Laski </span><sup>[1]</sup>kuusia nekellä, havan poilla! <br>Koti Kuuta, veä<span style=\"background-color:#d8daef;\">n isäntä, sa</span><sup>[1]</sup>no säätän kan<span style=\"background-color:#d8daef;\">ainen, <br>si</span><sup>[1]</sup>valtuohen selätet rail<span style=\"background-color:#d8daef;\">a pantu maa</span><sup>[1]</sup>h<span style=\"background-color:#d8daef;\">an saanut, </span><sup>[1]</sup><span style=\"background-color:#d8daef;\"><br>joka jouse</span><sup>[1]</sup>t joksaen, laatin toistava jol<span style=\"background-color:#d8daef;\">alle!<br><br>\"Kun </span><sup>[1]</sup>tulet emot<span style=\"background-color:#d8daef;\"> isoni, ka</span><sup>[1]</sup><span style=\"background-color:#d8daef;\">onnutta kaipaeli</span><sup>[1]</sup><span style=\"background-color:#d8daef;\">, <br>kun panin paha</span><sup>[1]</sup>t ta'ell<span style=\"background-color:#d8daef;\">a, koitteli</span><sup>[1]</sup> kovas aroho<span style=\"background-color:#d8daef;\">n: <br>ei ole </span><sup>[1]</sup>vat<span style=\"background-color:#d8daef;\">tahan tulevi k</span><sup>[1]</sup>aaritk<span style=\"background-color:#d8daef;\">aiset naurama</span><sup>[1]</sup>sta, <br>matkalmasta majertilta ikevillä<span style=\"background-color:#d8daef;\"> ilmaiset ilomme, <br>kaikki laulut </span><sup>[1]</sup>matkallessa tuttavallat le<span style=\"background-color:#d8daef;\">ikkehistä </span><sup>[1]</sup><span style=\"background-color:#d8daef;\"><br>alla kullan kuusen juuren, alla pens</span><sup>[1]</sup>emän sanojan, <br>salahan läkeämehen. Vieli vaivuosa<span style=\"background-color:#d8daef;\">isen, <br>men</span><sup>[1]</sup>e joutkoa<span style=\"background-color:#d8daef;\"> muruiksi, </span><sup>[1]</sup>pojan kulut<span style=\"background-color:#d8daef;\"> kannon päähän</span><sup>[1]</sup><span style=\"background-color:#d8daef;\">: <br>\"Oi sie lieto Lemmin poika, ylimäinen ystäväni! <br>Nous</span><sup>[1]</sup>oasi virkemästä, orivottaen ova<span style=\"background-color:#d8daef;\">ksi.<br><br>Sanoi v</span><sup>[1]</sup>ier<span style=\"background-color:#d8daef;\">i Väinämöinen, </span><sup>[1]</sup>tekijätti iltama<span style=\"background-color:#d8daef;\">ssa. <br>Katsoi </span><sup>[1]</sup><span style=\"background-color:#d8daef;\">päivän laa</span><sup>[1]</sup>llessa, pui<span style=\"background-color:#d8daef;\">na kullan </span><sup>[1]</sup>suissa neien.<br><br>Loihe kuun kivasiälle utuisehti, nuorehesta<span style=\"background-color:#d8daef;\">! <br>Lennä t</span><sup>[1]</sup>ar<span style=\"background-color:#d8daef;\">pi taivaha</span><sup>[1]</sup>lle,, petäpeikse puolerkoinen!<span style=\"background-color:#d8daef;\"> <br>Lemminkä</span><sup>[1]</sup>mm<span style=\"background-color:#d8daef;\">e, kunne kä</span><sup>[1]</sup>ynen<span style=\"background-color:#d8daef;\"> ja katosi</span><sup>[1]</sup><span style=\"background-color:#d8daef;\"> Kalevan kas</span><sup>[1]</sup>sapla<span style=\"background-color:#d8daef;\"> <br>sijallen</span><sup>[1]</sup> oronn tekien, patk<span style=\"background-color:#d8daef;\">asen paran</span><sup>[1]</sup> kajaista!<br><br>\"Puhu<span style=\"background-color:#d8daef;\">s on vanha t</span><sup>[1]</sup>u<span style=\"background-color:#d8daef;\">ulellani, </span><sup>[1]</sup><span style=\"background-color:#d8daef;\">sen varsoin</span><sup>[1]</sup> valppahi<span style=\"background-color:#d8daef;\">ksi.\"<br><br>Koki </span><sup>[1]</sup>nyt kylp<span style=\"background-color:#d8daef;\">i kolmanne</span><sup>[1]</sup>lla, valetva<span style=\"background-color:#d8daef;\">lla valkamoilla</span><sup>[1]</sup>!<br><br>\"Noulin<span style=\"background-color:#d8daef;\">, neiti, neit</span><sup>[1]</sup>o ois<span style=\"background-color:#d8daef;\">in, ostaos o</span><sup>[1]</sup>so jyvyksittä: <br>Pohjan on elyttä sinä pan<span style=\"background-color:#d8daef;\">e, metsän karhu</span><sup>[1]</sup>t<span style=\"background-color:#d8daef;\"> kaatamahan.\"<br><br></span><sup>[1]</sup>Menä<span style=\"background-color:#d8daef;\"> lähteä käke</span><sup>[1]</sup>mi, tapahtai taipan t<span style=\"background-color:#d8daef;\">asta, <br>joka </span><sup>[1]</sup>sammaon saatan<span style=\"background-color:#d8daef;\">asta, hope</span><sup>[1]</sup><span style=\"background-color:#d8daef;\">'ista morsianta.</span><sup>[1]</sup> <br>Läksi puhtin noista perta. Sotaisi sotaksen tarh<span style=\"background-color:#d8daef;\">in, pojat </span><sup>[1]</sup>varsan varjah<span style=\"background-color:#d8daef;\">ille: <br>viel' on Unto oike</span><sup>[1]</sup>mmenen, uuen, maalle, maksipparavoi<span style=\"background-color:#d8daef;\">lle, <br>tahi </span><sup>[1]</sup><span style=\"background-color:#d8daef;\">kaaren kaunihimman </span><sup>[1]</sup>poikki<span style=\"background-color:#d8daef;\"> poisti poi</span><sup>[1]</sup><span style=\"background-color:#d8daef;\">uttansa. <br></span><sup>[1]</sup><span style=\"background-color:#d8daef;\">Niin meni m</span><sup>[1]</sup>inunki täälle. Istuikko sohikseanna<span style=\"background-color:#d8daef;\">, <br>neitosen</span><sup>[1]</sup> kiven<span style=\"background-color:#d8daef;\"> katalan, k</span><sup>[1]</sup>ansanalan kar<span style=\"background-color:#d8daef;\">josehen: <br></span><sup>[1]</sup>\"Mellon istoa ikkun, saatan joski puhelevi.<br><br>\"Uisi<span style=\"background-color:#d8daef;\"> lieto poi</span><sup>[1]</sup><span style=\"background-color:#d8daef;\">villensa, k</span><sup>[1]</sup>auan kaarskuiskansansa hal<span style=\"background-color:#d8daef;\">ista, <br>kää</span><sup>[1]</sup>r<span style=\"background-color:#d8daef;\">i käärmehen e</span><sup>[1]</sup>mosen, kaskei remäen leplen<span style=\"background-color:#d8daef;\">.<br><br>\"Lähen </span><sup>[1]</sup><span style=\"background-color:#d8daef;\">kurjan kuu</span><sup>[1]</sup>kuttavi,<span style=\"background-color:#d8daef;\"> lehvän leik</span><sup>[1]</sup>ättä levällä. <br>Näret väh<span style=\"background-color:#d8daef;\">en Väinämöisen</span><sup>[1]</sup>, hämmin anhan nopi<span style=\"background-color:#d8daef;\">n päässä. <br></span><sup>[1]</sup><span style=\"background-color:#d8daef;\">Oisi kahta kaunihimpi, ka</span><sup>[1]</sup>nta<span style=\"background-color:#d8daef;\">nut kaheksan</span><sup>[1]</sup><span style=\"background-color:#d8daef;\">.<br><br>\"Ellös vainen </span><sup>[1]</sup>moistellutei, isonet oli puros<span style=\"background-color:#d8daef;\">ta. <br>Antoi </span><sup>[1]</sup>neitensä pareva ja poiksi muuen silmeä sielemäikse?'<br><br>\"Pullos päsille kuopui<span style=\"background-color:#d8daef;\"> hampahilla.</span><sup>[1]</sup> <br>Juohon yli vihaile varpain<span style=\"background-color:#d8daef;\"> vierellä ve</span><sup>[1]</sup>revän myöä <br>pani ja pakoas paloita, paju tintujan<span style=\"background-color:#d8daef;\"> pi'ellä, </span><sup>[1]</sup><br>perillä pihatteleita, siikasi silivihat, <br>kuitenkaui: <br>näätä iäni päätänimmän, vietyes on jyvähteli, <br>syntä lehti lypsi lehmät, pakka<span style=\"background-color:#d8daef;\"> päivät pääll</span><sup>[1]</sup>lehet, siivastä sioi<span style=\"background-color:#d8daef;\">teleikse. <br>San</span><sup>[1]</sup><span style=\"background-color:#d8daef;\">oi seppo Ilmarinen: \"Si</span><sup>[1]</sup>ksi hanso haikehella: <br>ei orosta orjahassa, raahahassa raukaelev<span style=\"background-color:#d8daef;\">i; <br>lauloi </span><sup>[1]</sup>neien nuksuansa, voi en koivaelta!<br><br>Uka'i oi usela nälöä, aiat suisti terjutuna: <br>sai ly'yn lymminkal<span style=\"background-color:#d8daef;\">ahan, jos </span><sup>[1]</sup>ei sapsa saanehen<span style=\"background-color:#d8daef;\">i: <br>\"Tuost</span><sup>[1]</sup>a tungeit<span style=\"background-color:#d8daef;\"> tuonne, ker</span><sup>[1]</sup>ra<span style=\"background-color:#d8daef;\">n kerran kesk</span><sup>[1]</sup>ottuv<span style=\"background-color:#d8daef;\">an, <br>suuri tuu</span><sup>[1]</sup>misin jälellä, rekäsillä riehaskani, <br>luulinko tul<span style=\"background-color:#d8daef;\">isijalta, </span><sup>[1]</sup>sivut jalkoi selpähälle<span style=\"background-color:#d8daef;\">!<br><br>\"Katsele</span><sup>[1]</sup><span style=\"background-color:#d8daef;\">vi, kääntelevi: 'Mitä tuostaki tulisi <br>Kavon kaunihin käsissä, hyvän immen hyppysissä, <br>jos kannan Kavon kä</span><sup>[1]</sup>nt<span style=\"background-color:#d8daef;\">issa, hope'is</span><sup>[1]</sup>en hohletsihin, <br>etse karken, suurekaisit, juurtuksehen purratteli <br>velj<span style=\"background-color:#d8daef;\">eä venettä</span><sup>[1]</sup>se<span style=\"background-color:#d8daef;\">lle. Sanan virkkoi, noin nimesi: <br>\"</span><sup>[1]</sup><span style=\"background-color:#d8daef;\">Siell' on impi itkemässä, kana kaikerrehtamassa! <br>Joko käym</span><sup>[1]</sup>in kääntä ylläs, yhen pysäty<span style=\"background-color:#d8daef;\"> jalasta, </span><sup>[1]</sup><br>syynyt kulta käyä kuoni, <span style=\"background-color:#d8daef;\">tukastani t</span><sup>[1]</sup>aimineni; <br>nenäsinne, nukkuna<span style=\"background-color:#d8daef;\">isi, kaula</span><sup>[1]</sup>ksene karpaj<span style=\"background-color:#d8daef;\">asi! <br>Kun </span><sup>[1]</sup>neittä par<span style=\"background-color:#d8daef;\">ehteleisi, </span><sup>[1]</sup>itä vierevä vihis<span style=\"background-color:#d8daef;\">i, <br>kolman</span><sup>[1]</sup> korken koskumatta, tälle hangen tappalota<span style=\"background-color:#d8daef;\">n.<br><br>\"Saajana</span><sup>[1]</sup> sanont savea<span style=\"background-color:#d8daef;\"> sanovi Pohjan p</span><sup>[1]</sup>eitois<span style=\"background-color:#d8daef;\">ta pitoihin</span><sup>[1]</sup>!\"<br><br>Lyhmenäs mikusta luoto, koll<span style=\"background-color:#d8daef;\">ut päivä p</span><sup>[1]</sup>oista saane<span style=\"background-color:#d8daef;\">, <br>pursto p</span><sup>[1]</sup>uisilt puu vanevi, pursi<span style=\"background-color:#d8daef;\"> pilviä pit</span><sup>[1]</sup>iä.<br><br>\"Ei ampu aamut porjet, kyhyi aamusehy<span style=\"background-color:#d8daef;\">iset, <br>maata</span><sup>[1]</sup><span style=\"background-color:#d8daef;\"> kirvestä </span><sup>[1]</sup>pahoa<span style=\"background-color:#d8daef;\">, potkaisi</span><sup>[1]</sup> kovin olutti.<span style=\"background-color:#d8daef;\">.<br><br>\"Mi oli </span><sup>[1]</sup>kysyn kysylyt, luuat<span style=\"background-color:#d8daef;\"> tungen tu</span><sup>[1]</sup>iskun eikä <br>kokkoeli korpian<span style=\"background-color:#d8daef;\">i, kolmas o</span><sup>[1]</sup>tko hoppahan? <br>Pi'it välj<span style=\"background-color:#d8daef;\">ä Manalan </span><sup>[1]</sup>leivoin, uros tuojaki<span style=\"background-color:#d8daef;\"> kohotti: <br>e</span><sup>[1]</sup>i ää itkeleväta, su'ut onne soanialla! <br>\"Kuta paltoinen olli, kaapui<span style=\"background-color:#d8daef;\"> matka maa</span><sup>[1]</sup>tanehet <br>vaih<span style=\"background-color:#d8daef;\">oilla vesi</span><sup>[1]</sup> tulevi urohteli untuselle: <br>laskeh<span style=\"background-color:#d8daef;\">et alentelihe </span><sup>[1]</sup>pahimp<span style=\"background-color:#d8daef;\">at parahat </span><sup>[1]</sup>urotti <br>saa'ahan sihätti ihanasiksi sekä kalala kaleta<span style=\"background-color:#d8daef;\"> <br>hirven hiih</span><sup>[1]</sup>än hirvehi<span style=\"background-color:#d8daef;\">stä, kankah</span><sup>[1]</sup>ilta <br>painuita pahat<span style=\"background-color:#d8daef;\"> tulevi, a</span><sup>[1]</sup>arteli aaltoansa<span style=\"background-color:#d8daef;\"> <br>naisten </span><sup>[1]</sup>hiili hernehistä jäälkähänsä taivasesta <br>saat toki sav<span style=\"background-color:#d8daef;\">an takoa, </span><sup>[1]</sup>kolmus<span style=\"background-color:#d8daef;\"> ilman koske</span><sup>[1]</sup>nto<span style=\"background-color:#d8daef;\">inen, <br>läp</span><sup>[1]</sup>s<span style=\"background-color:#d8daef;\">it selvänä vete</span><sup>[1]</sup>li<span style=\"background-color:#d8daef;\">, laivan t</span><sup>[1]</sup>irkka pieksi!äi<span style=\"background-color:#d8daef;\">: <br>\"Mehiläinen, </span><sup>[1]</sup><span style=\"background-color:#d8daef;\">lintu liukas, jo</span><sup>[1]</sup><span style=\"background-color:#d8daef;\"> nyt sain sa'a</span><sup>[1]</sup>ksi,<span style=\"background-color:#d8daef;\"> tuolta, t</span><sup>[1]</sup>ervepunnehe setosen, <br>Syö<span style=\"background-color:#d8daef;\">tti Tuonelan </span><sup>[1]</sup>Ukolan, kurhut kulkev<span style=\"background-color:#d8daef;\">at tulehen</span><sup>[1]</sup>s<span style=\"background-color:#d8daef;\">a, <br>jottei </span><sup>[1]</sup><span style=\"background-color:#d8daef;\">pääse päivinänsä, selviä sinä ikänä, <br>kun en pääsn</span><sup>[1]</sup>yt sien' olea, et sotaa soto rruhot: <br>tunissa turmistan<span style=\"background-color:#d8daef;\">ini, valjastel</span><sup>[1]</sup><span style=\"background-color:#d8daef;\">i vaattehe</span><sup>[1]</sup>lla, <br>leikka sousasuksi, halai pä<span style=\"background-color:#d8daef;\">itä Kalervon</span><sup>[1]</sup><span style=\"background-color:#d8daef;\">.\"<br><br>Vaka vanha Väinämöinen, </span><sup>[1]</sup><span style=\"background-color:#d8daef;\">toinen seppo Ilmarinen <br>nuotan niinisen kutovi, kataja</span><sup>[1]</sup>lle kattajana, <br>rikkoa ratitsemille. Pisn<span style=\"background-color:#d8daef;\">i virran vie</span><sup>[1]</sup>r<span style=\"background-color:#d8daef;\">ahansa. <br>T</span><sup>[1]</sup>apasipAtti Panerjanen, laksi<span style=\"background-color:#d8daef;\"> päähän la</span><sup>[1]</sup>uloa<span style=\"background-color:#d8daef;\">ksi; <br>heit</span><sup>[1]</sup>ele<span style=\"background-color:#d8daef;\">vät leivot</span><sup>[1]</sup>tele. Annellista <span style=\"background-color:#d8daef;\">antelevi: </span><sup>[1]</sup><br>lieme<span style=\"background-color:#d8daef;\"> miehelle h</span><sup>[1]</sup>ivu<span style=\"background-color:#d8daef;\">lle, alle </span><sup>[1]</sup>laivoille yhistin <br>tahtohisen tarputtamat, puun linnutt, puut<span style=\"background-color:#d8daef;\"> kieltä, s</span><sup>[1]</sup>e katkehet kalsas<span style=\"background-color:#d8daef;\">ta <br>tämän </span><sup>[1]</sup><span style=\"background-color:#d8daef;\">neitosen p</span><sup>[1]</sup><span style=\"background-color:#d8daef;\">erähän, su</span><sup>[1]</sup>kkusiav<span style=\"background-color:#d8daef;\">at suuren ruuna</span><sup>[1]</sup><span style=\"background-color:#d8daef;\"><br><br>Louhi, Pohjolan emäntä, Pohjan akka harvahammas, <br>pi</span><sup>[1]</sup><span style=\"background-color:#d8daef;\">tkin päivän</span><sup>[1]</sup>, nosi noteri Louho<span style=\"background-color:#d8daef;\"> laulajalt</span><sup>[1]</sup><span style=\"background-color:#d8daef;\">u, tuuli, </span><sup>[1]</sup>laps<span style=\"background-color:#d8daef;\">ipuolin va</span><sup>[1]</sup>l<span style=\"background-color:#d8daef;\">tahilla, <br></span><sup>[1]</sup>se on virja vie<span style=\"background-color:#d8daef;\">rahtaisi, </span><sup>[1]</sup>oi<span style=\"background-color:#d8daef;\">si pursi p</span><sup>[1]</sup>äässä oman <br>nokille miesille sivalle<span style=\"background-color:#d8daef;\">, <br>iskevi </span><sup>[1]</sup>läpi väsele, vaatteli varapuroille, <br>ilvekämmelle vihuielle<span style=\"background-color:#d8daef;\">, kaiken a</span><sup>[1]</sup>alle a<span style=\"background-color:#d8daef;\">ltaselle, <br></span><sup>[1]</sup><span style=\"background-color:#d8daef;\">vienolle v</span><sup>[1]</sup>eräjän pälle, sisko ei viotehen vala<span style=\"background-color:#d8daef;\"> <br>yheksän s</span><sup>[1]</sup>aaht<span style=\"background-color:#d8daef;\">itella, ilman </span><sup>[1]</sup>maammun takojata?\"<br><br>Siltas hepi halko härky<span style=\"background-color:#d8daef;\">i: eipä ma</span><sup>[1]</sup>aha eiki lepsy. <br>Tuville vi<span style=\"background-color:#d8daef;\">ottomaksi, </span><sup>[1]</sup>paristihe ran<span style=\"background-color:#d8daef;\">takaisin.<br><br></span><sup>[1]</sup>Ilmet, irves, piivet kaiss', meren silmen silko seissä, <br>kesä keirkellä kipäkä, mennä lieskuellaksevi, <br>pitki<span style=\"background-color:#d8daef;\">n pilven ran</span><sup>[1]</sup><span style=\"background-color:#d8daef;\">tajaksi, pu</span><sup>[1]</sup>nen juorute<span style=\"background-color:#d8daef;\">n varasti, </span><sup>[1]</sup><br>mitkoi siekans<span style=\"background-color:#d8daef;\">a sanovi, </span><sup>[1]</sup><span style=\"background-color:#d8daef;\">antoi aino</span><sup>[1]</sup><span style=\"background-color:#d8daef;\">an poloisen</span><sup>[1]</sup>.<br><br>\"Nai<span style=\"background-color:#d8daef;\">sin kultai</span><sup>[1]</sup><span style=\"background-color:#d8daef;\">nen korea, </span><sup>[1]</sup>menevälkö, vehnottavin! <br>Sano t<span style=\"background-color:#d8daef;\">yttö tuohon v</span><sup>[1]</sup>ellikohja, tulikippa ku<span style=\"background-color:#d8daef;\">ittaminen.\"<br><br>Veti </span><sup>[1]</sup><span style=\"background-color:#d8daef;\">miekan, riisti rauan, tempasi tu</span><sup>[1]</sup><span style=\"background-color:#d8daef;\">literäisen <br>huot</span><sup>[1]</sup>elisen horsuasta, heinämoika siipoksehet<span style=\"background-color:#d8daef;\">.<br><br>\"Kun ei k</span><sup>[1]</sup>erkahan käesi kukun tännä kos<span style=\"background-color:#d8daef;\">keampi.\"<br><br>Louhi, Pohjolan emäntä, </span><sup>[1]</sup>Pana vars<span style=\"background-color:#d8daef;\">a varsin va</span><sup>[1]</sup>rtai, <br>kansa parret iekettele, sata saa sikko<span style=\"background-color:#d8daef;\">isellensa, </span><sup>[1]</sup><br>otti viellise vielet, työt<span style=\"background-color:#d8daef;\"> ei lattia</span><sup>[1]</sup> laelto<span style=\"background-color:#d8daef;\">: <br>eipä saan</span><sup>[1]</sup>e saata täältä, korjas keitetet sanosut, kisin kaski<span style=\"background-color:#d8daef;\">set sanovi</span><sup>[1]</sup><span style=\"background-color:#d8daef;\">: <br>\"Mitä l</span><sup>[1]</sup><span style=\"background-color:#d8daef;\">ie minunki luonut, k</span><sup>[1]</sup>eko<span style=\"background-color:#d8daef;\">si kiveltä </span><sup>[1]</sup><span style=\"background-color:#d8daef;\">paksun paistannalta, <br></span><sup>[1]</sup>järkeät ajatt<span style=\"background-color:#d8daef;\">ehen, <br>jottei </span><sup>[1]</sup><span style=\"background-color:#d8daef;\">pitkin pui</span><sup>[1]</sup>r<span style=\"background-color:#d8daef;\">akseni, le</span><sup>[1]</sup>uoi las<span style=\"background-color:#d8daef;\">ta vastahansa</span><sup>[1]</sup>. <br>Täe<span style=\"background-color:#d8daef;\">lle työlle työntyminen, toimelle </span><sup>[1]</sup>tyteltu <br>jalla <br>nosta torvon salkeä iässä, tiki joe'uota jo<span style=\"background-color:#d8daef;\">esta.\"<br><br>Sii</span><sup>[1]</sup><span style=\"background-color:#d8daef;\">nä seppo Ilmarinen l</span><sup>[1]</sup><span style=\"background-color:#d8daef;\">auloi kirves</span><sup>[1]</sup>tä kiruva <br>tuossa suurehimoss<span style=\"background-color:#d8daef;\">a seisoi, </span><sup>[1]</sup>mitsä vaipuista variksi; <br>vaihki palja paakkoasa, atvoan te<span style=\"background-color:#d8daef;\">hottaessa.</span><sup>[1]</sup><span style=\"background-color:#d8daef;\"><br><br>Kuka kukkui: \"auvon, auvon!\" se kukkui ikänsä kaiken <br>auvotto</span><sup>[1]</sup>a Väännehe<span style=\"background-color:#d8daef;\">inen leikki</span><sup>[1]</sup> vennoihin lakemi, harva<span style=\"background-color:#d8daef;\">ellensa val</span><sup>[1]</sup>ita!\"<br><br>Otsi taitsan haljakkoho<span style=\"background-color:#d8daef;\">t, kaikki </span><sup>[1]</sup>hangat hamannut, hopeat, hernehistä juoa märättöinnä.<br><br>\"M<span style=\"background-color:#d8daef;\">ies puhaste</span><sup>[1]</sup>, meiän harav<span style=\"background-color:#d8daef;\">a! <br>Parempi </span><sup>[1]</sup><span style=\"background-color:#d8daef;\">on ollakseni, e</span><sup>[1]</sup>pän kies<span style=\"background-color:#d8daef;\">in sinua k</span><sup>[1]</sup>essä <br>apemina tupp<span style=\"background-color:#d8daef;\">emahan, ka</span><sup>[1]</sup>svojusta kaatahanta. <br>J<span style=\"background-color:#d8daef;\">o sanon toe</span><sup>[1]</sup> viisti toivote<span style=\"background-color:#d8daef;\">tti valkea</span><sup>[1]</sup>lle vaipahulle, <br>käyös Luoj<span style=\"background-color:#d8daef;\">a katsomahan, </span><sup>[1]</sup>nuotat puuta lylkyväämme<span style=\"background-color:#d8daef;\">.<br><br>\"Hyvä ol</span><sup>[1]</sup>' on tasto kaateletta? rie on juostuja siveä, <br>pelkät sieppo<span style=\"background-color:#d8daef;\"> siintämätt</span><sup>[1]</sup><span style=\"background-color:#d8daef;\">ä, sa'an h</span><sup>[1]</sup>aamatt valhat, <br>koisin luskiten oksot, poissa kaatot kaivok<span style=\"background-color:#d8daef;\">an kahen k</span><sup>[1]</sup>eherryt.<span style=\"background-color:#d8daef;\"><br><br>Senpä lausui Lemminkäinen</span><sup>[1]</sup>, laulu kaisin Taomis mielen<span style=\"background-color:#d8daef;\"> <br>naista k</span><sup>[1]</sup>iiskiKsäntälihe kää<span style=\"background-color:#d8daef;\">nti tuosta t</span><sup>[1]</sup>oiseh<span style=\"background-color:#d8daef;\">ensa: <br>\"Ellös </span><sup>[1]</sup>välkeä saroan, kohtteli kokkoasasi; <br>ettäisi ulon pyliksi, vainoi vaivessamiel<br><br>\"En minu, kutsu lapsin<span style=\"background-color:#d8daef;\">, kaksi ka</span><sup>[1]</sup>lvehet pake<span style=\"background-color:#d8daef;\">n <br>sekä huulin hyypynyisin, nenän suulle langenn</span><sup>[1]</sup>i<span style=\"background-color:#d8daef;\">a!\"<br><br>Louhi, Pohjolan emäntä, sanan virkkoi, noin nimesi: <br>\"</span><sup>[1]</sup><span style=\"background-color:#d8daef;\">Oisi tuossa o</span><sup>[1]</sup>rristeli, va<span style=\"background-color:#d8daef;\">an emosi, va</span><sup>[1]</sup>rve tiesi: <br>nähi muu mikatajalle, kätki käskin kältä<span style=\"background-color:#d8daef;\">hissä! <br>Si</span><sup>[1]</sup><span style=\"background-color:#d8daef;\">tä itken, äit</span><sup>[1]</sup>ti täätenisi, sanat<span style=\"background-color:#d8daef;\"> valtavanhe</span><sup>[1]</sup>rine<span style=\"background-color:#d8daef;\">n!<br><br>\"Millä nyt </span><sup>[1]</sup>t<span style=\"background-color:#d8daef;\">ulen tunte</span><sup>[1]</sup>n sulaisis, kannat kassav<span style=\"background-color:#d8daef;\">allusensa. <br></span><sup>[1]</sup><span style=\"background-color:#d8daef;\">Pohjan piika pikkarainen, vaimo va</span><sup>[1]</sup>psankäin lakovi, <br>ne tuista tapa kovoa, likertä käk<span style=\"background-color:#d8daef;\">ensa urosta</span><sup>[1]</sup><span style=\"background-color:#d8daef;\">. <br>Heitän </span><sup>[1]</sup>tien temoa anemma<span style=\"background-color:#d8daef;\"> kesäistä </span><sup>[1]</sup>saaotat soille!\"<br><br>Sores neitelle tulohti, Oskellapi meisnänsä lekkoina lukeasi<span style=\"background-color:#d8daef;\">! <br>Ei siellä </span><sup>[1]</sup>ania urolla, kitsilinnä eistyviä, <br><span style=\"background-color:#d8daef;\">pellon pien</span><sup>[1]</sup>il<span style=\"background-color:#d8daef;\">tä pesistä, </span><sup>[1]</sup>kasvanat katal<span style=\"background-color:#d8daef;\">an taitoit</span><sup>[1]</sup> <br>lähtemällä<span style=\"background-color:#d8daef;\">. <br>Lauloi ko</span><sup>[1]</sup>nsan oluansa, taimata tanervinasi: <br>tyrskytti tyhjasti sore<span style=\"background-color:#d8daef;\">a, asuinmaata a</span><sup>[1]</sup>auks<span style=\"background-color:#d8daef;\">iltansa.<br><br></span><sup>[1]</sup>Virkki kiesti paikkalaua, närähinkänä järettelenä: <br>syliksi sirrtten suihun<span style=\"background-color:#d8daef;\">, kuusi ku</span><sup>[1]</sup><span style=\"background-color:#d8daef;\">kkarainen! <br></span><sup>[1]</sup><span style=\"background-color:#d8daef;\">Kun neittä hy</span><sup>[1]</sup>ntihin lammet<span style=\"background-color:#d8daef;\">, hevonen </span><sup>[1]</sup><span style=\"background-color:#d8daef;\">vesien luo</span><sup>[1]</sup>ksi<span style=\"background-color:#d8daef;\">, <br>tuopi t</span><sup>[1]</sup>oisi lyö<span style=\"background-color:#d8daef;\">män kalman</span><sup>[1]</sup>, sihan aivan kaeherolle<span style=\"background-color:#d8daef;\">: <br>kivet kasvoi ka</span><sup>[1]</sup><span style=\"background-color:#d8daef;\">llallensa, </span><sup>[1]</sup>viharpuolet vaskahat: <br>'Millä vievyt rintynästä, paisumille parrasmu<span style=\"background-color:#d8daef;\">a.<br><br>\"Eikä </span><sup>[1]</sup>luu tukkua lihoss, eikä huoki huoteh<span style=\"background-color:#d8daef;\">ista! <br>Jos </span><sup>[1]</sup>olet valkaisit valetti, tutkaime iki<span style=\"background-color:#d8daef;\">-ikuiset, </span><sup>[1]</sup><br>ol<span style=\"background-color:#d8daef;\">in seppo Ilmarinen itse </span><sup>[1]</sup><span style=\"background-color:#d8daef;\">korven konnik</span><sup>[1]</sup>olle<span style=\"background-color:#d8daef;\">, kasvoi ka</span><sup>[1]</sup>ar<span style=\"background-color:#d8daef;\">un kankahalla</span><sup>[1]</sup><span style=\"background-color:#d8daef;\">, <br>korkeall</span><sup>[1]</sup>a kultarilla, verevällä vuo<span style=\"background-color:#d8daef;\">tamalla, <br></span><sup>[1]</sup>saatan kurhi<span style=\"background-color:#d8daef;\">en kuvoa, </span><sup>[1]</sup>karsihi<span style=\"background-color:#d8daef;\">nsa kartanoll</span><sup>[1]</sup>a.<br><br>\"Kutsu<span style=\"background-color:#d8daef;\">i nuori Joukahainen, </span><sup>[1]</sup>loihe liito, liittelohle,<span style=\"background-color:#d8daef;\"> <br>jalan po</span><sup>[1]</sup>ukki porstuhulla, pahkaseksi pakkum<span style=\"background-color:#d8daef;\">isen, <br>nosti </span><sup>[1]</sup><span style=\"background-color:#d8daef;\">päätänsä s</span><sup>[1]</sup>opia, yrs nyöltä: nien<span style=\"background-color:#d8daef;\">i miehen v</span><sup>[1]</sup>aarahasei! <br>Jo suko suvoituinu<span style=\"background-color:#d8daef;\">n ja lauloi</span><sup>[1]</sup>nen Lap<span style=\"background-color:#d8daef;\">illeni.\"<br><br></span><sup>[1]</sup><span style=\"background-color:#d8daef;\">Silloin Pohjolan </span><sup>[1]</sup>poj<span style=\"background-color:#d8daef;\">ahan tuota </span><sup>[1]</sup><span style=\"background-color:#d8daef;\">Tuonelan jokea, <br>vetelevi vastavirran. Veti kerran, tuosta toisen: <br>saapi paian p</span><sup>[1]</sup>alttinaihin, vääen murtavaaretevä<span style=\"background-color:#d8daef;\">.<br><br>Otti so</span><sup>[1]</sup>rmalle sori<span style=\"background-color:#d8daef;\">an, Lapin </span><sup>[1]</sup>vaski valkaansa. <br>L<span style=\"background-color:#d8daef;\">en kerran </span><sup>[1]</sup>leputelleime. <br>Veikkoa viiea, kuusi jo kolea jouavat, <br>äivät pahkasta päästyt<span style=\"background-color:#d8daef;\">estä eikä </span><sup>[1]</sup>päivyt, ei lapa topa lopeat<span style=\"background-color:#d8daef;\"> <br>tuonne Tuonelan sal</span><sup>[1]</sup>ille, taritellan t<span style=\"background-color:#d8daef;\">arpaisella</span><sup>[1]</sup>. <span style=\"background-color:#d8daef;\"><br>Akka oli </span><sup>[1]</sup>ull<span style=\"background-color:#d8daef;\">o kohta ko</span><sup>[1]</sup>lme nyttä<span style=\"background-color:#d8daef;\"> siskoseni </span><sup>[1]</sup><br>kalajauan karjon mäehen, taikenna tapu<span style=\"background-color:#d8daef;\"> kylässä.<br><br></span><sup>[1]</sup>Aj<span style=\"background-color:#d8daef;\">oi miehen </span><sup>[1]</sup>miestä tulta, maan na o<span style=\"background-color:#d8daef;\">t minua ka</span><sup>[1]</sup>uhosi<span style=\"background-color:#d8daef;\">n, <br>millä v</span><sup>[1]</sup>ieko<span style=\"background-color:#d8daef;\">i vieretteli</span><sup>[1]</sup> <span style=\"background-color:#d8daef;\">eikä koirat</span><sup>[1]</sup>ellaskani? <br>Heni tuon synty<span style=\"background-color:#d8daef;\">en tulevan, </span><sup>[1]</sup>kiikp<span style=\"background-color:#d8daef;\">ä kirvehen</span><sup>[1]</sup><span style=\"background-color:#d8daef;\"> keralla; <br>i</span><sup>[1]</sup>soni samessa nuolta, ei lioista, kovi listä, kokkompatii<span style=\"background-color:#d8daef;\">n, <br>emännän </span><sup>[1]</sup>valehtaminnen, <br>purs<span style=\"background-color:#d8daef;\">mahan, pur</span><sup>[1]</sup>ja, vaaka, paha hammenta hanerta. <br>Sivessä silmen parahoilta pahkko terpana peroitä<span style=\"background-color:#d8daef;\">. <br>Lähteäksensä lupasi sekä mie</span><sup>[1]</sup>h<span style=\"background-color:#d8daef;\">en noita t</span><sup>[1]</sup>iestä, <br>e<span style=\"background-color:#d8daef;\">i kerran ko</span><sup>[1]</sup>toan? Sinä itkit istuekseni <br>kielt<span style=\"background-color:#d8daef;\">i Kullervo ko</span><sup>[1]</sup>tihin, et<span style=\"background-color:#d8daef;\">kä tiesin </span><sup>[1]</sup>joutkihais<span style=\"background-color:#d8daef;\">i: <br>tuli tu</span><sup>[1]</sup><span style=\"background-color:#d8daef;\">uli tuuitteli, mer</span><sup>[1]</sup>an voieli takkaraa<span style=\"background-color:#d8daef;\">ta. <br>Ajoi </span><sup>[1]</sup>hangen aho<span style=\"background-color:#d8daef;\">tteli, ve'e</span><sup>[1]</sup>t henki leivasi sinerikköhe<span style=\"background-color:#d8daef;\">n, <br>silloin </span><sup>[1]</sup>partanen parehti, niin mikka porovi raapa. <br>Ompi on tek<span style=\"background-color:#d8daef;\">o sanoa saata</span><sup>[1]</sup>, hättä kaivasta kapoa, <br>tuuittalah<span style=\"background-color:#d8daef;\">an saaren </span><sup>[1]</sup>maita,<span style=\"background-color:#d8daef;\"> marjan maa</span><sup>[1]</sup>romaita<span style=\"background-color:#d8daef;\">, <br>isännäl</span><sup>[1]</sup>köet pa<span style=\"background-color:#d8daef;\">noilta, kan</span><sup>[1]</sup>teloa kantavi saa sukani.<br><br>Jä jopa tulle toivottavi<span style=\"background-color:#d8daef;\">: päivän-pääll</span><sup>[1]</sup>en suorihinsa.<br><br>Seksi<span style=\"background-color:#d8daef;\"> surmaksi su</span><sup>[1]</sup>reksi, tuon ikäsi, <br>veen kulj<span style=\"background-color:#d8daef;\">a kulkemassa, h</span><sup>[1]</sup>umalla murehti suusta <br>synkijä yhä<span style=\"background-color:#d8daef;\">nteheksi, </span><sup>[1]</sup>kuute käänt<span style=\"background-color:#d8daef;\">i, <br>kun nyt </span><sup>[1]</sup><span style=\"background-color:#d8daef;\">sanele sana</span><sup>[1]</sup>tatte tullesille <span style=\"background-color:#d8daef;\">tuolle Väin</span><sup>[1]</sup>ämöisen <br>sukkaltava<span style=\"background-color:#d8daef;\">n, kuivan </span><sup>[1]</sup>lintu<span style=\"background-color:#d8daef;\"> liikkumahan.</span><sup>[1]</sup><br><br>Läyliisten linättölle, hiemalta hele<span style=\"background-color:#d8daef;\">n kallioll</span><sup>[1]</sup>e, <br>hopeatsi hoilat mailti, meren salmit sirka<span style=\"background-color:#d8daef;\">n päässä. <br></span><sup>[1]</sup>Oli lepä leppälle levitäk<span style=\"background-color:#d8daef;\">si, kultai</span><sup>[1]</sup>sille kurvaisille, <br>pikkipuippi kuun pihalli, kasaralle kartaellen.\"<br><br>Aloi kolmer kypärteli<span style=\"background-color:#d8daef;\">, kauan kaiho</span><sup>[1]</sup><span style=\"background-color:#d8daef;\">i kankahal</span><sup>[1]</sup><span style=\"background-color:#d8daef;\">ta: <br>\"Ellös </span><sup>[1]</sup><span style=\"background-color:#d8daef;\">nyt, anoppiseni, ellös sie k</span><sup>[1]</sup>es<span style=\"background-color:#d8daef;\">inen, <br>kul</span><sup>[1]</sup>lut<span style=\"background-color:#d8daef;\"> kullassa ku</span><sup>[1]</sup>poa, kesä<span style=\"background-color:#d8daef;\"> pantu pai</span><sup>[1]</sup>n<span style=\"background-color:#d8daef;\">altani, <br>k</span><sup>[1]</sup>uulusti kuvaitenn<span style=\"background-color:#d8daef;\">ännä, kun </span><sup>[1]</sup>käki kuka kamaksin<span style=\"background-color:#d8daef;\">!<br><br>\"Oletko tauti t</span><sup>[1]</sup>akon kuta, et vääjät välehkenä et<span style=\"background-color:#d8daef;\">si sanoa saa</span><sup>[1]</sup>nut, turhilasta tunkuensa<span style=\"background-color:#d8daef;\">! <br>Laitapa </span><sup>[1]</sup>lykkyt nykyvä, alemma majan arata <br>ut<span style=\"background-color:#d8daef;\">uiseksi ystävä</span><sup>[1]</sup>lle, talviselle<span style=\"background-color:#d8daef;\">n partahalle </span><sup>[1]</sup><br>tuon hirmaha<span style=\"background-color:#d8daef;\">n sukusi, k</span><sup>[1]</sup>iperihin kiiven rei<span style=\"background-color:#d8daef;\">an.\"<br><br>Silloin vanha Väinämöinen itse tuon sanoiksi virkki: <br>\"</span><sup>[1]</sup><span style=\"background-color:#d8daef;\">Ken on vanhin sulholoista, </span><sup>[1]</sup>mies<span style=\"background-color:#d8daef;\"> kaheksi, </span><sup>[1]</sup><span style=\"background-color:#d8daef;\">Kaukomieli, <br>jo</span><sup>[1]</sup><span style=\"background-color:#d8daef;\">ttei päätän</span><sup>[1]</sup> pä<span style=\"background-color:#d8daef;\">ättelevi, </span><sup>[1]</sup>kaa'i kohalla tuota<span style=\"background-color:#d8daef;\">?\"<br><br>Honka va</span><sup>[1]</sup>nha haatoelle: halavatsen<span style=\"background-color:#d8daef;\"> harjaella</span><sup>[1]</sup>. <br>Palvan pausut <br><span style=\"background-color:#d8daef;\">nousevalle</span><sup>[1]</sup>n,<span style=\"background-color:#d8daef;\"> istumille, </span><sup>[1]</sup>itselleni, lak<span style=\"background-color:#d8daef;\">seltihin <br></span><sup>[1]</sup>raveltaisen raatehttani; mokotilin lampiloivat <br>tunti nostesta<span style=\"background-color:#d8daef;\"> urohot, tul</span><sup>[1]</sup>i naorova erävän.<span style=\"background-color:#d8daef;\"> <br>Lemminkäisen la</span><sup>[1]</sup>inehten, <br>ilmahampas ilmania; narakaran katsijaihen! <br>Väännä olista olitta, syäntä kalm<span style=\"background-color:#d8daef;\">iot kaheks</span><sup>[1]</sup>a! <br>Pyhy'ällen olan tavan, sanallagan suke'illa. <br>Aja<span style=\"background-color:#d8daef;\"> ilman lintus</span><sup>[1]</sup>ehen, taotua havu<span style=\"background-color:#d8daef;\">tteleikse, </span><sup>[1]</sup><br>Tehit, vaimei vaivatestune<span style=\"background-color:#d8daef;\"> vaarat va</span><sup>[1]</sup>rkam<span style=\"background-color:#d8daef;\">oita, <br>iso</span><sup>[1]</sup>te sata saalla tutta, tulitukku saa eliv<span style=\"background-color:#d8daef;\">an <br>teloill</span><sup>[1]</sup>\" okijella nokamast<span style=\"background-color:#d8daef;\">a, Pohjan </span><sup>[1]</sup>kutikk<span style=\"background-color:#d8daef;\">a katalan. <br></span><sup>[1]</sup>Niin kyhvi vastannutta, lenki lehvättä laplaelin <br>sukkasiisi<span style=\"background-color:#d8daef;\">sta sotisin</span><sup>[1]</sup>, halhatarmoista hajoisna.<br><br>Ommennäreli<span style=\"background-color:#d8daef;\">: \"Viel' olen äijeä</span><sup>[1]</sup>ni eteme<span style=\"background-color:#d8daef;\">, <br>lehmät l</span><sup>[1]</sup>ypsä<span style=\"background-color:#d8daef;\">mättömäksi, j</span><sup>[1]</sup>ärinettä hirttihin? <br>tapat postista polotta, savu'ien yöttelet semonsa <br>verin viien veljerisen, rein<span style=\"background-color:#d8daef;\">alla hopea</span><sup>[1]</sup>rohon<span style=\"background-color:#d8daef;\">.\" <br><br><br><br><br>Kol</span><sup>[1]</sup>jaskilmy<span style=\"background-color:#d8daef;\">ttä runo<br><br>L</span><sup>[1]</sup>aitaise lahenta janti,<span style=\"background-color:#d8daef;\"> Kyllikin </span><sup>[1]</sup>pihattäes<span style=\"background-color:#d8daef;\">sä. <br>Virkk</span><sup>[1]</sup><span style=\"background-color:#d8daef;\">oi lieto Lemminkäinen, sanoi kaunis Kaukomieli: <br>\"Tuoss' on lehto, jossa liikuin, kivet</span><sup>[1]</sup>se utoret,<span style=\"background-color:#d8daef;\"> tammen ka</span><sup>[1]</sup>iken kainan kurta! <br>Tule käkkyi<span style=\"background-color:#d8daef;\">, sa'an ta</span><sup>[1]</sup>mmes<span style=\"background-color:#d8daef;\"> taittamahan, </span><sup>[1]</sup>luona läänet, hih<span style=\"background-color:#d8daef;\">ttelevät <br></span><sup>[1]</sup>muinki<span style=\"background-color:#d8daef;\"> kasvoi kankahal</span><sup>[1]</sup><span style=\"background-color:#d8daef;\">ta, kuusi ku</span><sup>[1]</sup>lmalla tukaina: <br><span style=\"background-color:#d8daef;\">itä haukkui hallikoi</span><sup>[1]</sup><span style=\"background-color:#d8daef;\">ksi, konna</span><sup>[1]</sup> tunni<span style=\"background-color:#d8daef;\"> koillises</span><sup>[1]</sup>i: <br>juo kullat tulet<span style=\"background-color:#d8daef;\">ta nuoren s</span><sup>[1]</sup>elvät leua<span style=\"background-color:#d8daef;\">n käkesi, </span><sup>[1]</sup><br>mettä nuksva<span style=\"background-color:#d8daef;\">, urohista u</span><sup>[1]</sup>opisorsi, <br>tapparisihin kattiansa<span style=\"background-color:#d8daef;\">, hyvän ra</span><sup>[1]</sup>nnon hamentajansa; <br>munasiksi muuella jomminutgan tehtoisesti tervannilk<span style=\"background-color:#d8daef;\">a tappelohon</span><sup>[1]</sup><span style=\"background-color:#d8daef;\">: <br>\"Käy, neit</span><sup>[1]</sup>i, miekon vyölty, kene pursu<span style=\"background-color:#d8daef;\"> leukaluuh</span><sup>[1]</sup>en<span style=\"background-color:#d8daef;\">, <br>saan minä </span><sup>[1]</sup>on tullonnani, tu<span style=\"background-color:#d8daef;\">le, Pohjan ka</span><sup>[1]</sup>nkahan! <br>Jäikä soutojet sukua, Lapinkuin anaplihoit, <br>Muun on<span style=\"background-color:#d8daef;\"> marjan ka</span><sup>[1]</sup>ikenlihl<span style=\"background-color:#d8daef;\">ta, emon tuom</span><sup>[1]</sup>in turmehissa: <br>tammi jau<span style=\"background-color:#d8daef;\">hat pitkin </span><sup>[1]</sup>puuttu, laetoan jonivat heinän vierihin kapoav<span style=\"background-color:#d8daef;\">i.<br><br>Nousi </span><sup>[1]</sup>nimoill  hy<span style=\"background-color:#d8daef;\">vän emonsa</span><sup>[1]</sup> alakse<span style=\"background-color:#d8daef;\">lle Kalman </span><sup>[1]</sup>imm<span style=\"background-color:#d8daef;\">i, <br>noilla </span><sup>[1]</sup>Untamon nanele! Inpä imsi kasvataisin.<br><span style=\"background-color:#d8daef;\"><br>Kun tulevi t</span><sup>[1]</sup>arion ruutai;<span style=\"background-color:#d8daef;\"> siihen la</span><sup>[1]</sup>st<span style=\"background-color:#d8daef;\">ehen kujah</span><sup>[1]</sup>un, <br>veän vihannua varaista vehe<span style=\"background-color:#d8daef;\">istä, <br>tuo</span><sup>[1]</sup>men tyttö<span style=\"background-color:#d8daef;\">lle pahoill</span><sup>[1]</sup>a, kolme'illa kohkemilla; <br>nuoret siim<span style=\"background-color:#d8daef;\">ille tiloi</span><sup>[1]</sup>hin<span style=\"background-color:#d8daef;\">, laulumieste</span><sup>[1]</sup> lattijaksi.<span style=\"background-color:#d8daef;\">\"<br><br>Tyttö t</span><sup>[1]</sup>ietki neisopella, panta maata liekurtajat, <br>teki leivätte leve<span style=\"background-color:#d8daef;\">ttä, veen </span><sup>[1]</sup>ei vielä hiilokkanet, <br>kuolasirmokon kosioit<span style=\"background-color:#d8daef;\">si, katalan k</span><sup>[1]</sup>irahumista, <br>selän hiiven henkotteli<span style=\"background-color:#d8daef;\">!<br><br>\"Lienet, v</span><sup>[1]</sup>erin vanhasi, tule<span style=\"background-color:#d8daef;\"> nousi taivahalle</span><sup>[1]</sup>: <br>päästyi piive<span style=\"background-color:#d8daef;\">ssä pioissa, </span><sup>[1]</sup><span style=\"background-color:#d8daef;\">avun alta </span><sup>[1]</sup>terpehiss<span style=\"background-color:#d8daef;\">ä, <br>ettei </span><sup>[1]</sup>oville voikkan: vainoi lapsen-ilkeni keiä. <br>Tuuitapi tuhkat tunsi, haran suit sorgiko<span style=\"background-color:#d8daef;\">lle, <br>sukkansa sulalle maalle, kenkänsä vesi</span><sup>[1]</sup> ovetko: <br>vain oli lepon lyötä<span style=\"background-color:#d8daef;\">, vastat ka</span><sup>[1]</sup><span style=\"background-color:#d8daef;\">ikki kaihos</span><sup>[1]</sup>ruurr!<span style=\"background-color:#d8daef;\"> <br>tuota tu</span><sup>[1]</sup>hk<span style=\"background-color:#d8daef;\">asta tulevi</span><sup>[1]</sup>;<span style=\"background-color:#d8daef;\"> säihkyväi</span><sup>[1]</sup>ken säärlä yhtinä <br>ne jäskähän vea<span style=\"background-color:#d8daef;\">ttehesen, </span><sup>[1]</sup>hangiksi<span style=\"background-color:#d8daef;\"> havuttoma</span><sup>[1]</sup>han, <br>rikkohi rikot rekeyt, 'Muusen syöle voivatteli<span style=\"background-color:#d8daef;\"> <br>oluelle h</span><sup>[1]</sup>upainen rusit, satulataisen <span style=\"background-color:#d8daef;\">lahelta!<br><br>\"Lä</span><sup>[1]</sup>he nyt toissa min<span style=\"background-color:#d8daef;\">taisin, tuota</span><sup>[1]</sup> karvo<span style=\"background-color:#d8daef;\">in kaataja</span><sup>[1]</sup><span style=\"background-color:#d8daef;\">ni?\"<br><br>Tuop' on </span><sup>[1]</sup><span style=\"background-color:#d8daef;\">lieto Lemminkäinen, poika, veitikkä verevä, <br>m</span><sup>[1]</sup>onet mistäksi<span style=\"background-color:#d8daef;\"> jälessä, ka</span><sup>[1]</sup>laksi kalan minätä.\"<br><br>Loipa miehin, lintistui. ei pikkara pitimät <br>loille laihapl<span style=\"background-color:#d8daef;\">i tulevi, </span><sup>[1]</sup>alla päihin leittekääsi,<span style=\"background-color:#d8daef;\"> <br>vaskinen va</span><sup>[1]</sup>j<span style=\"background-color:#d8daef;\">attajaksi, </span><sup>[1]</sup>punan alavi<span style=\"background-color:#d8daef;\">n pahoiksi.</span><sup>[1]</sup>..<br><br>Jo matkaisa tapoimehen mutiansa tu<span style=\"background-color:#d8daef;\">lla, <br>vaik</span><sup>[1]</sup>u pakku purken surva, vala varpala hajalla!<br><br>\"La<span style=\"background-color:#d8daef;\">ui lapsi la</span><sup>[1]</sup>ulajani, kansankorvun katkeloihin! <br>En myl<span style=\"background-color:#d8daef;\">e minua luot</span><sup>[1]</sup>a eikä tammi<span style=\"background-color:#d8daef;\"> tuota tuo</span><sup>[1]</sup><span style=\"background-color:#d8daef;\">ta, <br>ison s</span><sup>[1]</sup>o<span style=\"background-color:#d8daef;\">asta ottaminen, </span><sup>[1]</sup><span style=\"background-color:#d8daef;\">miesten juo</span><sup>[1]</sup>lema kätäsi, <br>niinpä<span style=\"background-color:#d8daef;\"> ainehet t</span><sup>[1]</sup>aloika kengi<span style=\"background-color:#d8daef;\">n miekat, </span><sup>[1]</sup>hierahtti piha'ineni <br>jokka suo ososta meist<span style=\"background-color:#d8daef;\">ä, toisen </span><sup>[1]</sup>hengä, ten ajana tarkio<span style=\"background-color:#d8daef;\">lle. <br>Jo tu</span><sup>[1]</sup><span style=\"background-color:#d8daef;\">lla tuhuttelevi, s</span><sup>[1]</sup>äli haljo havun suisi: <br>puoli kulkilla kunetti, villat<span style=\"background-color:#d8daef;\"> neittä no</span><sup>[1]</sup>tkaisihet, soreat havakahtehiset<span style=\"background-color:#d8daef;\">! <br>Ei saanut v</span><sup>[1]</sup>ialla työtö, savu selpohan si'asen, <br>salahaisin sie<span style=\"background-color:#d8daef;\">let miehiäsi </span><sup>[1]</sup>toivon täyt<span style=\"background-color:#d8daef;\">tä, Lemminkäis</span><sup>[1]</sup>en linneksehen:<span style=\"background-color:#d8daef;\"> <br>tupihin </span><sup>[1]</sup>pi'an piteähin<span style=\"background-color:#d8daef;\">, työnnän </span><sup>[1]</sup>rauon lonkieni. <br>Paistanko paha tapana, suihelmätä su<span style=\"background-color:#d8daef;\">en perässä; <br></span><sup>[1]</sup>tuonne sorkakaatani, perä<span style=\"background-color:#d8daef;\">t emännän </span><sup>[1]</sup>vaimo, <br>ei varreltehen vakasi, pieliä pit<span style=\"background-color:#d8daef;\">eleväksi, </span><sup>[1]</sup><br>sa'a sulva tuipistana, kapojatte kaunistais<span style=\"background-color:#d8daef;\">i: <br>tulla maion Tuonelasta, Manala</span><sup>[1]</sup><span style=\"background-color:#d8daef;\">n majan periltä; <br>s</span><sup>[1]</sup>outa<span style=\"background-color:#d8daef;\"> Suomesta </span><sup>[1]</sup>veotu<span style=\"background-color:#d8daef;\">tti iästä </span><sup>[1]</sup>ikkion, <br>taot tsestä saaelijoista, juurihissa rutsuista, saasi päiväns<span style=\"background-color:#d8daef;\">a pitoihin</span><sup>[1]</sup><span style=\"background-color:#d8daef;\">.<br><br>Sanoi ka</span><sup>[1]</sup>kko iekennut, pestyi seppi länkättihin<span style=\"background-color:#d8daef;\"> <br>naisen entisen e</span><sup>[1]</sup>telle, saanut<span style=\"background-color:#d8daef;\"> purren pu</span><sup>[1]</sup>kkaist<span style=\"background-color:#d8daef;\">asi!<br><br>\"Kysy</span><sup>[1]</sup> kynny, teennytyttöset lohu'in, nuolityt epäksivahin.<br><br>Hoheti poika kopppia<span style=\"background-color:#d8daef;\">inen, <br>var</span><sup>[1]</sup>rat ainoin Laskieli<span style=\"background-color:#d8daef;\">n, alle kattojen ajaikse.<br><br></span><sup>[1]</sup>\"S<span style=\"background-color:#d8daef;\">unat suure</span><sup>[1]</sup><span style=\"background-color:#d8daef;\">lle surulle, </span><sup>[1]</sup>tao simoa imoitse<span style=\"background-color:#d8daef;\">milla.\"<br><br>S</span><sup>[1]</sup><span style=\"background-color:#d8daef;\">e on lieto Lemminkäinen jo</span><sup>[1]</sup>pa läm<span style=\"background-color:#d8daef;\">sit, Lemminkäinen, </span><sup>[1]</sup><br>voim<span style=\"background-color:#d8daef;\">i Luojan l</span><sup>[1]</sup><span style=\"background-color:#d8daef;\">appalaiset </span><sup>[1]</sup>eikä nieltä joutajalle <br>taat tuhuille tah"
            ],
            "text/plain": [
              "<IPython.core.display.HTML object>"
            ]
          },
          "metadata": {
            "tags": []
          }
        },
        {
          "output_type": "display_data",
          "data": {
            "text/html": [
              "<small><p style=\"text-align:right;\">Sources: <span style=\"background-color:#d8daef;\">kalevala</span><sup>[1]</sup></p></small>"
            ],
            "text/plain": [
              "<IPython.core.display.HTML object>"
            ]
          },
          "metadata": {
            "tags": []
          }
        }
      ]
    },
    {
      "metadata": {
        "id": "FxANdSm51v1G",
        "colab_type": "text"
      },
      "cell_type": "markdown",
      "source": [
        "## 6. A dialog with the trained model"
      ]
    },
    {
      "metadata": {
        "id": "078zobmA1v1I",
        "colab_type": "code",
        "colab": {}
      },
      "cell_type": "code",
      "source": [
        "# Do a dialog with the recursive neural net trained above:\n",
        "# def genDialogAnswer(prompt, g_state=None, endPrompt='.', maxEndPrompts=2, maxAnswerSize=512, temperature=1.0):\n",
        "def doDialog():\n",
        "    temperature = 0.6  # 0.1 (frozen character) - 1.3 (creative/chaotic character)\n",
        "    endPrompt = '.'  # the endPrompt character is the end-mark in answers.\n",
        "    maxEndPrompts = 4  # look for number of maxEndPrompts until answer is finished.\n",
        "    maxAnswerSize = 2048  # Maximum length of the answer\n",
        "    minAnswerSize = 64  # Minimum length of the answer\n",
        "\n",
        "    with tf.Session() as sess:\n",
        "        print(\"Please enter some dialog.\")\n",
        "        print(\"The net will answer according to your input.\")\n",
        "        print(\"'bye' for end,\")\n",
        "        print(\"'reset' to reset the conversation context,\")\n",
        "        print(\"'temperature=<float>' [0.1(frozen)-1.0(creative)]\")\n",
        "        print(\"    to change character of the dialog.\")\n",
        "        print(\"    Current temperature={}.\".format(temperature))\n",
        "        print()\n",
        "        xso = None\n",
        "        bye = False\n",
        "        model.init.run()\n",
        "\n",
        "        tflogdir = os.path.realpath(model.logdir)\n",
        "        if not os.path.exists(tflogdir):\n",
        "            print(\"You haven't trained a model, no data found at: {}\".format(trainParams[\"logdir\"]))\n",
        "            return \n",
        "\n",
        "        # Used for saving the training parameters periodically\n",
        "        saver = tf.train.Saver()\n",
        "        checkpoint_file = os.path.join(tflogdir, model.checkpoint)\n",
        "\n",
        "        lastSave = tf.train.latest_checkpoint(tflogdir, latest_filename=None)\n",
        "        if lastSave is not None:\n",
        "            pt = lastSave.rfind('-')\n",
        "            if pt != -1:\n",
        "                pt += 1\n",
        "                start_iter=int(lastSave[pt:])\n",
        "            # print(\"Restoring checkpoint at {}: {}\".format(start_iter, lastSave))\n",
        "            saver.restore(sess, lastSave)\n",
        "        else:\n",
        "            print(\"No checkpoints have been saved at:{}\".format(tflogdir))\n",
        "            return\n",
        "\n",
        "        # g_state = sess.run([model.init_state_0], feed_dict={model.batch_size: 1})\n",
        "        doini=True\n",
        "        \n",
        "        bye = False\n",
        "        while not bye:\n",
        "            print(\"> \", end=\"\")\n",
        "            prompt = input()\n",
        "            if prompt == 'bye':\n",
        "                bye = True\n",
        "                print(\"Good bye!\")\n",
        "                continue\n",
        "            if prompt == 'reset':\n",
        "                doini = True\n",
        "                # g_state = sess.run([model.init_state_0], feed_dict={model.batch_size: 1})\n",
        "                print(\"(conversation context marked for reset)\")\n",
        "                continue\n",
        "            if prompt[:len(\"temperature=\")] == \"temperature=\":\n",
        "                t = float(prompt[len(\"temperature=\"):])\n",
        "                if t>0.05 and t<1.4:\n",
        "                    temperature = t\n",
        "                    print(\"(generator temperature now {})\".format(t))\n",
        "                    print()\n",
        "                    continue\n",
        "                print(\"Invalid temperature-value ignored! [0.1-1.0]\")\n",
        "                continue\n",
        "            xs = ' ' * model.steps\n",
        "            xso = ''\n",
        "            for rep in range(1):\n",
        "                for i in range(len(prompt)):\n",
        "                    xs = xs[1:]+prompt[i]\n",
        "                    X_new = np.transpose([[textlib.c2i[sj]] for sj in xs])\n",
        "                    if doini:\n",
        "                        doini=False\n",
        "                        g_state = sess.run([model.init_state_0], feed_dict={model.X: X_new})\n",
        "                    g_state, y_pred = sess.run([model.final_state, model.output_softmax_temp], \n",
        "                                              feed_dict={model.X: X_new, model.init_state: g_state,\n",
        "                                                         model.temperature: temperature})\n",
        "            ans=0\n",
        "            numEndPrompts = 0\n",
        "            while (ans<maxAnswerSize and numEndPrompts < maxEndPrompts) or ans<minAnswerSize:\n",
        "\n",
        "                X_new = np.transpose([[textlib.c2i[sj]] for sj in xs])\n",
        "                g_state, y_pred = sess.run([model.final_state, model.output_softmax_temp], \n",
        "                                          feed_dict={model.X: X_new, model.init_state: g_state,\n",
        "                                                     model.temperature: temperature})\n",
        "                inds=list(range(model.vocab_size))\n",
        "                ind = np.random.choice(inds, p=y_pred[0, -1].ravel())\n",
        "                nc = textlib.i2c[ind]\n",
        "                if nc == endPrompt:\n",
        "                    numEndPrompts += 1\n",
        "                xso += nc\n",
        "                xs = xs[1:]+nc\n",
        "                ans += 1\n",
        "            print(xso.replace(\"\\\\n\",\"\\n\"))\n",
        "            textlib.sourceHighlight(xso, 13)\n",
        "    return"
      ],
      "execution_count": 0,
      "outputs": []
    },
    {
      "metadata": {
        "id": "YUkiW5rC1v1J",
        "colab_type": "code",
        "colab": {
          "base_uri": "https://localhost:8080/",
          "height": 982
        },
        "outputId": "53a37c1d-b7f6-4517-a881-59da72943c30"
      },
      "cell_type": "code",
      "source": [
        "# Talk to the net!\n",
        "doDialog()"
      ],
      "execution_count": 51,
      "outputs": [
        {
          "output_type": "stream",
          "text": [
            "Please enter some dialog.\n",
            "The net will answer according to your input.\n",
            "'bye' for end,\n",
            "'reset' to reset the conversation context,\n",
            "'temperature=<float>' [0.1(frozen)-1.0(creative)]\n",
            "    to change character of the dialog.\n",
            "    Current temperature=0.6.\n",
            "\n",
            "INFO:tensorflow:Restoring parameters from /content/tensorlog/shakespeare/shakespeare.ckpt-20000\n",
            "> Ei sulla Sirpa olisi laittaa vaikka kuvaa sun klassisesta sämpyläreseptistä johon tulee auringonkukansiemeniä\n",
            "!\n",
            "\n",
            "\"Jos sinä o'issa olla saanehin salahan, se on sormilta sorea, \n",
            "aina liukas liikunnolta, aina kengältä kepeä, \n",
            "liikkui sillan liitoksella, keikkui keskilattialla \n",
            "yhtä, toista toimitellen kahen kattilan välillä. \n",
            "Näki maassa palkahainen, tuosi tuohon vastaeli: \n",
            "\"Pahoin tein mä, paimen parka, et hyvin, emäntä parka! \n",
            "Leivoit sie kivesi keihän, ukko uunien umani. \n",
            "Sani luoto, lempo olta, kiellä maketko kasvana \n",
            "poloisilla oppehilla lahlihoa.\n",
            "\n",
            "Virkahti virsi vitsalla, paiskasi pajuppimille, \n",
            "kolmasti kohonnan maasta, tuon on soitan totkammehen, \n",
            "tulen viera vierahata kohan korvalle kotia, \n",
            "lie'eliä iloperolle, kirjan kaarisen karille, \n",
            "ilma silmät poista kylvi, taiteltaisi tertahoni, \n",
            "seitänsi temmisissä, vasakinnasvainallassa!\n",
            "\n",
            "\"Lähe nyt, Ukko, uutta yksi, kunnoa, kuolajaisi: \n",
            "munaparja muuta maion, valtit värkkion vaari.\n"
          ],
          "name": "stdout"
        },
        {
          "output_type": "display_data",
          "data": {
            "text/html": [
              "!<br><br>\"Jos sinä o'issa olla saanehin salahan<span style=\"background-color:#d8daef;\">, se on sormilta sorea, <br>aina liukas liikunnolta, aina kengältä kepeä, <br>liikkui sillan liitoksella, keikkui keskilattialla <br>yhtä, toista toimitellen kahen kattilan </span><sup>[1]</sup><span style=\"background-color:#d8daef;\">välillä. <br>Näki maassa palk</span><sup>[1]</sup>ahainen, tuosi<span style=\"background-color:#d8daef;\"> tuohon vastaeli: <br>\"Pahoin tein mä, paimen parka, et hyvin, emäntä parka! <br>Leivoit sie kiv</span><sup>[1]</sup>esi keihän, ukko uunien umani. <br>Sani luoto, lempo olta, kiellä maketko kasvana <br>poloisilla oppehilla lahlihoa<span style=\"background-color:#d8daef;\">.<br><br>Virkahti v</span><sup>[1]</sup>irsi<span style=\"background-color:#d8daef;\"> vitsalla, paiskasi paju</span><sup>[1]</sup>ppimille<span style=\"background-color:#d8daef;\">, <br>kolmasti ko</span><sup>[1]</sup>honnan maasta<span style=\"background-color:#d8daef;\">, tuon on soitan</span><sup>[1]</sup> totkammehen, <br>tulen viera vierahata kohan korvalle kotia, <br>lie'eliä iloperolle, kirjan kaarisen karille, <br>ilma silmät poista kylvi, taiteltaisi tertahoni, <br>seitänsi temmisissä, vasakinnasvainallassa<span style=\"background-color:#d8daef;\">!<br><br>\"Lähe nyt, </span><sup>[1]</sup>Ukko, uutta yksi, kunnoa, kuolajaisi: <br>munaparja muuta maion, valtit värkkion vaari."
            ],
            "text/plain": [
              "<IPython.core.display.HTML object>"
            ]
          },
          "metadata": {
            "tags": []
          }
        },
        {
          "output_type": "display_data",
          "data": {
            "text/html": [
              "<small><p style=\"text-align:right;\">Sources: <span style=\"background-color:#d8daef;\">kalevala</span><sup>[1]</sup></p></small>"
            ],
            "text/plain": [
              "<IPython.core.display.HTML object>"
            ]
          },
          "metadata": {
            "tags": []
          }
        },
        {
          "output_type": "stream",
          "text": [
            "> bye\n",
            "Good bye!\n"
          ],
          "name": "stdout"
        }
      ]
    },
    {
      "metadata": {
        "id": "AD1ocbu6e_tV",
        "colab_type": "code",
        "colab": {
          "base_uri": "https://localhost:8080/",
          "height": 357
        },
        "outputId": "0cff8c4e-138c-41a1-f901-175015d6cf3f"
      },
      "cell_type": "code",
      "source": [
        "!ls /content/tensorlog/shakespeare -la\n",
        "\n"
      ],
      "execution_count": 23,
      "outputs": [
        {
          "output_type": "stream",
          "text": [
            "total 52256\r\n",
            "drwxr-xr-x 2 root root     4096 Apr  8 12:35 .\r\n",
            "drwxr-xr-x 3 root root     4096 Apr  8 06:33 ..\r\n",
            "-rw-r--r-- 1 root root      499 Apr  8 12:35 checkpoint\r\n",
            "-rw-r--r-- 1 root root   799545 Apr  8 12:34 events.out.tfevents.1523169181.f498de1556d1\r\n",
            "-rw-r--r-- 1 root root 10229780 Apr  8 12:21 shakespeare.ckpt-19200.data-00000-of-00001\r\n",
            "-rw-r--r-- 1 root root      778 Apr  8 12:21 shakespeare.ckpt-19200.index\r\n",
            "-rw-r--r-- 1 root root   299066 Apr  8 12:21 shakespeare.ckpt-19200.meta\r\n",
            "-rw-r--r-- 1 root root 10229780 Apr  8 12:24 shakespeare.ckpt-19400.data-00000-of-00001\r\n",
            "-rw-r--r-- 1 root root      778 Apr  8 12:24 shakespeare.ckpt-19400.index\r\n",
            "-rw-r--r-- 1 root root   299066 Apr  8 12:24 shakespeare.ckpt-19400.meta\r\n",
            "-rw-r--r-- 1 root root 10229780 Apr  8 12:28 shakespeare.ckpt-19600.data-00000-of-00001\r\n",
            "-rw-r--r-- 1 root root      778 Apr  8 12:28 shakespeare.ckpt-19600.index\r\n",
            "-rw-r--r-- 1 root root   299066 Apr  8 12:28 shakespeare.ckpt-19600.meta\r\n",
            "-rw-r--r-- 1 root root 10229780 Apr  8 12:32 shakespeare.ckpt-19800.data-00000-of-00001\r\n",
            "-rw-r--r-- 1 root root      778 Apr  8 12:32 shakespeare.ckpt-19800.index\r\n",
            "-rw-r--r-- 1 root root   299066 Apr  8 12:32 shakespeare.ckpt-19800.meta\r\n",
            "-rw-r--r-- 1 root root 10229780 Apr  8 12:35 shakespeare.ckpt-20000.data-00000-of-00001\r\n",
            "-rw-r--r-- 1 root root      778 Apr  8 12:35 shakespeare.ckpt-20000.index\r\n",
            "-rw-r--r-- 1 root root   299066 Apr  8 12:35 shakespeare.ckpt-20000.meta\r\n"
          ],
          "name": "stdout"
        }
      ]
    },
    {
      "metadata": {
        "id": "cSIKU_7QgWPj",
        "colab_type": "code",
        "colab": {}
      },
      "cell_type": "code",
      "source": [
        "! tar -cf tensorlog2.tar tensorlog\n",
        "\n",
        "\n"
      ],
      "execution_count": 0,
      "outputs": []
    },
    {
      "metadata": {
        "id": "1E8zKE9BhDBj",
        "colab_type": "code",
        "colab": {
          "base_uri": "https://localhost:8080/",
          "height": 85
        },
        "outputId": "c517aa2d-eee8-4b5f-92d1-41de0c4513b1"
      },
      "cell_type": "code",
      "source": [
        "! ls -la datalab\n"
      ],
      "execution_count": 50,
      "outputs": [
        {
          "output_type": "stream",
          "text": [
            "total 12\r\n",
            "drwxr-xr-x 1 root root 4096 Mar 13 21:48 .\r\n",
            "drwxr-xr-x 1 root root 4096 Apr  8 14:01 ..\r\n",
            "drwxr-xr-x 1 root root 4096 Apr  8 06:22 .config\r\n"
          ],
          "name": "stdout"
        }
      ]
    },
    {
      "metadata": {
        "id": "e0NagtfohPl2",
        "colab_type": "code",
        "colab": {}
      },
      "cell_type": "code",
      "source": [
        "from google.colab import files\n",
        "\n",
        "#with open('tensorlog.tar', 'r') as f:\n",
        "#  print(\"Hello\")\n",
        "  #f.write('some content')\n",
        "\n",
        "files.download('tensorlog2.tar')"
      ],
      "execution_count": 0,
      "outputs": []
    }
  ]
}